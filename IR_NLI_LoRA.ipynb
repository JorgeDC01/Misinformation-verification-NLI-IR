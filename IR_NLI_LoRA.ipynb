{
 "cells": [
  {
   "cell_type": "markdown",
   "metadata": {
    "jp-MarkdownHeadingCollapsed": true
   },
   "source": [
    "### [Ignorar] **Librerías para Colab**"
   ]
  },
  {
   "cell_type": "code",
   "execution_count": null,
   "metadata": {},
   "outputs": [],
   "source": [
    "%pip install --upgrade \"transformers>=4.45.1\" --quiet # Es necesario esta version para entorno cuda con cuantizacion (en colab)\n",
    "%pip install intel_extension_for_pytorch --quiet\n",
    "%pip install -U bitsandbytes --quiet\n",
    "%pip uninstall -y torch torchvision torchaudio numpy --quiet\n",
    "%pip install torch torchvision torchaudio numpy==1.26.4 --quiet # Evitar conflictos con NumPy 2.2.3\n",
    "%pip install --upgrade accelerate --quiet #deepspeed\n",
    "%pip install unsloth --quiet"
   ]
  },
  {
   "cell_type": "code",
   "execution_count": null,
   "metadata": {},
   "outputs": [],
   "source": [
    "import torch\n",
    "print(torch.cuda.is_available())"
   ]
  },
  {
   "cell_type": "code",
   "execution_count": null,
   "metadata": {},
   "outputs": [],
   "source": [
    "from google.colab import drive\n",
    "drive.mount('/content/drive')"
   ]
  },
  {
   "cell_type": "markdown",
   "metadata": {},
   "source": [
    "### \n",
    "---"
   ]
  },
  {
   "cell_type": "markdown",
   "metadata": {},
   "source": [
    "# 1. **IR1 - Default Semantic Similarity Retrieval (L2 distance) with FAISS**\n",
    "---\n",
    "Se usa inicialmente FAISS. Enlace: `https://github.com/facebookresearch/faiss/wiki`\n",
    "\n",
    "Faiss es una biblioteca desarrollada por Meta AI Research para realizar búsquedas de similitud y agrupamiento (clustering) eficiente sobre vectores densos. Está escrita en C++ y tiene wrappers completos en Python. Algunos algoritmos están optimizados para GPU y puede trabajar con conjuntos de vectores que no caben en memoria RAM.\n",
    "\n",
    "¿Qué es una búsqueda de similitud?\n",
    "Dado un conjunto de vectores {x₁, ..., xₙ} en un espacio de dimensión d, Faiss construye una estructura de datos (índice) en RAM que permite encontrar de forma eficiente el vector más cercano a otro vector x, normalmente usando la distancia Euclidiana (‖x − xᵢ‖) o el producto escalar máximo (⟨x, xᵢ⟩).\n",
    "\n",
    "Características principales de Faiss:\n",
    "\n",
    "- Búsqueda del vecino más cercano (k-NN), no solo del primero sino de los k más próximos.\n",
    "- Procesamiento por lotes: permite buscar varios vectores al mismo tiempo.\n",
    "- Admite diferentes métricas (L2, L1, Linf...).\n",
    "- Puede almacenar el índice en disco en lugar de RAM.\n",
    "\n",
    "\n",
    "\n",
    "> **Nota:** La generación de embeddings a partir de los documentos de Wikipedia del dataset **FEVER**, usando un modelo **BGE**, puede integrarse en un único pipeline con **LangChain**:\n",
    ">\n",
    "> `DOCUMENTS → ENCODING → INDEXING → RETRIEVAL`\n",
    ">\n",
    "> **LangChain** es una librería de Python diseñada para construir aplicaciones complejas con modelos de lenguaje (LLMs). Permite conectar componentes como:\n",
    ">\n",
    "> - Modelos de lenguaje (OpenAI, Hugging Face, LLaMA, etc.)\n",
    "> - Fuentes de conocimiento (PDFs, web, bases de datos, etc.)\n",
    "> - Motores vectoriales (FAISS, Chroma, etc.)\n",
    "> - Lógica, memoria y flujos conversacionales"
   ]
  },
  {
   "cell_type": "markdown",
   "metadata": {
    "jp-MarkdownHeadingCollapsed": true
   },
   "source": [
    "## Imports"
   ]
  },
  {
   "cell_type": "code",
   "execution_count": null,
   "metadata": {},
   "outputs": [],
   "source": [
    "# Setting up the device for GPU usage\n",
    "import torch\n",
    "from torch import cuda\n",
    "import json\n",
    "import time\n",
    "from huggingface_hub import list_datasets\n",
    "from datasets import load_dataset\n",
    "from datasets import Dataset, DownloadConfig\n",
    "from torch.utils.data import Dataset, DataLoader\n",
    "import sys\n",
    "import pandas as pd"
   ]
  },
  {
   "cell_type": "code",
   "execution_count": 16,
   "metadata": {},
   "outputs": [
    {
     "name": "stdout",
     "output_type": "stream",
     "text": [
      "\u001b[33m  WARNING: The script shtab is installed in '/home/jhuertas/.local/bin' which is not on PATH.\n",
      "  Consider adding this directory to PATH or, if you prefer to suppress this warning, use --no-warn-script-location.\u001b[0m\u001b[33m\n",
      "\u001b[33m  WARNING: The scripts huggingface-cli and tiny-agents are installed in '/home/jhuertas/.local/bin' which is not on PATH.\n",
      "  Consider adding this directory to PATH or, if you prefer to suppress this warning, use --no-warn-script-location.\u001b[0m\u001b[33m\n",
      "\u001b[33m  WARNING: The script diffusers-cli is installed in '/home/jhuertas/.local/bin' which is not on PATH.\n",
      "  Consider adding this directory to PATH or, if you prefer to suppress this warning, use --no-warn-script-location.\u001b[0m\u001b[33m\n",
      "\u001b[33m  WARNING: The scripts transformers and transformers-cli are installed in '/home/jhuertas/.local/bin' which is not on PATH.\n",
      "  Consider adding this directory to PATH or, if you prefer to suppress this warning, use --no-warn-script-location.\u001b[0m\u001b[33m\n",
      "\u001b[33m  WARNING: The script datasets-cli is installed in '/home/jhuertas/.local/bin' which is not on PATH.\n",
      "  Consider adding this directory to PATH or, if you prefer to suppress this warning, use --no-warn-script-location.\u001b[0m\u001b[33m\n",
      "\u001b[33m  WARNING: The script trl is installed in '/home/jhuertas/.local/bin' which is not on PATH.\n",
      "  Consider adding this directory to PATH or, if you prefer to suppress this warning, use --no-warn-script-location.\u001b[0m\u001b[33m\n",
      "Note: you may need to restart the kernel to use updated packages.\n"
     ]
    }
   ],
   "source": [
    "%pip install unsloth --quiet"
   ]
  },
  {
   "cell_type": "code",
   "execution_count": 2,
   "metadata": {},
   "outputs": [],
   "source": [
    "import os\n",
    "os.environ[\"CUDA_VISIBLE_DEVICES\"]=\"2\""
   ]
  },
  {
   "cell_type": "code",
   "execution_count": 3,
   "metadata": {},
   "outputs": [
    {
     "data": {
      "text/plain": [
       "6"
      ]
     },
     "execution_count": 3,
     "metadata": {},
     "output_type": "execute_result"
    }
   ],
   "source": [
    "import gc\n",
    "\n",
    "gc.collect()"
   ]
  },
  {
   "cell_type": "code",
   "execution_count": null,
   "metadata": {},
   "outputs": [],
   "source": [
    "torch.cuda.empty_cache()"
   ]
  },
  {
   "cell_type": "code",
   "execution_count": 1,
   "metadata": {},
   "outputs": [
    {
     "name": "stdout",
     "output_type": "stream",
     "text": [
      "Sat Jun 21 17:04:21 2025       \n",
      "+---------------------------------------------------------------------------------------+\n",
      "| NVIDIA-SMI 535.230.02             Driver Version: 535.230.02   CUDA Version: 12.2     |\n",
      "|-----------------------------------------+----------------------+----------------------+\n",
      "| GPU  Name                 Persistence-M | Bus-Id        Disp.A | Volatile Uncorr. ECC |\n",
      "| Fan  Temp   Perf          Pwr:Usage/Cap |         Memory-Usage | GPU-Util  Compute M. |\n",
      "|                                         |                      |               MIG M. |\n",
      "|=========================================+======================+======================|\n",
      "|   0  NVIDIA A40                     Off | 00000000:15:00.0 Off |                    0 |\n",
      "|  0%   33C    P8              22W / 300W |      3MiB / 46068MiB |      0%      Default |\n",
      "|                                         |                      |                  N/A |\n",
      "+-----------------------------------------+----------------------+----------------------+\n",
      "|   1  NVIDIA GeForce RTX 3090        Off | 00000000:19:00.0 Off |                  N/A |\n",
      "| 45%   51C    P2             116W / 350W |   1620MiB / 24576MiB |      0%      Default |\n",
      "|                                         |                      |                  N/A |\n",
      "+-----------------------------------------+----------------------+----------------------+\n",
      "|   2  NVIDIA GeForce RTX 3090        Off | 00000000:1D:00.0 Off |                  N/A |\n",
      "| 30%   33C    P8              23W / 350W |      3MiB / 24576MiB |      0%      Default |\n",
      "|                                         |                      |                  N/A |\n",
      "+-----------------------------------------+----------------------+----------------------+\n",
      "|   3  NVIDIA GeForce RTX 3090        Off | 00000000:96:00.0 Off |                  N/A |\n",
      "| 30%   32C    P8              25W / 350W |      3MiB / 24576MiB |      0%      Default |\n",
      "|                                         |                      |                  N/A |\n",
      "+-----------------------------------------+----------------------+----------------------+\n",
      "|   4  NVIDIA RTX 4500 Ada Gene...    Off | 00000000:9A:00.0 Off |                  Off |\n",
      "| 30%   34C    P8               7W / 210W |  23438MiB / 24570MiB |      0%      Default |\n",
      "|                                         |                      |                  N/A |\n",
      "+-----------------------------------------+----------------------+----------------------+\n",
      "|   5  NVIDIA RTX 4500 Ada Gene...    Off | 00000000:9E:00.0 Off |                  Off |\n",
      "| 30%   33C    P8              13W / 210W |      4MiB / 24570MiB |      0%      Default |\n",
      "|                                         |                      |                  N/A |\n",
      "+-----------------------------------------+----------------------+----------------------+\n",
      "                                                                                         \n",
      "+---------------------------------------------------------------------------------------+\n",
      "| Processes:                                                                            |\n",
      "|  GPU   GI   CI        PID   Type   Process name                            GPU Memory |\n",
      "|        ID   ID                                                             Usage      |\n",
      "|=======================================================================================|\n",
      "+---------------------------------------------------------------------------------------+\n"
     ]
    }
   ],
   "source": [
    "!nvidia-smi"
   ]
  },
  {
   "cell_type": "code",
   "execution_count": 40,
   "metadata": {},
   "outputs": [
    {
     "name": "stdout",
     "output_type": "stream",
     "text": [
      "Number of GPUs available: 1\n",
      "GPU 0: NVIDIA A40\n"
     ]
    }
   ],
   "source": [
    "if torch.cuda.is_available():\n",
    "    num_gpus = torch.cuda.device_count()\n",
    "    print(f\"Number of GPUs available: {num_gpus}\")\n",
    "\n",
    "    for i in range(num_gpus):\n",
    "        print(f\"GPU {i}: {torch.cuda.get_device_name(i)}\")\n",
    "else:\n",
    "    print(\"CUDA is not available. Using CPU.\")"
   ]
  },
  {
   "cell_type": "code",
   "execution_count": 5,
   "metadata": {},
   "outputs": [],
   "source": [
    "device = torch.device(f'cuda:0')"
   ]
  },
  {
   "cell_type": "code",
   "execution_count": 6,
   "metadata": {},
   "outputs": [
    {
     "data": {
      "text/plain": [
       "'NVIDIA A40'"
      ]
     },
     "execution_count": 6,
     "metadata": {},
     "output_type": "execute_result"
    }
   ],
   "source": [
    "torch.cuda.get_device_name(device)"
   ]
  },
  {
   "cell_type": "code",
   "execution_count": 17,
   "metadata": {},
   "outputs": [
    {
     "name": "stdout",
     "output_type": "stream",
     "text": [
      "Note: you may need to restart the kernel to use updated packages.\n"
     ]
    }
   ],
   "source": [
    "%pip install datasets --quiet"
   ]
  },
  {
   "cell_type": "markdown",
   "metadata": {
    "jp-MarkdownHeadingCollapsed": true
   },
   "source": [
    "## **Carga de wiki-pages**\n",
    "---"
   ]
  },
  {
   "cell_type": "code",
   "execution_count": 21,
   "metadata": {},
   "outputs": [
    {
     "name": "stdout",
     "output_type": "stream",
     "text": [
      "Descargando: wiki-001.jsonl\n"
     ]
    },
    {
     "data": {
      "application/vnd.jupyter.widget-view+json": {
       "model_id": "aa1bdddeeedc4e2598bbd53cfaad0f67",
       "version_major": 2,
       "version_minor": 0
      },
      "text/plain": [
       "wiki-001.jsonl:   0%|          | 0.00/280M [00:00<?, ?B/s]"
      ]
     },
     "metadata": {},
     "output_type": "display_data"
    },
    {
     "name": "stdout",
     "output_type": "stream",
     "text": [
      "Descargando: wiki-002.jsonl\n"
     ]
    },
    {
     "data": {
      "application/vnd.jupyter.widget-view+json": {
       "model_id": "31a207719e9c4860b31bbc04a1c43c26",
       "version_major": 2,
       "version_minor": 0
      },
      "text/plain": [
       "wiki-002.jsonl:   0%|          | 0.00/280M [00:00<?, ?B/s]"
      ]
     },
     "metadata": {},
     "output_type": "display_data"
    },
    {
     "name": "stdout",
     "output_type": "stream",
     "text": [
      "Descargando: wiki-003.jsonl\n"
     ]
    },
    {
     "data": {
      "application/vnd.jupyter.widget-view+json": {
       "model_id": "eedfe0381f154caf8f275ffc9a1dd200",
       "version_major": 2,
       "version_minor": 0
      },
      "text/plain": [
       "wiki-003.jsonl:   0%|          | 0.00/283M [00:00<?, ?B/s]"
      ]
     },
     "metadata": {},
     "output_type": "display_data"
    },
    {
     "name": "stdout",
     "output_type": "stream",
     "text": [
      "Descargando: wiki-004.jsonl\n"
     ]
    },
    {
     "data": {
      "application/vnd.jupyter.widget-view+json": {
       "model_id": "cd562c58ef74491a8529f1932ac96ed9",
       "version_major": 2,
       "version_minor": 0
      },
      "text/plain": [
       "wiki-004.jsonl:   0%|          | 0.00/283M [00:00<?, ?B/s]"
      ]
     },
     "metadata": {},
     "output_type": "display_data"
    },
    {
     "name": "stdout",
     "output_type": "stream",
     "text": [
      "Descargando: wiki-005.jsonl\n"
     ]
    },
    {
     "data": {
      "application/vnd.jupyter.widget-view+json": {
       "model_id": "4db6595a46e940878747c033319b39ca",
       "version_major": 2,
       "version_minor": 0
      },
      "text/plain": [
       "wiki-005.jsonl:   0%|          | 0.00/285M [00:00<?, ?B/s]"
      ]
     },
     "metadata": {},
     "output_type": "display_data"
    },
    {
     "name": "stdout",
     "output_type": "stream",
     "text": [
      "Descargando: wiki-006.jsonl\n"
     ]
    },
    {
     "data": {
      "application/vnd.jupyter.widget-view+json": {
       "model_id": "2d2fa5b7c02a432fa87b4096a9416660",
       "version_major": 2,
       "version_minor": 0
      },
      "text/plain": [
       "wiki-006.jsonl:   0%|          | 0.00/285M [00:00<?, ?B/s]"
      ]
     },
     "metadata": {},
     "output_type": "display_data"
    },
    {
     "name": "stdout",
     "output_type": "stream",
     "text": [
      "Descargando: wiki-007.jsonl\n"
     ]
    },
    {
     "data": {
      "application/vnd.jupyter.widget-view+json": {
       "model_id": "b4f902beb6b74309acd74392ceb31426",
       "version_major": 2,
       "version_minor": 0
      },
      "text/plain": [
       "wiki-007.jsonl:   0%|          | 0.00/286M [00:00<?, ?B/s]"
      ]
     },
     "metadata": {},
     "output_type": "display_data"
    },
    {
     "name": "stdout",
     "output_type": "stream",
     "text": [
      "Descargando: wiki-008.jsonl\n"
     ]
    },
    {
     "data": {
      "application/vnd.jupyter.widget-view+json": {
       "model_id": "c88d82f9814b4823b792fe366dbeeffc",
       "version_major": 2,
       "version_minor": 0
      },
      "text/plain": [
       "wiki-008.jsonl:   0%|          | 0.00/286M [00:00<?, ?B/s]"
      ]
     },
     "metadata": {},
     "output_type": "display_data"
    },
    {
     "name": "stdout",
     "output_type": "stream",
     "text": [
      "Descargando: wiki-009.jsonl\n"
     ]
    },
    {
     "data": {
      "application/vnd.jupyter.widget-view+json": {
       "model_id": "ab12863be40d40fa92bd8a97a841c847",
       "version_major": 2,
       "version_minor": 0
      },
      "text/plain": [
       "wiki-009.jsonl:   0%|          | 0.00/286M [00:00<?, ?B/s]"
      ]
     },
     "metadata": {},
     "output_type": "display_data"
    },
    {
     "name": "stdout",
     "output_type": "stream",
     "text": [
      "Descargando: wiki-010.jsonl\n"
     ]
    },
    {
     "data": {
      "application/vnd.jupyter.widget-view+json": {
       "model_id": "958e0911c15c4967b37dfd085decf377",
       "version_major": 2,
       "version_minor": 0
      },
      "text/plain": [
       "wiki-010.jsonl:   0%|          | 0.00/286M [00:00<?, ?B/s]"
      ]
     },
     "metadata": {},
     "output_type": "display_data"
    },
    {
     "name": "stdout",
     "output_type": "stream",
     "text": [
      "Descargando: wiki-011.jsonl\n"
     ]
    },
    {
     "data": {
      "application/vnd.jupyter.widget-view+json": {
       "model_id": "ccc24e863386400290f8c4517323b20d",
       "version_major": 2,
       "version_minor": 0
      },
      "text/plain": [
       "wiki-011.jsonl:   0%|          | 0.00/286M [00:00<?, ?B/s]"
      ]
     },
     "metadata": {},
     "output_type": "display_data"
    },
    {
     "name": "stdout",
     "output_type": "stream",
     "text": [
      "Descargando: wiki-012.jsonl\n"
     ]
    },
    {
     "data": {
      "application/vnd.jupyter.widget-view+json": {
       "model_id": "92e5137416c046b882c8761c6b60ef7b",
       "version_major": 2,
       "version_minor": 0
      },
      "text/plain": [
       "wiki-012.jsonl:   0%|          | 0.00/286M [00:00<?, ?B/s]"
      ]
     },
     "metadata": {},
     "output_type": "display_data"
    },
    {
     "name": "stdout",
     "output_type": "stream",
     "text": [
      "Descargando: wiki-013.jsonl\n"
     ]
    },
    {
     "data": {
      "application/vnd.jupyter.widget-view+json": {
       "model_id": "d52b03ea74574f9b86e8de3c1ca58879",
       "version_major": 2,
       "version_minor": 0
      },
      "text/plain": [
       "wiki-013.jsonl:   0%|          | 0.00/286M [00:00<?, ?B/s]"
      ]
     },
     "metadata": {},
     "output_type": "display_data"
    },
    {
     "name": "stdout",
     "output_type": "stream",
     "text": [
      "Descargando: wiki-014.jsonl\n"
     ]
    },
    {
     "data": {
      "application/vnd.jupyter.widget-view+json": {
       "model_id": "3aaee6ae53334d0682841497b557315d",
       "version_major": 2,
       "version_minor": 0
      },
      "text/plain": [
       "wiki-014.jsonl:   0%|          | 0.00/288M [00:00<?, ?B/s]"
      ]
     },
     "metadata": {},
     "output_type": "display_data"
    },
    {
     "name": "stdout",
     "output_type": "stream",
     "text": [
      "Descargando: wiki-015.jsonl\n"
     ]
    },
    {
     "data": {
      "application/vnd.jupyter.widget-view+json": {
       "model_id": "370d4da22d95488aa929a0f14f12e032",
       "version_major": 2,
       "version_minor": 0
      },
      "text/plain": [
       "wiki-015.jsonl:   0%|          | 0.00/288M [00:00<?, ?B/s]"
      ]
     },
     "metadata": {},
     "output_type": "display_data"
    },
    {
     "name": "stdout",
     "output_type": "stream",
     "text": [
      "Descargando: wiki-016.jsonl\n"
     ]
    },
    {
     "data": {
      "application/vnd.jupyter.widget-view+json": {
       "model_id": "da973e1a69214bf49d97475df4bca080",
       "version_major": 2,
       "version_minor": 0
      },
      "text/plain": [
       "wiki-016.jsonl:   0%|          | 0.00/287M [00:00<?, ?B/s]"
      ]
     },
     "metadata": {},
     "output_type": "display_data"
    },
    {
     "name": "stdout",
     "output_type": "stream",
     "text": [
      "Descargando: wiki-017.jsonl\n"
     ]
    },
    {
     "data": {
      "application/vnd.jupyter.widget-view+json": {
       "model_id": "4286c839770a4669a3539e82f94fdbd7",
       "version_major": 2,
       "version_minor": 0
      },
      "text/plain": [
       "wiki-017.jsonl:   0%|          | 0.00/287M [00:00<?, ?B/s]"
      ]
     },
     "metadata": {},
     "output_type": "display_data"
    },
    {
     "name": "stdout",
     "output_type": "stream",
     "text": [
      "Descargando: wiki-018.jsonl\n"
     ]
    },
    {
     "data": {
      "application/vnd.jupyter.widget-view+json": {
       "model_id": "273764baf1b946b085ba135456e860e5",
       "version_major": 2,
       "version_minor": 0
      },
      "text/plain": [
       "wiki-018.jsonl:   0%|          | 0.00/286M [00:00<?, ?B/s]"
      ]
     },
     "metadata": {},
     "output_type": "display_data"
    },
    {
     "name": "stdout",
     "output_type": "stream",
     "text": [
      "Descargando: wiki-019.jsonl\n"
     ]
    },
    {
     "data": {
      "application/vnd.jupyter.widget-view+json": {
       "model_id": "ca29329133e94fd4a624136ad7f8e6ff",
       "version_major": 2,
       "version_minor": 0
      },
      "text/plain": [
       "wiki-019.jsonl:   0%|          | 0.00/285M [00:00<?, ?B/s]"
      ]
     },
     "metadata": {},
     "output_type": "display_data"
    },
    {
     "name": "stdout",
     "output_type": "stream",
     "text": [
      "Descargando: wiki-020.jsonl\n"
     ]
    },
    {
     "data": {
      "application/vnd.jupyter.widget-view+json": {
       "model_id": "ae9bbf7eb16849ec8354d9caf460b5f5",
       "version_major": 2,
       "version_minor": 0
      },
      "text/plain": [
       "wiki-020.jsonl:   0%|          | 0.00/286M [00:00<?, ?B/s]"
      ]
     },
     "metadata": {},
     "output_type": "display_data"
    },
    {
     "name": "stdout",
     "output_type": "stream",
     "text": [
      "Descargando: wiki-021.jsonl\n"
     ]
    },
    {
     "data": {
      "application/vnd.jupyter.widget-view+json": {
       "model_id": "6a21f2ee52ac4656a9f9554a5547fa53",
       "version_major": 2,
       "version_minor": 0
      },
      "text/plain": [
       "wiki-021.jsonl:   0%|          | 0.00/287M [00:00<?, ?B/s]"
      ]
     },
     "metadata": {},
     "output_type": "display_data"
    },
    {
     "name": "stdout",
     "output_type": "stream",
     "text": [
      "Descargando: wiki-022.jsonl\n"
     ]
    },
    {
     "data": {
      "application/vnd.jupyter.widget-view+json": {
       "model_id": "8587cf291d284ad591a6ebb2bc203b10",
       "version_major": 2,
       "version_minor": 0
      },
      "text/plain": [
       "wiki-022.jsonl:   0%|          | 0.00/287M [00:00<?, ?B/s]"
      ]
     },
     "metadata": {},
     "output_type": "display_data"
    },
    {
     "name": "stdout",
     "output_type": "stream",
     "text": [
      "Descargando: wiki-023.jsonl\n"
     ]
    },
    {
     "data": {
      "application/vnd.jupyter.widget-view+json": {
       "model_id": "83f49924ce3b464c9fa614d1fbc3804c",
       "version_major": 2,
       "version_minor": 0
      },
      "text/plain": [
       "wiki-023.jsonl:   0%|          | 0.00/288M [00:00<?, ?B/s]"
      ]
     },
     "metadata": {},
     "output_type": "display_data"
    },
    {
     "name": "stdout",
     "output_type": "stream",
     "text": [
      "Descargando: wiki-024.jsonl\n"
     ]
    },
    {
     "data": {
      "application/vnd.jupyter.widget-view+json": {
       "model_id": "cf66d0992e2e4300b59019880b4718f3",
       "version_major": 2,
       "version_minor": 0
      },
      "text/plain": [
       "wiki-024.jsonl:   0%|          | 0.00/288M [00:00<?, ?B/s]"
      ]
     },
     "metadata": {},
     "output_type": "display_data"
    },
    {
     "name": "stdout",
     "output_type": "stream",
     "text": [
      "Descargando: wiki-025.jsonl\n"
     ]
    },
    {
     "data": {
      "application/vnd.jupyter.widget-view+json": {
       "model_id": "5665661f919543b2b7a5a19fe982ad74",
       "version_major": 2,
       "version_minor": 0
      },
      "text/plain": [
       "wiki-025.jsonl:   0%|          | 0.00/287M [00:00<?, ?B/s]"
      ]
     },
     "metadata": {},
     "output_type": "display_data"
    },
    {
     "name": "stdout",
     "output_type": "stream",
     "text": [
      "Descargando: wiki-026.jsonl\n"
     ]
    },
    {
     "data": {
      "application/vnd.jupyter.widget-view+json": {
       "model_id": "89608b2ed5d64b6b86acda05065d2cfb",
       "version_major": 2,
       "version_minor": 0
      },
      "text/plain": [
       "wiki-026.jsonl:   0%|          | 0.00/286M [00:00<?, ?B/s]"
      ]
     },
     "metadata": {},
     "output_type": "display_data"
    },
    {
     "name": "stdout",
     "output_type": "stream",
     "text": [
      "Descargando: wiki-027.jsonl\n"
     ]
    },
    {
     "data": {
      "application/vnd.jupyter.widget-view+json": {
       "model_id": "782916b1b8c442fc843e91a2764b7f1f",
       "version_major": 2,
       "version_minor": 0
      },
      "text/plain": [
       "wiki-027.jsonl:   0%|          | 0.00/287M [00:00<?, ?B/s]"
      ]
     },
     "metadata": {},
     "output_type": "display_data"
    },
    {
     "name": "stdout",
     "output_type": "stream",
     "text": [
      "Descargando: wiki-028.jsonl\n"
     ]
    },
    {
     "data": {
      "application/vnd.jupyter.widget-view+json": {
       "model_id": "a54db35bcef647f3b270c145241398c5",
       "version_major": 2,
       "version_minor": 0
      },
      "text/plain": [
       "wiki-028.jsonl:   0%|          | 0.00/287M [00:00<?, ?B/s]"
      ]
     },
     "metadata": {},
     "output_type": "display_data"
    },
    {
     "name": "stdout",
     "output_type": "stream",
     "text": [
      "Descargando: wiki-029.jsonl\n"
     ]
    },
    {
     "data": {
      "application/vnd.jupyter.widget-view+json": {
       "model_id": "f0efab6beece43ebb6c35d3e0a9e1471",
       "version_major": 2,
       "version_minor": 0
      },
      "text/plain": [
       "wiki-029.jsonl:   0%|          | 0.00/288M [00:00<?, ?B/s]"
      ]
     },
     "metadata": {},
     "output_type": "display_data"
    },
    {
     "name": "stdout",
     "output_type": "stream",
     "text": [
      "Descargando: wiki-030.jsonl\n"
     ]
    },
    {
     "data": {
      "application/vnd.jupyter.widget-view+json": {
       "model_id": "bcb4936ca6bd435693add26ef4f03556",
       "version_major": 2,
       "version_minor": 0
      },
      "text/plain": [
       "wiki-030.jsonl:   0%|          | 0.00/288M [00:00<?, ?B/s]"
      ]
     },
     "metadata": {},
     "output_type": "display_data"
    },
    {
     "name": "stdout",
     "output_type": "stream",
     "text": [
      "Descargando: wiki-031.jsonl\n"
     ]
    },
    {
     "data": {
      "application/vnd.jupyter.widget-view+json": {
       "model_id": "9b64e6af3b814f7a816a14f17f674aea",
       "version_major": 2,
       "version_minor": 0
      },
      "text/plain": [
       "wiki-031.jsonl:   0%|          | 0.00/287M [00:00<?, ?B/s]"
      ]
     },
     "metadata": {},
     "output_type": "display_data"
    },
    {
     "name": "stdout",
     "output_type": "stream",
     "text": [
      "Descargando: wiki-032.jsonl\n"
     ]
    },
    {
     "data": {
      "application/vnd.jupyter.widget-view+json": {
       "model_id": "33b2926cc35f4af1bc0643cb7710a499",
       "version_major": 2,
       "version_minor": 0
      },
      "text/plain": [
       "wiki-032.jsonl:   0%|          | 0.00/287M [00:00<?, ?B/s]"
      ]
     },
     "metadata": {},
     "output_type": "display_data"
    },
    {
     "name": "stdout",
     "output_type": "stream",
     "text": [
      "Descargando: wiki-033.jsonl\n"
     ]
    },
    {
     "data": {
      "application/vnd.jupyter.widget-view+json": {
       "model_id": "432132790db044a287395fde23b9aa10",
       "version_major": 2,
       "version_minor": 0
      },
      "text/plain": [
       "wiki-033.jsonl:   0%|          | 0.00/287M [00:00<?, ?B/s]"
      ]
     },
     "metadata": {},
     "output_type": "display_data"
    },
    {
     "name": "stdout",
     "output_type": "stream",
     "text": [
      "Descargando: wiki-034.jsonl\n"
     ]
    },
    {
     "data": {
      "application/vnd.jupyter.widget-view+json": {
       "model_id": "d77e736b9ece4f4da1291d9696abc966",
       "version_major": 2,
       "version_minor": 0
      },
      "text/plain": [
       "wiki-034.jsonl:   0%|          | 0.00/287M [00:00<?, ?B/s]"
      ]
     },
     "metadata": {},
     "output_type": "display_data"
    },
    {
     "name": "stdout",
     "output_type": "stream",
     "text": [
      "Descargando: wiki-035.jsonl\n"
     ]
    },
    {
     "data": {
      "application/vnd.jupyter.widget-view+json": {
       "model_id": "d08ea10a6da049bb8729c119e101a567",
       "version_major": 2,
       "version_minor": 0
      },
      "text/plain": [
       "wiki-035.jsonl:   0%|          | 0.00/287M [00:00<?, ?B/s]"
      ]
     },
     "metadata": {},
     "output_type": "display_data"
    },
    {
     "name": "stdout",
     "output_type": "stream",
     "text": [
      "Descargando: wiki-036.jsonl\n"
     ]
    },
    {
     "data": {
      "application/vnd.jupyter.widget-view+json": {
       "model_id": "cb28a15a74ac4f008f909e1cf6cb73c7",
       "version_major": 2,
       "version_minor": 0
      },
      "text/plain": [
       "wiki-036.jsonl:   0%|          | 0.00/288M [00:00<?, ?B/s]"
      ]
     },
     "metadata": {},
     "output_type": "display_data"
    },
    {
     "name": "stdout",
     "output_type": "stream",
     "text": [
      "Descargando: wiki-037.jsonl\n"
     ]
    },
    {
     "data": {
      "application/vnd.jupyter.widget-view+json": {
       "model_id": "5217ff3137574f3293301b98e38c1347",
       "version_major": 2,
       "version_minor": 0
      },
      "text/plain": [
       "wiki-037.jsonl:   0%|          | 0.00/288M [00:00<?, ?B/s]"
      ]
     },
     "metadata": {},
     "output_type": "display_data"
    },
    {
     "name": "stdout",
     "output_type": "stream",
     "text": [
      "Descargando: wiki-038.jsonl\n"
     ]
    },
    {
     "data": {
      "application/vnd.jupyter.widget-view+json": {
       "model_id": "bae8a9a2a6d145c7b7dce7a39ccb16b7",
       "version_major": 2,
       "version_minor": 0
      },
      "text/plain": [
       "wiki-038.jsonl:   0%|          | 0.00/287M [00:00<?, ?B/s]"
      ]
     },
     "metadata": {},
     "output_type": "display_data"
    },
    {
     "name": "stdout",
     "output_type": "stream",
     "text": [
      "Descargando: wiki-039.jsonl\n"
     ]
    },
    {
     "data": {
      "application/vnd.jupyter.widget-view+json": {
       "model_id": "6412530e56d64bc3a5e3263b59938f35",
       "version_major": 2,
       "version_minor": 0
      },
      "text/plain": [
       "wiki-039.jsonl:   0%|          | 0.00/287M [00:00<?, ?B/s]"
      ]
     },
     "metadata": {},
     "output_type": "display_data"
    },
    {
     "name": "stdout",
     "output_type": "stream",
     "text": [
      "Descargando: wiki-040.jsonl\n"
     ]
    },
    {
     "data": {
      "application/vnd.jupyter.widget-view+json": {
       "model_id": "5732fccc7f684338b6f5df464ce3b0e6",
       "version_major": 2,
       "version_minor": 0
      },
      "text/plain": [
       "wiki-040.jsonl:   0%|          | 0.00/286M [00:00<?, ?B/s]"
      ]
     },
     "metadata": {},
     "output_type": "display_data"
    },
    {
     "name": "stdout",
     "output_type": "stream",
     "text": [
      "Descargando: wiki-041.jsonl\n"
     ]
    },
    {
     "data": {
      "application/vnd.jupyter.widget-view+json": {
       "model_id": "ad83230ca18f4f2ba3c5bb3f7714d79c",
       "version_major": 2,
       "version_minor": 0
      },
      "text/plain": [
       "wiki-041.jsonl:   0%|          | 0.00/286M [00:00<?, ?B/s]"
      ]
     },
     "metadata": {},
     "output_type": "display_data"
    },
    {
     "name": "stdout",
     "output_type": "stream",
     "text": [
      "Descargando: wiki-042.jsonl\n"
     ]
    },
    {
     "data": {
      "application/vnd.jupyter.widget-view+json": {
       "model_id": "e1de64b285474455ba4f7daae710a7a9",
       "version_major": 2,
       "version_minor": 0
      },
      "text/plain": [
       "wiki-042.jsonl:   0%|          | 0.00/286M [00:00<?, ?B/s]"
      ]
     },
     "metadata": {},
     "output_type": "display_data"
    },
    {
     "name": "stdout",
     "output_type": "stream",
     "text": [
      "Descargando: wiki-043.jsonl\n"
     ]
    },
    {
     "data": {
      "application/vnd.jupyter.widget-view+json": {
       "model_id": "bf8efff5392549a7b5242a3f880cbcf2",
       "version_major": 2,
       "version_minor": 0
      },
      "text/plain": [
       "wiki-043.jsonl:   0%|          | 0.00/287M [00:00<?, ?B/s]"
      ]
     },
     "metadata": {},
     "output_type": "display_data"
    },
    {
     "name": "stdout",
     "output_type": "stream",
     "text": [
      "Descargando: wiki-044.jsonl\n"
     ]
    },
    {
     "data": {
      "application/vnd.jupyter.widget-view+json": {
       "model_id": "c10007f1c0674c88b94bd2941ed2dbb7",
       "version_major": 2,
       "version_minor": 0
      },
      "text/plain": [
       "wiki-044.jsonl:   0%|          | 0.00/288M [00:00<?, ?B/s]"
      ]
     },
     "metadata": {},
     "output_type": "display_data"
    },
    {
     "name": "stdout",
     "output_type": "stream",
     "text": [
      "Descargando: wiki-045.jsonl\n"
     ]
    },
    {
     "data": {
      "application/vnd.jupyter.widget-view+json": {
       "model_id": "9764641ac56d4fe39584546fb3b2c06a",
       "version_major": 2,
       "version_minor": 0
      },
      "text/plain": [
       "wiki-045.jsonl:   0%|          | 0.00/289M [00:00<?, ?B/s]"
      ]
     },
     "metadata": {},
     "output_type": "display_data"
    },
    {
     "name": "stdout",
     "output_type": "stream",
     "text": [
      "Descargando: wiki-046.jsonl\n"
     ]
    },
    {
     "data": {
      "application/vnd.jupyter.widget-view+json": {
       "model_id": "8afce1c745a9409fba02b46855cafabc",
       "version_major": 2,
       "version_minor": 0
      },
      "text/plain": [
       "wiki-046.jsonl:   0%|          | 0.00/289M [00:00<?, ?B/s]"
      ]
     },
     "metadata": {},
     "output_type": "display_data"
    },
    {
     "name": "stdout",
     "output_type": "stream",
     "text": [
      "Descargando: wiki-047.jsonl\n"
     ]
    },
    {
     "data": {
      "application/vnd.jupyter.widget-view+json": {
       "model_id": "b1f61d57b51f4209ae6f5b6668e61861",
       "version_major": 2,
       "version_minor": 0
      },
      "text/plain": [
       "wiki-047.jsonl:   0%|          | 0.00/290M [00:00<?, ?B/s]"
      ]
     },
     "metadata": {},
     "output_type": "display_data"
    },
    {
     "name": "stdout",
     "output_type": "stream",
     "text": [
      "Descargando: wiki-048.jsonl\n"
     ]
    },
    {
     "data": {
      "application/vnd.jupyter.widget-view+json": {
       "model_id": "8e7d5f7c88df4a27ae385bf76c9a6b21",
       "version_major": 2,
       "version_minor": 0
      },
      "text/plain": [
       "wiki-048.jsonl:   0%|          | 0.00/289M [00:00<?, ?B/s]"
      ]
     },
     "metadata": {},
     "output_type": "display_data"
    },
    {
     "name": "stdout",
     "output_type": "stream",
     "text": [
      "Descargando: wiki-049.jsonl\n"
     ]
    },
    {
     "data": {
      "application/vnd.jupyter.widget-view+json": {
       "model_id": "7b92ebde3d704b98a322e94345461855",
       "version_major": 2,
       "version_minor": 0
      },
      "text/plain": [
       "wiki-049.jsonl:   0%|          | 0.00/288M [00:00<?, ?B/s]"
      ]
     },
     "metadata": {},
     "output_type": "display_data"
    },
    {
     "name": "stdout",
     "output_type": "stream",
     "text": [
      "Descargando: wiki-050.jsonl\n"
     ]
    },
    {
     "data": {
      "application/vnd.jupyter.widget-view+json": {
       "model_id": "258a74d480c74f3c81a4c46a5f3c294c",
       "version_major": 2,
       "version_minor": 0
      },
      "text/plain": [
       "wiki-050.jsonl:   0%|          | 0.00/288M [00:00<?, ?B/s]"
      ]
     },
     "metadata": {},
     "output_type": "display_data"
    },
    {
     "name": "stdout",
     "output_type": "stream",
     "text": [
      "Descargando: wiki-051.jsonl\n"
     ]
    },
    {
     "data": {
      "application/vnd.jupyter.widget-view+json": {
       "model_id": "1bde15471da842dc97125924785baecd",
       "version_major": 2,
       "version_minor": 0
      },
      "text/plain": [
       "wiki-051.jsonl:   0%|          | 0.00/287M [00:00<?, ?B/s]"
      ]
     },
     "metadata": {},
     "output_type": "display_data"
    },
    {
     "name": "stdout",
     "output_type": "stream",
     "text": [
      "Descargando: wiki-052.jsonl\n"
     ]
    },
    {
     "data": {
      "application/vnd.jupyter.widget-view+json": {
       "model_id": "d0b0e6abdae843caa4d161f8c2e3b3a3",
       "version_major": 2,
       "version_minor": 0
      },
      "text/plain": [
       "wiki-052.jsonl:   0%|          | 0.00/288M [00:00<?, ?B/s]"
      ]
     },
     "metadata": {},
     "output_type": "display_data"
    },
    {
     "name": "stdout",
     "output_type": "stream",
     "text": [
      "Descargando: wiki-053.jsonl\n"
     ]
    },
    {
     "data": {
      "application/vnd.jupyter.widget-view+json": {
       "model_id": "57604c0f42014762b6828aa50e97331e",
       "version_major": 2,
       "version_minor": 0
      },
      "text/plain": [
       "wiki-053.jsonl:   0%|          | 0.00/284M [00:00<?, ?B/s]"
      ]
     },
     "metadata": {},
     "output_type": "display_data"
    },
    {
     "name": "stdout",
     "output_type": "stream",
     "text": [
      "Descargando: wiki-054.jsonl\n"
     ]
    },
    {
     "data": {
      "application/vnd.jupyter.widget-view+json": {
       "model_id": "a766fc9558a649a1a4baebf053d7a44a",
       "version_major": 2,
       "version_minor": 0
      },
      "text/plain": [
       "wiki-054.jsonl:   0%|          | 0.00/284M [00:00<?, ?B/s]"
      ]
     },
     "metadata": {},
     "output_type": "display_data"
    },
    {
     "name": "stdout",
     "output_type": "stream",
     "text": [
      "Descargando: wiki-055.jsonl\n"
     ]
    },
    {
     "data": {
      "application/vnd.jupyter.widget-view+json": {
       "model_id": "889d3a38f715434a8d68ee56443589c3",
       "version_major": 2,
       "version_minor": 0
      },
      "text/plain": [
       "wiki-055.jsonl:   0%|          | 0.00/284M [00:00<?, ?B/s]"
      ]
     },
     "metadata": {},
     "output_type": "display_data"
    },
    {
     "name": "stdout",
     "output_type": "stream",
     "text": [
      "Descargando: wiki-056.jsonl\n"
     ]
    },
    {
     "data": {
      "application/vnd.jupyter.widget-view+json": {
       "model_id": "2ccfdcf391c746ce92f5fc5cec2d8dcf",
       "version_major": 2,
       "version_minor": 0
      },
      "text/plain": [
       "wiki-056.jsonl:   0%|          | 0.00/284M [00:00<?, ?B/s]"
      ]
     },
     "metadata": {},
     "output_type": "display_data"
    },
    {
     "name": "stdout",
     "output_type": "stream",
     "text": [
      "Descargando: wiki-057.jsonl\n"
     ]
    },
    {
     "data": {
      "application/vnd.jupyter.widget-view+json": {
       "model_id": "2373f2301d6b4a78b9081cfcdf01c030",
       "version_major": 2,
       "version_minor": 0
      },
      "text/plain": [
       "wiki-057.jsonl:   0%|          | 0.00/287M [00:00<?, ?B/s]"
      ]
     },
     "metadata": {},
     "output_type": "display_data"
    },
    {
     "name": "stdout",
     "output_type": "stream",
     "text": [
      "Descargando: wiki-058.jsonl\n"
     ]
    },
    {
     "data": {
      "application/vnd.jupyter.widget-view+json": {
       "model_id": "e4a8b87279224f18a72f9c5b451c7453",
       "version_major": 2,
       "version_minor": 0
      },
      "text/plain": [
       "wiki-058.jsonl:   0%|          | 0.00/288M [00:00<?, ?B/s]"
      ]
     },
     "metadata": {},
     "output_type": "display_data"
    },
    {
     "name": "stdout",
     "output_type": "stream",
     "text": [
      "Descargando: wiki-059.jsonl\n"
     ]
    },
    {
     "data": {
      "application/vnd.jupyter.widget-view+json": {
       "model_id": "d38b4a8065bc4f6585667093391d9b54",
       "version_major": 2,
       "version_minor": 0
      },
      "text/plain": [
       "wiki-059.jsonl:   0%|          | 0.00/288M [00:00<?, ?B/s]"
      ]
     },
     "metadata": {},
     "output_type": "display_data"
    },
    {
     "name": "stdout",
     "output_type": "stream",
     "text": [
      "Descargando: wiki-060.jsonl\n"
     ]
    },
    {
     "data": {
      "application/vnd.jupyter.widget-view+json": {
       "model_id": "9b2ce46a3a05466887fdc3bcf65fc875",
       "version_major": 2,
       "version_minor": 0
      },
      "text/plain": [
       "wiki-060.jsonl:   0%|          | 0.00/288M [00:00<?, ?B/s]"
      ]
     },
     "metadata": {},
     "output_type": "display_data"
    },
    {
     "name": "stdout",
     "output_type": "stream",
     "text": [
      "Descargando: wiki-061.jsonl\n"
     ]
    },
    {
     "data": {
      "application/vnd.jupyter.widget-view+json": {
       "model_id": "3abca436c53f4e4fb6524f3e8099b5d6",
       "version_major": 2,
       "version_minor": 0
      },
      "text/plain": [
       "wiki-061.jsonl:   0%|          | 0.00/287M [00:00<?, ?B/s]"
      ]
     },
     "metadata": {},
     "output_type": "display_data"
    },
    {
     "name": "stdout",
     "output_type": "stream",
     "text": [
      "Descargando: wiki-062.jsonl\n"
     ]
    },
    {
     "data": {
      "application/vnd.jupyter.widget-view+json": {
       "model_id": "51890959581e4fc197e351606084bbb6",
       "version_major": 2,
       "version_minor": 0
      },
      "text/plain": [
       "wiki-062.jsonl:   0%|          | 0.00/285M [00:00<?, ?B/s]"
      ]
     },
     "metadata": {},
     "output_type": "display_data"
    },
    {
     "name": "stdout",
     "output_type": "stream",
     "text": [
      "Descargando: wiki-063.jsonl\n"
     ]
    },
    {
     "data": {
      "application/vnd.jupyter.widget-view+json": {
       "model_id": "835112f1759b42c4be77b4b03822d6ae",
       "version_major": 2,
       "version_minor": 0
      },
      "text/plain": [
       "wiki-063.jsonl:   0%|          | 0.00/286M [00:00<?, ?B/s]"
      ]
     },
     "metadata": {},
     "output_type": "display_data"
    },
    {
     "name": "stdout",
     "output_type": "stream",
     "text": [
      "Descargando: wiki-064.jsonl\n"
     ]
    },
    {
     "data": {
      "application/vnd.jupyter.widget-view+json": {
       "model_id": "e42e95867a4848138ad5eed1c499ab40",
       "version_major": 2,
       "version_minor": 0
      },
      "text/plain": [
       "wiki-064.jsonl:   0%|          | 0.00/286M [00:00<?, ?B/s]"
      ]
     },
     "metadata": {},
     "output_type": "display_data"
    },
    {
     "name": "stdout",
     "output_type": "stream",
     "text": [
      "Descargando: wiki-065.jsonl\n"
     ]
    },
    {
     "data": {
      "application/vnd.jupyter.widget-view+json": {
       "model_id": "f1f5d359f2b04cfd910c2c96f6b05b47",
       "version_major": 2,
       "version_minor": 0
      },
      "text/plain": [
       "wiki-065.jsonl:   0%|          | 0.00/286M [00:00<?, ?B/s]"
      ]
     },
     "metadata": {},
     "output_type": "display_data"
    },
    {
     "name": "stdout",
     "output_type": "stream",
     "text": [
      "Descargando: wiki-066.jsonl\n"
     ]
    },
    {
     "data": {
      "application/vnd.jupyter.widget-view+json": {
       "model_id": "c91c5c6a56114d699ef09b287b67250f",
       "version_major": 2,
       "version_minor": 0
      },
      "text/plain": [
       "wiki-066.jsonl:   0%|          | 0.00/287M [00:00<?, ?B/s]"
      ]
     },
     "metadata": {},
     "output_type": "display_data"
    },
    {
     "name": "stdout",
     "output_type": "stream",
     "text": [
      "Descargando: wiki-067.jsonl\n"
     ]
    },
    {
     "data": {
      "application/vnd.jupyter.widget-view+json": {
       "model_id": "63a6ee9f6ee44549951aa899e5d27359",
       "version_major": 2,
       "version_minor": 0
      },
      "text/plain": [
       "wiki-067.jsonl:   0%|          | 0.00/287M [00:00<?, ?B/s]"
      ]
     },
     "metadata": {},
     "output_type": "display_data"
    },
    {
     "name": "stdout",
     "output_type": "stream",
     "text": [
      "Descargando: wiki-068.jsonl\n"
     ]
    },
    {
     "data": {
      "application/vnd.jupyter.widget-view+json": {
       "model_id": "ae3329c4083541198d847e4b23c78912",
       "version_major": 2,
       "version_minor": 0
      },
      "text/plain": [
       "wiki-068.jsonl:   0%|          | 0.00/286M [00:00<?, ?B/s]"
      ]
     },
     "metadata": {},
     "output_type": "display_data"
    },
    {
     "name": "stdout",
     "output_type": "stream",
     "text": [
      "Descargando: wiki-069.jsonl\n"
     ]
    },
    {
     "data": {
      "application/vnd.jupyter.widget-view+json": {
       "model_id": "48eb663688e04cdea173fa4e8fea1b76",
       "version_major": 2,
       "version_minor": 0
      },
      "text/plain": [
       "wiki-069.jsonl:   0%|          | 0.00/286M [00:00<?, ?B/s]"
      ]
     },
     "metadata": {},
     "output_type": "display_data"
    },
    {
     "name": "stdout",
     "output_type": "stream",
     "text": [
      "Descargando: wiki-070.jsonl\n"
     ]
    },
    {
     "data": {
      "application/vnd.jupyter.widget-view+json": {
       "model_id": "1fd0cca9b35147578c53d53e67c92aa6",
       "version_major": 2,
       "version_minor": 0
      },
      "text/plain": [
       "wiki-070.jsonl:   0%|          | 0.00/287M [00:00<?, ?B/s]"
      ]
     },
     "metadata": {},
     "output_type": "display_data"
    },
    {
     "name": "stdout",
     "output_type": "stream",
     "text": [
      "Descargando: wiki-071.jsonl\n"
     ]
    },
    {
     "data": {
      "application/vnd.jupyter.widget-view+json": {
       "model_id": "33c1ba6d1369466ebaa86b849e03336c",
       "version_major": 2,
       "version_minor": 0
      },
      "text/plain": [
       "wiki-071.jsonl:   0%|          | 0.00/288M [00:00<?, ?B/s]"
      ]
     },
     "metadata": {},
     "output_type": "display_data"
    },
    {
     "name": "stdout",
     "output_type": "stream",
     "text": [
      "Descargando: wiki-072.jsonl\n"
     ]
    },
    {
     "data": {
      "application/vnd.jupyter.widget-view+json": {
       "model_id": "7650ecff0a32487e984a1d2f826d33c1",
       "version_major": 2,
       "version_minor": 0
      },
      "text/plain": [
       "wiki-072.jsonl:   0%|          | 0.00/287M [00:00<?, ?B/s]"
      ]
     },
     "metadata": {},
     "output_type": "display_data"
    },
    {
     "name": "stdout",
     "output_type": "stream",
     "text": [
      "Descargando: wiki-073.jsonl\n"
     ]
    },
    {
     "data": {
      "application/vnd.jupyter.widget-view+json": {
       "model_id": "f32943cca2914a1287123cf6b0476dcf",
       "version_major": 2,
       "version_minor": 0
      },
      "text/plain": [
       "wiki-073.jsonl:   0%|          | 0.00/287M [00:00<?, ?B/s]"
      ]
     },
     "metadata": {},
     "output_type": "display_data"
    },
    {
     "name": "stdout",
     "output_type": "stream",
     "text": [
      "Descargando: wiki-074.jsonl\n"
     ]
    },
    {
     "data": {
      "application/vnd.jupyter.widget-view+json": {
       "model_id": "9401be801a1d4ffdb17e56e302b7cb9e",
       "version_major": 2,
       "version_minor": 0
      },
      "text/plain": [
       "wiki-074.jsonl:   0%|          | 0.00/287M [00:00<?, ?B/s]"
      ]
     },
     "metadata": {},
     "output_type": "display_data"
    },
    {
     "name": "stdout",
     "output_type": "stream",
     "text": [
      "Descargando: wiki-075.jsonl\n"
     ]
    },
    {
     "data": {
      "application/vnd.jupyter.widget-view+json": {
       "model_id": "c8de8edde567483c8768d965f659410c",
       "version_major": 2,
       "version_minor": 0
      },
      "text/plain": [
       "wiki-075.jsonl:   0%|          | 0.00/286M [00:00<?, ?B/s]"
      ]
     },
     "metadata": {},
     "output_type": "display_data"
    },
    {
     "name": "stdout",
     "output_type": "stream",
     "text": [
      "Descargando: wiki-076.jsonl\n"
     ]
    },
    {
     "data": {
      "application/vnd.jupyter.widget-view+json": {
       "model_id": "cb746bbb67d7487194b43868e05f8662",
       "version_major": 2,
       "version_minor": 0
      },
      "text/plain": [
       "wiki-076.jsonl:   0%|          | 0.00/286M [00:00<?, ?B/s]"
      ]
     },
     "metadata": {},
     "output_type": "display_data"
    },
    {
     "name": "stdout",
     "output_type": "stream",
     "text": [
      "Descargando: wiki-077.jsonl\n"
     ]
    },
    {
     "data": {
      "application/vnd.jupyter.widget-view+json": {
       "model_id": "50dec4f8ac0842e993ab67b62ef3d45b",
       "version_major": 2,
       "version_minor": 0
      },
      "text/plain": [
       "wiki-077.jsonl:   0%|          | 0.00/287M [00:00<?, ?B/s]"
      ]
     },
     "metadata": {},
     "output_type": "display_data"
    },
    {
     "name": "stdout",
     "output_type": "stream",
     "text": [
      "Descargando: wiki-078.jsonl\n"
     ]
    },
    {
     "data": {
      "application/vnd.jupyter.widget-view+json": {
       "model_id": "29d6acb168bb413f891a67a898a644b3",
       "version_major": 2,
       "version_minor": 0
      },
      "text/plain": [
       "wiki-078.jsonl:   0%|          | 0.00/287M [00:00<?, ?B/s]"
      ]
     },
     "metadata": {},
     "output_type": "display_data"
    },
    {
     "name": "stdout",
     "output_type": "stream",
     "text": [
      "Descargando: wiki-079.jsonl\n"
     ]
    },
    {
     "data": {
      "application/vnd.jupyter.widget-view+json": {
       "model_id": "de789a172e784f33a16eed0d4bf4bbe6",
       "version_major": 2,
       "version_minor": 0
      },
      "text/plain": [
       "wiki-079.jsonl:   0%|          | 0.00/287M [00:00<?, ?B/s]"
      ]
     },
     "metadata": {},
     "output_type": "display_data"
    },
    {
     "name": "stdout",
     "output_type": "stream",
     "text": [
      "Descargando: wiki-080.jsonl\n"
     ]
    },
    {
     "data": {
      "application/vnd.jupyter.widget-view+json": {
       "model_id": "1f60fe7f0f5e4d25b0f4530cd1bfd5de",
       "version_major": 2,
       "version_minor": 0
      },
      "text/plain": [
       "wiki-080.jsonl:   0%|          | 0.00/286M [00:00<?, ?B/s]"
      ]
     },
     "metadata": {},
     "output_type": "display_data"
    },
    {
     "name": "stdout",
     "output_type": "stream",
     "text": [
      "Descargando: wiki-081.jsonl\n"
     ]
    },
    {
     "data": {
      "application/vnd.jupyter.widget-view+json": {
       "model_id": "13084557a1e244b1a0bc83700da471a8",
       "version_major": 2,
       "version_minor": 0
      },
      "text/plain": [
       "wiki-081.jsonl:   0%|          | 0.00/288M [00:00<?, ?B/s]"
      ]
     },
     "metadata": {},
     "output_type": "display_data"
    },
    {
     "name": "stdout",
     "output_type": "stream",
     "text": [
      "Descargando: wiki-082.jsonl\n"
     ]
    },
    {
     "data": {
      "application/vnd.jupyter.widget-view+json": {
       "model_id": "84ff593e41e045878d0835eac68f1038",
       "version_major": 2,
       "version_minor": 0
      },
      "text/plain": [
       "wiki-082.jsonl:   0%|          | 0.00/288M [00:00<?, ?B/s]"
      ]
     },
     "metadata": {},
     "output_type": "display_data"
    },
    {
     "name": "stdout",
     "output_type": "stream",
     "text": [
      "Descargando: wiki-083.jsonl\n"
     ]
    },
    {
     "data": {
      "application/vnd.jupyter.widget-view+json": {
       "model_id": "9e22c9a4987044f9a2f536e0790b303d",
       "version_major": 2,
       "version_minor": 0
      },
      "text/plain": [
       "wiki-083.jsonl:   0%|          | 0.00/288M [00:00<?, ?B/s]"
      ]
     },
     "metadata": {},
     "output_type": "display_data"
    },
    {
     "name": "stdout",
     "output_type": "stream",
     "text": [
      "Descargando: wiki-084.jsonl\n"
     ]
    },
    {
     "data": {
      "application/vnd.jupyter.widget-view+json": {
       "model_id": "46088e809b114bcc8d7349b65e8c4d86",
       "version_major": 2,
       "version_minor": 0
      },
      "text/plain": [
       "wiki-084.jsonl:   0%|          | 0.00/287M [00:00<?, ?B/s]"
      ]
     },
     "metadata": {},
     "output_type": "display_data"
    },
    {
     "name": "stdout",
     "output_type": "stream",
     "text": [
      "Descargando: wiki-085.jsonl\n"
     ]
    },
    {
     "data": {
      "application/vnd.jupyter.widget-view+json": {
       "model_id": "7b20f01904c74a778a67f2811f5db461",
       "version_major": 2,
       "version_minor": 0
      },
      "text/plain": [
       "wiki-085.jsonl:   0%|          | 0.00/286M [00:00<?, ?B/s]"
      ]
     },
     "metadata": {},
     "output_type": "display_data"
    },
    {
     "name": "stdout",
     "output_type": "stream",
     "text": [
      "Descargando: wiki-086.jsonl\n"
     ]
    },
    {
     "data": {
      "application/vnd.jupyter.widget-view+json": {
       "model_id": "94484fce93844d239000ff27c084d1e1",
       "version_major": 2,
       "version_minor": 0
      },
      "text/plain": [
       "wiki-086.jsonl:   0%|          | 0.00/284M [00:00<?, ?B/s]"
      ]
     },
     "metadata": {},
     "output_type": "display_data"
    },
    {
     "name": "stdout",
     "output_type": "stream",
     "text": [
      "Descargando: wiki-087.jsonl\n"
     ]
    },
    {
     "data": {
      "application/vnd.jupyter.widget-view+json": {
       "model_id": "be9447683b684519a7226cf9a30decdd",
       "version_major": 2,
       "version_minor": 0
      },
      "text/plain": [
       "wiki-087.jsonl:   0%|          | 0.00/285M [00:00<?, ?B/s]"
      ]
     },
     "metadata": {},
     "output_type": "display_data"
    },
    {
     "name": "stdout",
     "output_type": "stream",
     "text": [
      "Descargando: wiki-088.jsonl\n"
     ]
    },
    {
     "data": {
      "application/vnd.jupyter.widget-view+json": {
       "model_id": "aad83c20602d48539f26da56b2181815",
       "version_major": 2,
       "version_minor": 0
      },
      "text/plain": [
       "wiki-088.jsonl:   0%|          | 0.00/286M [00:00<?, ?B/s]"
      ]
     },
     "metadata": {},
     "output_type": "display_data"
    },
    {
     "name": "stdout",
     "output_type": "stream",
     "text": [
      "Descargando: wiki-089.jsonl\n"
     ]
    },
    {
     "data": {
      "application/vnd.jupyter.widget-view+json": {
       "model_id": "cbd45638e93c4f9ba258e457b8a236c0",
       "version_major": 2,
       "version_minor": 0
      },
      "text/plain": [
       "wiki-089.jsonl:   0%|          | 0.00/287M [00:00<?, ?B/s]"
      ]
     },
     "metadata": {},
     "output_type": "display_data"
    },
    {
     "name": "stdout",
     "output_type": "stream",
     "text": [
      "Descargando: wiki-090.jsonl\n"
     ]
    },
    {
     "data": {
      "application/vnd.jupyter.widget-view+json": {
       "model_id": "2c38c7ac6dd746b9bfe75d6a9b1139f9",
       "version_major": 2,
       "version_minor": 0
      },
      "text/plain": [
       "wiki-090.jsonl:   0%|          | 0.00/288M [00:00<?, ?B/s]"
      ]
     },
     "metadata": {},
     "output_type": "display_data"
    },
    {
     "name": "stdout",
     "output_type": "stream",
     "text": [
      "Descargando: wiki-091.jsonl\n"
     ]
    },
    {
     "data": {
      "application/vnd.jupyter.widget-view+json": {
       "model_id": "ee5b4c69062549ba82d503da53a8cd35",
       "version_major": 2,
       "version_minor": 0
      },
      "text/plain": [
       "wiki-091.jsonl:   0%|          | 0.00/288M [00:00<?, ?B/s]"
      ]
     },
     "metadata": {},
     "output_type": "display_data"
    },
    {
     "name": "stdout",
     "output_type": "stream",
     "text": [
      "Descargando: wiki-092.jsonl\n"
     ]
    },
    {
     "data": {
      "application/vnd.jupyter.widget-view+json": {
       "model_id": "20290a05101247c9b35b2c604bc209c2",
       "version_major": 2,
       "version_minor": 0
      },
      "text/plain": [
       "wiki-092.jsonl:   0%|          | 0.00/288M [00:00<?, ?B/s]"
      ]
     },
     "metadata": {},
     "output_type": "display_data"
    },
    {
     "name": "stdout",
     "output_type": "stream",
     "text": [
      "Descargando: wiki-093.jsonl\n"
     ]
    },
    {
     "data": {
      "application/vnd.jupyter.widget-view+json": {
       "model_id": "57a2dfb8a686498a988599dd7c11e059",
       "version_major": 2,
       "version_minor": 0
      },
      "text/plain": [
       "wiki-093.jsonl:   0%|          | 0.00/287M [00:00<?, ?B/s]"
      ]
     },
     "metadata": {},
     "output_type": "display_data"
    },
    {
     "name": "stdout",
     "output_type": "stream",
     "text": [
      "Descargando: wiki-094.jsonl\n"
     ]
    },
    {
     "data": {
      "application/vnd.jupyter.widget-view+json": {
       "model_id": "f091b54659ec483a8f87dbeec46c2a6a",
       "version_major": 2,
       "version_minor": 0
      },
      "text/plain": [
       "wiki-094.jsonl:   0%|          | 0.00/286M [00:00<?, ?B/s]"
      ]
     },
     "metadata": {},
     "output_type": "display_data"
    },
    {
     "name": "stdout",
     "output_type": "stream",
     "text": [
      "Descargando: wiki-095.jsonl\n"
     ]
    },
    {
     "data": {
      "application/vnd.jupyter.widget-view+json": {
       "model_id": "7ed3cc7c3300478a9ce3458bd737783b",
       "version_major": 2,
       "version_minor": 0
      },
      "text/plain": [
       "wiki-095.jsonl:   0%|          | 0.00/286M [00:00<?, ?B/s]"
      ]
     },
     "metadata": {},
     "output_type": "display_data"
    },
    {
     "name": "stdout",
     "output_type": "stream",
     "text": [
      "Descargando: wiki-096.jsonl\n"
     ]
    },
    {
     "data": {
      "application/vnd.jupyter.widget-view+json": {
       "model_id": "f7cfd26aee864d07a105a98cf60964ae",
       "version_major": 2,
       "version_minor": 0
      },
      "text/plain": [
       "wiki-096.jsonl:   0%|          | 0.00/288M [00:00<?, ?B/s]"
      ]
     },
     "metadata": {},
     "output_type": "display_data"
    },
    {
     "name": "stdout",
     "output_type": "stream",
     "text": [
      "Descargando: wiki-097.jsonl\n"
     ]
    },
    {
     "data": {
      "application/vnd.jupyter.widget-view+json": {
       "model_id": "0dffac16fb0244689f9a3480bd1ce783",
       "version_major": 2,
       "version_minor": 0
      },
      "text/plain": [
       "wiki-097.jsonl:   0%|          | 0.00/289M [00:00<?, ?B/s]"
      ]
     },
     "metadata": {},
     "output_type": "display_data"
    },
    {
     "name": "stdout",
     "output_type": "stream",
     "text": [
      "Descargando: wiki-098.jsonl\n"
     ]
    },
    {
     "data": {
      "application/vnd.jupyter.widget-view+json": {
       "model_id": "ece1ab0a468e4eeaadf3cd3d5ca112c6",
       "version_major": 2,
       "version_minor": 0
      },
      "text/plain": [
       "wiki-098.jsonl:   0%|          | 0.00/287M [00:00<?, ?B/s]"
      ]
     },
     "metadata": {},
     "output_type": "display_data"
    },
    {
     "name": "stdout",
     "output_type": "stream",
     "text": [
      "Descargando: wiki-099.jsonl\n"
     ]
    },
    {
     "data": {
      "application/vnd.jupyter.widget-view+json": {
       "model_id": "40c2a1e0b55047759fe3446b48085f39",
       "version_major": 2,
       "version_minor": 0
      },
      "text/plain": [
       "wiki-099.jsonl:   0%|          | 0.00/287M [00:00<?, ?B/s]"
      ]
     },
     "metadata": {},
     "output_type": "display_data"
    },
    {
     "name": "stdout",
     "output_type": "stream",
     "text": [
      "Descargando: wiki-100.jsonl\n"
     ]
    },
    {
     "data": {
      "application/vnd.jupyter.widget-view+json": {
       "model_id": "ea9294f3c13f4a51939482f0e3c0acc9",
       "version_major": 2,
       "version_minor": 0
      },
      "text/plain": [
       "wiki-100.jsonl:   0%|          | 0.00/288M [00:00<?, ?B/s]"
      ]
     },
     "metadata": {},
     "output_type": "display_data"
    }
   ],
   "source": [
    "from huggingface_hub import hf_hub_download\n",
    "import os\n",
    "import shutil\n",
    "\n",
    "output_dir = \"wiki-embeds\"\n",
    "os.makedirs(output_dir, exist_ok=True)\n",
    "\n",
    "repo_id = \"JORGEDC01/Demo1\"\n",
    "\n",
    "remote_dir = \"wiki-pages/Embeddings_WikiPages/bge_small_en_v1.5/jsonl\"\n",
    "\n",
    "for i in range(1, 101):\n",
    "    filename = f\"wiki-{str(i).zfill(3)}.jsonl\"\n",
    "    print(f\"Descargando: {filename}\")\n",
    "    \n",
    "    downloaded_path = hf_hub_download(\n",
    "        repo_id=repo_id,\n",
    "        filename=os.path.join(remote_dir, filename),\n",
    "        repo_type=\"dataset\",\n",
    "        cache_dir=\".hf_cache\" \n",
    "    )\n",
    "    \n",
    "    shutil.copy(downloaded_path, os.path.join(output_dir, filename))\n"
   ]
  },
  {
   "cell_type": "markdown",
   "metadata": {},
   "source": [
    "Cuando se usa FAISS para construir un índice con `IndexFlatIP`, se utiliza el **producto punto (dot product)** como métrica de similitud. Pero en muchos casos, se desea recuperar vectores basándonos en la **similitud coseno**.\n",
    "\n",
    "- **Producto punto**: favorece vectores que tengan **mayor magnitud** (más \"largos\"), no necesariamente los más parecidos en dirección.\n",
    "- **Similitud coseno**: mide el **ángulo** entre los vectores, independientemente de su magnitud. Es más útil cuando trabajamos con embeddings de lenguaje, ya que compara la **dirección** del significado.\n",
    "\n",
    "Al normalizar todos los embeddings con `faiss.normalize_L2(...)`, se convierte cada vector en un **vector unitario**, es decir, con norma L2 = 1. La similitud por coseno trabaja con vectores que toman valores entre 0 y 1.\n",
    "\n",
    "> Normalizar embeddings con `faiss.normalize_L2(...)` es **imprescindible** si queremos que `IndexFlatIP` se comporte como un índice por **similitud coseno**.\n",
    "\n",
    "Esto asegura resultados más relevantes en tareas de recuperación basada en embeddings."
   ]
  },
  {
   "cell_type": "markdown",
   "metadata": {
    "jp-MarkdownHeadingCollapsed": true
   },
   "source": [
    "## **Creación del índice FAISS**\n",
    "---"
   ]
  },
  {
   "cell_type": "code",
   "execution_count": 7,
   "metadata": {},
   "outputs": [
    {
     "name": "stdout",
     "output_type": "stream",
     "text": [
      "Inicializando índice FAISS (IndexFlatIP)\n",
      "Procesando archivo 1/100: wiki-embeds/wiki-001.jsonl\n",
      "Procesando archivo 2/100: wiki-embeds/wiki-002.jsonl\n",
      "Procesando archivo 3/100: wiki-embeds/wiki-003.jsonl\n",
      "Procesando archivo 4/100: wiki-embeds/wiki-004.jsonl\n",
      "Procesando archivo 5/100: wiki-embeds/wiki-005.jsonl\n",
      "Procesando archivo 6/100: wiki-embeds/wiki-006.jsonl\n",
      "Procesando archivo 7/100: wiki-embeds/wiki-007.jsonl\n",
      "Procesando archivo 8/100: wiki-embeds/wiki-008.jsonl\n",
      "Procesando archivo 9/100: wiki-embeds/wiki-009.jsonl\n",
      "Procesando archivo 10/100: wiki-embeds/wiki-010.jsonl\n",
      "--> Tiempo para archivos 1-10: 399.96s | Tiempo total: 399.96s\n",
      "Procesando archivo 11/100: wiki-embeds/wiki-011.jsonl\n",
      "Procesando archivo 12/100: wiki-embeds/wiki-012.jsonl\n",
      "Procesando archivo 13/100: wiki-embeds/wiki-013.jsonl\n",
      "Procesando archivo 14/100: wiki-embeds/wiki-014.jsonl\n",
      "Procesando archivo 15/100: wiki-embeds/wiki-015.jsonl\n",
      "Procesando archivo 16/100: wiki-embeds/wiki-016.jsonl\n",
      "Procesando archivo 17/100: wiki-embeds/wiki-017.jsonl\n",
      "Procesando archivo 18/100: wiki-embeds/wiki-018.jsonl\n",
      "Procesando archivo 19/100: wiki-embeds/wiki-019.jsonl\n",
      "Procesando archivo 20/100: wiki-embeds/wiki-020.jsonl\n",
      "--> Tiempo para archivos 11-20: 417.37s | Tiempo total: 817.33s\n",
      "Procesando archivo 21/100: wiki-embeds/wiki-021.jsonl\n",
      "Procesando archivo 22/100: wiki-embeds/wiki-022.jsonl\n",
      "Procesando archivo 23/100: wiki-embeds/wiki-023.jsonl\n",
      "Procesando archivo 24/100: wiki-embeds/wiki-024.jsonl\n",
      "Procesando archivo 25/100: wiki-embeds/wiki-025.jsonl\n",
      "Procesando archivo 26/100: wiki-embeds/wiki-026.jsonl\n",
      "Procesando archivo 27/100: wiki-embeds/wiki-027.jsonl\n",
      "Procesando archivo 28/100: wiki-embeds/wiki-028.jsonl\n",
      "Procesando archivo 29/100: wiki-embeds/wiki-029.jsonl\n",
      "Procesando archivo 30/100: wiki-embeds/wiki-030.jsonl\n",
      "--> Tiempo para archivos 21-30: 413.11s | Tiempo total: 1230.44s\n",
      "Procesando archivo 31/100: wiki-embeds/wiki-031.jsonl\n",
      "Procesando archivo 32/100: wiki-embeds/wiki-032.jsonl\n",
      "Procesando archivo 33/100: wiki-embeds/wiki-033.jsonl\n",
      "Procesando archivo 34/100: wiki-embeds/wiki-034.jsonl\n",
      "Procesando archivo 35/100: wiki-embeds/wiki-035.jsonl\n",
      "Procesando archivo 36/100: wiki-embeds/wiki-036.jsonl\n",
      "Procesando archivo 37/100: wiki-embeds/wiki-037.jsonl\n",
      "Procesando archivo 38/100: wiki-embeds/wiki-038.jsonl\n",
      "Procesando archivo 39/100: wiki-embeds/wiki-039.jsonl\n",
      "Procesando archivo 40/100: wiki-embeds/wiki-040.jsonl\n",
      "--> Tiempo para archivos 31-40: 417.45s | Tiempo total: 1647.89s\n",
      "Procesando archivo 41/100: wiki-embeds/wiki-041.jsonl\n",
      "Procesando archivo 42/100: wiki-embeds/wiki-042.jsonl\n",
      "Procesando archivo 43/100: wiki-embeds/wiki-043.jsonl\n",
      "Procesando archivo 44/100: wiki-embeds/wiki-044.jsonl\n",
      "Procesando archivo 45/100: wiki-embeds/wiki-045.jsonl\n",
      "Procesando archivo 46/100: wiki-embeds/wiki-046.jsonl\n",
      "Procesando archivo 47/100: wiki-embeds/wiki-047.jsonl\n",
      "Procesando archivo 48/100: wiki-embeds/wiki-048.jsonl\n",
      "Procesando archivo 49/100: wiki-embeds/wiki-049.jsonl\n",
      "Procesando archivo 50/100: wiki-embeds/wiki-050.jsonl\n",
      "--> Tiempo para archivos 41-50: 395.73s | Tiempo total: 2043.62s\n",
      "Procesando archivo 51/100: wiki-embeds/wiki-051.jsonl\n",
      "Procesando archivo 52/100: wiki-embeds/wiki-052.jsonl\n",
      "Procesando archivo 53/100: wiki-embeds/wiki-053.jsonl\n",
      "Procesando archivo 54/100: wiki-embeds/wiki-054.jsonl\n",
      "Procesando archivo 55/100: wiki-embeds/wiki-055.jsonl\n",
      "Procesando archivo 56/100: wiki-embeds/wiki-056.jsonl\n",
      "Procesando archivo 57/100: wiki-embeds/wiki-057.jsonl\n",
      "Procesando archivo 58/100: wiki-embeds/wiki-058.jsonl\n",
      "Procesando archivo 59/100: wiki-embeds/wiki-059.jsonl\n",
      "Procesando archivo 60/100: wiki-embeds/wiki-060.jsonl\n",
      "--> Tiempo para archivos 51-60: 439.00s | Tiempo total: 2482.62s\n",
      "Procesando archivo 61/100: wiki-embeds/wiki-061.jsonl\n",
      "Procesando archivo 62/100: wiki-embeds/wiki-062.jsonl\n",
      "Procesando archivo 63/100: wiki-embeds/wiki-063.jsonl\n",
      "Procesando archivo 64/100: wiki-embeds/wiki-064.jsonl\n",
      "Procesando archivo 65/100: wiki-embeds/wiki-065.jsonl\n",
      "Procesando archivo 66/100: wiki-embeds/wiki-066.jsonl\n",
      "Procesando archivo 67/100: wiki-embeds/wiki-067.jsonl\n",
      "Procesando archivo 68/100: wiki-embeds/wiki-068.jsonl\n",
      "Procesando archivo 69/100: wiki-embeds/wiki-069.jsonl\n",
      "Procesando archivo 70/100: wiki-embeds/wiki-070.jsonl\n",
      "--> Tiempo para archivos 61-70: 438.02s | Tiempo total: 2920.64s\n",
      "Procesando archivo 71/100: wiki-embeds/wiki-071.jsonl\n",
      "Procesando archivo 72/100: wiki-embeds/wiki-072.jsonl\n",
      "Procesando archivo 73/100: wiki-embeds/wiki-073.jsonl\n",
      "Procesando archivo 74/100: wiki-embeds/wiki-074.jsonl\n",
      "Procesando archivo 75/100: wiki-embeds/wiki-075.jsonl\n",
      "Procesando archivo 76/100: wiki-embeds/wiki-076.jsonl\n",
      "Procesando archivo 77/100: wiki-embeds/wiki-077.jsonl\n",
      "Procesando archivo 78/100: wiki-embeds/wiki-078.jsonl\n",
      "Procesando archivo 79/100: wiki-embeds/wiki-079.jsonl\n",
      "Procesando archivo 80/100: wiki-embeds/wiki-080.jsonl\n",
      "--> Tiempo para archivos 71-80: 472.04s | Tiempo total: 3392.68s\n",
      "Procesando archivo 81/100: wiki-embeds/wiki-081.jsonl\n",
      "Procesando archivo 82/100: wiki-embeds/wiki-082.jsonl\n",
      "Procesando archivo 83/100: wiki-embeds/wiki-083.jsonl\n",
      "Procesando archivo 84/100: wiki-embeds/wiki-084.jsonl\n",
      "Procesando archivo 85/100: wiki-embeds/wiki-085.jsonl\n",
      "Procesando archivo 86/100: wiki-embeds/wiki-086.jsonl\n",
      "Procesando archivo 87/100: wiki-embeds/wiki-087.jsonl\n",
      "Procesando archivo 88/100: wiki-embeds/wiki-088.jsonl\n",
      "Procesando archivo 89/100: wiki-embeds/wiki-089.jsonl\n",
      "Procesando archivo 90/100: wiki-embeds/wiki-090.jsonl\n",
      "--> Tiempo para archivos 81-90: 446.24s | Tiempo total: 3838.92s\n",
      "Procesando archivo 91/100: wiki-embeds/wiki-091.jsonl\n",
      "Procesando archivo 92/100: wiki-embeds/wiki-092.jsonl\n",
      "Procesando archivo 93/100: wiki-embeds/wiki-093.jsonl\n",
      "Procesando archivo 94/100: wiki-embeds/wiki-094.jsonl\n",
      "Procesando archivo 95/100: wiki-embeds/wiki-095.jsonl\n",
      "Procesando archivo 96/100: wiki-embeds/wiki-096.jsonl\n",
      "Procesando archivo 97/100: wiki-embeds/wiki-097.jsonl\n",
      "Procesando archivo 98/100: wiki-embeds/wiki-098.jsonl\n",
      "Procesando archivo 99/100: wiki-embeds/wiki-099.jsonl\n",
      "Procesando archivo 100/100: wiki-embeds/wiki-100.jsonl\n",
      "--> Tiempo para archivos 91-100: 439.79s | Tiempo total: 4278.71s\n",
      "Proceso completado en 4293.50 segundos.\n"
     ]
    }
   ],
   "source": [
    "import os\n",
    "import numpy as np\n",
    "import faiss\n",
    "import json\n",
    "import time\n",
    "from datasets import load_dataset\n",
    "\n",
    "data_dir = \"wiki-embeds\"\n",
    "output_dir = \"faiss_index_output\"\n",
    "os.makedirs(output_dir, exist_ok=True)\n",
    "\n",
    "print(\"Inicializando índice FAISS (IndexFlatIP)\")\n",
    "dim = 384  \n",
    "index = faiss.IndexFlatIP(dim)\n",
    "\n",
    "metadata_file = os.path.join(output_dir, \"wiki_metadata.jsonl\")\n",
    "\n",
    "start_global = time.time() \n",
    "start_block = time.time()  \n",
    "\n",
    "with open(metadata_file, \"w\") as metafile:\n",
    "    for i in range(1, 101):\n",
    "        file = f\"{data_dir}/wiki-{str(i).zfill(3)}.jsonl\"\n",
    "        print(f\"Procesando archivo {i}/100: {file}\")\n",
    "        \n",
    "        ds = load_dataset(\"json\", data_files=file, split=\"train\")\n",
    "\n",
    "        embeddings = np.vstack(ds['text_embedding']).astype('float32')\n",
    "        faiss.normalize_L2(embeddings)\n",
    "        index.add(embeddings)\n",
    "\n",
    "        for record in ds:\n",
    "            metafile.write(json.dumps({\n",
    "                \"id\": record[\"id\"],\n",
    "                \"embedding\": record[\"text_embedding\"]\n",
    "            }) + \"\\n\")\n",
    "\n",
    "        if i % 10 == 0:\n",
    "            elapsed_block = time.time() - start_block\n",
    "            elapsed_total = time.time() - start_global\n",
    "            print(f\"--> Tiempo para archivos {i-9}-{i}: {elapsed_block:.2f}s | Tiempo total: {elapsed_total:.2f}s\")\n",
    "            start_block = time.time()\n",
    "\n",
    "faiss.write_index(index, os.path.join(output_dir, \"wiki_faiss.index\"))\n",
    "print(f\"Proceso completado en {time.time() - start_global:.2f} segundos.\")"
   ]
  },
  {
   "cell_type": "markdown",
   "metadata": {},
   "source": [
    "No solo se desea evaluar cómo afecta el módulo de information retrieval al rendimiento del modelo, sino también la tasa de acierto de los embeddings recuperados con respecto las evidencias definidas del dataset de FEVER. Los pasos son los siguientes:\n",
    "\n",
    "1. Crear el Test set [1] con las evidencias, label, claim y distractores\n",
    "2. A partir de [1], se crea un segundo Test set que contenga: [claim_emb, label, distractores, evidencias_recuperadas_IR]\n",
    "3. Evaluación del módulo IR: [elegir métrica para evaluar el grado de acierto]\n",
    "\n",
    "`Comparativa:\n",
    "    Baseline: recuperación simple con FAISS sobre BGE\n",
    "    Variantes: + reranking, + query enrichment, + hybrid dense/sparse`"
   ]
  },
  {
   "cell_type": "markdown",
   "metadata": {
    "jp-MarkdownHeadingCollapsed": true
   },
   "source": [
    "## **Recuperación de evidencias por distancia coseno**\n",
    "---"
   ]
  },
  {
   "cell_type": "code",
   "execution_count": 13,
   "metadata": {},
   "outputs": [],
   "source": [
    "df_test_OR = pd.read_json(\"../data/e_test_distractors_LoRA_split.jsonl\", lines=True)"
   ]
  },
  {
   "cell_type": "code",
   "execution_count": 12,
   "metadata": {},
   "outputs": [
    {
     "data": {
      "text/html": [
       "<div>\n",
       "<style scoped>\n",
       "    .dataframe tbody tr th:only-of-type {\n",
       "        vertical-align: middle;\n",
       "    }\n",
       "\n",
       "    .dataframe tbody tr th {\n",
       "        vertical-align: top;\n",
       "    }\n",
       "\n",
       "    .dataframe thead th {\n",
       "        text-align: right;\n",
       "    }\n",
       "</style>\n",
       "<table border=\"1\" class=\"dataframe\">\n",
       "  <thead>\n",
       "    <tr style=\"text-align: right;\">\n",
       "      <th></th>\n",
       "      <th>verifiable</th>\n",
       "      <th>label</th>\n",
       "      <th>claim</th>\n",
       "      <th>claim_embedding</th>\n",
       "      <th>evidence</th>\n",
       "      <th>distractors</th>\n",
       "    </tr>\n",
       "  </thead>\n",
       "  <tbody>\n",
       "    <tr>\n",
       "      <th>0</th>\n",
       "      <td>VERIFIABLE</td>\n",
       "      <td>SUPPORTS</td>\n",
       "      <td>Ukrainian Soviet Socialist Republic was a foun...</td>\n",
       "      <td>[-0.0591153502, -0.0126818949, 0.0383902341000...</td>\n",
       "      <td>[]</td>\n",
       "      <td>[[0.0532539971, 0.0260050241, 0.013253429, -0....</td>\n",
       "    </tr>\n",
       "    <tr>\n",
       "      <th>1</th>\n",
       "      <td>VERIFIABLE</td>\n",
       "      <td>SUPPORTS</td>\n",
       "      <td>2 Hearts is a musical composition by Minogue.</td>\n",
       "      <td>[0.0180077925, -0.026540124800000002, -0.00647...</td>\n",
       "      <td>[[0.0320139751, -0.0227532443, -0.0038726702, ...</td>\n",
       "      <td>[[-0.005198182500000001, 0.0173794962, -0.0174...</td>\n",
       "    </tr>\n",
       "    <tr>\n",
       "      <th>2</th>\n",
       "      <td>VERIFIABLE</td>\n",
       "      <td>REFUTES</td>\n",
       "      <td>The New Jersey Turnpike has zero shoulders.</td>\n",
       "      <td>[0.0251651835, 0.0128200827, -0.0223469585, -0...</td>\n",
       "      <td>[[-0.0065970495, -0.0365960449, -0.0052183238,...</td>\n",
       "      <td>[[-0.0294236168, 0.0439332686, -0.0221149325, ...</td>\n",
       "    </tr>\n",
       "    <tr>\n",
       "      <th>3</th>\n",
       "      <td>NOT VERIFIABLE</td>\n",
       "      <td>NOT ENOUGH INFO</td>\n",
       "      <td>Legendary Entertainment is the owner of Wanda ...</td>\n",
       "      <td>[0.0150281349, -0.0019458425, 0.02721324380000...</td>\n",
       "      <td>[]</td>\n",
       "      <td>[[-0.0443192981, 0.0111048901, 0.045511771, -0...</td>\n",
       "    </tr>\n",
       "    <tr>\n",
       "      <th>4</th>\n",
       "      <td>VERIFIABLE</td>\n",
       "      <td>REFUTES</td>\n",
       "      <td>Aruba is the only ABC Island.</td>\n",
       "      <td>[0.0502280593, 0.0248907488, -0.0449585803, -0...</td>\n",
       "      <td>[[0.0288720019, -0.000586619, -0.0141577022, 0...</td>\n",
       "      <td>[[-0.0247019697, 0.0798536614, 0.0267286226, -...</td>\n",
       "    </tr>\n",
       "  </tbody>\n",
       "</table>\n",
       "</div>"
      ],
      "text/plain": [
       "       verifiable            label  \\\n",
       "0      VERIFIABLE         SUPPORTS   \n",
       "1      VERIFIABLE         SUPPORTS   \n",
       "2      VERIFIABLE          REFUTES   \n",
       "3  NOT VERIFIABLE  NOT ENOUGH INFO   \n",
       "4      VERIFIABLE          REFUTES   \n",
       "\n",
       "                                               claim  \\\n",
       "0  Ukrainian Soviet Socialist Republic was a foun...   \n",
       "1      2 Hearts is a musical composition by Minogue.   \n",
       "2        The New Jersey Turnpike has zero shoulders.   \n",
       "3  Legendary Entertainment is the owner of Wanda ...   \n",
       "4                      Aruba is the only ABC Island.   \n",
       "\n",
       "                                     claim_embedding  \\\n",
       "0  [-0.0591153502, -0.0126818949, 0.0383902341000...   \n",
       "1  [0.0180077925, -0.026540124800000002, -0.00647...   \n",
       "2  [0.0251651835, 0.0128200827, -0.0223469585, -0...   \n",
       "3  [0.0150281349, -0.0019458425, 0.02721324380000...   \n",
       "4  [0.0502280593, 0.0248907488, -0.0449585803, -0...   \n",
       "\n",
       "                                            evidence  \\\n",
       "0                                                 []   \n",
       "1  [[0.0320139751, -0.0227532443, -0.0038726702, ...   \n",
       "2  [[-0.0065970495, -0.0365960449, -0.0052183238,...   \n",
       "3                                                 []   \n",
       "4  [[0.0288720019, -0.000586619, -0.0141577022, 0...   \n",
       "\n",
       "                                         distractors  \n",
       "0  [[0.0532539971, 0.0260050241, 0.013253429, -0....  \n",
       "1  [[-0.005198182500000001, 0.0173794962, -0.0174...  \n",
       "2  [[-0.0294236168, 0.0439332686, -0.0221149325, ...  \n",
       "3  [[-0.0443192981, 0.0111048901, 0.045511771, -0...  \n",
       "4  [[-0.0247019697, 0.0798536614, 0.0267286226, -...  "
      ]
     },
     "execution_count": 12,
     "metadata": {},
     "output_type": "execute_result"
    }
   ],
   "source": [
    "df_test_OR.head(5)"
   ]
  },
  {
   "cell_type": "code",
   "execution_count": 16,
   "metadata": {},
   "outputs": [
    {
     "name": "stdout",
     "output_type": "stream",
     "text": [
      "### Procesando claims por lotes\n"
     ]
    },
    {
     "name": "stderr",
     "output_type": "stream",
     "text": [
      "Procesando claims: 100%|██████████| 10/10 [49:51<00:00, 299.17s/it]\n"
     ]
    }
   ],
   "source": [
    "import numpy as np\n",
    "import faiss\n",
    "import json\n",
    "import pandas as pd\n",
    "from tqdm import tqdm\n",
    "\n",
    "index = faiss.read_index(\"faiss_index_output/wiki_faiss.index\")\n",
    "\n",
    "# EMBEDDINGS ORIGINALES\n",
    "original_embeddings = []\n",
    "with open(\"faiss_index_output/wiki_metadata.jsonl\", \"r\") as f:\n",
    "    for line in f:\n",
    "        obj = json.loads(line)\n",
    "        original_embeddings.append(obj[\"embedding\"])\n",
    "original_embeddings = np.array(original_embeddings, dtype='float32')\n",
    "\n",
    "# CARGA POR BATCHES\n",
    "batch_size = 1000\n",
    "df_test_IR = df_test_OR.copy()\n",
    "all_evidencias = []\n",
    "\n",
    "print(\"### Procesando claims por lotes\")\n",
    "for start in tqdm(range(0, len(df_test_OR), batch_size), desc=\"Procesando claims\"):\n",
    "    end = min(start + batch_size, len(df_test_OR))\n",
    "    batch_embeddings = np.vstack(df_test_OR.iloc[start:end]['claim_embedding'].values).astype('float32')\n",
    "    \n",
    "    normalized_batch = batch_embeddings.copy()\n",
    "    faiss.normalize_L2(normalized_batch)\n",
    "\n",
    "    k = 2\n",
    "    distances, indices = index.search(normalized_batch, k)\n",
    "\n",
    "    batch_evidencias = [\n",
    "        [original_embeddings[i].tolist() for i in idx_list]\n",
    "        for idx_list in indices\n",
    "    ]\n",
    "    \n",
    "    all_evidencias.extend(batch_evidencias)\n",
    "\n",
    "df_test_IR[\"evidence\"] = all_evidencias\n",
    "\n",
    "df_test_IR.to_json(\"testSet_default_faiss.jsonl\", orient=\"records\", lines=True)"
   ]
  },
  {
   "cell_type": "code",
   "execution_count": 14,
   "metadata": {},
   "outputs": [
    {
     "name": "stdout",
     "output_type": "stream",
     "text": [
      "### Procesando claims por lotes (sin NEIs)\n"
     ]
    },
    {
     "name": "stderr",
     "output_type": "stream",
     "text": [
      "Procesando claims: 100%|██████████| 7/7 [33:00<00:00, 282.98s/it]\n"
     ]
    },
    {
     "name": "stdout",
     "output_type": "stream",
     "text": [
      "✅ Archivo guardado con evidencias solo para verifiable.\n"
     ]
    }
   ],
   "source": [
    "import numpy as np\n",
    "import faiss\n",
    "import json\n",
    "import pandas as pd\n",
    "from tqdm import tqdm\n",
    "\n",
    "# === Cargar índice FAISS ===\n",
    "index = faiss.read_index(\"faiss_index_output/wiki_faiss.index\")\n",
    "\n",
    "# === Cargar embeddings originales ===\n",
    "original_embeddings = []\n",
    "with open(\"faiss_index_output/wiki_metadata.jsonl\", \"r\") as f:\n",
    "    for line in f:\n",
    "        obj = json.loads(line)\n",
    "        original_embeddings.append(obj[\"embedding\"])\n",
    "original_embeddings = np.array(original_embeddings, dtype='float32')\n",
    "\n",
    "# === Paso 1: Separar NEIs ===\n",
    "neis = df_test_OR[df_test_OR[\"label\"] == \"NOT ENOUGH INFO\"].copy()\n",
    "df_verifiable = df_test_OR[df_test_OR[\"label\"] != \"NOT ENOUGH INFO\"].copy()\n",
    "\n",
    "# === Paso 2: Recuperar evidencias solo para verifiable ===\n",
    "batch_size = 1000\n",
    "all_evidencias = []\n",
    "\n",
    "print(\"### Procesando claims por lotes (sin NEIs)\")\n",
    "for start in tqdm(range(0, len(df_verifiable), batch_size), desc=\"Procesando claims\"):\n",
    "    end = min(start + batch_size, len(df_verifiable))\n",
    "    \n",
    "    batch_embeddings = np.vstack(df_verifiable.iloc[start:end]['claim_embedding'].values).astype('float32')\n",
    "    faiss.normalize_L2(batch_embeddings)\n",
    "    \n",
    "    k = 2\n",
    "    distances, indices = index.search(batch_embeddings, k)\n",
    "    \n",
    "    batch_evidencias = [\n",
    "        [original_embeddings[i].tolist() for i in idx_list]\n",
    "        for idx_list in indices\n",
    "    ]\n",
    "    all_evidencias.extend(batch_evidencias)\n",
    "\n",
    "# Asignar evidencias recuperadas\n",
    "df_verifiable[\"evidence\"] = all_evidencias\n",
    "\n",
    "# === Paso 3: Unir NEIs de vuelta ===\n",
    "# Asegurate que NEIs tengan evidencia vacía\n",
    "neis[\"evidence\"] = [[] for _ in range(len(neis))]\n",
    "\n",
    "# Unir todo\n",
    "df_final = pd.concat([df_verifiable, neis], ignore_index=True)\n",
    "\n",
    "# === Guardar resultado ===\n",
    "df_final.to_json(\"testSet_default_faiss.jsonl\", orient=\"records\", lines=True)\n",
    "print(\"✅ Archivo guardado con evidencias solo para verifiable.\")\n"
   ]
  },
  {
   "cell_type": "code",
   "execution_count": 15,
   "metadata": {},
   "outputs": [
    {
     "name": "stdout",
     "output_type": "stream",
     "text": [
      "label\n",
      "SUPPORTS           3333\n",
      "REFUTES            3333\n",
      "NOT ENOUGH INFO    3332\n",
      "Name: count, dtype: int64\n"
     ]
    }
   ],
   "source": [
    "print(df_final['label'].value_counts())\n"
   ]
  },
  {
   "cell_type": "markdown",
   "metadata": {
    "jp-MarkdownHeadingCollapsed": true
   },
   "source": [
    "## **Evaluación del módulo IR Desacoplado**\n",
    "---"
   ]
  },
  {
   "cell_type": "markdown",
   "metadata": {},
   "source": [
    "> Lectura del nuevo test set recuperado..."
   ]
  },
  {
   "cell_type": "code",
   "execution_count": 10,
   "metadata": {},
   "outputs": [],
   "source": [
    "df_test_IR = pd.read_json(\"testSet_default_faiss.jsonl\", lines=True)"
   ]
  },
  {
   "cell_type": "code",
   "execution_count": 11,
   "metadata": {},
   "outputs": [
    {
     "data": {
      "text/html": [
       "<div>\n",
       "<style scoped>\n",
       "    .dataframe tbody tr th:only-of-type {\n",
       "        vertical-align: middle;\n",
       "    }\n",
       "\n",
       "    .dataframe tbody tr th {\n",
       "        vertical-align: top;\n",
       "    }\n",
       "\n",
       "    .dataframe thead th {\n",
       "        text-align: right;\n",
       "    }\n",
       "</style>\n",
       "<table border=\"1\" class=\"dataframe\">\n",
       "  <thead>\n",
       "    <tr style=\"text-align: right;\">\n",
       "      <th></th>\n",
       "      <th>label</th>\n",
       "      <th>claim_embedding</th>\n",
       "      <th>distractors</th>\n",
       "      <th>evidences</th>\n",
       "    </tr>\n",
       "  </thead>\n",
       "  <tbody>\n",
       "    <tr>\n",
       "      <th>0</th>\n",
       "      <td>SUPPORTS</td>\n",
       "      <td>[-0.0591153502, -0.0126818949, 0.0383902341000...</td>\n",
       "      <td>[[0.0532539971, 0.0260050241, 0.013253429, -0....</td>\n",
       "      <td>[[-0.0212658644, -0.0053822184, 0.049857523300...</td>\n",
       "    </tr>\n",
       "    <tr>\n",
       "      <th>1</th>\n",
       "      <td>SUPPORTS</td>\n",
       "      <td>[0.0180077925, -0.026540124800000002, -0.00647...</td>\n",
       "      <td>[[-0.005198182500000001, 0.0173794962, -0.0174...</td>\n",
       "      <td>[[0.0320139751, -0.0227532443, -0.0038726702, ...</td>\n",
       "    </tr>\n",
       "    <tr>\n",
       "      <th>2</th>\n",
       "      <td>REFUTES</td>\n",
       "      <td>[0.0251651835, 0.0128200827, -0.0223469585, -0...</td>\n",
       "      <td>[[-0.0294236168, 0.0439332686, -0.0221149325, ...</td>\n",
       "      <td>[[-0.0065970495, -0.0365960449, -0.0052183238,...</td>\n",
       "    </tr>\n",
       "    <tr>\n",
       "      <th>3</th>\n",
       "      <td>NOT ENOUGH INFO</td>\n",
       "      <td>[0.0150281349, -0.0019458425, 0.02721324380000...</td>\n",
       "      <td>[[-0.0443192981, 0.0111048901, 0.045511771, -0...</td>\n",
       "      <td>[[0.0053903144, 0.0107809063, 0.0558740608, -0...</td>\n",
       "    </tr>\n",
       "    <tr>\n",
       "      <th>4</th>\n",
       "      <td>REFUTES</td>\n",
       "      <td>[0.0502280593, 0.0248907488, -0.0449585803, -0...</td>\n",
       "      <td>[[-0.0247019697, 0.0798536614, 0.0267286226, -...</td>\n",
       "      <td>[[0.0217998195, -0.0067899507, -0.0060096984, ...</td>\n",
       "    </tr>\n",
       "  </tbody>\n",
       "</table>\n",
       "</div>"
      ],
      "text/plain": [
       "             label                                    claim_embedding  \\\n",
       "0         SUPPORTS  [-0.0591153502, -0.0126818949, 0.0383902341000...   \n",
       "1         SUPPORTS  [0.0180077925, -0.026540124800000002, -0.00647...   \n",
       "2          REFUTES  [0.0251651835, 0.0128200827, -0.0223469585, -0...   \n",
       "3  NOT ENOUGH INFO  [0.0150281349, -0.0019458425, 0.02721324380000...   \n",
       "4          REFUTES  [0.0502280593, 0.0248907488, -0.0449585803, -0...   \n",
       "\n",
       "                                         distractors  \\\n",
       "0  [[0.0532539971, 0.0260050241, 0.013253429, -0....   \n",
       "1  [[-0.005198182500000001, 0.0173794962, -0.0174...   \n",
       "2  [[-0.0294236168, 0.0439332686, -0.0221149325, ...   \n",
       "3  [[-0.0443192981, 0.0111048901, 0.045511771, -0...   \n",
       "4  [[-0.0247019697, 0.0798536614, 0.0267286226, -...   \n",
       "\n",
       "                                           evidences  \n",
       "0  [[-0.0212658644, -0.0053822184, 0.049857523300...  \n",
       "1  [[0.0320139751, -0.0227532443, -0.0038726702, ...  \n",
       "2  [[-0.0065970495, -0.0365960449, -0.0052183238,...  \n",
       "3  [[0.0053903144, 0.0107809063, 0.0558740608, -0...  \n",
       "4  [[0.0217998195, -0.0067899507, -0.0060096984, ...  "
      ]
     },
     "execution_count": 11,
     "metadata": {},
     "output_type": "execute_result"
    }
   ],
   "source": [
    "df_test_IR.head(5)"
   ]
  },
  {
   "cell_type": "markdown",
   "metadata": {},
   "source": [
    "> Lectura del test set original..."
   ]
  },
  {
   "cell_type": "code",
   "execution_count": 14,
   "metadata": {},
   "outputs": [],
   "source": [
    "df_test_OR = pd.read_json(\"../data/e_test_distractors_LoRA_split.jsonl\", lines=True)"
   ]
  },
  {
   "cell_type": "code",
   "execution_count": 15,
   "metadata": {},
   "outputs": [
    {
     "data": {
      "text/html": [
       "<div>\n",
       "<style scoped>\n",
       "    .dataframe tbody tr th:only-of-type {\n",
       "        vertical-align: middle;\n",
       "    }\n",
       "\n",
       "    .dataframe tbody tr th {\n",
       "        vertical-align: top;\n",
       "    }\n",
       "\n",
       "    .dataframe thead th {\n",
       "        text-align: right;\n",
       "    }\n",
       "</style>\n",
       "<table border=\"1\" class=\"dataframe\">\n",
       "  <thead>\n",
       "    <tr style=\"text-align: right;\">\n",
       "      <th></th>\n",
       "      <th>verifiable</th>\n",
       "      <th>label</th>\n",
       "      <th>claim</th>\n",
       "      <th>claim_embedding</th>\n",
       "      <th>evidence</th>\n",
       "      <th>distractors</th>\n",
       "    </tr>\n",
       "  </thead>\n",
       "  <tbody>\n",
       "    <tr>\n",
       "      <th>0</th>\n",
       "      <td>VERIFIABLE</td>\n",
       "      <td>SUPPORTS</td>\n",
       "      <td>Ukrainian Soviet Socialist Republic was a foun...</td>\n",
       "      <td>[-0.0591153502, -0.0126818949, 0.0383902341000...</td>\n",
       "      <td>[]</td>\n",
       "      <td>[[0.0532539971, 0.0260050241, 0.013253429, -0....</td>\n",
       "    </tr>\n",
       "    <tr>\n",
       "      <th>1</th>\n",
       "      <td>VERIFIABLE</td>\n",
       "      <td>SUPPORTS</td>\n",
       "      <td>2 Hearts is a musical composition by Minogue.</td>\n",
       "      <td>[0.0180077925, -0.026540124800000002, -0.00647...</td>\n",
       "      <td>[[0.0320139751, -0.0227532443, -0.0038726702, ...</td>\n",
       "      <td>[[-0.005198182500000001, 0.0173794962, -0.0174...</td>\n",
       "    </tr>\n",
       "    <tr>\n",
       "      <th>2</th>\n",
       "      <td>VERIFIABLE</td>\n",
       "      <td>REFUTES</td>\n",
       "      <td>The New Jersey Turnpike has zero shoulders.</td>\n",
       "      <td>[0.0251651835, 0.0128200827, -0.0223469585, -0...</td>\n",
       "      <td>[[-0.0065970495, -0.0365960449, -0.0052183238,...</td>\n",
       "      <td>[[-0.0294236168, 0.0439332686, -0.0221149325, ...</td>\n",
       "    </tr>\n",
       "    <tr>\n",
       "      <th>3</th>\n",
       "      <td>NOT VERIFIABLE</td>\n",
       "      <td>NOT ENOUGH INFO</td>\n",
       "      <td>Legendary Entertainment is the owner of Wanda ...</td>\n",
       "      <td>[0.0150281349, -0.0019458425, 0.02721324380000...</td>\n",
       "      <td>[]</td>\n",
       "      <td>[[-0.0443192981, 0.0111048901, 0.045511771, -0...</td>\n",
       "    </tr>\n",
       "    <tr>\n",
       "      <th>4</th>\n",
       "      <td>VERIFIABLE</td>\n",
       "      <td>REFUTES</td>\n",
       "      <td>Aruba is the only ABC Island.</td>\n",
       "      <td>[0.0502280593, 0.0248907488, -0.0449585803, -0...</td>\n",
       "      <td>[[0.0288720019, -0.000586619, -0.0141577022, 0...</td>\n",
       "      <td>[[-0.0247019697, 0.0798536614, 0.0267286226, -...</td>\n",
       "    </tr>\n",
       "  </tbody>\n",
       "</table>\n",
       "</div>"
      ],
      "text/plain": [
       "       verifiable            label  \\\n",
       "0      VERIFIABLE         SUPPORTS   \n",
       "1      VERIFIABLE         SUPPORTS   \n",
       "2      VERIFIABLE          REFUTES   \n",
       "3  NOT VERIFIABLE  NOT ENOUGH INFO   \n",
       "4      VERIFIABLE          REFUTES   \n",
       "\n",
       "                                               claim  \\\n",
       "0  Ukrainian Soviet Socialist Republic was a foun...   \n",
       "1      2 Hearts is a musical composition by Minogue.   \n",
       "2        The New Jersey Turnpike has zero shoulders.   \n",
       "3  Legendary Entertainment is the owner of Wanda ...   \n",
       "4                      Aruba is the only ABC Island.   \n",
       "\n",
       "                                     claim_embedding  \\\n",
       "0  [-0.0591153502, -0.0126818949, 0.0383902341000...   \n",
       "1  [0.0180077925, -0.026540124800000002, -0.00647...   \n",
       "2  [0.0251651835, 0.0128200827, -0.0223469585, -0...   \n",
       "3  [0.0150281349, -0.0019458425, 0.02721324380000...   \n",
       "4  [0.0502280593, 0.0248907488, -0.0449585803, -0...   \n",
       "\n",
       "                                            evidence  \\\n",
       "0                                                 []   \n",
       "1  [[0.0320139751, -0.0227532443, -0.0038726702, ...   \n",
       "2  [[-0.0065970495, -0.0365960449, -0.0052183238,...   \n",
       "3                                                 []   \n",
       "4  [[0.0288720019, -0.000586619, -0.0141577022, 0...   \n",
       "\n",
       "                                         distractors  \n",
       "0  [[0.0532539971, 0.0260050241, 0.013253429, -0....  \n",
       "1  [[-0.005198182500000001, 0.0173794962, -0.0174...  \n",
       "2  [[-0.0294236168, 0.0439332686, -0.0221149325, ...  \n",
       "3  [[-0.0443192981, 0.0111048901, 0.045511771, -0...  \n",
       "4  [[-0.0247019697, 0.0798536614, 0.0267286226, -...  "
      ]
     },
     "execution_count": 15,
     "metadata": {},
     "output_type": "execute_result"
    }
   ],
   "source": [
    "df_test_OR.head(5)"
   ]
  },
  {
   "cell_type": "code",
   "execution_count": 23,
   "metadata": {},
   "outputs": [
    {
     "name": "stdout",
     "output_type": "stream",
     "text": [
      "Número de filas con evidencia vacía ([]): 3828\n"
     ]
    }
   ],
   "source": [
    "num_filas_sin_evidencia = df_test_OR[df_test_OR['evidence'].apply(lambda x: x == [])].shape[0]\n",
    "\n",
    "print(f\"Número de filas con evidencia vacía ([]): {num_filas_sin_evidencia}\")"
   ]
  },
  {
   "cell_type": "code",
   "execution_count": 31,
   "metadata": {},
   "outputs": [],
   "source": [
    "def limpiar_evidencias(lista_embs): # elimina listas vacias en evidences que tienen varias evidencias, para solucionar el problema de vstack.\n",
    "    if isinstance(lista_embs, list):\n",
    "        lista_filtrada = [e for e in lista_embs if isinstance(e, list) and len(e) > 0]\n",
    "        return lista_filtrada\n",
    "    return lista_embs\n",
    "\n",
    "df_test_OR['evidence'] = df_test_OR['evidence'].apply(limpiar_evidencias)"
   ]
  },
  {
   "cell_type": "code",
   "execution_count": 32,
   "metadata": {},
   "outputs": [
    {
     "name": "stdout",
     "output_type": "stream",
     "text": [
      "Total filas: 9998\n",
      "Filas con evidencia (válidas para recall): 6170\n",
      "Filas usadas para cálculo de recall (score != None): 6170\n",
      "Recall@2 (embedding, threshold 0.9) sobre filas con evidencia: 0.8254\n"
     ]
    }
   ],
   "source": [
    "from sklearn.metrics.pairwise import cosine_similarity\n",
    "import numpy as np\n",
    "\n",
    "def embedding_recall_at_k(row_ir, row_or, k=2, sim_threshold=0.9):\n",
    "    retrieved_embs = row_ir['evidences'][:k]  \n",
    "    gold_embs = row_or['evidence']           \n",
    "\n",
    "    try:\n",
    "        retrieved_embs = np.vstack(retrieved_embs).astype(np.float32)\n",
    "        gold_embs = np.vstack(gold_embs).astype(np.float32)\n",
    "    except Exception as e:\n",
    "        return None\n",
    "\n",
    "    if gold_embs.size == 0 or len(gold_embs) == 0:\n",
    "        return None \n",
    "\n",
    "    sims = cosine_similarity(retrieved_embs, gold_embs)  # shape (k, n_gold)\n",
    "    max_sim = np.max(sims)\n",
    "\n",
    "    return int(max_sim >= sim_threshold)\n",
    "\n",
    "\n",
    "total_filas = len(df_test_IR)\n",
    "\n",
    "# Evidences no vacias\n",
    "indices_validos = df_test_OR['evidence'].apply(lambda x: len(x) > 0) # se eliminan las muestras NEIs\n",
    "df_test_IR_valid = df_test_IR[indices_validos].reset_index(drop=True)\n",
    "df_test_OR_valid = df_test_OR[indices_validos].reset_index(drop=True)\n",
    "filas_con_evidencia = len(df_test_IR_valid)\n",
    "\n",
    "recalls = []\n",
    "for i in range(filas_con_evidencia):\n",
    "    row_ir = df_test_IR_valid.iloc[i]\n",
    "    row_or = df_test_OR_valid.iloc[i]\n",
    "    score = embedding_recall_at_k(row_ir, row_or, k=2, sim_threshold=0.9)\n",
    "    if score is not None:\n",
    "        recalls.append(score)\n",
    "\n",
    "filas_usadas = len(recalls)\n",
    "recall_embedding = sum(recalls) / filas_usadas if filas_usadas > 0 else 0\n",
    "\n",
    "print(f\"Total filas: {total_filas}\")\n",
    "print(f\"Filas con evidencia (válidas para recall): {filas_con_evidencia}\")\n",
    "print(f\"Filas usadas para cálculo de recall (score != None): {filas_usadas}\")\n",
    "print(f\"Recall@2 (embedding, threshold 0.9) sobre filas con evidencia: {recall_embedding:.4f}\")"
   ]
  },
  {
   "cell_type": "markdown",
   "metadata": {
    "jp-MarkdownHeadingCollapsed": true
   },
   "source": [
    "## **Vista de los test set de las predicciones/evidencias recuperadas y los valores reales**\n",
    "---\n",
    "> Se eliminan las evidencias de aquellas filas no verificables para mantener la consistencia con los experimentos sin el módulo IR"
   ]
  },
  {
   "cell_type": "code",
   "execution_count": 8,
   "metadata": {},
   "outputs": [],
   "source": [
    "### Lectura ###\n",
    "df_test_IR = pd.read_json(\"testSet_default_faiss(2)_from(1).jsonl\", lines=True)"
   ]
  },
  {
   "cell_type": "code",
   "execution_count": 9,
   "metadata": {},
   "outputs": [
    {
     "data": {
      "text/html": [
       "<div>\n",
       "<style scoped>\n",
       "    .dataframe tbody tr th:only-of-type {\n",
       "        vertical-align: middle;\n",
       "    }\n",
       "\n",
       "    .dataframe tbody tr th {\n",
       "        vertical-align: top;\n",
       "    }\n",
       "\n",
       "    .dataframe thead th {\n",
       "        text-align: right;\n",
       "    }\n",
       "</style>\n",
       "<table border=\"1\" class=\"dataframe\">\n",
       "  <thead>\n",
       "    <tr style=\"text-align: right;\">\n",
       "      <th></th>\n",
       "      <th>label</th>\n",
       "      <th>claim_embedding</th>\n",
       "      <th>distractors</th>\n",
       "      <th>evidences</th>\n",
       "    </tr>\n",
       "  </thead>\n",
       "  <tbody>\n",
       "    <tr>\n",
       "      <th>0</th>\n",
       "      <td>SUPPORTS</td>\n",
       "      <td>[-0.0591153502, -0.0126818949, 0.0383902341000...</td>\n",
       "      <td>[[0.0532539971, 0.0260050241, 0.013253429, -0....</td>\n",
       "      <td>[[-0.0212658644, -0.0053822184, 0.049857523300...</td>\n",
       "    </tr>\n",
       "    <tr>\n",
       "      <th>1</th>\n",
       "      <td>SUPPORTS</td>\n",
       "      <td>[0.0180077925, -0.026540124800000002, -0.00647...</td>\n",
       "      <td>[[-0.005198182500000001, 0.0173794962, -0.0174...</td>\n",
       "      <td>[[0.0320139751, -0.0227532443, -0.0038726702, ...</td>\n",
       "    </tr>\n",
       "    <tr>\n",
       "      <th>2</th>\n",
       "      <td>REFUTES</td>\n",
       "      <td>[0.0251651835, 0.0128200827, -0.0223469585, -0...</td>\n",
       "      <td>[[-0.0294236168, 0.0439332686, -0.0221149325, ...</td>\n",
       "      <td>[[-0.0065970495, -0.0365960449, -0.0052183238,...</td>\n",
       "    </tr>\n",
       "    <tr>\n",
       "      <th>3</th>\n",
       "      <td>NOT ENOUGH INFO</td>\n",
       "      <td>[0.0150281349, -0.0019458425, 0.02721324380000...</td>\n",
       "      <td>[[-0.0443192981, 0.0111048901, 0.045511771, -0...</td>\n",
       "      <td>[]</td>\n",
       "    </tr>\n",
       "    <tr>\n",
       "      <th>4</th>\n",
       "      <td>REFUTES</td>\n",
       "      <td>[0.0502280593, 0.0248907488, -0.0449585803, -0...</td>\n",
       "      <td>[[-0.0247019697, 0.0798536614, 0.0267286226, -...</td>\n",
       "      <td>[[0.0217998195, -0.0067899507, -0.0060096984, ...</td>\n",
       "    </tr>\n",
       "  </tbody>\n",
       "</table>\n",
       "</div>"
      ],
      "text/plain": [
       "             label                                    claim_embedding  \\\n",
       "0         SUPPORTS  [-0.0591153502, -0.0126818949, 0.0383902341000...   \n",
       "1         SUPPORTS  [0.0180077925, -0.026540124800000002, -0.00647...   \n",
       "2          REFUTES  [0.0251651835, 0.0128200827, -0.0223469585, -0...   \n",
       "3  NOT ENOUGH INFO  [0.0150281349, -0.0019458425, 0.02721324380000...   \n",
       "4          REFUTES  [0.0502280593, 0.0248907488, -0.0449585803, -0...   \n",
       "\n",
       "                                         distractors  \\\n",
       "0  [[0.0532539971, 0.0260050241, 0.013253429, -0....   \n",
       "1  [[-0.005198182500000001, 0.0173794962, -0.0174...   \n",
       "2  [[-0.0294236168, 0.0439332686, -0.0221149325, ...   \n",
       "3  [[-0.0443192981, 0.0111048901, 0.045511771, -0...   \n",
       "4  [[-0.0247019697, 0.0798536614, 0.0267286226, -...   \n",
       "\n",
       "                                           evidences  \n",
       "0  [[-0.0212658644, -0.0053822184, 0.049857523300...  \n",
       "1  [[0.0320139751, -0.0227532443, -0.0038726702, ...  \n",
       "2  [[-0.0065970495, -0.0365960449, -0.0052183238,...  \n",
       "3                                                 []  \n",
       "4  [[0.0217998195, -0.0067899507, -0.0060096984, ...  "
      ]
     },
     "execution_count": 9,
     "metadata": {},
     "output_type": "execute_result"
    }
   ],
   "source": [
    "df_test_IR.head(5)"
   ]
  },
  {
   "cell_type": "code",
   "execution_count": 10,
   "metadata": {},
   "outputs": [],
   "source": [
    "#df_test_IR.drop(df_test_IR[df_test_IR[\"label\"] == 'NOT ENOUGH INFO'].index, inplace=True)\n",
    "#df_test_IR.loc[df_test_IR[\"label\"] == \"NOT ENOUGH INFO\", \"evidence\"] = [[]]"
   ]
  },
  {
   "cell_type": "code",
   "execution_count": 10,
   "metadata": {},
   "outputs": [
    {
     "data": {
      "text/html": [
       "<div>\n",
       "<style scoped>\n",
       "    .dataframe tbody tr th:only-of-type {\n",
       "        vertical-align: middle;\n",
       "    }\n",
       "\n",
       "    .dataframe tbody tr th {\n",
       "        vertical-align: top;\n",
       "    }\n",
       "\n",
       "    .dataframe thead th {\n",
       "        text-align: right;\n",
       "    }\n",
       "</style>\n",
       "<table border=\"1\" class=\"dataframe\">\n",
       "  <thead>\n",
       "    <tr style=\"text-align: right;\">\n",
       "      <th></th>\n",
       "      <th>label</th>\n",
       "      <th>claim_embedding</th>\n",
       "      <th>distractors</th>\n",
       "      <th>evidences</th>\n",
       "    </tr>\n",
       "  </thead>\n",
       "  <tbody>\n",
       "    <tr>\n",
       "      <th>0</th>\n",
       "      <td>SUPPORTS</td>\n",
       "      <td>[-0.0591153502, -0.0126818949, 0.0383902341000...</td>\n",
       "      <td>[[0.0532539971, 0.0260050241, 0.013253429, -0....</td>\n",
       "      <td>[[-0.0212658644, -0.0053822184, 0.049857523300...</td>\n",
       "    </tr>\n",
       "    <tr>\n",
       "      <th>1</th>\n",
       "      <td>SUPPORTS</td>\n",
       "      <td>[0.0180077925, -0.026540124800000002, -0.00647...</td>\n",
       "      <td>[[-0.005198182500000001, 0.0173794962, -0.0174...</td>\n",
       "      <td>[[0.0320139751, -0.0227532443, -0.0038726702, ...</td>\n",
       "    </tr>\n",
       "    <tr>\n",
       "      <th>2</th>\n",
       "      <td>REFUTES</td>\n",
       "      <td>[0.0251651835, 0.0128200827, -0.0223469585, -0...</td>\n",
       "      <td>[[-0.0294236168, 0.0439332686, -0.0221149325, ...</td>\n",
       "      <td>[[-0.0065970495, -0.0365960449, -0.0052183238,...</td>\n",
       "    </tr>\n",
       "    <tr>\n",
       "      <th>3</th>\n",
       "      <td>NOT ENOUGH INFO</td>\n",
       "      <td>[0.0150281349, -0.0019458425, 0.02721324380000...</td>\n",
       "      <td>[[-0.0443192981, 0.0111048901, 0.045511771, -0...</td>\n",
       "      <td>[]</td>\n",
       "    </tr>\n",
       "    <tr>\n",
       "      <th>4</th>\n",
       "      <td>REFUTES</td>\n",
       "      <td>[0.0502280593, 0.0248907488, -0.0449585803, -0...</td>\n",
       "      <td>[[-0.0247019697, 0.0798536614, 0.0267286226, -...</td>\n",
       "      <td>[[0.0217998195, -0.0067899507, -0.0060096984, ...</td>\n",
       "    </tr>\n",
       "  </tbody>\n",
       "</table>\n",
       "</div>"
      ],
      "text/plain": [
       "             label                                    claim_embedding  \\\n",
       "0         SUPPORTS  [-0.0591153502, -0.0126818949, 0.0383902341000...   \n",
       "1         SUPPORTS  [0.0180077925, -0.026540124800000002, -0.00647...   \n",
       "2          REFUTES  [0.0251651835, 0.0128200827, -0.0223469585, -0...   \n",
       "3  NOT ENOUGH INFO  [0.0150281349, -0.0019458425, 0.02721324380000...   \n",
       "4          REFUTES  [0.0502280593, 0.0248907488, -0.0449585803, -0...   \n",
       "\n",
       "                                         distractors  \\\n",
       "0  [[0.0532539971, 0.0260050241, 0.013253429, -0....   \n",
       "1  [[-0.005198182500000001, 0.0173794962, -0.0174...   \n",
       "2  [[-0.0294236168, 0.0439332686, -0.0221149325, ...   \n",
       "3  [[-0.0443192981, 0.0111048901, 0.045511771, -0...   \n",
       "4  [[-0.0247019697, 0.0798536614, 0.0267286226, -...   \n",
       "\n",
       "                                           evidences  \n",
       "0  [[-0.0212658644, -0.0053822184, 0.049857523300...  \n",
       "1  [[0.0320139751, -0.0227532443, -0.0038726702, ...  \n",
       "2  [[-0.0065970495, -0.0365960449, -0.0052183238,...  \n",
       "3                                                 []  \n",
       "4  [[0.0217998195, -0.0067899507, -0.0060096984, ...  "
      ]
     },
     "execution_count": 10,
     "metadata": {},
     "output_type": "execute_result"
    }
   ],
   "source": [
    "df_test_IR.head(5)"
   ]
  },
  {
   "cell_type": "code",
   "execution_count": 15,
   "metadata": {},
   "outputs": [],
   "source": [
    "df_test_IR.rename(columns={\"evidences\": \"evidence\"}, inplace=True)"
   ]
  },
  {
   "cell_type": "markdown",
   "metadata": {},
   "source": [
    "## **Evaluación del módulo NLI + IR**\n",
    "---\n",
    "1. Primero, se extraen las métricas Accuracy, Precision, Recall y F1-Score para las 3 arquitecturas: IR + NLI (Llama3.2-1B, Llama3.2-3B, Llama3.1-8B)\n",
    "2. Segundo, se extrae la métrica FEVER Score original del Paper para las 3 arquitecturas.\n",
    "\n",
    "*Recuerda que en este proyecto se trabaja con embeddings a nivel documental, mientras que en los modelos SotA se trabaja a nivel de frase.*"
   ]
  },
  {
   "cell_type": "markdown",
   "metadata": {
    "jp-MarkdownHeadingCollapsed": true
   },
   "source": [
    "### ‼️ Métricas Accuracy, Precision, Recall, F1-Score de los tres **Modelos** LoRA\n",
    "---"
   ]
  },
  {
   "cell_type": "code",
   "execution_count": 7,
   "metadata": {},
   "outputs": [],
   "source": [
    "from torch.nn.utils.rnn import pad_sequence\n",
    "\n",
    "class CustomTestDataset(Dataset):\n",
    "    def __init__(self, df, tokenizer, device):\n",
    "        self.df = df\n",
    "        self.tokenizer = tokenizer\n",
    "        self.targets = self.df['label']\n",
    "        self.device = device\n",
    "\n",
    "    def __len__(self):\n",
    "        return len(self.df)\n",
    "\n",
    "    def __getitem__(self, index):\n",
    "        row = self.df.iloc[index]\n",
    "\n",
    "        emb_claim = torch.tensor(row['claim_embedding'], dtype=torch.float16).unsqueeze(0).to(self.device)  # (1, 384)\n",
    "        emds_evidences = [torch.tensor(e, dtype=torch.float16).unsqueeze(0).to(self.device) for e in row['evidence']]\n",
    "        filtered_evidences = [e for e in emds_evidences if e.shape == (1, 384)]\n",
    "        embs_distractors = [torch.tensor(d, dtype=torch.float16).unsqueeze(0).to(self.device) for d in row['distractors']]\n",
    "\n",
    "        encoder_bge_embeddings = torch.cat([emb_claim] + filtered_evidences + embs_distractors, dim=0).unsqueeze(0).to(self.device)  # (1, n, 384)\n",
    "\n",
    "        label_map = {'SUPPORTS': 0, 'REFUTES': 1, 'NOT ENOUGH INFO': 2}\n",
    "        label = torch.tensor(label_map[row['label']], dtype=torch.long).to(self.device)\n",
    "\n",
    "        attention_mask = torch.ones(1, encoder_bge_embeddings.shape[1], dtype=torch.long, device=self.device)\n",
    "\n",
    "        inputs = {\n",
    "            \"inputs_embeds\": encoder_bge_embeddings,\n",
    "            \"attention_mask\": attention_mask,\n",
    "            \"label\": label,\n",
    "        }\n",
    "\n",
    "        return inputs\n",
    "\n",
    "\n",
    "def custom_collate_fn_complejo(batch):\n",
    "    max_input_len = max(item['inputs_embeds'].size(1) for item in batch)  # Longitud máxima de inputs_embeds en el batch\n",
    "\n",
    "    pad_token_embed = torch.zeros((1, 384), dtype=torch.float16).to(batch[0]['inputs_embeds'].device)  # Padding de ceros con tamaño 384\n",
    "\n",
    "    padded_inputs = []\n",
    "    padded_attention_mask = []\n",
    "    labels = []\n",
    "\n",
    "    for item in batch:\n",
    "        ### Padding a los inputs_embeds hasta la longitud máxima (384 ya que no estamos proyectando)\n",
    "        current_len = item['inputs_embeds'].size(1)\n",
    "        padding_length = max_input_len - current_len\n",
    "        if padding_length > 0:\n",
    "            padding_embeds = pad_token_embed.expand(1, padding_length, -1)  # Expande el padding\n",
    "            padded_emb = torch.cat([item['inputs_embeds'], padding_embeds], dim=1)\n",
    "        else:\n",
    "            padded_emb = item['inputs_embeds']  # Sin padding\n",
    "\n",
    "        padded_inputs.append(padded_emb)\n",
    "\n",
    "        ### Padding a la attention_mask\n",
    "        padded_attention = torch.cat([item['attention_mask'], torch.zeros(1, padding_length, dtype=torch.long, device=item['attention_mask'].device)], dim=1)\n",
    "        padded_attention_mask.append(padded_attention)\n",
    "\n",
    "        labels.append(item['label'])\n",
    "\n",
    "    inputs_embeds = torch.cat(padded_inputs, dim=0)  # [batch_size, max_seq_len, embedding_dim]\n",
    "    attention_mask = torch.cat(padded_attention_mask, dim=0)  # [batch_size, max_seq_len]\n",
    "    labels = torch.tensor(labels, dtype=torch.long, device=inputs_embeds.device)  # [batch_size]\n",
    "\n",
    "    return {\n",
    "        'inputs_embeds': inputs_embeds,\n",
    "        'attention_mask': attention_mask,\n",
    "        'labels': labels,\n",
    "    }\n",
    "\n",
    "\n",
    "def inicialize_loader_test(df_test, tokenizer, device, params):\n",
    "\n",
    "    test_dataset = CustomTestDataset(df_test, tokenizer, device)\n",
    "    test_params = params\n",
    "    test_loader = DataLoader(test_dataset, **test_params, collate_fn = custom_collate_fn_complejo)\n",
    "    return test_loader"
   ]
  },
  {
   "cell_type": "code",
   "execution_count": 8,
   "metadata": {},
   "outputs": [],
   "source": [
    "import torch\n",
    "import torch.nn as nn\n",
    "import torch.nn.functional as F\n",
    "\n",
    "class Llama2Classifier_2(nn.Module):\n",
    "    def __init__(self, decoder, size_llm, num_classes=3):\n",
    "        super(Llama2Classifier_2, self).__init__()\n",
    "\n",
    "        self.size_encoder_embds = 384\n",
    "        self.size_llm_embds = size_llm\n",
    "        self.num_classes = num_classes\n",
    "        self.decoder = decoder\n",
    "        self.decoder = self.decoder.to(device)\n",
    "\n",
    "        self.linear_projection = nn.Linear(self.size_encoder_embds, self.size_llm_embds).to(dtype=self.decoder.dtype, device=self.decoder.device)\n",
    "\n",
    "        self.dropout = nn.Dropout(0.3)\n",
    "        self.classifier = nn.Linear(self.size_llm_embds, self.num_classes).to(dtype=self.decoder.dtype, device=self.decoder.device)\n",
    "\n",
    "\n",
    "    def forward(self, inputs_embeds, attention_mask):\n",
    "        batch_size = inputs_embeds.size(0)\n",
    "        encoder_embeds = []\n",
    "\n",
    "        encoder_embeds = inputs_embeds\n",
    "\n",
    "        encoder_embeds = encoder_embeds.to(dtype=self.linear_projection.weight.dtype)\n",
    "\n",
    "        projected_embeds = self.linear_projection(encoder_embeds)\n",
    "\n",
    "        projected_embeds = projected_embeds.to(dtype=self.decoder.dtype)\n",
    "        attention_mask = attention_mask.to(device).to(self.decoder.dtype)\n",
    "\n",
    "        decoder_output = self.decoder(\n",
    "            inputs_embeds=projected_embeds,\n",
    "            attention_mask=attention_mask,\n",
    "            output_hidden_states=True\n",
    "        )\n",
    "\n",
    "        hidden_states = decoder_output.hidden_states\n",
    "        last_hidden_state = hidden_states[-1]\n",
    "\n",
    "        aggregated_output = torch.sum(last_hidden_state, dim=1)\n",
    "        aggregated_output = aggregated_output.to(device).to(self.decoder.dtype)\n",
    "\n",
    "        logits = self.classifier(aggregated_output.to(self.classifier.weight.dtype))\n",
    "\n",
    "        return logits\n",
    "\n",
    "loss = torch.nn.CrossEntropyLoss()\n",
    "\n",
    "def loss_fn(outputs, targets):\n",
    "    targets = targets.long()\n",
    "    return loss(outputs, targets)"
   ]
  },
  {
   "cell_type": "code",
   "execution_count": 9,
   "metadata": {},
   "outputs": [
    {
     "name": "stdout",
     "output_type": "stream",
     "text": [
      "🦥 Unsloth: Will patch your computer to enable 2x faster free finetuning.\n",
      "🦥 Unsloth Zoo will now patch everything to make training faster!\n"
     ]
    }
   ],
   "source": [
    "import numpy as np\n",
    "from torch.cuda.amp import autocast, GradScaler\n",
    "from sklearn.metrics import accuracy_score, precision_recall_fscore_support, confusion_matrix\n",
    "import matplotlib.pyplot as plt\n",
    "import seaborn as sns\n",
    "import os\n",
    "import gc\n",
    "import torch\n",
    "from unsloth import FastLanguageModel\n",
    "from peft import get_peft_model_state_dict\n",
    "''' -------------------------------------------------------------------------------- '''\n",
    "def model_builder(decoder_name, emb_size, lr, r, lora_alpha, lora_dropout, weight_decay, betas):\n",
    "\n",
    "    max_seq_length = emb_size\n",
    "    dtype = None\n",
    "    load_in_4bit = True\n",
    "\n",
    "    decoder, tokenizer = FastLanguageModel.from_pretrained(\n",
    "        model_name = decoder_name,\n",
    "        max_seq_length = max_seq_length,\n",
    "        dtype = dtype,\n",
    "        load_in_4bit = load_in_4bit,\n",
    "        fast_inference=False\n",
    "    )\n",
    "\n",
    "\n",
    "    model = FastLanguageModel.get_peft_model(\n",
    "        decoder,\n",
    "        r = r,\n",
    "        target_modules = [\"q_proj\", \"k_proj\", \"v_proj\", \"o_proj\",\n",
    "                          \"gate_proj\", \"up_proj\", \"down_proj\",],\n",
    "        lora_alpha = lora_alpha,\n",
    "        lora_dropout = lora_dropout,\n",
    "        bias = \"none\",\n",
    "        use_gradient_checkpointing = \"unsloth\",\n",
    "        use_rslora = False,\n",
    "        loftq_config = None,\n",
    "    )\n",
    "\n",
    "\n",
    "    model_complete = Llama2Classifier_2(model, emb_size, num_classes=3)\n",
    "    optimizer = torch.optim.AdamW(model.parameters(), lr=lr, weight_decay=weight_decay, betas=betas)\n",
    "    return model_complete, optimizer\n",
    "\n",
    "\n",
    "\n",
    "def evaluate_test(model, test_loader, best_model_path, show_cm=None):\n",
    "\n",
    "    checkpoint = torch.load(best_model_path, map_location=device)\n",
    "    model.decoder.load_state_dict(checkpoint[\"lora\"], strict=False)\n",
    "    model.linear_projection.load_state_dict(checkpoint[\"projection\"])\n",
    "    model.classifier.load_state_dict(checkpoint[\"classifier\"])\n",
    "\n",
    "    model.eval()\n",
    "\n",
    "    all_preds, all_labels = [], []\n",
    "    all_labels = []\n",
    "    with torch.no_grad():\n",
    "        for data in test_loader:\n",
    "            inputs_embeds = data['inputs_embeds'].to(device)\n",
    "            attention_mask = data['attention_mask'].to(device).to(torch.float32)\n",
    "            labels = data['labels'].to(device).long()\n",
    "\n",
    "            logits = model(inputs_embeds, attention_mask)\n",
    "            preds = torch.argmax(logits, dim=1)\n",
    "\n",
    "            all_preds.extend(preds.cpu().numpy())\n",
    "            all_labels.extend(labels.cpu().numpy())\n",
    "\n",
    "    acc = accuracy_score(all_labels, all_preds)\n",
    "    precision, recall, f1, _ = precision_recall_fscore_support(all_labels, all_preds, average='weighted')\n",
    "    test_metrics = {\"accuracy\": acc, \"precision\": precision, \"recall\": recall, \"f1_score\": f1}\n",
    "\n",
    "    cm = confusion_matrix(all_labels, all_preds)\n",
    "\n",
    "    print(f\"Test Accuracy: {acc:.4f}, Precision: {precision:.4f}, Recall: {recall:.4f}, F1-score: {f1:.4f}\")\n",
    "\n",
    "    if show_cm:\n",
    "        plt.figure(figsize=(6, 5))\n",
    "        sns.heatmap(cm, annot=True, fmt='d', cmap='Blues', xticklabels=[0, 1, 2], yticklabels=[0, 1, 2])\n",
    "        plt.xlabel(\"Predicted\")\n",
    "        plt.ylabel(\"Actual\")\n",
    "        plt.title(\"Confusion Matrix\")\n",
    "        plt.show()\n",
    "\n",
    "    return test_metrics, cm\n"
   ]
  },
  {
   "cell_type": "markdown",
   "metadata": {
    "jp-MarkdownHeadingCollapsed": true
   },
   "source": [
    "#### **LoRA-Llama3.2-1B**\n",
    "> Execute: 1"
   ]
  },
  {
   "cell_type": "code",
   "execution_count": 16,
   "metadata": {
    "collapsed": true,
    "jupyter": {
     "outputs_hidden": true
    }
   },
   "outputs": [
    {
     "name": "stdout",
     "output_type": "stream",
     "text": [
      "==((====))==  Unsloth 2025.6.2: Fast Llama patching. Transformers: 4.52.4.\n",
      "   \\\\   /|    NVIDIA A40. Num GPUs = 1. Max memory: 44.352 GB. Platform: Linux.\n",
      "O^O/ \\_/ \\    Torch: 2.6.0+cu124. CUDA: 8.6. CUDA Toolkit: 12.4. Triton: 3.2.0\n",
      "\\        /    Bfloat16 = TRUE. FA [Xformers = 0.0.29.post3. FA2 = False]\n",
      " \"-____-\"     Free license: http://github.com/unslothai/unsloth\n",
      "Unsloth: Fast downloading is enabled - ignore downloading bars which are red colored!\n"
     ]
    },
    {
     "data": {
      "application/vnd.jupyter.widget-view+json": {
       "model_id": "e7fd52d69c8f459f9c48ac3482bbe3b7",
       "version_major": 2,
       "version_minor": 0
      },
      "text/plain": [
       "model.safetensors:   0%|          | 0.00/1.03G [00:00<?, ?B/s]"
      ]
     },
     "metadata": {},
     "output_type": "display_data"
    },
    {
     "data": {
      "application/vnd.jupyter.widget-view+json": {
       "model_id": "886926e3f9e5461093393d41b6b6a657",
       "version_major": 2,
       "version_minor": 0
      },
      "text/plain": [
       "generation_config.json:   0%|          | 0.00/230 [00:00<?, ?B/s]"
      ]
     },
     "metadata": {},
     "output_type": "display_data"
    },
    {
     "data": {
      "application/vnd.jupyter.widget-view+json": {
       "model_id": "9e82a1895ed545889ab2517dde72e564",
       "version_major": 2,
       "version_minor": 0
      },
      "text/plain": [
       "tokenizer_config.json:   0%|          | 0.00/50.6k [00:00<?, ?B/s]"
      ]
     },
     "metadata": {},
     "output_type": "display_data"
    },
    {
     "data": {
      "application/vnd.jupyter.widget-view+json": {
       "model_id": "b06e32696d6546bdbe45b86a77f58604",
       "version_major": 2,
       "version_minor": 0
      },
      "text/plain": [
       "special_tokens_map.json:   0%|          | 0.00/459 [00:00<?, ?B/s]"
      ]
     },
     "metadata": {},
     "output_type": "display_data"
    },
    {
     "data": {
      "application/vnd.jupyter.widget-view+json": {
       "model_id": "38ee97048ade48188a3a3e02c2dd6912",
       "version_major": 2,
       "version_minor": 0
      },
      "text/plain": [
       "tokenizer.json:   0%|          | 0.00/17.2M [00:00<?, ?B/s]"
      ]
     },
     "metadata": {},
     "output_type": "display_data"
    },
    {
     "name": "stderr",
     "output_type": "stream",
     "text": [
      "Unsloth: Dropout = 0 is supported for fast patching. You are using dropout = 0.1.\n",
      "Unsloth will patch all other layers, except LoRA matrices, causing a performance hit.\n",
      "Unsloth 2025.6.2 patched 16 layers with 0 QKV layers, 0 O layers and 0 MLP layers.\n"
     ]
    },
    {
     "data": {
      "text/plain": [
       "Llama2Classifier_2(\n",
       "  (decoder): PeftModelForCausalLM(\n",
       "    (base_model): LoraModel(\n",
       "      (model): LlamaForCausalLM(\n",
       "        (model): LlamaModel(\n",
       "          (embed_tokens): Embedding(128256, 2048, padding_idx=128004)\n",
       "          (layers): ModuleList(\n",
       "            (0-15): 16 x LlamaDecoderLayer(\n",
       "              (self_attn): LlamaAttention(\n",
       "                (q_proj): lora.Linear4bit(\n",
       "                  (base_layer): Linear4bit(in_features=2048, out_features=2048, bias=False)\n",
       "                  (lora_dropout): ModuleDict(\n",
       "                    (default): Dropout(p=0.1, inplace=False)\n",
       "                  )\n",
       "                  (lora_A): ModuleDict(\n",
       "                    (default): Linear(in_features=2048, out_features=4, bias=False)\n",
       "                  )\n",
       "                  (lora_B): ModuleDict(\n",
       "                    (default): Linear(in_features=4, out_features=2048, bias=False)\n",
       "                  )\n",
       "                  (lora_embedding_A): ParameterDict()\n",
       "                  (lora_embedding_B): ParameterDict()\n",
       "                  (lora_magnitude_vector): ModuleDict()\n",
       "                )\n",
       "                (k_proj): lora.Linear4bit(\n",
       "                  (base_layer): Linear4bit(in_features=2048, out_features=512, bias=False)\n",
       "                  (lora_dropout): ModuleDict(\n",
       "                    (default): Dropout(p=0.1, inplace=False)\n",
       "                  )\n",
       "                  (lora_A): ModuleDict(\n",
       "                    (default): Linear(in_features=2048, out_features=4, bias=False)\n",
       "                  )\n",
       "                  (lora_B): ModuleDict(\n",
       "                    (default): Linear(in_features=4, out_features=512, bias=False)\n",
       "                  )\n",
       "                  (lora_embedding_A): ParameterDict()\n",
       "                  (lora_embedding_B): ParameterDict()\n",
       "                  (lora_magnitude_vector): ModuleDict()\n",
       "                )\n",
       "                (v_proj): lora.Linear4bit(\n",
       "                  (base_layer): Linear4bit(in_features=2048, out_features=512, bias=False)\n",
       "                  (lora_dropout): ModuleDict(\n",
       "                    (default): Dropout(p=0.1, inplace=False)\n",
       "                  )\n",
       "                  (lora_A): ModuleDict(\n",
       "                    (default): Linear(in_features=2048, out_features=4, bias=False)\n",
       "                  )\n",
       "                  (lora_B): ModuleDict(\n",
       "                    (default): Linear(in_features=4, out_features=512, bias=False)\n",
       "                  )\n",
       "                  (lora_embedding_A): ParameterDict()\n",
       "                  (lora_embedding_B): ParameterDict()\n",
       "                  (lora_magnitude_vector): ModuleDict()\n",
       "                )\n",
       "                (o_proj): lora.Linear4bit(\n",
       "                  (base_layer): Linear4bit(in_features=2048, out_features=2048, bias=False)\n",
       "                  (lora_dropout): ModuleDict(\n",
       "                    (default): Dropout(p=0.1, inplace=False)\n",
       "                  )\n",
       "                  (lora_A): ModuleDict(\n",
       "                    (default): Linear(in_features=2048, out_features=4, bias=False)\n",
       "                  )\n",
       "                  (lora_B): ModuleDict(\n",
       "                    (default): Linear(in_features=4, out_features=2048, bias=False)\n",
       "                  )\n",
       "                  (lora_embedding_A): ParameterDict()\n",
       "                  (lora_embedding_B): ParameterDict()\n",
       "                  (lora_magnitude_vector): ModuleDict()\n",
       "                )\n",
       "                (rotary_emb): LlamaRotaryEmbedding()\n",
       "              )\n",
       "              (mlp): LlamaMLP(\n",
       "                (gate_proj): lora.Linear4bit(\n",
       "                  (base_layer): Linear4bit(in_features=2048, out_features=8192, bias=False)\n",
       "                  (lora_dropout): ModuleDict(\n",
       "                    (default): Dropout(p=0.1, inplace=False)\n",
       "                  )\n",
       "                  (lora_A): ModuleDict(\n",
       "                    (default): Linear(in_features=2048, out_features=4, bias=False)\n",
       "                  )\n",
       "                  (lora_B): ModuleDict(\n",
       "                    (default): Linear(in_features=4, out_features=8192, bias=False)\n",
       "                  )\n",
       "                  (lora_embedding_A): ParameterDict()\n",
       "                  (lora_embedding_B): ParameterDict()\n",
       "                  (lora_magnitude_vector): ModuleDict()\n",
       "                )\n",
       "                (up_proj): lora.Linear4bit(\n",
       "                  (base_layer): Linear4bit(in_features=2048, out_features=8192, bias=False)\n",
       "                  (lora_dropout): ModuleDict(\n",
       "                    (default): Dropout(p=0.1, inplace=False)\n",
       "                  )\n",
       "                  (lora_A): ModuleDict(\n",
       "                    (default): Linear(in_features=2048, out_features=4, bias=False)\n",
       "                  )\n",
       "                  (lora_B): ModuleDict(\n",
       "                    (default): Linear(in_features=4, out_features=8192, bias=False)\n",
       "                  )\n",
       "                  (lora_embedding_A): ParameterDict()\n",
       "                  (lora_embedding_B): ParameterDict()\n",
       "                  (lora_magnitude_vector): ModuleDict()\n",
       "                )\n",
       "                (down_proj): lora.Linear4bit(\n",
       "                  (base_layer): Linear4bit(in_features=8192, out_features=2048, bias=False)\n",
       "                  (lora_dropout): ModuleDict(\n",
       "                    (default): Dropout(p=0.1, inplace=False)\n",
       "                  )\n",
       "                  (lora_A): ModuleDict(\n",
       "                    (default): Linear(in_features=8192, out_features=4, bias=False)\n",
       "                  )\n",
       "                  (lora_B): ModuleDict(\n",
       "                    (default): Linear(in_features=4, out_features=2048, bias=False)\n",
       "                  )\n",
       "                  (lora_embedding_A): ParameterDict()\n",
       "                  (lora_embedding_B): ParameterDict()\n",
       "                  (lora_magnitude_vector): ModuleDict()\n",
       "                )\n",
       "                (act_fn): SiLU()\n",
       "              )\n",
       "              (input_layernorm): LlamaRMSNorm((2048,), eps=1e-05)\n",
       "              (post_attention_layernorm): LlamaRMSNorm((2048,), eps=1e-05)\n",
       "            )\n",
       "          )\n",
       "          (norm): LlamaRMSNorm((2048,), eps=1e-05)\n",
       "          (rotary_emb): LlamaRotaryEmbedding()\n",
       "        )\n",
       "        (lm_head): Linear(in_features=2048, out_features=128256, bias=False)\n",
       "      )\n",
       "    )\n",
       "  )\n",
       "  (linear_projection): Linear(in_features=384, out_features=2048, bias=True)\n",
       "  (dropout): Dropout(p=0.3, inplace=False)\n",
       "  (classifier): Linear(in_features=2048, out_features=3, bias=True)\n",
       ")"
      ]
     },
     "execution_count": 16,
     "metadata": {},
     "output_type": "execute_result"
    }
   ],
   "source": [
    "import torch\n",
    "from unsloth import FastLanguageModel\n",
    "import torch.nn.functional as F\n",
    "\n",
    "#device = \"cuda\" if torch.cuda.is_available() else \"cpu\"\n",
    "\n",
    "# Parámetros\n",
    "decoder_name = \"unsloth/Llama-3.2-1B-bnb-4bit\"\n",
    "emb_size = 2048\n",
    "r = 4\n",
    "lora_alpha = 16\n",
    "lora_dropout = 0.1\n",
    "weight_decay = 0.07\n",
    "betas = (0.9, 0.95)\n",
    "lr = 3e-4\n",
    "num_classes = 3\n",
    "\n",
    "#from google.colab import drive\n",
    "#drive.mount('/content/drive')\n",
    "#model_path = \"/content/drive/MyDrive/TFM/exp(Llama-3.2-1B-bnb-4bit)_LoRA_best_model_1 (1).pth\"\n",
    "model_path = \"Models/exp(Llama-3.2-1B-bnb-4bit)_LoRA_best_model_1.pth\"\n",
    "\n",
    "# Modelo y optimizador con builder\n",
    "model, optimizer = model_builder(\n",
    "    decoder_name=decoder_name,\n",
    "    emb_size=emb_size,\n",
    "    lr=lr,\n",
    "    r=r,\n",
    "    lora_alpha=lora_alpha,\n",
    "    lora_dropout=lora_dropout,\n",
    "    weight_decay=weight_decay,\n",
    "    betas=betas,\n",
    ")\n",
    "\n",
    "model = model.to(device)\n",
    "\n",
    "def filter_state_dict(state_dict, model):\n",
    "    model_keys = set(model.state_dict().keys())\n",
    "    filtered_dict = {k: v for k, v in state_dict.items() if k in model_keys}\n",
    "    return filtered_dict\n",
    "\n",
    "checkpoint = torch.load(model_path, map_location=device)\n",
    "\n",
    "lora_state_dict = filter_state_dict(checkpoint[\"lora\"], model.decoder)\n",
    "model.decoder.load_state_dict(lora_state_dict, strict=False)\n",
    "model.classifier.load_state_dict(checkpoint[\"classifier\"])\n",
    "model.linear_projection.load_state_dict(checkpoint[\"projection\"])\n",
    "\n",
    "model.eval()"
   ]
  },
  {
   "cell_type": "code",
   "execution_count": 18,
   "metadata": {},
   "outputs": [
    {
     "name": "stdout",
     "output_type": "stream",
     "text": [
      "Test Accuracy: 0.7469, Precision: 0.7738, Recall: 0.7469, F1-score: 0.7465\n"
     ]
    },
    {
     "data": {
      "image/png": "[encoded data removed]",
      "text/plain": [
       "<Figure size 600x500 with 2 Axes>"
      ]
     },
     "metadata": {},
     "output_type": "display_data"
    }
   ],
   "source": [
    "from transformers import AutoModelForCausalLM, AutoTokenizer\n",
    "\n",
    "model_name = \"unsloth/Llama-3.2-1B-bnb-4bit\"\n",
    "best_model_path = \"Models/exp(Llama-3.2-1B-bnb-4bit)_LoRA_best_model_1.pth\"\n",
    "\n",
    "tokenizer = AutoTokenizer.from_pretrained(model_name)\n",
    "\n",
    "params = {'batch_size': 128, 'shuffle': True, 'num_workers': 0}\n",
    "test_loader = inicialize_loader_test(df_test_IR, tokenizer, device, params)\n",
    "\n",
    "test_metrics, cm = evaluate_test(model, test_loader, best_model_path, show_cm=True)"
   ]
  },
  {
   "cell_type": "markdown",
   "metadata": {
    "jp-MarkdownHeadingCollapsed": true
   },
   "source": [
    "#### **LoRA-Llama3.2-3B**\n",
    "> Execute: 5"
   ]
  },
  {
   "cell_type": "code",
   "execution_count": null,
   "metadata": {},
   "outputs": [],
   "source": [
    "import torch\n",
    "from unsloth import FastLanguageModel\n",
    "import torch.nn.functional as F\n",
    "\n",
    "#device = \"cuda\" if torch.cuda.is_available() else \"cpu\"\n",
    "\n",
    "# Parámetros\n",
    "decoder_name = \"unsloth/Llama-3.2-3B-bnb-4bit\"\n",
    "emb_size = 3072\n",
    "r = 8\n",
    "lora_alpha = 32\n",
    "lora_dropout = 0.2\n",
    "weight_decay = 1e-4\n",
    "betas = (0.9, 0.95)\n",
    "lr = 3e-4\n",
    "num_classes = 3\n",
    "\n",
    "#from google.colab import drive\n",
    "#drive.mount('/content/drive')\n",
    "#model_path = \"/content/drive/MyDrive/TFM/exp(Llama-3.2-3B-bnb-4bit)_LoRA_best_model_1 (1).pth\"\n",
    "model_path = \"Models/exp(Llama-3.2-3B-bnb-4bit)_LoRA_best_model_5.pth\"\n",
    "\n",
    "# Modelo y optimizador con builder\n",
    "model, optimizer = model_builder(\n",
    "    decoder_name=decoder_name,\n",
    "    emb_size=emb_size,\n",
    "    lr=lr,\n",
    "    r=r,\n",
    "    lora_alpha=lora_alpha,\n",
    "    lora_dropout=lora_dropout,\n",
    "    weight_decay=weight_decay,\n",
    "    betas=betas,\n",
    ")\n",
    "\n",
    "model = model.to(device)\n",
    "\n",
    "def filter_state_dict(state_dict, model):\n",
    "    model_keys = set(model.state_dict().keys())\n",
    "    filtered_dict = {k: v for k, v in state_dict.items() if k in model_keys}\n",
    "    return filtered_dict\n",
    "\n",
    "checkpoint = torch.load(model_path, map_location=device)\n",
    "\n",
    "lora_state_dict = filter_state_dict(checkpoint[\"lora\"], model.decoder)\n",
    "model.decoder.load_state_dict(lora_state_dict, strict=False)\n",
    "model.classifier.load_state_dict(checkpoint[\"classifier\"])\n",
    "model.linear_projection.load_state_dict(checkpoint[\"projection\"])\n",
    "\n",
    "model.eval()"
   ]
  },
  {
   "cell_type": "code",
   "execution_count": 22,
   "metadata": {},
   "outputs": [
    {
     "data": {
      "application/vnd.jupyter.widget-view+json": {
       "model_id": "f09c8354345b4e99ad8e73b207fd2291",
       "version_major": 2,
       "version_minor": 0
      },
      "text/plain": [
       "tokenizer_config.json:   0%|          | 0.00/50.6k [00:00<?, ?B/s]"
      ]
     },
     "metadata": {},
     "output_type": "display_data"
    },
    {
     "data": {
      "application/vnd.jupyter.widget-view+json": {
       "model_id": "5df441a0fead4befaff7d6c6abbfd937",
       "version_major": 2,
       "version_minor": 0
      },
      "text/plain": [
       "tokenizer.json:   0%|          | 0.00/17.2M [00:00<?, ?B/s]"
      ]
     },
     "metadata": {},
     "output_type": "display_data"
    },
    {
     "data": {
      "application/vnd.jupyter.widget-view+json": {
       "model_id": "42c7a351353a4b7187c447e08a2ab9aa",
       "version_major": 2,
       "version_minor": 0
      },
      "text/plain": [
       "special_tokens_map.json:   0%|          | 0.00/459 [00:00<?, ?B/s]"
      ]
     },
     "metadata": {},
     "output_type": "display_data"
    },
    {
     "name": "stdout",
     "output_type": "stream",
     "text": [
      "Test Accuracy: 0.7638, Precision: 0.7886, Recall: 0.7638, F1-score: 0.7543\n"
     ]
    },
    {
     "data": {
      "image/png": "[encoded data removed]",
      "text/plain": [
       "<Figure size 600x500 with 2 Axes>"
      ]
     },
     "metadata": {},
     "output_type": "display_data"
    }
   ],
   "source": [
    "from transformers import AutoModelForCausalLM, AutoTokenizer\n",
    "\n",
    "model_name = \"unsloth/Llama-3.2-3B-bnb-4bit\"\n",
    "#best_model_path = \"/content/drive/MyDrive/TFM/exp(Llama-3.2-3B-bnb-4bit)_LoRA_best_model_1 (1).pth\"\n",
    "best_model_path = \"Models/exp(Llama-3.2-3B-bnb-4bit)_LoRA_best_model_5.pth\"\n",
    "\n",
    "tokenizer = AutoTokenizer.from_pretrained(model_name)\n",
    "\n",
    "params = {'batch_size': 128, 'shuffle': True, 'num_workers': 0}\n",
    "test_loader = inicialize_loader_test(df_test_IR, tokenizer, device, params)\n",
    "\n",
    "test_metrics, cm = evaluate_test(model, test_loader, best_model_path, show_cm=True)"
   ]
  },
  {
   "cell_type": "markdown",
   "metadata": {
    "jp-MarkdownHeadingCollapsed": true
   },
   "source": [
    "#### **LoRA-Llama3.1-8B**\n",
    "> Execute: 138"
   ]
  },
  {
   "cell_type": "code",
   "execution_count": null,
   "metadata": {},
   "outputs": [],
   "source": [
    "import torch\n",
    "from unsloth import FastLanguageModel\n",
    "import torch.nn.functional as F\n",
    "\n",
    "\n",
    "# Parámetros\n",
    "decoder_name = \"unsloth/Llama-3.1-8B-unsloth-bnb-4bit\"\n",
    "emb_size = 4096\n",
    "r = 10\n",
    "lora_alpha = 64\n",
    "lora_dropout = 0.05\n",
    "weight_decay = 1e-7\n",
    "betas = (0.9, 0.95)\n",
    "lr = 6e-4\n",
    "num_classes = 3\n",
    "\n",
    "model_path = \"Models/exp(Llama-3.1-8B-bnb-4bit)_LoRA_best_model_138.pth\"\n",
    "\n",
    "# Modelo y optimizador con builder\n",
    "model, optimizer = model_builder(\n",
    "    decoder_name=decoder_name,\n",
    "    emb_size=emb_size,\n",
    "    lr=lr,\n",
    "    r=r,\n",
    "    lora_alpha=lora_alpha,\n",
    "    lora_dropout=lora_dropout,\n",
    "    weight_decay=weight_decay,\n",
    "    betas=betas,\n",
    ")\n",
    "\n",
    "model = model.to(device)\n",
    "\n",
    "def filter_state_dict(state_dict, model):\n",
    "    model_keys = set(model.state_dict().keys())\n",
    "    filtered_dict = {k: v for k, v in state_dict.items() if k in model_keys}\n",
    "    return filtered_dict\n",
    "\n",
    "checkpoint = torch.load(model_path, map_location=device)\n",
    "\n",
    "lora_state_dict = filter_state_dict(checkpoint[\"lora\"], model.decoder)\n",
    "model.decoder.load_state_dict(lora_state_dict, strict=False)\n",
    "model.classifier.load_state_dict(checkpoint[\"classifier\"])\n",
    "model.linear_projection.load_state_dict(checkpoint[\"projection\"])\n",
    "\n",
    "model.eval()"
   ]
  },
  {
   "cell_type": "code",
   "execution_count": 28,
   "metadata": {},
   "outputs": [
    {
     "name": "stdout",
     "output_type": "stream",
     "text": [
      "Test Accuracy: 0.7060, Precision: 0.7466, Recall: 0.7060, F1-score: 0.7132\n"
     ]
    },
    {
     "data": {
      "image/png": "[encoded data removed]",
      "text/plain": [
       "<Figure size 600x500 with 2 Axes>"
      ]
     },
     "metadata": {},
     "output_type": "display_data"
    }
   ],
   "source": [
    "from transformers import AutoModelForCausalLM, AutoTokenizer\n",
    "\n",
    "model_name = \"unsloth/Llama-3.1-8B-unsloth-bnb-4bit\"\n",
    "#best_model_path = \"/content/drive/MyDrive/TFM/exp(Llama-3.1-8B-bnb-4bit)_LoRA_best_model_1 (1).pth\"\n",
    "best_model_path = \"Models/exp(Llama-3.1-8B-bnb-4bit)_LoRA_best_model_138.pth\"\n",
    "\n",
    "tokenizer = AutoTokenizer.from_pretrained(model_name)\n",
    "\n",
    "params = {'batch_size': 128, 'shuffle': True, 'num_workers': 0}\n",
    "test_loader = inicialize_loader_test(df_test_IR, tokenizer, device, params)\n",
    "\n",
    "test_metrics, cm = evaluate_test(model, test_loader, best_model_path, show_cm=True)"
   ]
  },
  {
   "cell_type": "markdown",
   "metadata": {},
   "source": [
    "> Execute: 150"
   ]
  },
  {
   "cell_type": "code",
   "execution_count": 11,
   "metadata": {},
   "outputs": [
    {
     "name": "stdout",
     "output_type": "stream",
     "text": [
      "==((====))==  Unsloth 2025.6.2: Fast Llama patching. Transformers: 4.52.4.\n",
      "   \\\\   /|    NVIDIA GeForce RTX 3090. Num GPUs = 1. Max memory: 23.691 GB. Platform: Linux.\n",
      "O^O/ \\_/ \\    Torch: 2.6.0+cu124. CUDA: 8.6. CUDA Toolkit: 12.4. Triton: 3.2.0\n",
      "\\        /    Bfloat16 = TRUE. FA [Xformers = 0.0.29.post3. FA2 = False]\n",
      " \"-____-\"     Free license: http://github.com/unslothai/unsloth\n",
      "Unsloth: Fast downloading is enabled - ignore downloading bars which are red colored!\n"
     ]
    },
    {
     "name": "stderr",
     "output_type": "stream",
     "text": [
      "Unsloth: Dropout = 0 is supported for fast patching. You are using dropout = 0.05.\n",
      "Unsloth will patch all other layers, except LoRA matrices, causing a performance hit.\n",
      "Unsloth 2025.6.2 patched 32 layers with 0 QKV layers, 0 O layers and 0 MLP layers.\n"
     ]
    },
    {
     "name": "stdout",
     "output_type": "stream",
     "text": [
      "Test Accuracy: 0.7854, Precision: 0.8084, Recall: 0.7854, F1-score: 0.7791\n"
     ]
    },
    {
     "data": {
      "image/png": "[encoded data removed]",
      "text/plain": [
       "<Figure size 600x500 with 2 Axes>"
      ]
     },
     "metadata": {},
     "output_type": "display_data"
    }
   ],
   "source": [
    "import torch\n",
    "from unsloth import FastLanguageModel\n",
    "import torch.nn.functional as F\n",
    "\n",
    "\n",
    "# Parámetros\n",
    "decoder_name = \"unsloth/Llama-3.1-8B-unsloth-bnb-4bit\"\n",
    "emb_size = 4096\n",
    "r = 10\n",
    "lora_alpha = 64\n",
    "lora_dropout = 0.05\n",
    "weight_decay = 1e-5\n",
    "betas = (0.9, 0.95)\n",
    "lr = 6e-4\n",
    "num_classes = 3\n",
    "\n",
    "model_path = \"Models/exp(Llama-3.1-8B-bnb-4bit)_LoRA_best_model_150_val_loss.pth\"\n",
    "\n",
    "# Modelo y optimizador con builder\n",
    "model, optimizer = model_builder(\n",
    "    decoder_name=decoder_name,\n",
    "    emb_size=emb_size,\n",
    "    lr=lr,\n",
    "    r=r,\n",
    "    lora_alpha=lora_alpha,\n",
    "    lora_dropout=lora_dropout,\n",
    "    weight_decay=weight_decay,\n",
    "    betas=betas,\n",
    ")\n",
    "\n",
    "model = model.to(device)\n",
    "\n",
    "def filter_state_dict(state_dict, model):\n",
    "    model_keys = set(model.state_dict().keys())\n",
    "    filtered_dict = {k: v for k, v in state_dict.items() if k in model_keys}\n",
    "    return filtered_dict\n",
    "\n",
    "checkpoint = torch.load(model_path, map_location=device)\n",
    "\n",
    "lora_state_dict = filter_state_dict(checkpoint[\"lora\"], model.decoder)\n",
    "model.decoder.load_state_dict(lora_state_dict, strict=False)\n",
    "model.classifier.load_state_dict(checkpoint[\"classifier\"])\n",
    "model.linear_projection.load_state_dict(checkpoint[\"projection\"])\n",
    "\n",
    "model.eval()\n",
    "\n",
    "from transformers import AutoModelForCausalLM, AutoTokenizer\n",
    "\n",
    "model_name = \"unsloth/Llama-3.1-8B-unsloth-bnb-4bit\"\n",
    "#best_model_path = \"/content/drive/MyDrive/TFM/exp(Llama-3.1-8B-bnb-4bit)_LoRA_best_model_1 (1).pth\"\n",
    "best_model_path = \"Models/exp(Llama-3.1-8B-bnb-4bit)_LoRA_best_model_150_val_loss.pth\"\n",
    "\n",
    "tokenizer = AutoTokenizer.from_pretrained(model_name)\n",
    "\n",
    "params = {'batch_size': 128, 'shuffle': True, 'num_workers': 0}\n",
    "test_loader = inicialize_loader_test(df_test_IR, tokenizer, device, params)\n",
    "\n",
    "test_metrics, cm = evaluate_test(model, test_loader, best_model_path, show_cm=True)"
   ]
  },
  {
   "cell_type": "markdown",
   "metadata": {},
   "source": [
    "### ‼️ Definición de FEVER-Score\n",
    "---\n",
    "\n",
    "El esquema a seguir es el siguiente:\n",
    "> 1. Se parte de los dos test set [0R, IR]. \"OR\" hace referencia al test set cuyas evidencias proceden de FEVER. \"IR\" es el test set con las evidencias recueperadas del módulo IR.\n",
    "> 2. Se calculan las predicciones del IR test set.\n",
    "\n",
    "**Para los Claims [SUPPORTES, REFUSES]...**\n",
    "\n",
    "> 4. Se comparan las evidencias recuperadas en el IR test set con las del OR test set.\n",
    ">    - Caso de Claim con dos evidencias/OR: una de las dos evidencias OR debe coincidir con alguna de las evidencias recuperadas en IR\n",
    ">    - Caso de Claim con una evidencia/OR: una de las dos evidencias recuperadas en IR debe coincidir con la evidencia de OR.\n",
    "> 5. Según coincidencia/no coincidencia:\n",
    ">    - Si hay coincidencia y true_label = predicted_label; +1 en la métrica\n",
    ">    - Si hay coincidencia y true_label != predicted_label; +-0 en la métrica\n",
    ">    - Si no hay coincidencia; +-0 en la métrica (independientemente de la predicción)\n",
    "\n",
    "**Para los Claims [NOT ENOUGH INFO]...**\n",
    "> 5. Si true_label = predicted_label; +1 en la métrica. If not: +-0.\n",
    "\n",
    "A continuación, se implementan dos métricas. \n",
    "\n",
    "- FEVER Score + es más restrictiva.\n",
    "- FEVER Score es la originaria del paper, a nivel documental."
   ]
  },
  {
   "cell_type": "markdown",
   "metadata": {
    "jp-MarkdownHeadingCollapsed": true
   },
   "source": [
    "#### 1. Métrica FEVER Score+ (Documental). Esta métrica es más estricta que la utilizada en los modelos de FEVER\n",
    "---\n",
    "\n",
    "> Requisito en IR: en aquellos casos en los que haya dos evidencias en FEVER, ambas deben cumplir que similitud > 0.9 con las recuperadas.\n",
    ">\n",
    "> Esta métrica trabaja a nivel documental. En el estado del arte, y en la tarea oficial, FEVER score se aplica sobre embeddings a nivel de frase.\n",
    "\n",
    "*Se prueba sobre el modelo Llama3.1-8B*"
   ]
  },
  {
   "cell_type": "code",
   "execution_count": 28,
   "metadata": {},
   "outputs": [],
   "source": [
    "from sklearn.metrics.pairwise import cosine_similarity\n",
    "import numpy as np\n",
    "\n",
    "def embedding_ir_comparative(row_ir, row_or, k=2, sim_threshold=1):\n",
    "    retrieved_embs = row_ir['evidence'][:k]\n",
    "    gold_embs = row_or['evidence']\n",
    "\n",
    "    try:\n",
    "        if len(retrieved_embs) == 0 or len(gold_embs) == 0:\n",
    "            return None\n",
    "        retrieved_embs = np.vstack(retrieved_embs).astype(np.float32)\n",
    "        gold_embs = np.vstack(gold_embs).astype(np.float32)\n",
    "    except Exception:\n",
    "        return None\n",
    "\n",
    "    sims = cosine_similarity(gold_embs, retrieved_embs)\n",
    "    all_gold_covered = np.all(np.max(sims, axis=1) >= sim_threshold)\n",
    "\n",
    "    return int(all_gold_covered)\n",
    "\n",
    "\n",
    "def predict_labels(model, test_loader):\n",
    "    print(\"### Calculando predicciones...\")\n",
    "    model.eval()\n",
    "    predictions = []\n",
    "\n",
    "    with torch.no_grad():\n",
    "        for data in test_loader:\n",
    "            inputs_embeds = data['inputs_embeds'].to(device)\n",
    "            attention_mask = data['attention_mask'].to(device).to(torch.float32)\n",
    "\n",
    "            logits = model(inputs_embeds, attention_mask)\n",
    "            preds = torch.argmax(logits, dim=1)\n",
    "\n",
    "            predictions.extend(preds.cpu().numpy())\n",
    "\n",
    "    return predictions"
   ]
  },
  {
   "cell_type": "code",
   "execution_count": 27,
   "metadata": {},
   "outputs": [
    {
     "name": "stdout",
     "output_type": "stream",
     "text": [
      "==((====))==  Unsloth 2025.6.2: Fast Llama patching. Transformers: 4.52.4.\n",
      "   \\\\   /|    NVIDIA A40. Num GPUs = 1. Max memory: 44.352 GB. Platform: Linux.\n",
      "O^O/ \\_/ \\    Torch: 2.6.0+cu124. CUDA: 8.6. CUDA Toolkit: 12.4. Triton: 3.2.0\n",
      "\\        /    Bfloat16 = TRUE. FA [Xformers = 0.0.29.post3. FA2 = False]\n",
      " \"-____-\"     Free license: http://github.com/unslothai/unsloth\n",
      "Unsloth: Fast downloading is enabled - ignore downloading bars which are red colored!\n",
      "### Cargando datos\n",
      "### Calculando predicciones...\n",
      "Total filas: 9998\n",
      "Total filas evaluadas (incluyendo NEI): 9916\n",
      "FEVER Score: 0.6503\n"
     ]
    }
   ],
   "source": [
    "import torch\n",
    "from unsloth import FastLanguageModel\n",
    "import torch.nn.functional as F\n",
    "from transformers import AutoModelForCausalLM, AutoTokenizer\n",
    "\n",
    "\n",
    "df_test_IR = pd.read_json(\"testSet_default_faiss.jsonl\", lines=True)\n",
    "df_test_OR = pd.read_json(\"../data/e_test_distractors_LoRA_split.jsonl\", lines=True)\n",
    "\n",
    "df_test_IR.rename(columns={\"evidences\": \"evidence\"}, inplace=True)\n",
    "########################################################################################\n",
    "import torch\n",
    "from unsloth import FastLanguageModel\n",
    "import torch.nn.functional as F\n",
    "\n",
    "\n",
    "# Parámetros\n",
    "decoder_name = \"unsloth/Llama-3.1-8B-unsloth-bnb-4bit\"\n",
    "emb_size = 4096\n",
    "r = 10\n",
    "lora_alpha = 64\n",
    "lora_dropout = 0.05\n",
    "weight_decay = 1e-5\n",
    "betas = (0.9, 0.95)\n",
    "lr = 6e-4\n",
    "num_classes = 3\n",
    "\n",
    "model_path = \"Models/exp(Llama-3.1-8B-bnb-4bit)_LoRA_best_model_150.pth\"\n",
    "\n",
    "# Modelo y optimizador con builder\n",
    "model, optimizer = model_builder(\n",
    "    decoder_name=decoder_name,\n",
    "    emb_size=emb_size,\n",
    "    lr=lr,\n",
    "    r=r,\n",
    "    lora_alpha=lora_alpha,\n",
    "    lora_dropout=lora_dropout,\n",
    "    weight_decay=weight_decay,\n",
    "    betas=betas,\n",
    ")\n",
    "\n",
    "model = model.to(device)\n",
    "\n",
    "def filter_state_dict(state_dict, model):\n",
    "    model_keys = set(model.state_dict().keys())\n",
    "    filtered_dict = {k: v for k, v in state_dict.items() if k in model_keys}\n",
    "    return filtered_dict\n",
    "\n",
    "checkpoint = torch.load(model_path, map_location=device)\n",
    "\n",
    "lora_state_dict = filter_state_dict(checkpoint[\"lora\"], model.decoder)\n",
    "model.decoder.load_state_dict(lora_state_dict, strict=False)\n",
    "model.classifier.load_state_dict(checkpoint[\"classifier\"])\n",
    "model.linear_projection.load_state_dict(checkpoint[\"projection\"])\n",
    "\n",
    "model.eval()\n",
    "\n",
    "model_name = \"unsloth/Llama-3.1-8B-bnb-4bit\"\n",
    "best_model_path = \"Models/exp(Llama-3.1-8B-bnb-4bit)_LoRA_best_model_150.pth\"\n",
    "\n",
    "tokenizer = AutoTokenizer.from_pretrained(model_name)\n",
    "\n",
    "params = {'batch_size': 128, 'shuffle': False, 'num_workers': 0}\n",
    "\n",
    "### Datos\n",
    "print(\"### Cargando datos\")\n",
    "test_loader = inicialize_loader_test(df_test_IR, tokenizer, device, params)\n",
    "\n",
    "########################################################################################\n",
    "preds = predict_labels(model, test_loader)\n",
    "df_test_IR[\"predicted_label_code\"] = preds\n",
    "\n",
    "# Codificación\n",
    "label_to_code = {\n",
    "    \"SUPPORTS\": 0,\n",
    "    \"REFUTES\": 1,\n",
    "    \"NOT ENOUGH INFO\": 2\n",
    "}\n",
    "code_to_label = {v: k for k, v in label_to_code.items()}\n",
    "\n",
    "df_test_OR = df_test_OR.rename(columns={\"label\": \"true_label\"})\n",
    "df_test_OR[\"true_label_code\"] = df_test_OR[\"true_label\"].map(label_to_code)\n",
    "\n",
    "df_test_IR = df_test_IR.rename(columns={\"label\": \"true_label\"})\n",
    "df_test_IR[\"true_label_code\"] = df_test_IR[\"true_label\"].map(label_to_code)\n",
    "\n",
    "df_test_IR[\"predicted_label\"] = df_test_IR[\"predicted_label_code\"].map(code_to_label)\n",
    "########################################################################################\n",
    "\n",
    "total_filas = len(df_test_IR)\n",
    "\n",
    "count_ones = 0\n",
    "count_zeros = 0\n",
    "score = 0\n",
    "total_evaluated = 0\n",
    "\n",
    "for i in range(total_filas):\n",
    "    row_ir = df_test_IR.iloc[i]\n",
    "    row_or = df_test_OR.iloc[i]\n",
    "\n",
    "    # evidence es vacía (NEI)\n",
    "    if len(row_or['evidence']) == 0:\n",
    "        # comparacion de etiquetas\n",
    "        total_evaluated += 1\n",
    "        if row_ir['predicted_label_code'] == row_or['true_label_code']:\n",
    "            score += 1\n",
    "        continue\n",
    "\n",
    "    # Si evidence NO es vacía = aplicamos la función de similitud\n",
    "    match = embedding_ir_comparative(row_ir, row_or, k=2, sim_threshold=1)\n",
    "\n",
    "    if match is None:\n",
    "        continue\n",
    "\n",
    "    total_evaluated += 1\n",
    "\n",
    "    if match == 1:\n",
    "        count_ones += 1\n",
    "        # Comparamos etiquetas solo si match = 1\n",
    "        if row_ir['predicted_label_code'] == row_or['true_label_code']:\n",
    "            score += 1\n",
    "    else:\n",
    "        count_zeros += 1\n",
    "\n",
    "metric = score / total_evaluated if total_evaluated > 0 else 0\n",
    "\n",
    "print(f\"Total filas: {total_filas}\")\n",
    "print(f\"Total filas evaluadas (incluyendo NEI): {total_evaluated}\")\n",
    "print(f\"FEVER Score: {metric:.4f}\")"
   ]
  },
  {
   "cell_type": "markdown",
   "metadata": {
    "jp-MarkdownHeadingCollapsed": true
   },
   "source": [
    "#### 2. **Métrica FEVER Score (Documental) del Paper Original de FEVER**\n",
    "---\n",
    "> Paper: The Fact Extraction and VERification (FEVER) Shared Task - https://arxiv.org/pdf/1811.10971\n",
    "\n",
    "> Code: https://github.com/sheffieldnlp/fever-scorer\n",
    "\n",
    "> Esta métrica trabaja a nivel documental. En el estado del arte, y en la tarea oficial, FEVER score se aplica sobre embeddings a nivel de frase.\n",
    "\n",
    "*Se prueba sobre el modelo Llama3.1-8B*"
   ]
  },
  {
   "cell_type": "code",
   "execution_count": 22,
   "metadata": {},
   "outputs": [],
   "source": [
    "from sklearn.metrics.pairwise import cosine_similarity\n",
    "import numpy as np\n",
    "\n",
    "def embedding_ir_comparative(row_ir, row_or, k=2, sim_threshold=1):\n",
    "    retrieved_embs = row_ir['evidence'][:k]\n",
    "    gold_embs = row_or['evidence']\n",
    "\n",
    "    try:\n",
    "        if len(retrieved_embs) == 0 or len(gold_embs) == 0:\n",
    "            # Caso NEI o evidencia vacía\n",
    "            return None\n",
    "        retrieved_embs = np.vstack(retrieved_embs).astype(np.float32)\n",
    "        gold_embs = np.vstack(gold_embs).astype(np.float32)\n",
    "    except Exception:\n",
    "        return None\n",
    "\n",
    "    sims = cosine_similarity(retrieved_embs, gold_embs)\n",
    "    max_sim = np.max(sims)\n",
    "\n",
    "    return int(max_sim >= sim_threshold)\n",
    "\n",
    "def predict_labels(model, test_loader):\n",
    "    print(\"### Calculando predicciones...\")\n",
    "    model.eval()\n",
    "    predictions = []\n",
    "\n",
    "    with torch.no_grad():\n",
    "        for data in test_loader:\n",
    "            inputs_embeds = data['inputs_embeds'].to(device)\n",
    "            attention_mask = data['attention_mask'].to(device).to(torch.float32)\n",
    "\n",
    "            logits = model(inputs_embeds, attention_mask)\n",
    "            preds = torch.argmax(logits, dim=1)\n",
    "\n",
    "            predictions.extend(preds.cpu().numpy())\n",
    "\n",
    "    return predictions"
   ]
  },
  {
   "cell_type": "code",
   "execution_count": 23,
   "metadata": {},
   "outputs": [
    {
     "name": "stdout",
     "output_type": "stream",
     "text": [
      "==((====))==  Unsloth 2025.6.2: Fast Llama patching. Transformers: 4.52.4.\n",
      "   \\\\   /|    NVIDIA A40. Num GPUs = 1. Max memory: 44.352 GB. Platform: Linux.\n",
      "O^O/ \\_/ \\    Torch: 2.6.0+cu124. CUDA: 8.6. CUDA Toolkit: 12.4. Triton: 3.2.0\n",
      "\\        /    Bfloat16 = TRUE. FA [Xformers = 0.0.29.post3. FA2 = False]\n",
      " \"-____-\"     Free license: http://github.com/unslothai/unsloth\n",
      "Unsloth: Fast downloading is enabled - ignore downloading bars which are red colored!\n",
      "### Cargando datos\n",
      "### Calculando predicciones...\n",
      "Total filas: 9998\n",
      "Total filas evaluadas (incluyendo NEI): 9916\n",
      "FEVER Score: 0.6734\n"
     ]
    }
   ],
   "source": [
    "import torch\n",
    "from unsloth import FastLanguageModel\n",
    "import torch.nn.functional as F\n",
    "from transformers import AutoModelForCausalLM, AutoTokenizer\n",
    "\n",
    "\n",
    "df_test_IR = pd.read_json(\"testSet_default_faiss.jsonl\", lines=True)\n",
    "df_test_OR = pd.read_json(\"../data/e_test_distractors_LoRA_split.jsonl\", lines=True)\n",
    "\n",
    "df_test_IR.rename(columns={\"evidences\": \"evidence\"}, inplace=True)\n",
    "########################################################################################\n",
    "import torch\n",
    "from unsloth import FastLanguageModel\n",
    "import torch.nn.functional as F\n",
    "\n",
    "\n",
    "# Parámetros\n",
    "decoder_name = \"unsloth/Llama-3.1-8B-unsloth-bnb-4bit\"\n",
    "emb_size = 4096\n",
    "r = 10\n",
    "lora_alpha = 64\n",
    "lora_dropout = 0.05\n",
    "weight_decay = 1e-5\n",
    "betas = (0.9, 0.95)\n",
    "lr = 6e-4\n",
    "num_classes = 3\n",
    "\n",
    "model_path = \"Models/exp(Llama-3.1-8B-bnb-4bit)_LoRA_best_model_150.pth\"\n",
    "\n",
    "# Modelo y optimizador con builder\n",
    "model, optimizer = model_builder(\n",
    "    decoder_name=decoder_name,\n",
    "    emb_size=emb_size,\n",
    "    lr=lr,\n",
    "    r=r,\n",
    "    lora_alpha=lora_alpha,\n",
    "    lora_dropout=lora_dropout,\n",
    "    weight_decay=weight_decay,\n",
    "    betas=betas,\n",
    ")\n",
    "\n",
    "model = model.to(device)\n",
    "\n",
    "def filter_state_dict(state_dict, model):\n",
    "    model_keys = set(model.state_dict().keys())\n",
    "    filtered_dict = {k: v for k, v in state_dict.items() if k in model_keys}\n",
    "    return filtered_dict\n",
    "\n",
    "checkpoint = torch.load(model_path, map_location=device)\n",
    "\n",
    "lora_state_dict = filter_state_dict(checkpoint[\"lora\"], model.decoder)\n",
    "model.decoder.load_state_dict(lora_state_dict, strict=False)\n",
    "model.classifier.load_state_dict(checkpoint[\"classifier\"])\n",
    "model.linear_projection.load_state_dict(checkpoint[\"projection\"])\n",
    "\n",
    "model.eval()\n",
    "\n",
    "model_name = \"unsloth/Llama-3.1-8B-bnb-4bit\"\n",
    "best_model_path = \"Models/exp(Llama-3.1-8B-bnb-4bit)_LoRA_best_model_150.pth\"\n",
    "\n",
    "tokenizer = AutoTokenizer.from_pretrained(model_name)\n",
    "\n",
    "params = {'batch_size': 128, 'shuffle': False, 'num_workers': 0}\n",
    "\n",
    "### Datos\n",
    "print(\"### Cargando datos\")\n",
    "test_loader = inicialize_loader_test(df_test_IR, tokenizer, device, params)\n",
    "\n",
    "########################################################################################\n",
    "preds = predict_labels(model, test_loader)\n",
    "df_test_IR[\"predicted_label_code\"] = preds\n",
    "\n",
    "# Codificación\n",
    "label_to_code = {\n",
    "    \"SUPPORTS\": 0,\n",
    "    \"REFUTES\": 1,\n",
    "    \"NOT ENOUGH INFO\": 2\n",
    "}\n",
    "code_to_label = {v: k for k, v in label_to_code.items()}\n",
    "\n",
    "df_test_OR = df_test_OR.rename(columns={\"label\": \"true_label\"})\n",
    "df_test_OR[\"true_label_code\"] = df_test_OR[\"true_label\"].map(label_to_code)\n",
    "\n",
    "df_test_IR = df_test_IR.rename(columns={\"label\": \"true_label\"})\n",
    "df_test_IR[\"true_label_code\"] = df_test_IR[\"true_label\"].map(label_to_code)\n",
    "\n",
    "df_test_IR[\"predicted_label\"] = df_test_IR[\"predicted_label_code\"].map(code_to_label)\n",
    "########################################################################################\n",
    "\n",
    "total_filas = len(df_test_IR)\n",
    "\n",
    "count_ones = 0\n",
    "count_zeros = 0\n",
    "score = 0\n",
    "total_evaluated = 0\n",
    "\n",
    "for i in range(total_filas):\n",
    "    row_ir = df_test_IR.iloc[i]\n",
    "    row_or = df_test_OR.iloc[i]\n",
    "\n",
    "    # evidence es vacía (NEI)\n",
    "    if len(row_or['evidence']) == 0:\n",
    "        # comparacion de etiquetas\n",
    "        total_evaluated += 1\n",
    "        if row_ir['predicted_label_code'] == row_or['true_label_code']:\n",
    "            score += 1\n",
    "        continue\n",
    "\n",
    "    # Si evidence NO es vacía = aplicamos la función de similitud\n",
    "    match = embedding_ir_comparative(row_ir, row_or, k=2, sim_threshold=1)\n",
    "\n",
    "    if match is None:\n",
    "        continue\n",
    "\n",
    "    total_evaluated += 1\n",
    "\n",
    "    if match == 1:\n",
    "        count_ones += 1\n",
    "        # Comparamos etiquetas solo si match = 1\n",
    "        if row_ir['predicted_label_code'] == row_or['true_label_code']:\n",
    "            score += 1\n",
    "    else:\n",
    "        count_zeros += 1\n",
    "\n",
    "metric = score / total_evaluated if total_evaluated > 0 else 0\n",
    "\n",
    "print(f\"Total filas: {total_filas}\")\n",
    "print(f\"Total filas evaluadas (incluyendo NEI): {total_evaluated}\")\n",
    "print(f\"FEVER Score: {metric:.4f}\")"
   ]
  },
  {
   "cell_type": "markdown",
   "metadata": {
    "jp-MarkdownHeadingCollapsed": true
   },
   "source": [
    "### **Evaluación FEVER Score de las 3 arquitecturas**\n",
    "---"
   ]
  },
  {
   "cell_type": "code",
   "execution_count": 39,
   "metadata": {},
   "outputs": [],
   "source": [
    "from sklearn.metrics.pairwise import cosine_similarity\n",
    "import numpy as np\n",
    "\n",
    "def embedding_ir_comparative(row_ir, row_or, k=2, sim_threshold=1):\n",
    "    retrieved_embs = row_ir['evidence'][:k]\n",
    "    gold_embs = row_or['evidence']\n",
    "\n",
    "    try:\n",
    "        if len(retrieved_embs) == 0 or len(gold_embs) == 0:\n",
    "            # Caso NEI o evidencia vacía\n",
    "            return None\n",
    "        retrieved_embs = np.vstack(retrieved_embs).astype(np.float32)\n",
    "        gold_embs = np.vstack(gold_embs).astype(np.float32)\n",
    "    except Exception:\n",
    "        return None\n",
    "\n",
    "    sims = cosine_similarity(retrieved_embs, gold_embs)\n",
    "    max_sim = np.max(sims)\n",
    "\n",
    "    return int(max_sim >= sim_threshold)\n",
    "\n",
    "def predict_labels(model, test_loader):\n",
    "    print(\"### Calculando predicciones...\")\n",
    "    model.eval()\n",
    "    predictions = []\n",
    "\n",
    "    with torch.no_grad():\n",
    "        for data in test_loader:\n",
    "            inputs_embeds = data['inputs_embeds'].to(device)\n",
    "            attention_mask = data['attention_mask'].to(device).to(torch.float32)\n",
    "\n",
    "            logits = model(inputs_embeds, attention_mask)\n",
    "            preds = torch.argmax(logits, dim=1)\n",
    "\n",
    "            predictions.extend(preds.cpu().numpy())\n",
    "\n",
    "    return predictions"
   ]
  },
  {
   "cell_type": "markdown",
   "metadata": {
    "jp-MarkdownHeadingCollapsed": true
   },
   "source": [
    "#### **Llama3.2-1B**"
   ]
  },
  {
   "cell_type": "code",
   "execution_count": 37,
   "metadata": {},
   "outputs": [
    {
     "name": "stdout",
     "output_type": "stream",
     "text": [
      "==((====))==  Unsloth 2025.6.2: Fast Llama patching. Transformers: 4.52.4.\n",
      "   \\\\   /|    NVIDIA A40. Num GPUs = 1. Max memory: 44.352 GB. Platform: Linux.\n",
      "O^O/ \\_/ \\    Torch: 2.6.0+cu124. CUDA: 8.6. CUDA Toolkit: 12.4. Triton: 3.2.0\n",
      "\\        /    Bfloat16 = TRUE. FA [Xformers = 0.0.29.post3. FA2 = False]\n",
      " \"-____-\"     Free license: http://github.com/unslothai/unsloth\n",
      "Unsloth: Fast downloading is enabled - ignore downloading bars which are red colored!\n",
      "### Cargando datos\n",
      "### Calculando predicciones...\n",
      "Total filas: 9998\n",
      "Total filas evaluadas (incluyendo NEI): 9916\n",
      "FEVER Score: 0.6350\n"
     ]
    }
   ],
   "source": [
    "import torch\n",
    "from unsloth import FastLanguageModel\n",
    "import torch.nn.functional as F\n",
    "from transformers import AutoModelForCausalLM, AutoTokenizer\n",
    "\n",
    "\n",
    "df_test_IR = pd.read_json(\"testSet_default_faiss.jsonl\", lines=True)\n",
    "df_test_OR = pd.read_json(\"../data/e_test_distractors_LoRA_split.jsonl\", lines=True)\n",
    "\n",
    "df_test_IR.rename(columns={\"evidences\": \"evidence\"}, inplace=True)\n",
    "########################################################################################\n",
    "import torch\n",
    "from unsloth import FastLanguageModel\n",
    "import torch.nn.functional as F\n",
    "\n",
    "\n",
    "# Parámetros\n",
    "decoder_name = \"unsloth/Llama-3.2-1B-bnb-4bit\"\n",
    "emb_size = 2048\n",
    "r = 4\n",
    "lora_alpha = 16\n",
    "lora_dropout = 0.1\n",
    "weight_decay = 0.07\n",
    "betas = (0.9, 0.95)\n",
    "lr = 3e-4\n",
    "num_classes = 3\n",
    "\n",
    "model_path = \"Models/exp(Llama-3.2-1B-bnb-4bit)_LoRA_best_model_1.pth\"\n",
    "\n",
    "# Modelo y optimizador con builder\n",
    "model, optimizer = model_builder(\n",
    "    decoder_name=decoder_name,\n",
    "    emb_size=emb_size,\n",
    "    lr=lr,\n",
    "    r=r,\n",
    "    lora_alpha=lora_alpha,\n",
    "    lora_dropout=lora_dropout,\n",
    "    weight_decay=weight_decay,\n",
    "    betas=betas,\n",
    ")\n",
    "\n",
    "model = model.to(device)\n",
    "\n",
    "def filter_state_dict(state_dict, model):\n",
    "    model_keys = set(model.state_dict().keys())\n",
    "    filtered_dict = {k: v for k, v in state_dict.items() if k in model_keys}\n",
    "    return filtered_dict\n",
    "\n",
    "checkpoint = torch.load(model_path, map_location=device)\n",
    "\n",
    "lora_state_dict = filter_state_dict(checkpoint[\"lora\"], model.decoder)\n",
    "model.decoder.load_state_dict(lora_state_dict, strict=False)\n",
    "model.classifier.load_state_dict(checkpoint[\"classifier\"])\n",
    "model.linear_projection.load_state_dict(checkpoint[\"projection\"])\n",
    "\n",
    "model.eval()\n",
    "\n",
    "model_name = \"unsloth/Llama-3.2-1B-bnb-4bit\"\n",
    "model_path = \"Models/exp(Llama-3.2-1B-bnb-4bit)_LoRA_best_model_1.pth\"\n",
    "\n",
    "tokenizer = AutoTokenizer.from_pretrained(model_name)\n",
    "\n",
    "params = {'batch_size': 128, 'shuffle': False, 'num_workers': 0}\n",
    "\n",
    "### Datos\n",
    "print(\"### Cargando datos\")\n",
    "test_loader = inicialize_loader_test(df_test_IR, tokenizer, device, params)\n",
    "\n",
    "########################################################################################\n",
    "preds = predict_labels(model, test_loader)\n",
    "df_test_IR[\"predicted_label_code\"] = preds\n",
    "\n",
    "# Codificación\n",
    "label_to_code = {\n",
    "    \"SUPPORTS\": 0,\n",
    "    \"REFUTES\": 1,\n",
    "    \"NOT ENOUGH INFO\": 2\n",
    "}\n",
    "code_to_label = {v: k for k, v in label_to_code.items()}\n",
    "\n",
    "df_test_OR = df_test_OR.rename(columns={\"label\": \"true_label\"})\n",
    "df_test_OR[\"true_label_code\"] = df_test_OR[\"true_label\"].map(label_to_code)\n",
    "\n",
    "df_test_IR = df_test_IR.rename(columns={\"label\": \"true_label\"})\n",
    "df_test_IR[\"true_label_code\"] = df_test_IR[\"true_label\"].map(label_to_code)\n",
    "\n",
    "df_test_IR[\"predicted_label\"] = df_test_IR[\"predicted_label_code\"].map(code_to_label)\n",
    "########################################################################################\n",
    "\n",
    "total_filas = len(df_test_IR)\n",
    "\n",
    "count_ones = 0\n",
    "count_zeros = 0\n",
    "score = 0\n",
    "total_evaluated = 0\n",
    "\n",
    "for i in range(total_filas):\n",
    "    row_ir = df_test_IR.iloc[i]\n",
    "    row_or = df_test_OR.iloc[i]\n",
    "\n",
    "    # evidence es vacía (NEI)\n",
    "    if len(row_or['evidence']) == 0:\n",
    "        # comparacion de etiquetas\n",
    "        total_evaluated += 1\n",
    "        if row_ir['predicted_label_code'] == row_or['true_label_code']:\n",
    "            score += 1\n",
    "        continue\n",
    "\n",
    "    # Si evidence NO es vacía = aplicamos la función de similitud\n",
    "    match = embedding_ir_comparative(row_ir, row_or, k=2, sim_threshold=1)\n",
    "\n",
    "    if match is None:\n",
    "        continue\n",
    "\n",
    "    total_evaluated += 1\n",
    "\n",
    "    if match == 1:\n",
    "        count_ones += 1\n",
    "        # Comparamos etiquetas solo si match = 1\n",
    "        if row_ir['predicted_label_code'] == row_or['true_label_code']:\n",
    "            score += 1\n",
    "    else:\n",
    "        count_zeros += 1\n",
    "\n",
    "metric = score / total_evaluated if total_evaluated > 0 else 0\n",
    "\n",
    "print(f\"Total filas: {total_filas}\")\n",
    "print(f\"Total filas evaluadas (incluyendo NEI): {total_evaluated}\")\n",
    "print(f\"FEVER Score: {metric:.4f}\")"
   ]
  },
  {
   "cell_type": "markdown",
   "metadata": {
    "jp-MarkdownHeadingCollapsed": true
   },
   "source": [
    "#### **Llama3.2-3B**"
   ]
  },
  {
   "cell_type": "code",
   "execution_count": 38,
   "metadata": {},
   "outputs": [
    {
     "name": "stdout",
     "output_type": "stream",
     "text": [
      "==((====))==  Unsloth 2025.6.2: Fast Llama patching. Transformers: 4.52.4.\n",
      "   \\\\   /|    NVIDIA A40. Num GPUs = 1. Max memory: 44.352 GB. Platform: Linux.\n",
      "O^O/ \\_/ \\    Torch: 2.6.0+cu124. CUDA: 8.6. CUDA Toolkit: 12.4. Triton: 3.2.0\n",
      "\\        /    Bfloat16 = TRUE. FA [Xformers = 0.0.29.post3. FA2 = False]\n",
      " \"-____-\"     Free license: http://github.com/unslothai/unsloth\n",
      "Unsloth: Fast downloading is enabled - ignore downloading bars which are red colored!\n",
      "### Cargando datos\n",
      "### Calculando predicciones...\n",
      "Total filas: 9998\n",
      "Total filas evaluadas (incluyendo NEI): 9916\n",
      "FEVER Score: 0.6579\n"
     ]
    }
   ],
   "source": [
    "import torch\n",
    "from unsloth import FastLanguageModel\n",
    "import torch.nn.functional as F\n",
    "from transformers import AutoModelForCausalLM, AutoTokenizer\n",
    "\n",
    "\n",
    "df_test_IR = pd.read_json(\"testSet_default_faiss.jsonl\", lines=True)\n",
    "df_test_OR = pd.read_json(\"../data/e_test_distractors_LoRA_split.jsonl\", lines=True)\n",
    "\n",
    "df_test_IR.rename(columns={\"evidences\": \"evidence\"}, inplace=True)\n",
    "########################################################################################\n",
    "import torch\n",
    "from unsloth import FastLanguageModel\n",
    "import torch.nn.functional as F\n",
    "\n",
    "\n",
    "# Parámetros\n",
    "decoder_name = \"unsloth/Llama-3.2-3B-bnb-4bit\"\n",
    "emb_size = 3072\n",
    "r = 8\n",
    "lora_alpha = 32\n",
    "lora_dropout = 0.2\n",
    "weight_decay = 1e-4\n",
    "betas = (0.9, 0.95)\n",
    "lr = 3e-4\n",
    "num_classes = 3\n",
    "\n",
    "\n",
    "model_path = \"Models/exp(Llama-3.2-3B-bnb-4bit)_LoRA_best_model_5.pth\"\n",
    "\n",
    "# Modelo y optimizador con builder\n",
    "model, optimizer = model_builder(\n",
    "    decoder_name=decoder_name,\n",
    "    emb_size=emb_size,\n",
    "    lr=lr,\n",
    "    r=r,\n",
    "    lora_alpha=lora_alpha,\n",
    "    lora_dropout=lora_dropout,\n",
    "    weight_decay=weight_decay,\n",
    "    betas=betas,\n",
    ")\n",
    "\n",
    "model = model.to(device)\n",
    "\n",
    "def filter_state_dict(state_dict, model):\n",
    "    model_keys = set(model.state_dict().keys())\n",
    "    filtered_dict = {k: v for k, v in state_dict.items() if k in model_keys}\n",
    "    return filtered_dict\n",
    "\n",
    "checkpoint = torch.load(model_path, map_location=device)\n",
    "\n",
    "lora_state_dict = filter_state_dict(checkpoint[\"lora\"], model.decoder)\n",
    "model.decoder.load_state_dict(lora_state_dict, strict=False)\n",
    "model.classifier.load_state_dict(checkpoint[\"classifier\"])\n",
    "model.linear_projection.load_state_dict(checkpoint[\"projection\"])\n",
    "\n",
    "model.eval()\n",
    "\n",
    "model_name = \"unsloth/Llama-3.2-3B-bnb-4bit\"\n",
    "model_path = \"Models/exp(Llama-3.2-3B-bnb-4bit)_LoRA_best_model_5.pth\"\n",
    "\n",
    "tokenizer = AutoTokenizer.from_pretrained(model_name)\n",
    "\n",
    "params = {'batch_size': 128, 'shuffle': False, 'num_workers': 0}\n",
    "\n",
    "### Datos\n",
    "print(\"### Cargando datos\")\n",
    "test_loader = inicialize_loader_test(df_test_IR, tokenizer, device, params)\n",
    "\n",
    "########################################################################################\n",
    "preds = predict_labels(model, test_loader)\n",
    "df_test_IR[\"predicted_label_code\"] = preds\n",
    "\n",
    "# Codificación\n",
    "label_to_code = {\n",
    "    \"SUPPORTS\": 0,\n",
    "    \"REFUTES\": 1,\n",
    "    \"NOT ENOUGH INFO\": 2\n",
    "}\n",
    "code_to_label = {v: k for k, v in label_to_code.items()}\n",
    "\n",
    "df_test_OR = df_test_OR.rename(columns={\"label\": \"true_label\"})\n",
    "df_test_OR[\"true_label_code\"] = df_test_OR[\"true_label\"].map(label_to_code)\n",
    "\n",
    "df_test_IR = df_test_IR.rename(columns={\"label\": \"true_label\"})\n",
    "df_test_IR[\"true_label_code\"] = df_test_IR[\"true_label\"].map(label_to_code)\n",
    "\n",
    "df_test_IR[\"predicted_label\"] = df_test_IR[\"predicted_label_code\"].map(code_to_label)\n",
    "########################################################################################\n",
    "\n",
    "total_filas = len(df_test_IR)\n",
    "\n",
    "count_ones = 0\n",
    "count_zeros = 0\n",
    "score = 0\n",
    "total_evaluated = 0\n",
    "\n",
    "for i in range(total_filas):\n",
    "    row_ir = df_test_IR.iloc[i]\n",
    "    row_or = df_test_OR.iloc[i]\n",
    "\n",
    "    # evidence es vacía (NEI)\n",
    "    if len(row_or['evidence']) == 0:\n",
    "        # comparacion de etiquetas\n",
    "        total_evaluated += 1\n",
    "        if row_ir['predicted_label_code'] == row_or['true_label_code']:\n",
    "            score += 1\n",
    "        continue\n",
    "\n",
    "    # Si evidence NO es vacía = aplicamos la función de similitud\n",
    "    match = embedding_ir_comparative(row_ir, row_or, k=2, sim_threshold=1)\n",
    "\n",
    "    if match is None:\n",
    "        continue\n",
    "\n",
    "    total_evaluated += 1\n",
    "\n",
    "    if match == 1:\n",
    "        count_ones += 1\n",
    "        # Comparamos etiquetas solo si match = 1\n",
    "        if row_ir['predicted_label_code'] == row_or['true_label_code']:\n",
    "            score += 1\n",
    "    else:\n",
    "        count_zeros += 1\n",
    "\n",
    "metric = score / total_evaluated if total_evaluated > 0 else 0\n",
    "\n",
    "print(f\"Total filas: {total_filas}\")\n",
    "print(f\"Total filas evaluadas (incluyendo NEI): {total_evaluated}\")\n",
    "print(f\"FEVER Score: {metric:.4f}\")"
   ]
  },
  {
   "cell_type": "markdown",
   "metadata": {
    "jp-MarkdownHeadingCollapsed": true
   },
   "source": [
    "#### **Llama3.1-8B**"
   ]
  },
  {
   "cell_type": "code",
   "execution_count": 35,
   "metadata": {},
   "outputs": [
    {
     "name": "stdout",
     "output_type": "stream",
     "text": [
      "==((====))==  Unsloth 2025.6.2: Fast Llama patching. Transformers: 4.52.4.\n",
      "   \\\\   /|    NVIDIA A40. Num GPUs = 1. Max memory: 44.352 GB. Platform: Linux.\n",
      "O^O/ \\_/ \\    Torch: 2.6.0+cu124. CUDA: 8.6. CUDA Toolkit: 12.4. Triton: 3.2.0\n",
      "\\        /    Bfloat16 = TRUE. FA [Xformers = 0.0.29.post3. FA2 = False]\n",
      " \"-____-\"     Free license: http://github.com/unslothai/unsloth\n",
      "Unsloth: Fast downloading is enabled - ignore downloading bars which are red colored!\n",
      "### Cargando datos\n",
      "### Calculando predicciones...\n",
      "Total filas: 9998\n",
      "Total filas evaluadas (incluyendo NEI): 9916\n",
      "FEVER Score: 0.6734\n"
     ]
    }
   ],
   "source": [
    "import torch\n",
    "from unsloth import FastLanguageModel\n",
    "import torch.nn.functional as F\n",
    "from transformers import AutoModelForCausalLM, AutoTokenizer\n",
    "\n",
    "\n",
    "df_test_IR = pd.read_json(\"testSet_default_faiss.jsonl\", lines=True)\n",
    "df_test_OR = pd.read_json(\"../data/e_test_distractors_LoRA_split.jsonl\", lines=True)\n",
    "\n",
    "df_test_IR.rename(columns={\"evidences\": \"evidence\"}, inplace=True)\n",
    "########################################################################################\n",
    "import torch\n",
    "from unsloth import FastLanguageModel\n",
    "import torch.nn.functional as F\n",
    "\n",
    "\n",
    "# Parámetros\n",
    "decoder_name = \"unsloth/Llama-3.1-8B-unsloth-bnb-4bit\"\n",
    "emb_size = 4096\n",
    "r = 10\n",
    "lora_alpha = 64\n",
    "lora_dropout = 0.05\n",
    "weight_decay = 1e-5\n",
    "betas = (0.9, 0.95)\n",
    "lr = 6e-4\n",
    "num_classes = 3\n",
    "\n",
    "model_path = \"Models/exp(Llama-3.1-8B-bnb-4bit)_LoRA_best_model_150.pth\"\n",
    "\n",
    "# Modelo y optimizador con builder\n",
    "model, optimizer = model_builder(\n",
    "    decoder_name=decoder_name,\n",
    "    emb_size=emb_size,\n",
    "    lr=lr,\n",
    "    r=r,\n",
    "    lora_alpha=lora_alpha,\n",
    "    lora_dropout=lora_dropout,\n",
    "    weight_decay=weight_decay,\n",
    "    betas=betas,\n",
    ")\n",
    "\n",
    "model = model.to(device)\n",
    "\n",
    "def filter_state_dict(state_dict, model):\n",
    "    model_keys = set(model.state_dict().keys())\n",
    "    filtered_dict = {k: v for k, v in state_dict.items() if k in model_keys}\n",
    "    return filtered_dict\n",
    "\n",
    "checkpoint = torch.load(model_path, map_location=device)\n",
    "\n",
    "lora_state_dict = filter_state_dict(checkpoint[\"lora\"], model.decoder)\n",
    "model.decoder.load_state_dict(lora_state_dict, strict=False)\n",
    "model.classifier.load_state_dict(checkpoint[\"classifier\"])\n",
    "model.linear_projection.load_state_dict(checkpoint[\"projection\"])\n",
    "\n",
    "model.eval()\n",
    "\n",
    "model_name = \"unsloth/Llama-3.1-8B-bnb-4bit\"\n",
    "best_model_path = \"Models/exp(Llama-3.1-8B-bnb-4bit)_LoRA_best_model_150.pth\"\n",
    "\n",
    "tokenizer = AutoTokenizer.from_pretrained(model_name)\n",
    "\n",
    "params = {'batch_size': 128, 'shuffle': False, 'num_workers': 0}\n",
    "\n",
    "### Datos\n",
    "print(\"### Cargando datos\")\n",
    "test_loader = inicialize_loader_test(df_test_IR, tokenizer, device, params)\n",
    "\n",
    "########################################################################################\n",
    "preds = predict_labels(model, test_loader)\n",
    "df_test_IR[\"predicted_label_code\"] = preds\n",
    "\n",
    "# Codificación\n",
    "label_to_code = {\n",
    "    \"SUPPORTS\": 0,\n",
    "    \"REFUTES\": 1,\n",
    "    \"NOT ENOUGH INFO\": 2\n",
    "}\n",
    "code_to_label = {v: k for k, v in label_to_code.items()}\n",
    "\n",
    "df_test_OR = df_test_OR.rename(columns={\"label\": \"true_label\"})\n",
    "df_test_OR[\"true_label_code\"] = df_test_OR[\"true_label\"].map(label_to_code)\n",
    "\n",
    "df_test_IR = df_test_IR.rename(columns={\"label\": \"true_label\"})\n",
    "df_test_IR[\"true_label_code\"] = df_test_IR[\"true_label\"].map(label_to_code)\n",
    "\n",
    "df_test_IR[\"predicted_label\"] = df_test_IR[\"predicted_label_code\"].map(code_to_label)\n",
    "########################################################################################\n",
    "\n",
    "total_filas = len(df_test_IR)\n",
    "\n",
    "count_ones = 0\n",
    "count_zeros = 0\n",
    "score = 0\n",
    "total_evaluated = 0\n",
    "\n",
    "for i in range(total_filas):\n",
    "    row_ir = df_test_IR.iloc[i]\n",
    "    row_or = df_test_OR.iloc[i]\n",
    "\n",
    "    # evidence es vacía (NEI)\n",
    "    if len(row_or['evidence']) == 0:\n",
    "        # comparacion de etiquetas\n",
    "        total_evaluated += 1\n",
    "        if row_ir['predicted_label_code'] == row_or['true_label_code']:\n",
    "            score += 1\n",
    "        continue\n",
    "\n",
    "    # Si evidence NO es vacía = aplicamos la función de similitud\n",
    "    match = embedding_ir_comparative(row_ir, row_or, k=2, sim_threshold=1)\n",
    "\n",
    "    if match is None:\n",
    "        continue\n",
    "\n",
    "    total_evaluated += 1\n",
    "\n",
    "    if match == 1:\n",
    "        count_ones += 1\n",
    "        # Comparamos etiquetas solo si match = 1\n",
    "        if row_ir['predicted_label_code'] == row_or['true_label_code']:\n",
    "            score += 1\n",
    "    else:\n",
    "        count_zeros += 1\n",
    "\n",
    "metric = score / total_evaluated if total_evaluated > 0 else 0\n",
    "\n",
    "print(f\"Total filas: {total_filas}\")\n",
    "print(f\"Total filas evaluadas (incluyendo NEI): {total_evaluated}\")\n",
    "print(f\"FEVER Score: {metric:.4f}\")"
   ]
  }
 ],
 "metadata": {
  "accelerator": "GPU",
  "colab": {
   "collapsed_sections": [
    "IWsJ6enU9qZk",
    "1-9kn97X7X04",
    "VjGKyGeW7kD6",
    "kFthyqsN8kdA",
    "GVd6ZHvvMAwt"
   ],
   "gpuType": "T4",
   "provenance": []
  },
  "kernelspec": {
   "display_name": "Python 3 (ipykernel)",
   "language": "python",
   "name": "python3"
  },
  "language_info": {
   "codemirror_mode": {
    "name": "ipython",
    "version": 3
   },
   "file_extension": ".py",
   "mimetype": "text/x-python",
   "name": "python",
   "nbconvert_exporter": "python",
   "pygments_lexer": "ipython3",
   "version": "3.11.10"
  },
  "widgets": {
   "application/vnd.jupyter.widget-state+json": {
    "06f800c0b60949e4ae68fa9e5ee298cf": {
     "model_module": "@jupyter-widgets/controls",
     "model_module_version": "1.5.0",
     "model_name": "HTMLModel",
     "state": {
      "_dom_classes": [],
      "_model_module": "@jupyter-widgets/controls",
      "_model_module_version": "1.5.0",
      "_model_name": "HTMLModel",
      "_view_count": null,
      "_view_module": "@jupyter-widgets/controls",
      "_view_module_version": "1.5.0",
      "_view_name": "HTMLView",
      "description": "",
      "description_tooltip": null,
      "layout": "IPY_MODEL_41005463a4404b78893c5af2040709f7",
      "placeholder": "​",
      "style": "IPY_MODEL_321609624ca0439086871bd818831262",
      "value": " 230/230 [00:00&lt;00:00, 11.0kB/s]"
     }
    },
    "135d89ee452a4bf492ac35b5f8f57fdc": {
     "model_module": "@jupyter-widgets/controls",
     "model_module_version": "1.5.0",
     "model_name": "DescriptionStyleModel",
     "state": {
      "_model_module": "@jupyter-widgets/controls",
      "_model_module_version": "1.5.0",
      "_model_name": "DescriptionStyleModel",
      "_view_count": null,
      "_view_module": "@jupyter-widgets/base",
      "_view_module_version": "1.2.0",
      "_view_name": "StyleView",
      "description_width": ""
     }
    },
    "22e9eec59fac416ea9bce41d4bcfbc2f": {
     "model_module": "@jupyter-widgets/controls",
     "model_module_version": "1.5.0",
     "model_name": "HBoxModel",
     "state": {
      "_dom_classes": [],
      "_model_module": "@jupyter-widgets/controls",
      "_model_module_version": "1.5.0",
      "_model_name": "HBoxModel",
      "_view_count": null,
      "_view_module": "@jupyter-widgets/controls",
      "_view_module_version": "1.5.0",
      "_view_name": "HBoxView",
      "box_style": "",
      "children": [
       "IPY_MODEL_4b0c9ef3ec0340e4b70a36e244641a89",
       "IPY_MODEL_6217e09adfcd42d7a86addacd624a141",
       "IPY_MODEL_53d49b9d1602419291e99a309ca2036e"
      ],
      "layout": "IPY_MODEL_9722e5184a1941f5ab67bdb73b8e8a65"
     }
    },
    "2722323b97904c89a2cd4eccef7ba40c": {
     "model_module": "@jupyter-widgets/controls",
     "model_module_version": "1.5.0",
     "model_name": "HTMLModel",
     "state": {
      "_dom_classes": [],
      "_model_module": "@jupyter-widgets/controls",
      "_model_module_version": "1.5.0",
      "_model_name": "HTMLModel",
      "_view_count": null,
      "_view_module": "@jupyter-widgets/controls",
      "_view_module_version": "1.5.0",
      "_view_name": "HTMLView",
      "description": "",
      "description_tooltip": null,
      "layout": "IPY_MODEL_8c0cb434c0f444bb83e8b82aa398ba41",
      "placeholder": "​",
      "style": "IPY_MODEL_cbb3c6784c994c54bf9c62adad3925cc",
      "value": " 459/459 [00:00&lt;00:00, 17.3kB/s]"
     }
    },
    "284f4dfbfb2741e1b25c82668dc16256": {
     "model_module": "@jupyter-widgets/controls",
     "model_module_version": "1.5.0",
     "model_name": "HTMLModel",
     "state": {
      "_dom_classes": [],
      "_model_module": "@jupyter-widgets/controls",
      "_model_module_version": "1.5.0",
      "_model_name": "HTMLModel",
      "_view_count": null,
      "_view_module": "@jupyter-widgets/controls",
      "_view_module_version": "1.5.0",
      "_view_name": "HTMLView",
      "description": "",
      "description_tooltip": null,
      "layout": "IPY_MODEL_4d8254194a2b4f08aa1d7f09acbdf687",
      "placeholder": "​",
      "style": "IPY_MODEL_7fdb18a46ffd469e9b688d676a158540",
      "value": "tokenizer_config.json: 100%"
     }
    },
    "3018b85e429d425ba2eda30f4d35c8b5": {
     "model_module": "@jupyter-widgets/base",
     "model_module_version": "1.2.0",
     "model_name": "LayoutModel",
     "state": {
      "_model_module": "@jupyter-widgets/base",
      "_model_module_version": "1.2.0",
      "_model_name": "LayoutModel",
      "_view_count": null,
      "_view_module": "@jupyter-widgets/base",
      "_view_module_version": "1.2.0",
      "_view_name": "LayoutView",
      "align_content": null,
      "align_items": null,
      "align_self": null,
      "border": null,
      "bottom": null,
      "display": null,
      "flex": null,
      "flex_flow": null,
      "grid_area": null,
      "grid_auto_columns": null,
      "grid_auto_flow": null,
      "grid_auto_rows": null,
      "grid_column": null,
      "grid_gap": null,
      "grid_row": null,
      "grid_template_areas": null,
      "grid_template_columns": null,
      "grid_template_rows": null,
      "height": null,
      "justify_content": null,
      "justify_items": null,
      "left": null,
      "margin": null,
      "max_height": null,
      "max_width": null,
      "min_height": null,
      "min_width": null,
      "object_fit": null,
      "object_position": null,
      "order": null,
      "overflow": null,
      "overflow_x": null,
      "overflow_y": null,
      "padding": null,
      "right": null,
      "top": null,
      "visibility": null,
      "width": null
     }
    },
    "31b407518d184f96b2752aabd076dea2": {
     "model_module": "@jupyter-widgets/base",
     "model_module_version": "1.2.0",
     "model_name": "LayoutModel",
     "state": {
      "_model_module": "@jupyter-widgets/base",
      "_model_module_version": "1.2.0",
      "_model_name": "LayoutModel",
      "_view_count": null,
      "_view_module": "@jupyter-widgets/base",
      "_view_module_version": "1.2.0",
      "_view_name": "LayoutView",
      "align_content": null,
      "align_items": null,
      "align_self": null,
      "border": null,
      "bottom": null,
      "display": null,
      "flex": null,
      "flex_flow": null,
      "grid_area": null,
      "grid_auto_columns": null,
      "grid_auto_flow": null,
      "grid_auto_rows": null,
      "grid_column": null,
      "grid_gap": null,
      "grid_row": null,
      "grid_template_areas": null,
      "grid_template_columns": null,
      "grid_template_rows": null,
      "height": null,
      "justify_content": null,
      "justify_items": null,
      "left": null,
      "margin": null,
      "max_height": null,
      "max_width": null,
      "min_height": null,
      "min_width": null,
      "object_fit": null,
      "object_position": null,
      "order": null,
      "overflow": null,
      "overflow_x": null,
      "overflow_y": null,
      "padding": null,
      "right": null,
      "top": null,
      "visibility": null,
      "width": null
     }
    },
    "321609624ca0439086871bd818831262": {
     "model_module": "@jupyter-widgets/controls",
     "model_module_version": "1.5.0",
     "model_name": "DescriptionStyleModel",
     "state": {
      "_model_module": "@jupyter-widgets/controls",
      "_model_module_version": "1.5.0",
      "_model_name": "DescriptionStyleModel",
      "_view_count": null,
      "_view_module": "@jupyter-widgets/base",
      "_view_module_version": "1.2.0",
      "_view_name": "StyleView",
      "description_width": ""
     }
    },
    "3708ceb70b9c4b8eadbb878d49909ae4": {
     "model_module": "@jupyter-widgets/controls",
     "model_module_version": "1.5.0",
     "model_name": "DescriptionStyleModel",
     "state": {
      "_model_module": "@jupyter-widgets/controls",
      "_model_module_version": "1.5.0",
      "_model_name": "DescriptionStyleModel",
      "_view_count": null,
      "_view_module": "@jupyter-widgets/base",
      "_view_module_version": "1.2.0",
      "_view_name": "StyleView",
      "description_width": ""
     }
    },
    "3f9dae1a754540209251ef2798082a89": {
     "model_module": "@jupyter-widgets/controls",
     "model_module_version": "1.5.0",
     "model_name": "HTMLModel",
     "state": {
      "_dom_classes": [],
      "_model_module": "@jupyter-widgets/controls",
      "_model_module_version": "1.5.0",
      "_model_name": "HTMLModel",
      "_view_count": null,
      "_view_module": "@jupyter-widgets/controls",
      "_view_module_version": "1.5.0",
      "_view_name": "HTMLView",
      "description": "",
      "description_tooltip": null,
      "layout": "IPY_MODEL_6f5d6e99206f489396be606249148845",
      "placeholder": "​",
      "style": "IPY_MODEL_3708ceb70b9c4b8eadbb878d49909ae4",
      "value": "generation_config.json: 100%"
     }
    },
    "41005463a4404b78893c5af2040709f7": {
     "model_module": "@jupyter-widgets/base",
     "model_module_version": "1.2.0",
     "model_name": "LayoutModel",
     "state": {
      "_model_module": "@jupyter-widgets/base",
      "_model_module_version": "1.2.0",
      "_model_name": "LayoutModel",
      "_view_count": null,
      "_view_module": "@jupyter-widgets/base",
      "_view_module_version": "1.2.0",
      "_view_name": "LayoutView",
      "align_content": null,
      "align_items": null,
      "align_self": null,
      "border": null,
      "bottom": null,
      "display": null,
      "flex": null,
      "flex_flow": null,
      "grid_area": null,
      "grid_auto_columns": null,
      "grid_auto_flow": null,
      "grid_auto_rows": null,
      "grid_column": null,
      "grid_gap": null,
      "grid_row": null,
      "grid_template_areas": null,
      "grid_template_columns": null,
      "grid_template_rows": null,
      "height": null,
      "justify_content": null,
      "justify_items": null,
      "left": null,
      "margin": null,
      "max_height": null,
      "max_width": null,
      "min_height": null,
      "min_width": null,
      "object_fit": null,
      "object_position": null,
      "order": null,
      "overflow": null,
      "overflow_x": null,
      "overflow_y": null,
      "padding": null,
      "right": null,
      "top": null,
      "visibility": null,
      "width": null
     }
    },
    "4511c41f23524ddabf7b0a1787f4a21e": {
     "model_module": "@jupyter-widgets/controls",
     "model_module_version": "1.5.0",
     "model_name": "FloatProgressModel",
     "state": {
      "_dom_classes": [],
      "_model_module": "@jupyter-widgets/controls",
      "_model_module_version": "1.5.0",
      "_model_name": "FloatProgressModel",
      "_view_count": null,
      "_view_module": "@jupyter-widgets/controls",
      "_view_module_version": "1.5.0",
      "_view_name": "ProgressView",
      "bar_style": "success",
      "description": "",
      "description_tooltip": null,
      "layout": "IPY_MODEL_c20e4e5d5fda49b385ac482ff2f5cf35",
      "max": 50646,
      "min": 0,
      "orientation": "horizontal",
      "style": "IPY_MODEL_9a493df32acd4f4286d59576e309395f",
      "value": 50646
     }
    },
    "46b8a2c0712f4795951588a985867b88": {
     "model_module": "@jupyter-widgets/controls",
     "model_module_version": "1.5.0",
     "model_name": "FloatProgressModel",
     "state": {
      "_dom_classes": [],
      "_model_module": "@jupyter-widgets/controls",
      "_model_module_version": "1.5.0",
      "_model_name": "FloatProgressModel",
      "_view_count": null,
      "_view_module": "@jupyter-widgets/controls",
      "_view_module_version": "1.5.0",
      "_view_name": "ProgressView",
      "bar_style": "success",
      "description": "",
      "description_tooltip": null,
      "layout": "IPY_MODEL_7754489bc3f146b5a3c047ccfc2f1cbb",
      "max": 17209920,
      "min": 0,
      "orientation": "horizontal",
      "style": "IPY_MODEL_90fbd6abcc4847d39a116bafe83bd03a",
      "value": 17209920
     }
    },
    "4a149b41cbc048cea9bdfb69f3b2b4fc": {
     "model_module": "@jupyter-widgets/base",
     "model_module_version": "1.2.0",
     "model_name": "LayoutModel",
     "state": {
      "_model_module": "@jupyter-widgets/base",
      "_model_module_version": "1.2.0",
      "_model_name": "LayoutModel",
      "_view_count": null,
      "_view_module": "@jupyter-widgets/base",
      "_view_module_version": "1.2.0",
      "_view_name": "LayoutView",
      "align_content": null,
      "align_items": null,
      "align_self": null,
      "border": null,
      "bottom": null,
      "display": null,
      "flex": null,
      "flex_flow": null,
      "grid_area": null,
      "grid_auto_columns": null,
      "grid_auto_flow": null,
      "grid_auto_rows": null,
      "grid_column": null,
      "grid_gap": null,
      "grid_row": null,
      "grid_template_areas": null,
      "grid_template_columns": null,
      "grid_template_rows": null,
      "height": null,
      "justify_content": null,
      "justify_items": null,
      "left": null,
      "margin": null,
      "max_height": null,
      "max_width": null,
      "min_height": null,
      "min_width": null,
      "object_fit": null,
      "object_position": null,
      "order": null,
      "overflow": null,
      "overflow_x": null,
      "overflow_y": null,
      "padding": null,
      "right": null,
      "top": null,
      "visibility": null,
      "width": null
     }
    },
    "4b0c9ef3ec0340e4b70a36e244641a89": {
     "model_module": "@jupyter-widgets/controls",
     "model_module_version": "1.5.0",
     "model_name": "HTMLModel",
     "state": {
      "_dom_classes": [],
      "_model_module": "@jupyter-widgets/controls",
      "_model_module_version": "1.5.0",
      "_model_name": "HTMLModel",
      "_view_count": null,
      "_view_module": "@jupyter-widgets/controls",
      "_view_module_version": "1.5.0",
      "_view_name": "HTMLView",
      "description": "",
      "description_tooltip": null,
      "layout": "IPY_MODEL_b10e239750da4bfd8d659fa925737b01",
      "placeholder": "​",
      "style": "IPY_MODEL_faea3e25629540e2852ef9769d8b74eb",
      "value": "model.safetensors: 100%"
     }
    },
    "4d8254194a2b4f08aa1d7f09acbdf687": {
     "model_module": "@jupyter-widgets/base",
     "model_module_version": "1.2.0",
     "model_name": "LayoutModel",
     "state": {
      "_model_module": "@jupyter-widgets/base",
      "_model_module_version": "1.2.0",
      "_model_name": "LayoutModel",
      "_view_count": null,
      "_view_module": "@jupyter-widgets/base",
      "_view_module_version": "1.2.0",
      "_view_name": "LayoutView",
      "align_content": null,
      "align_items": null,
      "align_self": null,
      "border": null,
      "bottom": null,
      "display": null,
      "flex": null,
      "flex_flow": null,
      "grid_area": null,
      "grid_auto_columns": null,
      "grid_auto_flow": null,
      "grid_auto_rows": null,
      "grid_column": null,
      "grid_gap": null,
      "grid_row": null,
      "grid_template_areas": null,
      "grid_template_columns": null,
      "grid_template_rows": null,
      "height": null,
      "justify_content": null,
      "justify_items": null,
      "left": null,
      "margin": null,
      "max_height": null,
      "max_width": null,
      "min_height": null,
      "min_width": null,
      "object_fit": null,
      "object_position": null,
      "order": null,
      "overflow": null,
      "overflow_x": null,
      "overflow_y": null,
      "padding": null,
      "right": null,
      "top": null,
      "visibility": null,
      "width": null
     }
    },
    "5295807c4e6346779fe9c50b1f9dde7c": {
     "model_module": "@jupyter-widgets/controls",
     "model_module_version": "1.5.0",
     "model_name": "HBoxModel",
     "state": {
      "_dom_classes": [],
      "_model_module": "@jupyter-widgets/controls",
      "_model_module_version": "1.5.0",
      "_model_name": "HBoxModel",
      "_view_count": null,
      "_view_module": "@jupyter-widgets/controls",
      "_view_module_version": "1.5.0",
      "_view_name": "HBoxView",
      "box_style": "",
      "children": [
       "IPY_MODEL_3f9dae1a754540209251ef2798082a89",
       "IPY_MODEL_659adba6b3dd4f24bfd06bba8f0e357c",
       "IPY_MODEL_06f800c0b60949e4ae68fa9e5ee298cf"
      ],
      "layout": "IPY_MODEL_cd92c220eb4c48d4b4fd16116ce851ce"
     }
    },
    "53d49b9d1602419291e99a309ca2036e": {
     "model_module": "@jupyter-widgets/controls",
     "model_module_version": "1.5.0",
     "model_name": "HTMLModel",
     "state": {
      "_dom_classes": [],
      "_model_module": "@jupyter-widgets/controls",
      "_model_module_version": "1.5.0",
      "_model_name": "HTMLModel",
      "_view_count": null,
      "_view_module": "@jupyter-widgets/controls",
      "_view_module_version": "1.5.0",
      "_view_name": "HTMLView",
      "description": "",
      "description_tooltip": null,
      "layout": "IPY_MODEL_31b407518d184f96b2752aabd076dea2",
      "placeholder": "​",
      "style": "IPY_MODEL_a001d6cf72aa41939b805edcad20813a",
      "value": " 1.03G/1.03G [00:04&lt;00:00, 233MB/s]"
     }
    },
    "6217e09adfcd42d7a86addacd624a141": {
     "model_module": "@jupyter-widgets/controls",
     "model_module_version": "1.5.0",
     "model_name": "FloatProgressModel",
     "state": {
      "_dom_classes": [],
      "_model_module": "@jupyter-widgets/controls",
      "_model_module_version": "1.5.0",
      "_model_name": "FloatProgressModel",
      "_view_count": null,
      "_view_module": "@jupyter-widgets/controls",
      "_view_module_version": "1.5.0",
      "_view_name": "ProgressView",
      "bar_style": "success",
      "description": "",
      "description_tooltip": null,
      "layout": "IPY_MODEL_6288df51f9614c0d90d03f3e883e2b5a",
      "max": 1027676732,
      "min": 0,
      "orientation": "horizontal",
      "style": "IPY_MODEL_906e52cfeeef427586e124a482ec5523",
      "value": 1027676732
     }
    },
    "6288df51f9614c0d90d03f3e883e2b5a": {
     "model_module": "@jupyter-widgets/base",
     "model_module_version": "1.2.0",
     "model_name": "LayoutModel",
     "state": {
      "_model_module": "@jupyter-widgets/base",
      "_model_module_version": "1.2.0",
      "_model_name": "LayoutModel",
      "_view_count": null,
      "_view_module": "@jupyter-widgets/base",
      "_view_module_version": "1.2.0",
      "_view_name": "LayoutView",
      "align_content": null,
      "align_items": null,
      "align_self": null,
      "border": null,
      "bottom": null,
      "display": null,
      "flex": null,
      "flex_flow": null,
      "grid_area": null,
      "grid_auto_columns": null,
      "grid_auto_flow": null,
      "grid_auto_rows": null,
      "grid_column": null,
      "grid_gap": null,
      "grid_row": null,
      "grid_template_areas": null,
      "grid_template_columns": null,
      "grid_template_rows": null,
      "height": null,
      "justify_content": null,
      "justify_items": null,
      "left": null,
      "margin": null,
      "max_height": null,
      "max_width": null,
      "min_height": null,
      "min_width": null,
      "object_fit": null,
      "object_position": null,
      "order": null,
      "overflow": null,
      "overflow_x": null,
      "overflow_y": null,
      "padding": null,
      "right": null,
      "top": null,
      "visibility": null,
      "width": null
     }
    },
    "650e3b786f3c4f548681c71fa4ea5ffd": {
     "model_module": "@jupyter-widgets/controls",
     "model_module_version": "1.5.0",
     "model_name": "ProgressStyleModel",
     "state": {
      "_model_module": "@jupyter-widgets/controls",
      "_model_module_version": "1.5.0",
      "_model_name": "ProgressStyleModel",
      "_view_count": null,
      "_view_module": "@jupyter-widgets/base",
      "_view_module_version": "1.2.0",
      "_view_name": "StyleView",
      "bar_color": null,
      "description_width": ""
     }
    },
    "659adba6b3dd4f24bfd06bba8f0e357c": {
     "model_module": "@jupyter-widgets/controls",
     "model_module_version": "1.5.0",
     "model_name": "FloatProgressModel",
     "state": {
      "_dom_classes": [],
      "_model_module": "@jupyter-widgets/controls",
      "_model_module_version": "1.5.0",
      "_model_name": "FloatProgressModel",
      "_view_count": null,
      "_view_module": "@jupyter-widgets/controls",
      "_view_module_version": "1.5.0",
      "_view_name": "ProgressView",
      "bar_style": "success",
      "description": "",
      "description_tooltip": null,
      "layout": "IPY_MODEL_6cf67292bc23424f94e13d00d70b64c5",
      "max": 230,
      "min": 0,
      "orientation": "horizontal",
      "style": "IPY_MODEL_650e3b786f3c4f548681c71fa4ea5ffd",
      "value": 230
     }
    },
    "6cf67292bc23424f94e13d00d70b64c5": {
     "model_module": "@jupyter-widgets/base",
     "model_module_version": "1.2.0",
     "model_name": "LayoutModel",
     "state": {
      "_model_module": "@jupyter-widgets/base",
      "_model_module_version": "1.2.0",
      "_model_name": "LayoutModel",
      "_view_count": null,
      "_view_module": "@jupyter-widgets/base",
      "_view_module_version": "1.2.0",
      "_view_name": "LayoutView",
      "align_content": null,
      "align_items": null,
      "align_self": null,
      "border": null,
      "bottom": null,
      "display": null,
      "flex": null,
      "flex_flow": null,
      "grid_area": null,
      "grid_auto_columns": null,
      "grid_auto_flow": null,
      "grid_auto_rows": null,
      "grid_column": null,
      "grid_gap": null,
      "grid_row": null,
      "grid_template_areas": null,
      "grid_template_columns": null,
      "grid_template_rows": null,
      "height": null,
      "justify_content": null,
      "justify_items": null,
      "left": null,
      "margin": null,
      "max_height": null,
      "max_width": null,
      "min_height": null,
      "min_width": null,
      "object_fit": null,
      "object_position": null,
      "order": null,
      "overflow": null,
      "overflow_x": null,
      "overflow_y": null,
      "padding": null,
      "right": null,
      "top": null,
      "visibility": null,
      "width": null
     }
    },
    "6f5d6e99206f489396be606249148845": {
     "model_module": "@jupyter-widgets/base",
     "model_module_version": "1.2.0",
     "model_name": "LayoutModel",
     "state": {
      "_model_module": "@jupyter-widgets/base",
      "_model_module_version": "1.2.0",
      "_model_name": "LayoutModel",
      "_view_count": null,
      "_view_module": "@jupyter-widgets/base",
      "_view_module_version": "1.2.0",
      "_view_name": "LayoutView",
      "align_content": null,
      "align_items": null,
      "align_self": null,
      "border": null,
      "bottom": null,
      "display": null,
      "flex": null,
      "flex_flow": null,
      "grid_area": null,
      "grid_auto_columns": null,
      "grid_auto_flow": null,
      "grid_auto_rows": null,
      "grid_column": null,
      "grid_gap": null,
      "grid_row": null,
      "grid_template_areas": null,
      "grid_template_columns": null,
      "grid_template_rows": null,
      "height": null,
      "justify_content": null,
      "justify_items": null,
      "left": null,
      "margin": null,
      "max_height": null,
      "max_width": null,
      "min_height": null,
      "min_width": null,
      "object_fit": null,
      "object_position": null,
      "order": null,
      "overflow": null,
      "overflow_x": null,
      "overflow_y": null,
      "padding": null,
      "right": null,
      "top": null,
      "visibility": null,
      "width": null
     }
    },
    "749407ebb6894715b33b46716f748bf7": {
     "model_module": "@jupyter-widgets/controls",
     "model_module_version": "1.5.0",
     "model_name": "HTMLModel",
     "state": {
      "_dom_classes": [],
      "_model_module": "@jupyter-widgets/controls",
      "_model_module_version": "1.5.0",
      "_model_name": "HTMLModel",
      "_view_count": null,
      "_view_module": "@jupyter-widgets/controls",
      "_view_module_version": "1.5.0",
      "_view_name": "HTMLView",
      "description": "",
      "description_tooltip": null,
      "layout": "IPY_MODEL_3018b85e429d425ba2eda30f4d35c8b5",
      "placeholder": "​",
      "style": "IPY_MODEL_8f1ff279e5274248b44af5d8453760a9",
      "value": " 50.6k/50.6k [00:00&lt;00:00, 2.84MB/s]"
     }
    },
    "75b643d763114b99a7622e9720bb54b4": {
     "model_module": "@jupyter-widgets/base",
     "model_module_version": "1.2.0",
     "model_name": "LayoutModel",
     "state": {
      "_model_module": "@jupyter-widgets/base",
      "_model_module_version": "1.2.0",
      "_model_name": "LayoutModel",
      "_view_count": null,
      "_view_module": "@jupyter-widgets/base",
      "_view_module_version": "1.2.0",
      "_view_name": "LayoutView",
      "align_content": null,
      "align_items": null,
      "align_self": null,
      "border": null,
      "bottom": null,
      "display": null,
      "flex": null,
      "flex_flow": null,
      "grid_area": null,
      "grid_auto_columns": null,
      "grid_auto_flow": null,
      "grid_auto_rows": null,
      "grid_column": null,
      "grid_gap": null,
      "grid_row": null,
      "grid_template_areas": null,
      "grid_template_columns": null,
      "grid_template_rows": null,
      "height": null,
      "justify_content": null,
      "justify_items": null,
      "left": null,
      "margin": null,
      "max_height": null,
      "max_width": null,
      "min_height": null,
      "min_width": null,
      "object_fit": null,
      "object_position": null,
      "order": null,
      "overflow": null,
      "overflow_x": null,
      "overflow_y": null,
      "padding": null,
      "right": null,
      "top": null,
      "visibility": null,
      "width": null
     }
    },
    "7754489bc3f146b5a3c047ccfc2f1cbb": {
     "model_module": "@jupyter-widgets/base",
     "model_module_version": "1.2.0",
     "model_name": "LayoutModel",
     "state": {
      "_model_module": "@jupyter-widgets/base",
      "_model_module_version": "1.2.0",
      "_model_name": "LayoutModel",
      "_view_count": null,
      "_view_module": "@jupyter-widgets/base",
      "_view_module_version": "1.2.0",
      "_view_name": "LayoutView",
      "align_content": null,
      "align_items": null,
      "align_self": null,
      "border": null,
      "bottom": null,
      "display": null,
      "flex": null,
      "flex_flow": null,
      "grid_area": null,
      "grid_auto_columns": null,
      "grid_auto_flow": null,
      "grid_auto_rows": null,
      "grid_column": null,
      "grid_gap": null,
      "grid_row": null,
      "grid_template_areas": null,
      "grid_template_columns": null,
      "grid_template_rows": null,
      "height": null,
      "justify_content": null,
      "justify_items": null,
      "left": null,
      "margin": null,
      "max_height": null,
      "max_width": null,
      "min_height": null,
      "min_width": null,
      "object_fit": null,
      "object_position": null,
      "order": null,
      "overflow": null,
      "overflow_x": null,
      "overflow_y": null,
      "padding": null,
      "right": null,
      "top": null,
      "visibility": null,
      "width": null
     }
    },
    "77ff0108c9ce4e0a96f179f17c42fb62": {
     "model_module": "@jupyter-widgets/controls",
     "model_module_version": "1.5.0",
     "model_name": "DescriptionStyleModel",
     "state": {
      "_model_module": "@jupyter-widgets/controls",
      "_model_module_version": "1.5.0",
      "_model_name": "DescriptionStyleModel",
      "_view_count": null,
      "_view_module": "@jupyter-widgets/base",
      "_view_module_version": "1.2.0",
      "_view_name": "StyleView",
      "description_width": ""
     }
    },
    "7f0bbf7fe6264e578794c938aeeb0e6f": {
     "model_module": "@jupyter-widgets/base",
     "model_module_version": "1.2.0",
     "model_name": "LayoutModel",
     "state": {
      "_model_module": "@jupyter-widgets/base",
      "_model_module_version": "1.2.0",
      "_model_name": "LayoutModel",
      "_view_count": null,
      "_view_module": "@jupyter-widgets/base",
      "_view_module_version": "1.2.0",
      "_view_name": "LayoutView",
      "align_content": null,
      "align_items": null,
      "align_self": null,
      "border": null,
      "bottom": null,
      "display": null,
      "flex": null,
      "flex_flow": null,
      "grid_area": null,
      "grid_auto_columns": null,
      "grid_auto_flow": null,
      "grid_auto_rows": null,
      "grid_column": null,
      "grid_gap": null,
      "grid_row": null,
      "grid_template_areas": null,
      "grid_template_columns": null,
      "grid_template_rows": null,
      "height": null,
      "justify_content": null,
      "justify_items": null,
      "left": null,
      "margin": null,
      "max_height": null,
      "max_width": null,
      "min_height": null,
      "min_width": null,
      "object_fit": null,
      "object_position": null,
      "order": null,
      "overflow": null,
      "overflow_x": null,
      "overflow_y": null,
      "padding": null,
      "right": null,
      "top": null,
      "visibility": null,
      "width": null
     }
    },
    "7fdb18a46ffd469e9b688d676a158540": {
     "model_module": "@jupyter-widgets/controls",
     "model_module_version": "1.5.0",
     "model_name": "DescriptionStyleModel",
     "state": {
      "_model_module": "@jupyter-widgets/controls",
      "_model_module_version": "1.5.0",
      "_model_name": "DescriptionStyleModel",
      "_view_count": null,
      "_view_module": "@jupyter-widgets/base",
      "_view_module_version": "1.2.0",
      "_view_name": "StyleView",
      "description_width": ""
     }
    },
    "8c0cb434c0f444bb83e8b82aa398ba41": {
     "model_module": "@jupyter-widgets/base",
     "model_module_version": "1.2.0",
     "model_name": "LayoutModel",
     "state": {
      "_model_module": "@jupyter-widgets/base",
      "_model_module_version": "1.2.0",
      "_model_name": "LayoutModel",
      "_view_count": null,
      "_view_module": "@jupyter-widgets/base",
      "_view_module_version": "1.2.0",
      "_view_name": "LayoutView",
      "align_content": null,
      "align_items": null,
      "align_self": null,
      "border": null,
      "bottom": null,
      "display": null,
      "flex": null,
      "flex_flow": null,
      "grid_area": null,
      "grid_auto_columns": null,
      "grid_auto_flow": null,
      "grid_auto_rows": null,
      "grid_column": null,
      "grid_gap": null,
      "grid_row": null,
      "grid_template_areas": null,
      "grid_template_columns": null,
      "grid_template_rows": null,
      "height": null,
      "justify_content": null,
      "justify_items": null,
      "left": null,
      "margin": null,
      "max_height": null,
      "max_width": null,
      "min_height": null,
      "min_width": null,
      "object_fit": null,
      "object_position": null,
      "order": null,
      "overflow": null,
      "overflow_x": null,
      "overflow_y": null,
      "padding": null,
      "right": null,
      "top": null,
      "visibility": null,
      "width": null
     }
    },
    "8f1ff279e5274248b44af5d8453760a9": {
     "model_module": "@jupyter-widgets/controls",
     "model_module_version": "1.5.0",
     "model_name": "DescriptionStyleModel",
     "state": {
      "_model_module": "@jupyter-widgets/controls",
      "_model_module_version": "1.5.0",
      "_model_name": "DescriptionStyleModel",
      "_view_count": null,
      "_view_module": "@jupyter-widgets/base",
      "_view_module_version": "1.2.0",
      "_view_name": "StyleView",
      "description_width": ""
     }
    },
    "8f774782b60d4dc28cbe91915ae5ecd5": {
     "model_module": "@jupyter-widgets/controls",
     "model_module_version": "1.5.0",
     "model_name": "FloatProgressModel",
     "state": {
      "_dom_classes": [],
      "_model_module": "@jupyter-widgets/controls",
      "_model_module_version": "1.5.0",
      "_model_name": "FloatProgressModel",
      "_view_count": null,
      "_view_module": "@jupyter-widgets/controls",
      "_view_module_version": "1.5.0",
      "_view_name": "ProgressView",
      "bar_style": "success",
      "description": "",
      "description_tooltip": null,
      "layout": "IPY_MODEL_4a149b41cbc048cea9bdfb69f3b2b4fc",
      "max": 459,
      "min": 0,
      "orientation": "horizontal",
      "style": "IPY_MODEL_c08b7face4f9473fba607f4122ef3c2c",
      "value": 459
     }
    },
    "904119074a8b465ebc6686b739dd6735": {
     "model_module": "@jupyter-widgets/base",
     "model_module_version": "1.2.0",
     "model_name": "LayoutModel",
     "state": {
      "_model_module": "@jupyter-widgets/base",
      "_model_module_version": "1.2.0",
      "_model_name": "LayoutModel",
      "_view_count": null,
      "_view_module": "@jupyter-widgets/base",
      "_view_module_version": "1.2.0",
      "_view_name": "LayoutView",
      "align_content": null,
      "align_items": null,
      "align_self": null,
      "border": null,
      "bottom": null,
      "display": null,
      "flex": null,
      "flex_flow": null,
      "grid_area": null,
      "grid_auto_columns": null,
      "grid_auto_flow": null,
      "grid_auto_rows": null,
      "grid_column": null,
      "grid_gap": null,
      "grid_row": null,
      "grid_template_areas": null,
      "grid_template_columns": null,
      "grid_template_rows": null,
      "height": null,
      "justify_content": null,
      "justify_items": null,
      "left": null,
      "margin": null,
      "max_height": null,
      "max_width": null,
      "min_height": null,
      "min_width": null,
      "object_fit": null,
      "object_position": null,
      "order": null,
      "overflow": null,
      "overflow_x": null,
      "overflow_y": null,
      "padding": null,
      "right": null,
      "top": null,
      "visibility": null,
      "width": null
     }
    },
    "906e52cfeeef427586e124a482ec5523": {
     "model_module": "@jupyter-widgets/controls",
     "model_module_version": "1.5.0",
     "model_name": "ProgressStyleModel",
     "state": {
      "_model_module": "@jupyter-widgets/controls",
      "_model_module_version": "1.5.0",
      "_model_name": "ProgressStyleModel",
      "_view_count": null,
      "_view_module": "@jupyter-widgets/base",
      "_view_module_version": "1.2.0",
      "_view_name": "StyleView",
      "bar_color": null,
      "description_width": ""
     }
    },
    "90fbd6abcc4847d39a116bafe83bd03a": {
     "model_module": "@jupyter-widgets/controls",
     "model_module_version": "1.5.0",
     "model_name": "ProgressStyleModel",
     "state": {
      "_model_module": "@jupyter-widgets/controls",
      "_model_module_version": "1.5.0",
      "_model_name": "ProgressStyleModel",
      "_view_count": null,
      "_view_module": "@jupyter-widgets/base",
      "_view_module_version": "1.2.0",
      "_view_name": "StyleView",
      "bar_color": null,
      "description_width": ""
     }
    },
    "9722e5184a1941f5ab67bdb73b8e8a65": {
     "model_module": "@jupyter-widgets/base",
     "model_module_version": "1.2.0",
     "model_name": "LayoutModel",
     "state": {
      "_model_module": "@jupyter-widgets/base",
      "_model_module_version": "1.2.0",
      "_model_name": "LayoutModel",
      "_view_count": null,
      "_view_module": "@jupyter-widgets/base",
      "_view_module_version": "1.2.0",
      "_view_name": "LayoutView",
      "align_content": null,
      "align_items": null,
      "align_self": null,
      "border": null,
      "bottom": null,
      "display": null,
      "flex": null,
      "flex_flow": null,
      "grid_area": null,
      "grid_auto_columns": null,
      "grid_auto_flow": null,
      "grid_auto_rows": null,
      "grid_column": null,
      "grid_gap": null,
      "grid_row": null,
      "grid_template_areas": null,
      "grid_template_columns": null,
      "grid_template_rows": null,
      "height": null,
      "justify_content": null,
      "justify_items": null,
      "left": null,
      "margin": null,
      "max_height": null,
      "max_width": null,
      "min_height": null,
      "min_width": null,
      "object_fit": null,
      "object_position": null,
      "order": null,
      "overflow": null,
      "overflow_x": null,
      "overflow_y": null,
      "padding": null,
      "right": null,
      "top": null,
      "visibility": null,
      "width": null
     }
    },
    "9a493df32acd4f4286d59576e309395f": {
     "model_module": "@jupyter-widgets/controls",
     "model_module_version": "1.5.0",
     "model_name": "ProgressStyleModel",
     "state": {
      "_model_module": "@jupyter-widgets/controls",
      "_model_module_version": "1.5.0",
      "_model_name": "ProgressStyleModel",
      "_view_count": null,
      "_view_module": "@jupyter-widgets/base",
      "_view_module_version": "1.2.0",
      "_view_name": "StyleView",
      "bar_color": null,
      "description_width": ""
     }
    },
    "a001d6cf72aa41939b805edcad20813a": {
     "model_module": "@jupyter-widgets/controls",
     "model_module_version": "1.5.0",
     "model_name": "DescriptionStyleModel",
     "state": {
      "_model_module": "@jupyter-widgets/controls",
      "_model_module_version": "1.5.0",
      "_model_name": "DescriptionStyleModel",
      "_view_count": null,
      "_view_module": "@jupyter-widgets/base",
      "_view_module_version": "1.2.0",
      "_view_name": "StyleView",
      "description_width": ""
     }
    },
    "ae09819aa696469b8cd910b00aa83b1a": {
     "model_module": "@jupyter-widgets/base",
     "model_module_version": "1.2.0",
     "model_name": "LayoutModel",
     "state": {
      "_model_module": "@jupyter-widgets/base",
      "_model_module_version": "1.2.0",
      "_model_name": "LayoutModel",
      "_view_count": null,
      "_view_module": "@jupyter-widgets/base",
      "_view_module_version": "1.2.0",
      "_view_name": "LayoutView",
      "align_content": null,
      "align_items": null,
      "align_self": null,
      "border": null,
      "bottom": null,
      "display": null,
      "flex": null,
      "flex_flow": null,
      "grid_area": null,
      "grid_auto_columns": null,
      "grid_auto_flow": null,
      "grid_auto_rows": null,
      "grid_column": null,
      "grid_gap": null,
      "grid_row": null,
      "grid_template_areas": null,
      "grid_template_columns": null,
      "grid_template_rows": null,
      "height": null,
      "justify_content": null,
      "justify_items": null,
      "left": null,
      "margin": null,
      "max_height": null,
      "max_width": null,
      "min_height": null,
      "min_width": null,
      "object_fit": null,
      "object_position": null,
      "order": null,
      "overflow": null,
      "overflow_x": null,
      "overflow_y": null,
      "padding": null,
      "right": null,
      "top": null,
      "visibility": null,
      "width": null
     }
    },
    "b10e239750da4bfd8d659fa925737b01": {
     "model_module": "@jupyter-widgets/base",
     "model_module_version": "1.2.0",
     "model_name": "LayoutModel",
     "state": {
      "_model_module": "@jupyter-widgets/base",
      "_model_module_version": "1.2.0",
      "_model_name": "LayoutModel",
      "_view_count": null,
      "_view_module": "@jupyter-widgets/base",
      "_view_module_version": "1.2.0",
      "_view_name": "LayoutView",
      "align_content": null,
      "align_items": null,
      "align_self": null,
      "border": null,
      "bottom": null,
      "display": null,
      "flex": null,
      "flex_flow": null,
      "grid_area": null,
      "grid_auto_columns": null,
      "grid_auto_flow": null,
      "grid_auto_rows": null,
      "grid_column": null,
      "grid_gap": null,
      "grid_row": null,
      "grid_template_areas": null,
      "grid_template_columns": null,
      "grid_template_rows": null,
      "height": null,
      "justify_content": null,
      "justify_items": null,
      "left": null,
      "margin": null,
      "max_height": null,
      "max_width": null,
      "min_height": null,
      "min_width": null,
      "object_fit": null,
      "object_position": null,
      "order": null,
      "overflow": null,
      "overflow_x": null,
      "overflow_y": null,
      "padding": null,
      "right": null,
      "top": null,
      "visibility": null,
      "width": null
     }
    },
    "b3e40198c11f4f8cb2c40c7f695fe2aa": {
     "model_module": "@jupyter-widgets/controls",
     "model_module_version": "1.5.0",
     "model_name": "HBoxModel",
     "state": {
      "_dom_classes": [],
      "_model_module": "@jupyter-widgets/controls",
      "_model_module_version": "1.5.0",
      "_model_name": "HBoxModel",
      "_view_count": null,
      "_view_module": "@jupyter-widgets/controls",
      "_view_module_version": "1.5.0",
      "_view_name": "HBoxView",
      "box_style": "",
      "children": [
       "IPY_MODEL_df909e13f97d48b4ab251f8135b318cd",
       "IPY_MODEL_8f774782b60d4dc28cbe91915ae5ecd5",
       "IPY_MODEL_2722323b97904c89a2cd4eccef7ba40c"
      ],
      "layout": "IPY_MODEL_7f0bbf7fe6264e578794c938aeeb0e6f"
     }
    },
    "c08b7face4f9473fba607f4122ef3c2c": {
     "model_module": "@jupyter-widgets/controls",
     "model_module_version": "1.5.0",
     "model_name": "ProgressStyleModel",
     "state": {
      "_model_module": "@jupyter-widgets/controls",
      "_model_module_version": "1.5.0",
      "_model_name": "ProgressStyleModel",
      "_view_count": null,
      "_view_module": "@jupyter-widgets/base",
      "_view_module_version": "1.2.0",
      "_view_name": "StyleView",
      "bar_color": null,
      "description_width": ""
     }
    },
    "c20e4e5d5fda49b385ac482ff2f5cf35": {
     "model_module": "@jupyter-widgets/base",
     "model_module_version": "1.2.0",
     "model_name": "LayoutModel",
     "state": {
      "_model_module": "@jupyter-widgets/base",
      "_model_module_version": "1.2.0",
      "_model_name": "LayoutModel",
      "_view_count": null,
      "_view_module": "@jupyter-widgets/base",
      "_view_module_version": "1.2.0",
      "_view_name": "LayoutView",
      "align_content": null,
      "align_items": null,
      "align_self": null,
      "border": null,
      "bottom": null,
      "display": null,
      "flex": null,
      "flex_flow": null,
      "grid_area": null,
      "grid_auto_columns": null,
      "grid_auto_flow": null,
      "grid_auto_rows": null,
      "grid_column": null,
      "grid_gap": null,
      "grid_row": null,
      "grid_template_areas": null,
      "grid_template_columns": null,
      "grid_template_rows": null,
      "height": null,
      "justify_content": null,
      "justify_items": null,
      "left": null,
      "margin": null,
      "max_height": null,
      "max_width": null,
      "min_height": null,
      "min_width": null,
      "object_fit": null,
      "object_position": null,
      "order": null,
      "overflow": null,
      "overflow_x": null,
      "overflow_y": null,
      "padding": null,
      "right": null,
      "top": null,
      "visibility": null,
      "width": null
     }
    },
    "c7c652c03c5747e898ea938a99b8a43d": {
     "model_module": "@jupyter-widgets/base",
     "model_module_version": "1.2.0",
     "model_name": "LayoutModel",
     "state": {
      "_model_module": "@jupyter-widgets/base",
      "_model_module_version": "1.2.0",
      "_model_name": "LayoutModel",
      "_view_count": null,
      "_view_module": "@jupyter-widgets/base",
      "_view_module_version": "1.2.0",
      "_view_name": "LayoutView",
      "align_content": null,
      "align_items": null,
      "align_self": null,
      "border": null,
      "bottom": null,
      "display": null,
      "flex": null,
      "flex_flow": null,
      "grid_area": null,
      "grid_auto_columns": null,
      "grid_auto_flow": null,
      "grid_auto_rows": null,
      "grid_column": null,
      "grid_gap": null,
      "grid_row": null,
      "grid_template_areas": null,
      "grid_template_columns": null,
      "grid_template_rows": null,
      "height": null,
      "justify_content": null,
      "justify_items": null,
      "left": null,
      "margin": null,
      "max_height": null,
      "max_width": null,
      "min_height": null,
      "min_width": null,
      "object_fit": null,
      "object_position": null,
      "order": null,
      "overflow": null,
      "overflow_x": null,
      "overflow_y": null,
      "padding": null,
      "right": null,
      "top": null,
      "visibility": null,
      "width": null
     }
    },
    "cbb3c6784c994c54bf9c62adad3925cc": {
     "model_module": "@jupyter-widgets/controls",
     "model_module_version": "1.5.0",
     "model_name": "DescriptionStyleModel",
     "state": {
      "_model_module": "@jupyter-widgets/controls",
      "_model_module_version": "1.5.0",
      "_model_name": "DescriptionStyleModel",
      "_view_count": null,
      "_view_module": "@jupyter-widgets/base",
      "_view_module_version": "1.2.0",
      "_view_name": "StyleView",
      "description_width": ""
     }
    },
    "cd92c220eb4c48d4b4fd16116ce851ce": {
     "model_module": "@jupyter-widgets/base",
     "model_module_version": "1.2.0",
     "model_name": "LayoutModel",
     "state": {
      "_model_module": "@jupyter-widgets/base",
      "_model_module_version": "1.2.0",
      "_model_name": "LayoutModel",
      "_view_count": null,
      "_view_module": "@jupyter-widgets/base",
      "_view_module_version": "1.2.0",
      "_view_name": "LayoutView",
      "align_content": null,
      "align_items": null,
      "align_self": null,
      "border": null,
      "bottom": null,
      "display": null,
      "flex": null,
      "flex_flow": null,
      "grid_area": null,
      "grid_auto_columns": null,
      "grid_auto_flow": null,
      "grid_auto_rows": null,
      "grid_column": null,
      "grid_gap": null,
      "grid_row": null,
      "grid_template_areas": null,
      "grid_template_columns": null,
      "grid_template_rows": null,
      "height": null,
      "justify_content": null,
      "justify_items": null,
      "left": null,
      "margin": null,
      "max_height": null,
      "max_width": null,
      "min_height": null,
      "min_width": null,
      "object_fit": null,
      "object_position": null,
      "order": null,
      "overflow": null,
      "overflow_x": null,
      "overflow_y": null,
      "padding": null,
      "right": null,
      "top": null,
      "visibility": null,
      "width": null
     }
    },
    "d950a0adb1ee4f7c966187d3007f3a94": {
     "model_module": "@jupyter-widgets/controls",
     "model_module_version": "1.5.0",
     "model_name": "HTMLModel",
     "state": {
      "_dom_classes": [],
      "_model_module": "@jupyter-widgets/controls",
      "_model_module_version": "1.5.0",
      "_model_name": "HTMLModel",
      "_view_count": null,
      "_view_module": "@jupyter-widgets/controls",
      "_view_module_version": "1.5.0",
      "_view_name": "HTMLView",
      "description": "",
      "description_tooltip": null,
      "layout": "IPY_MODEL_904119074a8b465ebc6686b739dd6735",
      "placeholder": "​",
      "style": "IPY_MODEL_77ff0108c9ce4e0a96f179f17c42fb62",
      "value": "tokenizer.json: 100%"
     }
    },
    "dca4c09366024beeadaa4341d017e8f4": {
     "model_module": "@jupyter-widgets/controls",
     "model_module_version": "1.5.0",
     "model_name": "HBoxModel",
     "state": {
      "_dom_classes": [],
      "_model_module": "@jupyter-widgets/controls",
      "_model_module_version": "1.5.0",
      "_model_name": "HBoxModel",
      "_view_count": null,
      "_view_module": "@jupyter-widgets/controls",
      "_view_module_version": "1.5.0",
      "_view_name": "HBoxView",
      "box_style": "",
      "children": [
       "IPY_MODEL_d950a0adb1ee4f7c966187d3007f3a94",
       "IPY_MODEL_46b8a2c0712f4795951588a985867b88",
       "IPY_MODEL_e93deee8541e47b6a348d5bd866c5cf8"
      ],
      "layout": "IPY_MODEL_75b643d763114b99a7622e9720bb54b4"
     }
    },
    "df909e13f97d48b4ab251f8135b318cd": {
     "model_module": "@jupyter-widgets/controls",
     "model_module_version": "1.5.0",
     "model_name": "HTMLModel",
     "state": {
      "_dom_classes": [],
      "_model_module": "@jupyter-widgets/controls",
      "_model_module_version": "1.5.0",
      "_model_name": "HTMLModel",
      "_view_count": null,
      "_view_module": "@jupyter-widgets/controls",
      "_view_module_version": "1.5.0",
      "_view_name": "HTMLView",
      "description": "",
      "description_tooltip": null,
      "layout": "IPY_MODEL_ae09819aa696469b8cd910b00aa83b1a",
      "placeholder": "​",
      "style": "IPY_MODEL_f16d812a8f394dfd881fa0af86302db2",
      "value": "special_tokens_map.json: 100%"
     }
    },
    "e93deee8541e47b6a348d5bd866c5cf8": {
     "model_module": "@jupyter-widgets/controls",
     "model_module_version": "1.5.0",
     "model_name": "HTMLModel",
     "state": {
      "_dom_classes": [],
      "_model_module": "@jupyter-widgets/controls",
      "_model_module_version": "1.5.0",
      "_model_name": "HTMLModel",
      "_view_count": null,
      "_view_module": "@jupyter-widgets/controls",
      "_view_module_version": "1.5.0",
      "_view_name": "HTMLView",
      "description": "",
      "description_tooltip": null,
      "layout": "IPY_MODEL_f0f3f0350b564b98a2dd5988f3d28a8d",
      "placeholder": "​",
      "style": "IPY_MODEL_135d89ee452a4bf492ac35b5f8f57fdc",
      "value": " 17.2M/17.2M [00:00&lt;00:00, 172MB/s]"
     }
    },
    "f0f3f0350b564b98a2dd5988f3d28a8d": {
     "model_module": "@jupyter-widgets/base",
     "model_module_version": "1.2.0",
     "model_name": "LayoutModel",
     "state": {
      "_model_module": "@jupyter-widgets/base",
      "_model_module_version": "1.2.0",
      "_model_name": "LayoutModel",
      "_view_count": null,
      "_view_module": "@jupyter-widgets/base",
      "_view_module_version": "1.2.0",
      "_view_name": "LayoutView",
      "align_content": null,
      "align_items": null,
      "align_self": null,
      "border": null,
      "bottom": null,
      "display": null,
      "flex": null,
      "flex_flow": null,
      "grid_area": null,
      "grid_auto_columns": null,
      "grid_auto_flow": null,
      "grid_auto_rows": null,
      "grid_column": null,
      "grid_gap": null,
      "grid_row": null,
      "grid_template_areas": null,
      "grid_template_columns": null,
      "grid_template_rows": null,
      "height": null,
      "justify_content": null,
      "justify_items": null,
      "left": null,
      "margin": null,
      "max_height": null,
      "max_width": null,
      "min_height": null,
      "min_width": null,
      "object_fit": null,
      "object_position": null,
      "order": null,
      "overflow": null,
      "overflow_x": null,
      "overflow_y": null,
      "padding": null,
      "right": null,
      "top": null,
      "visibility": null,
      "width": null
     }
    },
    "f16d812a8f394dfd881fa0af86302db2": {
     "model_module": "@jupyter-widgets/controls",
     "model_module_version": "1.5.0",
     "model_name": "DescriptionStyleModel",
     "state": {
      "_model_module": "@jupyter-widgets/controls",
      "_model_module_version": "1.5.0",
      "_model_name": "DescriptionStyleModel",
      "_view_count": null,
      "_view_module": "@jupyter-widgets/base",
      "_view_module_version": "1.2.0",
      "_view_name": "StyleView",
      "description_width": ""
     }
    },
    "faea3e25629540e2852ef9769d8b74eb": {
     "model_module": "@jupyter-widgets/controls",
     "model_module_version": "1.5.0",
     "model_name": "DescriptionStyleModel",
     "state": {
      "_model_module": "@jupyter-widgets/controls",
      "_model_module_version": "1.5.0",
      "_model_name": "DescriptionStyleModel",
      "_view_count": null,
      "_view_module": "@jupyter-widgets/base",
      "_view_module_version": "1.2.0",
      "_view_name": "StyleView",
      "description_width": ""
     }
    },
    "fd555cddac414bacb6730b784e95b754": {
     "model_module": "@jupyter-widgets/controls",
     "model_module_version": "1.5.0",
     "model_name": "HBoxModel",
     "state": {
      "_dom_classes": [],
      "_model_module": "@jupyter-widgets/controls",
      "_model_module_version": "1.5.0",
      "_model_name": "HBoxModel",
      "_view_count": null,
      "_view_module": "@jupyter-widgets/controls",
      "_view_module_version": "1.5.0",
      "_view_name": "HBoxView",
      "box_style": "",
      "children": [
       "IPY_MODEL_284f4dfbfb2741e1b25c82668dc16256",
       "IPY_MODEL_4511c41f23524ddabf7b0a1787f4a21e",
       "IPY_MODEL_749407ebb6894715b33b46716f748bf7"
      ],
      "layout": "IPY_MODEL_c7c652c03c5747e898ea938a99b8a43d"
     }
    }
   }
  }
 },
 "nbformat": 4,
 "nbformat_minor": 4
}
