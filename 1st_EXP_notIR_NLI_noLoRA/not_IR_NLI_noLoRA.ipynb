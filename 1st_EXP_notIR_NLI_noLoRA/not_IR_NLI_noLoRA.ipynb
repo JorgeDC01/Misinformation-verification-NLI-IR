{
 "cells": [
  {
   "cell_type": "markdown",
   "metadata": {
    "id": "HcUq78TiZ2WW"
   },
   "source": [
    "# **Primera aproximación | Módulo de NLI con LLM (Llama2-1B,3B) cuantizado sin LoRA**. Sin Information Retrieval"
   ]
  },
  {
   "cell_type": "markdown",
   "metadata": {
    "id": "1xmnOBus9qZa",
    "jp-MarkdownHeadingCollapsed": true
   },
   "source": [
    "## Instalation de paquetes para COLAB"
   ]
  },
  {
   "cell_type": "code",
   "execution_count": 44,
   "metadata": {},
   "outputs": [],
   "source": [
    "import os\n",
    "os.environ[\"CUDA_VISIBLE_DEVICES\"]=\"1\""
   ]
  },
  {
   "cell_type": "code",
   "execution_count": 111,
   "metadata": {},
   "outputs": [
    {
     "data": {
      "text/plain": [
       "436"
      ]
     },
     "execution_count": 111,
     "metadata": {},
     "output_type": "execute_result"
    }
   ],
   "source": [
    "import gc\n",
    "\n",
    "gc.collect()"
   ]
  },
  {
   "cell_type": "code",
   "execution_count": 112,
   "metadata": {},
   "outputs": [],
   "source": [
    "torch.cuda.empty_cache()"
   ]
  },
  {
   "cell_type": "markdown",
   "metadata": {
    "id": "BH21F7GXAeOX"
   },
   "source": [
    "Con bitsandbytes en un entorno Cuda, he ejecutado:\n",
    "- !pip install --upgrade \"transformers>=4.45.1\" --quiet\n",
    "- !pip install intel_extension_for_pytorch --quiet\n",
    "- !pip install -U bitsandbytes --quiet\n",
    "- !pip uninstall -y torch torchvision torchaudio numpy --quiet\n",
    "- !pip install torch torchvision torchaudio numpy==1.26.4 --quiet # Evitar conflictos con NumPy 2.2.3\n",
    "- !pip install --upgrade accelerate"
   ]
  },
  {
   "cell_type": "code",
   "execution_count": 1,
   "metadata": {
    "colab": {
     "base_uri": "https://localhost:8080/"
    },
    "executionInfo": {
     "elapsed": 35158,
     "status": "ok",
     "timestamp": 1742900570063,
     "user": {
      "displayName": "Jorge del Castillo Gómez",
      "userId": "03598089572284782268"
     },
     "user_tz": -60
    },
    "id": "yrmmO1pU9qZd",
    "outputId": "6efc14cb-1fd4-454f-9a99-a23c050c2bc5"
   },
   "outputs": [
    {
     "name": "stdout",
     "output_type": "stream",
     "text": [
      "\u001b[2K   \u001b[90m━━━━━━━━━━━━━━━━━━━━━━━━━━━━━━━━━━━━━━━━\u001b[0m \u001b[32m10.2/10.2 MB\u001b[0m \u001b[31m54.8 MB/s\u001b[0m eta \u001b[36m0:00:00\u001b[0m\n",
      "\u001b[2K   \u001b[90m━━━━━━━━━━━━━━━━━━━━━━━━━━━━━━━━━━━━━━━━\u001b[0m \u001b[32m105.4/105.4 MB\u001b[0m \u001b[31m8.2 MB/s\u001b[0m eta \u001b[36m0:00:00\u001b[0m\n",
      "\u001b[?25h"
     ]
    }
   ],
   "source": [
    "%pip install --upgrade \"transformers>=4.45.1\" --quiet # Es necesario esta version para entorno cuda con cuantizacion (en colab)\n",
    "%pip install intel_extension_for_pytorch --quiet"
   ]
  },
  {
   "cell_type": "code",
   "execution_count": 2,
   "metadata": {
    "colab": {
     "base_uri": "https://localhost:8080/"
    },
    "executionInfo": {
     "elapsed": 106456,
     "status": "ok",
     "timestamp": 1742900676523,
     "user": {
      "displayName": "Jorge del Castillo Gómez",
      "userId": "03598089572284782268"
     },
     "user_tz": -60
    },
    "id": "j4XIgDta9qZf",
    "outputId": "73d38f9d-84a5-418e-e84c-35d68467ae8e"
   },
   "outputs": [
    {
     "name": "stdout",
     "output_type": "stream",
     "text": [
      "\u001b[2K   \u001b[90m━━━━━━━━━━━━━━━━━━━━━━━━━━━━━━━━━━━━━━━━\u001b[0m \u001b[32m76.1/76.1 MB\u001b[0m \u001b[31m9.3 MB/s\u001b[0m eta \u001b[36m0:00:00\u001b[0m\n",
      "\u001b[2K   \u001b[90m━━━━━━━━━━━━━━━━━━━━━━━━━━━━━━━━━━━━━━━━\u001b[0m \u001b[32m363.4/363.4 MB\u001b[0m \u001b[31m4.4 MB/s\u001b[0m eta \u001b[36m0:00:00\u001b[0m\n",
      "\u001b[2K   \u001b[90m━━━━━━━━━━━━━━━━━━━━━━━━━━━━━━━━━━━━━━━━\u001b[0m \u001b[32m13.8/13.8 MB\u001b[0m \u001b[31m51.7 MB/s\u001b[0m eta \u001b[36m0:00:00\u001b[0m\n",
      "\u001b[2K   \u001b[90m━━━━━━━━━━━━━━━━━━━━━━━━━━━━━━━━━━━━━━━━\u001b[0m \u001b[32m24.6/24.6 MB\u001b[0m \u001b[31m60.5 MB/s\u001b[0m eta \u001b[36m0:00:00\u001b[0m\n",
      "\u001b[2K   \u001b[90m━━━━━━━━━━━━━━━━━━━━━━━━━━━━━━━━━━━━━━━━\u001b[0m \u001b[32m883.7/883.7 kB\u001b[0m \u001b[31m34.4 MB/s\u001b[0m eta \u001b[36m0:00:00\u001b[0m\n",
      "\u001b[2K   \u001b[90m━━━━━━━━━━━━━━━━━━━━━━━━━━━━━━━━━━━━━━━━\u001b[0m \u001b[32m664.8/664.8 MB\u001b[0m \u001b[31m2.8 MB/s\u001b[0m eta \u001b[36m0:00:00\u001b[0m\n",
      "\u001b[2K   \u001b[90m━━━━━━━━━━━━━━━━━━━━━━━━━━━━━━━━━━━━━━━━\u001b[0m \u001b[32m211.5/211.5 MB\u001b[0m \u001b[31m5.7 MB/s\u001b[0m eta \u001b[36m0:00:00\u001b[0m\n",
      "\u001b[2K   \u001b[90m━━━━━━━━━━━━━━━━━━━━━━━━━━━━━━━━━━━━━━━━\u001b[0m \u001b[32m56.3/56.3 MB\u001b[0m \u001b[31m16.6 MB/s\u001b[0m eta \u001b[36m0:00:00\u001b[0m\n",
      "\u001b[2K   \u001b[90m━━━━━━━━━━━━━━━━━━━━━━━━━━━━━━━━━━━━━━━━\u001b[0m \u001b[32m127.9/127.9 MB\u001b[0m \u001b[31m7.4 MB/s\u001b[0m eta \u001b[36m0:00:00\u001b[0m\n",
      "\u001b[2K   \u001b[90m━━━━━━━━━━━━━━━━━━━━━━━━━━━━━━━━━━━━━━━━\u001b[0m \u001b[32m207.5/207.5 MB\u001b[0m \u001b[31m5.9 MB/s\u001b[0m eta \u001b[36m0:00:00\u001b[0m\n",
      "\u001b[2K   \u001b[90m━━━━━━━━━━━━━━━━━━━━━━━━━━━━━━━━━━━━━━━━\u001b[0m \u001b[32m21.1/21.1 MB\u001b[0m \u001b[31m93.4 MB/s\u001b[0m eta \u001b[36m0:00:00\u001b[0m\n",
      "\u001b[?25h"
     ]
    }
   ],
   "source": [
    "%pip install -U bitsandbytes --quiet"
   ]
  },
  {
   "cell_type": "code",
   "execution_count": 3,
   "metadata": {
    "colab": {
     "base_uri": "https://localhost:8080/"
    },
    "executionInfo": {
     "elapsed": 74774,
     "status": "ok",
     "timestamp": 1742900751294,
     "user": {
      "displayName": "Jorge del Castillo Gómez",
      "userId": "03598089572284782268"
     },
     "user_tz": -60
    },
    "id": "pLfhwGPb9qZg",
    "outputId": "680e05d6-55d2-4305-8cfc-4795b90710d6"
   },
   "outputs": [
    {
     "name": "stdout",
     "output_type": "stream",
     "text": [
      "\u001b[2K     \u001b[90m━━━━━━━━━━━━━━━━━━━━━━━━━━━━━━━━━━━━━━━━\u001b[0m \u001b[32m61.0/61.0 kB\u001b[0m \u001b[31m4.0 MB/s\u001b[0m eta \u001b[36m0:00:00\u001b[0m\n",
      "\u001b[2K   \u001b[90m━━━━━━━━━━━━━━━━━━━━━━━━━━━━━━━━━━━━━━━━\u001b[0m \u001b[32m18.3/18.3 MB\u001b[0m \u001b[31m92.0 MB/s\u001b[0m eta \u001b[36m0:00:00\u001b[0m\n",
      "\u001b[2K   \u001b[90m━━━━━━━━━━━━━━━━━━━━━━━━━━━━━━━━━━━━━━━━\u001b[0m \u001b[32m766.7/766.7 MB\u001b[0m \u001b[31m1.2 MB/s\u001b[0m eta \u001b[36m0:00:00\u001b[0m\n",
      "\u001b[2K   \u001b[90m━━━━━━━━━━━━━━━━━━━━━━━━━━━━━━━━━━━━━━━━\u001b[0m \u001b[32m7.2/7.2 MB\u001b[0m \u001b[31m101.3 MB/s\u001b[0m eta \u001b[36m0:00:00\u001b[0m\n",
      "\u001b[2K   \u001b[90m━━━━━━━━━━━━━━━━━━━━━━━━━━━━━━━━━━━━━━━━\u001b[0m \u001b[32m3.4/3.4 MB\u001b[0m \u001b[31m80.3 MB/s\u001b[0m eta \u001b[36m0:00:00\u001b[0m\n",
      "\u001b[?25h"
     ]
    }
   ],
   "source": [
    "%pip uninstall -y torch torchvision torchaudio numpy --quiet\n",
    "%pip install torch torchvision torchaudio numpy==1.26.4 --quiet # Evitar conflictos con NumPy 2.2.3"
   ]
  },
  {
   "cell_type": "code",
   "execution_count": 4,
   "metadata": {
    "executionInfo": {
     "elapsed": 3054,
     "status": "ok",
     "timestamp": 1742900754346,
     "user": {
      "displayName": "Jorge del Castillo Gómez",
      "userId": "03598089572284782268"
     },
     "user_tz": -60
    },
    "id": "ZM62W7Eb9qZh"
   },
   "outputs": [],
   "source": [
    "%pip install --upgrade accelerate --quiet #deepspeed"
   ]
  },
  {
   "cell_type": "code",
   "execution_count": 5,
   "metadata": {
    "colab": {
     "base_uri": "https://localhost:8080/"
    },
    "executionInfo": {
     "elapsed": 100254,
     "status": "ok",
     "timestamp": 1742900854611,
     "user": {
      "displayName": "Jorge del Castillo Gómez",
      "userId": "03598089572284782268"
     },
     "user_tz": -60
    },
    "id": "vP80JJu69qZi",
    "outputId": "3a2d9021-798e-4824-c330-f8da13697728"
   },
   "outputs": [
    {
     "name": "stdout",
     "output_type": "stream",
     "text": [
      "\u001b[?25l     \u001b[90m━━━━━━━━━━━━━━━━━━━━━━━━━━━━━━━━━━━━━━━━\u001b[0m \u001b[32m0.0/163.8 kB\u001b[0m \u001b[31m?\u001b[0m eta \u001b[36m-:--:--\u001b[0m\r",
      "\u001b[2K     \u001b[90m━━━━━━━━━━━━━━━━━━━━━━━━━━━━━━━━━━━━━━━━\u001b[0m \u001b[32m163.8/163.8 kB\u001b[0m \u001b[31m10.5 MB/s\u001b[0m eta \u001b[36m0:00:00\u001b[0m\n",
      "\u001b[?25h  Preparing metadata (setup.py) ... \u001b[?25l\u001b[?25hdone\n",
      "\u001b[2K     \u001b[90m━━━━━━━━━━━━━━━━━━━━━━━━━━━━━━━━━━━━━━━━\u001b[0m \u001b[32m1.4/1.4 MB\u001b[0m \u001b[31m48.9 MB/s\u001b[0m eta \u001b[36m0:00:00\u001b[0m\n",
      "\u001b[?25h  Preparing metadata (setup.py) ... \u001b[?25l\u001b[?25hdone\n",
      "\u001b[2K     \u001b[90m━━━━━━━━━━━━━━━━━━━━━━━━━━━━━━━━━━━━━━━━\u001b[0m \u001b[32m6.0/6.0 MB\u001b[0m \u001b[31m78.0 MB/s\u001b[0m eta \u001b[36m0:00:00\u001b[0m\n",
      "\u001b[?25h  Preparing metadata (setup.py) ... \u001b[?25l\u001b[?25hdone\n",
      "  Preparing metadata (setup.py) ... \u001b[?25l\u001b[?25hdone\n",
      "  Preparing metadata (setup.py) ... \u001b[?25l\u001b[?25hdone\n",
      "\u001b[2K   \u001b[90m━━━━━━━━━━━━━━━━━━━━━━━━━━━━━━━━━━━━━━━━\u001b[0m \u001b[32m487.4/487.4 kB\u001b[0m \u001b[31m29.8 MB/s\u001b[0m eta \u001b[36m0:00:00\u001b[0m\n",
      "\u001b[2K   \u001b[90m━━━━━━━━━━━━━━━━━━━━━━━━━━━━━━━━━━━━━━━━\u001b[0m \u001b[32m859.0/859.0 kB\u001b[0m \u001b[31m45.7 MB/s\u001b[0m eta \u001b[36m0:00:00\u001b[0m\n",
      "\u001b[2K   \u001b[90m━━━━━━━━━━━━━━━━━━━━━━━━━━━━━━━━━━━━━━━━\u001b[0m \u001b[32m116.3/116.3 kB\u001b[0m \u001b[31m8.1 MB/s\u001b[0m eta \u001b[36m0:00:00\u001b[0m\n",
      "\u001b[2K   \u001b[90m━━━━━━━━━━━━━━━━━━━━━━━━━━━━━━━━━━━━━━━━\u001b[0m \u001b[32m183.9/183.9 kB\u001b[0m \u001b[31m15.3 MB/s\u001b[0m eta \u001b[36m0:00:00\u001b[0m\n",
      "\u001b[2K   \u001b[90m━━━━━━━━━━━━━━━━━━━━━━━━━━━━━━━━━━━━━━━━\u001b[0m \u001b[32m119.2/119.2 kB\u001b[0m \u001b[31m9.7 MB/s\u001b[0m eta \u001b[36m0:00:00\u001b[0m\n",
      "\u001b[2K   \u001b[90m━━━━━━━━━━━━━━━━━━━━━━━━━━━━━━━━━━━━━━━━\u001b[0m \u001b[32m45.1/45.1 kB\u001b[0m \u001b[31m2.6 MB/s\u001b[0m eta \u001b[36m0:00:00\u001b[0m\n",
      "\u001b[2K   \u001b[90m━━━━━━━━━━━━━━━━━━━━━━━━━━━━━━━━━━━━━━━━\u001b[0m \u001b[32m1.3/1.3 MB\u001b[0m \u001b[31m52.5 MB/s\u001b[0m eta \u001b[36m0:00:00\u001b[0m\n",
      "\u001b[2K   \u001b[90m━━━━━━━━━━━━━━━━━━━━━━━━━━━━━━━━━━━━━━━━\u001b[0m \u001b[32m143.5/143.5 kB\u001b[0m \u001b[31m11.3 MB/s\u001b[0m eta \u001b[36m0:00:00\u001b[0m\n",
      "\u001b[2K   \u001b[90m━━━━━━━━━━━━━━━━━━━━━━━━━━━━━━━━━━━━━━━━\u001b[0m \u001b[32m54.0/54.0 kB\u001b[0m \u001b[31m3.7 MB/s\u001b[0m eta \u001b[36m0:00:00\u001b[0m\n",
      "\u001b[2K   \u001b[90m━━━━━━━━━━━━━━━━━━━━━━━━━━━━━━━━━━━━━━━━\u001b[0m \u001b[32m194.8/194.8 kB\u001b[0m \u001b[31m13.1 MB/s\u001b[0m eta \u001b[36m0:00:00\u001b[0m\n",
      "\u001b[?25h  Building wheel for deepspeed (setup.py) ... \u001b[?25l\u001b[?25hdone\n",
      "  Building wheel for FlagEmbedding (setup.py) ... \u001b[?25l\u001b[?25hdone\n",
      "  Building wheel for flash-attn (setup.py) ... \u001b[?25l\u001b[?25hdone\n",
      "  Building wheel for warc3-wet-clueweb09 (setup.py) ... \u001b[?25l\u001b[?25hdone\n",
      "  Building wheel for cbor (setup.py) ... \u001b[?25l\u001b[?25hdone\n",
      "\u001b[31mERROR: pip's dependency resolver does not currently take into account all the packages that are installed. This behaviour is the source of the following dependency conflicts.\n",
      "gcsfs 2025.3.0 requires fsspec==2025.3.0, but you have fsspec 2024.12.0 which is incompatible.\u001b[0m\u001b[31m\n",
      "\u001b[0m"
     ]
    }
   ],
   "source": [
    "!pip install -U FlagEmbedding[finetune] --quiet"
   ]
  },
  {
   "cell_type": "markdown",
   "metadata": {
    "id": "GzgM6hJJyDwh"
   },
   "source": [
    "## 📃 Código"
   ]
  },
  {
   "cell_type": "markdown",
   "metadata": {},
   "source": [
    "### Imports"
   ]
  },
  {
   "cell_type": "code",
   "execution_count": 1,
   "metadata": {
    "id": "bY6uAAHG9qZv",
    "outputId": "bf0c6055-13a1-4dcd-99ce-59cef1bf9287"
   },
   "outputs": [
    {
     "name": "stdout",
     "output_type": "stream",
     "text": [
      "Wed Apr 23 11:55:04 2025       \n",
      "+---------------------------------------------------------------------------------------+\n",
      "| NVIDIA-SMI 535.183.01             Driver Version: 535.183.01   CUDA Version: 12.2     |\n",
      "|-----------------------------------------+----------------------+----------------------+\n",
      "| GPU  Name                 Persistence-M | Bus-Id        Disp.A | Volatile Uncorr. ECC |\n",
      "| Fan  Temp   Perf          Pwr:Usage/Cap |         Memory-Usage | GPU-Util  Compute M. |\n",
      "|                                         |                      |               MIG M. |\n",
      "|=========================================+======================+======================|\n",
      "|   0  NVIDIA A40                     Off | 00000000:15:00.0 Off |                    0 |\n",
      "|  0%   42C    P0              60W / 300W |      3MiB / 46068MiB |      0%      Default |\n",
      "|                                         |                      |                  N/A |\n",
      "+-----------------------------------------+----------------------+----------------------+\n",
      "|   1  NVIDIA GeForce RTX 3090        Off | 00000000:19:00.0 Off |                  N/A |\n",
      "| 56%   60C    P2             211W / 350W |  18448MiB / 24576MiB |     29%      Default |\n",
      "|                                         |                      |                  N/A |\n",
      "+-----------------------------------------+----------------------+----------------------+\n",
      "|   2  NVIDIA GeForce RTX 3090        Off | 00000000:1D:00.0 Off |                  N/A |\n",
      "| 67%   64C    P2             303W / 350W |  18912MiB / 24576MiB |     39%      Default |\n",
      "|                                         |                      |                  N/A |\n",
      "+-----------------------------------------+----------------------+----------------------+\n",
      "|   3  NVIDIA GeForce RTX 3090        Off | 00000000:96:00.0 Off |                  N/A |\n",
      "| 73%   69C    P2             341W / 350W |  21166MiB / 24576MiB |    100%      Default |\n",
      "|                                         |                      |                  N/A |\n",
      "+-----------------------------------------+----------------------+----------------------+\n",
      "|   4  NVIDIA RTX 4500 Ada Gene...    Off | 00000000:9A:00.0 Off |                  Off |\n",
      "| 31%   60C    P2             143W / 210W |  16836MiB / 24570MiB |     96%      Default |\n",
      "|                                         |                      |                  N/A |\n",
      "+-----------------------------------------+----------------------+----------------------+\n",
      "|   5  NVIDIA RTX 4500 Ada Gene...    Off | 00000000:9E:00.0 Off |                  Off |\n",
      "| 30%   60C    P2             147W / 210W |  17682MiB / 24570MiB |     91%      Default |\n",
      "|                                         |                      |                  N/A |\n",
      "+-----------------------------------------+----------------------+----------------------+\n",
      "                                                                                         \n",
      "+---------------------------------------------------------------------------------------+\n",
      "| Processes:                                                                            |\n",
      "|  GPU   GI   CI        PID   Type   Process name                            GPU Memory |\n",
      "|        ID   ID                                                             Usage      |\n",
      "|=======================================================================================|\n",
      "+---------------------------------------------------------------------------------------+\n"
     ]
    }
   ],
   "source": [
    "!nvidia-smi"
   ]
  },
  {
   "cell_type": "code",
   "execution_count": 2,
   "metadata": {
    "colab": {
     "base_uri": "https://localhost:8080/"
    },
    "executionInfo": {
     "elapsed": 2779,
     "status": "ok",
     "timestamp": 1742904426347,
     "user": {
      "displayName": "Jorge del Castillo Gómez",
      "userId": "03598089572284782268"
     },
     "user_tz": -60
    },
    "id": "7xpENAotyFnS",
    "outputId": "b35b592d-b662-48e5-8bc7-db66237acc47"
   },
   "outputs": [
    {
     "name": "stdout",
     "output_type": "stream",
     "text": [
      "Number of GPUs available: 6\n",
      "GPU 0: NVIDIA RTX 4500 Ada Generation\n",
      "GPU 1: NVIDIA RTX 4500 Ada Generation\n",
      "GPU 2: NVIDIA A40\n",
      "GPU 3: NVIDIA GeForce RTX 3090\n",
      "GPU 4: NVIDIA GeForce RTX 3090\n",
      "GPU 5: NVIDIA GeForce RTX 3090\n"
     ]
    }
   ],
   "source": [
    "# Setting up the device for GPU usage\n",
    "import torch\n",
    "from torch import cuda\n",
    "import json\n",
    "import time\n",
    "from huggingface_hub import list_datasets\n",
    "from datasets import load_dataset\n",
    "from datasets import Dataset, DownloadConfig\n",
    "from torch.utils.data import Dataset, DataLoader\n",
    "import sys\n",
    "import pandas as pd\n",
    "\n",
    "if torch.cuda.is_available():\n",
    "    num_gpus = torch.cuda.device_count()\n",
    "    print(f\"Number of GPUs available: {num_gpus}\")\n",
    "\n",
    "    for i in range(num_gpus):\n",
    "        print(f\"GPU {i}: {torch.cuda.get_device_name(i)}\")\n",
    "else:\n",
    "    print(\"CUDA is not available. Using CPU.\")\n",
    "\n"
   ]
  },
  {
   "cell_type": "code",
   "execution_count": 10,
   "metadata": {
    "id": "miYZk8P-9qZw"
   },
   "outputs": [],
   "source": [
    "device = torch.device(f'cuda:2')"
   ]
  },
  {
   "cell_type": "code",
   "execution_count": 11,
   "metadata": {
    "colab": {
     "base_uri": "https://localhost:8080/",
     "height": 36
    },
    "executionInfo": {
     "elapsed": 14,
     "status": "ok",
     "timestamp": 1742900960175,
     "user": {
      "displayName": "Jorge del Castillo Gómez",
      "userId": "03598089572284782268"
     },
     "user_tz": -60
    },
    "id": "-92PkuRe9qZw",
    "outputId": "66d3243a-5d0b-419f-8cd4-90e72b1110e1"
   },
   "outputs": [
    {
     "data": {
      "text/plain": [
       "'NVIDIA A40'"
      ]
     },
     "execution_count": 11,
     "metadata": {},
     "output_type": "execute_result"
    }
   ],
   "source": [
    "torch.cuda.get_device_name(device)"
   ]
  },
  {
   "cell_type": "code",
   "execution_count": 12,
   "metadata": {
    "colab": {
     "base_uri": "https://localhost:8080/"
    },
    "executionInfo": {
     "elapsed": 6,
     "status": "ok",
     "timestamp": 1742900962046,
     "user": {
      "displayName": "Jorge del Castillo Gómez",
      "userId": "03598089572284782268"
     },
     "user_tz": -60
    },
    "id": "c0v1uo0y9qZ2",
    "outputId": "84c77b19-efed-4c74-c0c1-139b728054bc"
   },
   "outputs": [
    {
     "name": "stdout",
     "output_type": "stream",
     "text": [
      "Usando GPU: cuda:2\n"
     ]
    }
   ],
   "source": [
    "print(f\"Usando GPU: {device}\")\n"
   ]
  },
  {
   "cell_type": "markdown",
   "metadata": {
    "id": "iiO8V_C1yQ6i",
    "jp-MarkdownHeadingCollapsed": true
   },
   "source": [
    "### Import Data from HuggingFace repository\n",
    "We import training set for LoRA and val set from the following link: https://huggingface.co/datasets/JORGEDC01/Demo1\n"
   ]
  },
  {
   "cell_type": "code",
   "execution_count": 5,
   "metadata": {
    "executionInfo": {
     "elapsed": 2462,
     "status": "ok",
     "timestamp": 1742900967646,
     "user": {
      "displayName": "Jorge del Castillo Gómez",
      "userId": "03598089572284782268"
     },
     "user_tz": -60
    },
    "id": "tOivzJRLyPOk"
   },
   "outputs": [
    {
     "name": "stdout",
     "output_type": "stream",
     "text": [
      "Note: you may need to restart the kernel to use updated packages.\n"
     ]
    }
   ],
   "source": [
    "%pip install datasets --quiet"
   ]
  },
  {
   "cell_type": "code",
   "execution_count": null,
   "metadata": {
    "colab": {
     "base_uri": "https://localhost:8080/"
    },
    "executionInfo": {
     "elapsed": 3496,
     "status": "ok",
     "timestamp": 1742904429859,
     "user": {
      "displayName": "Jorge del Castillo Gómez",
      "userId": "03598089572284782268"
     },
     "user_tz": -60
    },
    "id": "Fv4Gw3WTyp1q",
    "outputId": "23adc8ac-5c20-4ad8-993e-3d299964edf3"
   },
   "outputs": [],
   "source": [
    "datasets = list_datasets(author=\"JORGEDC01\")\n",
    "\n",
    "print([d.id for d in datasets])"
   ]
  },
  {
   "cell_type": "code",
   "execution_count": 9,
   "metadata": {},
   "outputs": [
    {
     "name": "stdout",
     "output_type": "stream",
     "text": [
      "zsh:1: command not found: ping\n"
     ]
    }
   ],
   "source": [
    "!ping huggingface.co"
   ]
  },
  {
   "cell_type": "code",
   "execution_count": null,
   "metadata": {
    "colab": {
     "base_uri": "https://localhost:8080/"
    },
    "executionInfo": {
     "elapsed": 3364,
     "status": "ok",
     "timestamp": 1742904433225,
     "user": {
      "displayName": "Jorge del Castillo Gómez",
      "userId": "03598089572284782268"
     },
     "user_tz": -60
    },
    "id": "v7bjylfBy4eq",
    "outputId": "8fdae515-28b0-4c02-d0cf-8bbd5054de0e"
   },
   "outputs": [],
   "source": [
    "data_files = {\"train\": \"e_train_distractors_LoRA_50k.jsonl\", \"val\": \"e_val_distractors_LoRA_split.jsonl\", \"test\": \"e_test_distractors_LoRA_split.jsonl\"}\n",
    "\n",
    "dataset = load_dataset(\"JORGEDC01/Demo1\", data_dir=\"LoRA_Data/Distractors\", data_files=data_files)\n",
    "print(dataset)\n",
    "\n",
    "train_dataset = dataset['train']\n",
    "val_dataset = dataset['val']\n",
    "test_dataset = dataset['test']\n",
    "\n",
    "df_train = pd.DataFrame(train_dataset)\n",
    "df_val = pd.DataFrame(val_dataset)\n",
    "df_test = pd.DataFrame(test_dataset)"
   ]
  },
  {
   "cell_type": "code",
   "execution_count": null,
   "metadata": {
    "colab": {
     "base_uri": "https://localhost:8080/",
     "height": 112
    },
    "executionInfo": {
     "elapsed": 98,
     "status": "ok",
     "timestamp": 1742904511506,
     "user": {
      "displayName": "Jorge del Castillo Gómez",
      "userId": "03598089572284782268"
     },
     "user_tz": -60
    },
    "id": "n9rCkWPA1Bwy",
    "outputId": "2e97f879-939e-440d-c21c-f1111cfa427b"
   },
   "outputs": [],
   "source": [
    "df_train.head(2)"
   ]
  },
  {
   "cell_type": "code",
   "execution_count": null,
   "metadata": {
    "executionInfo": {
     "elapsed": 5950,
     "status": "ok",
     "timestamp": 1742904517458,
     "user": {
      "displayName": "Jorge del Castillo Gómez",
      "userId": "03598089572284782268"
     },
     "user_tz": -60
    },
    "id": "XMYUdjC53fG6"
   },
   "outputs": [],
   "source": [
    "from transformers import AutoModelForCausalLM, AutoTokenizer, AutoModelForSequenceClassification\n",
    "tokenizer = AutoTokenizer.from_pretrained(\"unsloth/Llama-3.2-1B-bnb-4bit\")"
   ]
  },
  {
   "cell_type": "code",
   "execution_count": 11,
   "metadata": {
    "colab": {
     "base_uri": "https://localhost:8080/"
    },
    "executionInfo": {
     "elapsed": 15770,
     "status": "ok",
     "timestamp": 1742904533230,
     "user": {
      "displayName": "Jorge del Castillo Gómez",
      "userId": "03598089572284782268"
     },
     "user_tz": -60
    },
    "id": "Dm8e4a899qZ4",
    "outputId": "ab43513d-389c-497e-fe77-078ba89b8d4e"
   },
   "outputs": [
    {
     "name": "stderr",
     "output_type": "stream",
     "text": [
      "`low_cpu_mem_usage` was None, now default to True since model is quantized.\n"
     ]
    }
   ],
   "source": [
    "decoder = AutoModelForCausalLM.from_pretrained(\n",
    "    \"unsloth/Llama-3.2-1B-bnb-4bit\",\n",
    ")\n",
    "decoder = decoder.to(device)"
   ]
  },
  {
   "cell_type": "markdown",
   "metadata": {
    "id": "BoeuXK9J1YL7",
    "jp-MarkdownHeadingCollapsed": true
   },
   "source": [
    "### CustomDataset\n",
    "We'll prepare the dataset combining the embeddings generated by BGE. There are two types of labels:\n",
    "\n",
    "* When label = `SUPPORTS`, then: label = 0\n",
    "* When label = `REFUSES`, then: label = 1\n",
    "* When label = `NOT ENOUGH INFO`, then: label = 2"
   ]
  },
  {
   "cell_type": "code",
   "execution_count": 3,
   "metadata": {},
   "outputs": [
    {
     "name": "stdout",
     "output_type": "stream",
     "text": [
      "DatasetDict({\n",
      "    train: Dataset({\n",
      "        features: ['verifiable', 'label', 'claim', 'claim_embedding', 'evidence', 'distractors'],\n",
      "        num_rows: 50907\n",
      "    })\n",
      "    val: Dataset({\n",
      "        features: ['verifiable', 'label', 'claim', 'claim_embedding', 'evidence', 'distractors'],\n",
      "        num_rows: 10000\n",
      "    })\n",
      "    test: Dataset({\n",
      "        features: ['verifiable', 'label', 'claim', 'claim_embedding', 'evidence', 'distractors'],\n",
      "        num_rows: 9998\n",
      "    })\n",
      "})\n",
      "       verifiable            label  \\\n",
      "0      VERIFIABLE          REFUTES   \n",
      "1      VERIFIABLE         SUPPORTS   \n",
      "2  NOT VERIFIABLE  NOT ENOUGH INFO   \n",
      "3      VERIFIABLE          REFUTES   \n",
      "4  NOT VERIFIABLE  NOT ENOUGH INFO   \n",
      "\n",
      "                                               claim  \\\n",
      "0                          Haitian Creole is a book.   \n",
      "1  Loving tells the story of the 1967 U.S. Suprem...   \n",
      "2               Wyatt Earp took part in printmaking.   \n",
      "3  Azerbaijan lacks a high rate of economic devel...   \n",
      "4  The Hermetic Order of the Golden Dawn was devo...   \n",
      "\n",
      "                                     claim_embedding  \\\n",
      "0  [-0.0263465252, 0.0131574152, 0.0542918034, -0...   \n",
      "1  [-0.0248791277, 0.0372825973, -0.0372912735, -...   \n",
      "2  [-0.0230502971, -0.0110126687, -0.0184956677, ...   \n",
      "3  [0.0337020345, -0.009329279, -0.0021715346, 0....   \n",
      "4  [-0.0028813693, 0.0576057769, 0.0406517871, 0....   \n",
      "\n",
      "                                            evidence  \\\n",
      "0  [[-0.0293352734, -0.0057556927, -0.027055867, ...   \n",
      "1  [[0.0082621714, 0.0273972452, 0.0013023725, 0....   \n",
      "2                                                 []   \n",
      "3  [[-0.0044019758, -0.0044600801, -0.0048018768,...   \n",
      "4                                                 []   \n",
      "\n",
      "                                         distractors  \n",
      "0  [[-0.0384251662, -0.0133838328, 0.01634234, 0....  \n",
      "1  [[-0.0435798131, 0.0392882265, 0.0211881492, -...  \n",
      "2  [[-0.0480144694, 0.0365189873, -0.0310052503, ...  \n",
      "3  [[-0.051628001, -0.0102104293, -0.005184771, 0...  \n",
      "4  [[0.0040219352, 0.0376662426, 0.0405266546, -0...  \n"
     ]
    }
   ],
   "source": [
    "from datasets import load_dataset\n",
    "import pandas as pd\n",
    "\n",
    "data_files = {\n",
    "    \"train\": \"../data/e_train_distractors_LoRA_50k.jsonl\",\n",
    "    \"val\": \"../data/e_val_distractors_LoRA_split.jsonl\",\n",
    "    \"test\": \"../data/e_test_distractors_LoRA_split.jsonl\"\n",
    "}\n",
    "\n",
    "dataset = load_dataset(\"json\", data_files=data_files)\n",
    "\n",
    "print(dataset)\n",
    "\n",
    "train_dataset = dataset['train']\n",
    "val_dataset = dataset['val']\n",
    "test_dataset = dataset['test']\n",
    "\n",
    "df_train = pd.DataFrame(train_dataset)\n",
    "df_val = pd.DataFrame(val_dataset)\n",
    "df_test = pd.DataFrame(test_dataset)\n",
    "\n",
    "print(df_train.head())"
   ]
  },
  {
   "cell_type": "markdown",
   "metadata": {
    "id": "XGvBR1fY8tIC"
   },
   "source": [
    "##### Custom Dataset Complejo"
   ]
  },
  {
   "cell_type": "code",
   "execution_count": 4,
   "metadata": {
    "executionInfo": {
     "elapsed": 15,
     "status": "ok",
     "timestamp": 1742904533279,
     "user": {
      "displayName": "Jorge del Castillo Gómez",
      "userId": "03598089572284782268"
     },
     "user_tz": -60
    },
    "id": "khQUPhKW2HO7"
   },
   "outputs": [],
   "source": [
    "class CustomDatasetComplejo(Dataset):\n",
    "    def __init__(self, df, tokenizer, device):\n",
    "        self.df = df\n",
    "        self.tokenizer = tokenizer\n",
    "        self.targets = self.df['label']\n",
    "        self.device = device\n",
    "\n",
    "    def __len__(self):\n",
    "        return len(self.df)\n",
    "\n",
    "    def __getitem__(self, index):\n",
    "        row = self.df.iloc[index]\n",
    "\n",
    "        ### Obtener embeddings precalculados\n",
    "        emb_claim = torch.tensor(row['claim_embedding'], dtype=torch.float16).unsqueeze(0).to(self.device)  # (1, 384)\n",
    "        emds_evidences = [torch.tensor(e, dtype=torch.float16).unsqueeze(0).to(self.device) for e in row['evidence']]\n",
    "        filtered_evidences = [e for e in emds_evidences if e.shape == (1, 384)]\n",
    "        embs_distractors = [torch.tensor(d, dtype=torch.float16).unsqueeze(0).to(self.device) for d in row['distractors']]\n",
    "\n",
    "        encoder_bge_embeddings = torch.cat([emb_claim] + filtered_evidences + embs_distractors, dim=0).unsqueeze(0).to(self.device)  # (1, n, 384)\n",
    "\n",
    "        label_map = {'SUPPORTS': 0, 'REFUTES': 1, 'NOT ENOUGH INFO': 2}\n",
    "        label = torch.tensor(label_map[row['label']], dtype=torch.long).to(self.device)\n",
    "\n",
    "        attention_mask = torch.ones(1, encoder_bge_embeddings.shape[1], dtype=torch.long, device=self.device)\n",
    "\n",
    "        inputs = {\n",
    "            \"inputs_embeds\": encoder_bge_embeddings,\n",
    "            \"attention_mask\": attention_mask,\n",
    "            \"label\": label,\n",
    "        }\n",
    "\n",
    "        return inputs\n",
    "\n",
    "\n",
    "from torch.nn.utils.rnn import pad_sequence\n",
    "\n",
    "\n",
    "def custom_collate_fn_complejo(batch):\n",
    "    max_input_len = max(item['inputs_embeds'].size(1) for item in batch)  # Longitud máxima de inputs_embeds en el batch\n",
    "\n",
    "    pad_token_embed = torch.zeros((1, 384), dtype=torch.float16).to(batch[0]['inputs_embeds'].device)  # Padding de ceros con tamaño 384\n",
    "\n",
    "    padded_inputs = []\n",
    "    padded_attention_mask = []\n",
    "    labels = []\n",
    "\n",
    "    for item in batch:\n",
    "        ### Padding a los inputs_embeds hasta la longitud máxima (384 ya que no estamos proyectando)\n",
    "        current_len = item['inputs_embeds'].size(1)\n",
    "        padding_length = max_input_len - current_len\n",
    "        if padding_length > 0:\n",
    "            padding_embeds = pad_token_embed.expand(1, padding_length, -1)  # Expande el padding\n",
    "            padded_emb = torch.cat([item['inputs_embeds'], padding_embeds], dim=1)\n",
    "        else:\n",
    "            padded_emb = item['inputs_embeds']  # Sin padding\n",
    "\n",
    "        padded_inputs.append(padded_emb)\n",
    "\n",
    "        ### Padding a la attention_mask\n",
    "        padded_attention = torch.cat([item['attention_mask'], torch.zeros(1, padding_length, dtype=torch.long, device=item['attention_mask'].device)], dim=1)\n",
    "        padded_attention_mask.append(padded_attention)\n",
    "\n",
    "        ### Guardar labels\n",
    "        labels.append(item['label'])\n",
    "\n",
    "    inputs_embeds = torch.cat(padded_inputs, dim=0)  # [batch_size, max_seq_len, embedding_dim]\n",
    "    attention_mask = torch.cat(padded_attention_mask, dim=0)  # [batch_size, max_seq_len]\n",
    "    labels = torch.tensor(labels, dtype=torch.long, device=inputs_embeds.device)  # [batch_size]\n",
    "\n",
    "    return {\n",
    "        'inputs_embeds': inputs_embeds,\n",
    "        'attention_mask': attention_mask,\n",
    "        'labels': labels,\n",
    "    }\n"
   ]
  },
  {
   "cell_type": "code",
   "execution_count": 5,
   "metadata": {
    "executionInfo": {
     "elapsed": 10,
     "status": "ok",
     "timestamp": 1742904533526,
     "user": {
      "displayName": "Jorge del Castillo Gómez",
      "userId": "03598089572284782268"
     },
     "user_tz": -60
    },
    "id": "bsibRZnwNgtG"
   },
   "outputs": [],
   "source": [
    "def inicialize_loaders(df_train, df_val, df_test, tokenizer, device, params):\n",
    "    \n",
    "    train_dataset = CustomDatasetComplejo(df_train, tokenizer, device)\n",
    "    val_dataset = CustomDatasetComplejo(df_val, tokenizer, device)\n",
    "    test_dataset = CustomDatasetComplejo(df_test, tokenizer, device)\n",
    "    \n",
    "    train_params = params\n",
    "    \n",
    "    val_params = params\n",
    "    \n",
    "    test_params = params\n",
    "    \n",
    "    training_loader = DataLoader(train_dataset, **train_params, collate_fn = custom_collate_fn_complejo)\n",
    "    val_loader = DataLoader(val_dataset, **val_params, collate_fn = custom_collate_fn_complejo)\n",
    "    test_loader = DataLoader(test_dataset, **test_params, collate_fn = custom_collate_fn_complejo)\n",
    "\n",
    "    return training_loader, val_loader, test_loader"
   ]
  },
  {
   "cell_type": "markdown",
   "metadata": {
    "id": "vAK0FK45VYk-",
    "jp-MarkdownHeadingCollapsed": true
   },
   "source": [
    "#### Modelo\n",
    "\n",
    "**Primer modelo**: el siguiente modelo que usa la representación CLS no evoluciona. ¡Queda descartado!"
   ]
  },
  {
   "cell_type": "code",
   "execution_count": 30,
   "metadata": {
    "colab": {
     "base_uri": "https://localhost:8080/"
    },
    "executionInfo": {
     "elapsed": 3876,
     "status": "ok",
     "timestamp": 1742904537403,
     "user": {
      "displayName": "Jorge del Castillo Gómez",
      "userId": "03598089572284782268"
     },
     "user_tz": -60
    },
    "id": "JtYiiJlZVXv2",
    "outputId": "3e2b11e7-ae5a-4697-d410-c99423dffece",
    "scrolled": true
   },
   "outputs": [],
   "source": [
    "import torch\n",
    "import torch.nn as nn\n",
    "import torch.nn.functional as F\n",
    "\n",
    "# Este modelo que utiliza la representacion del CLS no progresa\n",
    "class Llama2Classifier_1(nn.Module):\n",
    "    def __init__(self, decoder, num_classes=3):\n",
    "        super(Llama2Classifier_1, self).__init__()\n",
    "\n",
    "        self.size_encoder_embds = 384  # Tamaño original de los embeddings contextuales\n",
    "        self.size_llm_embds = 2048     # Tamaño de los embeddings proyectados\n",
    "        self.num_classes = num_classes # Número de clases de salida\n",
    "        self.decoder = decoder\n",
    "        self.decoder = self.decoder.to(device)\n",
    "\n",
    "        # Capa de proyección lineal de 384 a 2048 (como en el modelo Llama2_1B)\n",
    "        self.linear_projection = nn.Linear(self.size_encoder_embds, self.size_llm_embds)  \n",
    "        self.dropout = nn.Dropout(0.3)\n",
    "        self.classifier = nn.Linear(self.size_llm_embds, num_classes)  # Capa final de clasificación\n",
    "\n",
    "    def forward(self, inputs_embeds, attention_mask):\n",
    "        batch_size = inputs_embeds.size(0)\n",
    "        encoder_embeds = [] \n",
    "\n",
    "        # (1) Proyección de los embeddings contextuales\n",
    "        encoder_embeds = inputs_embeds  # Usamos los inputs_embeds tal cual están\n",
    "        \n",
    "        encoder_embeds = encoder_embeds.to(torch.float32)\n",
    "            \n",
    "        # proyección de los embeddings contextuales a un tamaño de 2048\n",
    "        projected_embeds = self.linear_projection(encoder_embeds)  # Proyección lineal\n",
    "        projected_embeds = projected_embeds.to(torch.float32)\n",
    "\n",
    "        attention_mask = attention_mask.to(device).to(torch.float32)\n",
    "        \n",
    "        decoder_output = self.decoder(\n",
    "            inputs_embeds=projected_embeds,\n",
    "            attention_mask=attention_mask,\n",
    "            output_hidden_states=True\n",
    "        )\n",
    "\n",
    "        # embedding correspondiente al token [CLS] o equivalente en LLaMA\n",
    "        pooled_output = decoder_output.hidden_states[-1][:, 0, :]  # Tomar la primera posición como la representación\n",
    "        pooled_output = pooled_output.to(torch.float32)\n",
    "\n",
    "        logits = self.classifier(self.dropout(pooled_output))\n",
    "        return logits  # Logits para la clasificación (dim: [batch_size, num_classes])\n"
   ]
  },
  {
   "cell_type": "markdown",
   "metadata": {},
   "source": [
    "## \n",
    "---"
   ]
  },
  {
   "cell_type": "markdown",
   "metadata": {},
   "source": [
    "## **Experimentos**"
   ]
  },
  {
   "cell_type": "code",
   "execution_count": 6,
   "metadata": {
    "executionInfo": {
     "elapsed": 7,
     "status": "ok",
     "timestamp": 1742904537412,
     "user": {
      "displayName": "Jorge del Castillo Gómez",
      "userId": "03598089572284782268"
     },
     "user_tz": -60
    },
    "id": "iLfRxRpNR65M"
   },
   "outputs": [],
   "source": [
    "loss = torch.nn.CrossEntropyLoss()\n",
    "\n",
    "def loss_fn(outputs, targets):\n",
    "    targets = targets.long()  # Asegurar que los targets sean enteros\n",
    "    return loss(outputs, targets)"
   ]
  },
  {
   "cell_type": "markdown",
   "metadata": {},
   "source": [
    "### **Experimentos iniciales**"
   ]
  },
  {
   "cell_type": "markdown",
   "metadata": {
    "jp-MarkdownHeadingCollapsed": true
   },
   "source": [
    "#### 👉 **1º Experimento. Comparación del rendimiento de Llama2 importado de AutoModelForCausalLM y de AutoModelForSequenceClassification**\n",
    "\n",
    "La idea es comparar el modelo AutoModelForSequenceClassification con el AutoModelForCausalLM.\n",
    "\n",
    "*Las métricas de este experimento no persisten en ningún json*"
   ]
  },
  {
   "cell_type": "markdown",
   "metadata": {
    "id": "FMHTbJVAR3x_"
   },
   "source": [
    "> train"
   ]
  },
  {
   "cell_type": "code",
   "execution_count": 15,
   "metadata": {
    "executionInfo": {
     "elapsed": 9,
     "status": "ok",
     "timestamp": 1742904537438,
     "user": {
      "displayName": "Jorge del Castillo Gómez",
      "userId": "03598089572284782268"
     },
     "user_tz": -60
    },
    "id": "PI9NgTlmR3Gf"
   },
   "outputs": [],
   "source": [
    "from torch.cuda.amp import autocast, GradScaler\n",
    "from sklearn.metrics import accuracy_score, precision_recall_fscore_support, confusion_matrix\n",
    "import matplotlib.pyplot as plt\n",
    "import seaborn as sns\n",
    "\n",
    "def save_experiment(model_n, description, hyperparams, metrics, test_metrics, confusion_matrix, best_epoch, total_duration):\n",
    "    experiment = {\n",
    "        \"id\": model_n,\n",
    "        \"description\": description,\n",
    "        \"hyperparameters\": hyperparams,\n",
    "        \"metrics\": metrics,\n",
    "        \"test_metrics\": test_metrics,\n",
    "        \"confusion_matrix\": confusion_matrix.tolist(),\n",
    "        \"best_epoch\": best_epoch,\n",
    "        \"time_train\": total_duration\n",
    "    }\n",
    "    \n",
    "    try:\n",
    "        with open(\"./initial_experiments_noLoRA.json\", \"r\") as f:\n",
    "            experiments = json.load(f)\n",
    "    except (FileNotFoundError, json.JSONDecodeError):\n",
    "        experiments = []\n",
    "    \n",
    "    experiments.append(experiment)\n",
    "    \n",
    "    with open(\"./initial_experiments_noLoRA.json\", \"w\") as f:\n",
    "        json.dump(experiments, f, indent=4)\n",
    "\n",
    "\n",
    "\n",
    "''' -------------------------------------------------------------------------  '''\n",
    "''' -------------------------------------------------------------------------  '''\n",
    "''' -------------------------------------------------------------------------  '''\n",
    "\n",
    "def evaluate_test(model, test_loader, best_model_path):\n",
    "    \n",
    "    state_dict = torch.load(best_model_path, map_location=device)\n",
    "    filtered_state_dict = {k: v for k, v in state_dict.items() if k in model.state_dict()}\n",
    "    model.load_state_dict(filtered_state_dict, strict=False)\n",
    "    \n",
    "    model.eval()\n",
    "    \n",
    "    all_preds, all_labels = [], []\n",
    "    all_labels = []\n",
    "    with torch.no_grad():\n",
    "        for data in test_loader:\n",
    "            inputs_embeds = data['inputs_embeds'].to(device)\n",
    "            attention_mask = data['attention_mask'].to(device).to(torch.float32)\n",
    "            labels = data['labels'].to(device).long()\n",
    "            \n",
    "            logits = model(inputs_embeds, attention_mask)\n",
    "            preds = torch.argmax(logits, dim=1)\n",
    "            \n",
    "            all_preds.extend(preds.cpu().numpy())\n",
    "            all_labels.extend(labels.cpu().numpy())\n",
    "    \n",
    "    acc = accuracy_score(all_labels, all_preds)\n",
    "    precision, recall, f1, _ = precision_recall_fscore_support(all_labels, all_preds, average='weighted')\n",
    "    test_metrics = {\"accuracy\": acc, \"precision\": precision, \"recall\": recall, \"f1_score\": f1}\n",
    "\n",
    "    cm = confusion_matrix(all_labels, all_preds)\n",
    "    \n",
    "    print(f\"Test Accuracy: {acc:.4f}, Precision: {precision:.4f}, Recall: {recall:.4f}, F1-score: {f1:.4f}\")\n",
    "    \n",
    "    plt.figure(figsize=(6, 5))\n",
    "    sns.heatmap(cm, annot=True, fmt='d', cmap='Blues', xticklabels=[0, 1, 2], yticklabels=[0, 1, 2])\n",
    "    plt.xlabel(\"Predicted\")\n",
    "    plt.ylabel(\"Actual\")\n",
    "    plt.title(\"Confusion Matrix\")\n",
    "    plt.show()\n",
    "\n",
    "    return test_metrics, cm\n",
    "    \n",
    "\n",
    "\n",
    "''' -------------------------------------------------------------------------  '''\n",
    "''' -------------------------------------------------------------------------  '''\n",
    "''' -------------------------------------------------------------------------  '''\n",
    "\n",
    "def train(epochs, model, training_loader, val_loader, optimizer, learning_rate, batch_size, dropout, patience=3, model_n=0, description=\"\"):\n",
    "    model.train()\n",
    "    model.to(device)  \n",
    "    \n",
    "    batches = len(training_loader)\n",
    "    scaler = GradScaler()\n",
    "    \n",
    "    metrics = {\"train\": [], \"val\": []}\n",
    "    total_start_time = time.time()\n",
    "    best_val_loss = float('inf')\n",
    "    best_model_path = f\"./Models/noLoRA_best_model_{model_n}.pth\"\n",
    "    no_improve_epochs = 0\n",
    "        \n",
    "    for epoch in range(epochs):\n",
    "        total_loss = 0\n",
    "        total_correct = 0\n",
    "        total_samples = 0\n",
    "        epoch_start_time = time.time()\n",
    "\n",
    "        for i, data in enumerate(training_loader, 0):\n",
    "            \n",
    "            inputs_embeds = data['inputs_embeds'].to(device)\n",
    "            attention_mask = data['attention_mask'].to(device).to(torch.float32)\n",
    "            labels = data['labels'].to(device).long()\n",
    "    \n",
    "            optimizer.zero_grad()\n",
    "            \n",
    "            for param in model.parameters():\n",
    "                if param.requires_grad:\n",
    "                    param.data = param.data.to(torch.float32)\n",
    "                    if param.grad is not None:\n",
    "                        param.grad.data = param.grad.data.to(torch.float32)\n",
    "    \n",
    "            logits = model(inputs_embeds, attention_mask)\n",
    "            loss = loss_fn(logits, labels)\n",
    "    \n",
    "            scaler.scale(loss).backward() # multiplica la pérdida por un factor de escala interno del GradScaler. Cuando trabajamos con float16, los gradientes pueden volverse muy pequeños (subdesbordamiento, es decir, se redondean a 0).\n",
    "            scaler.unscale_(optimizer)    # Dado que scaler.scale(loss).backward() generó gradientes escalados, esta línea revierte el escalado. Si no se desescala, los gradientes serían demasiado grandes y la actualización del optimizador sería incorrecta.\n",
    "            torch.nn.utils.clip_grad_norm_(model.parameters(), max_norm=1.0) # Esto ayuda a evitar la explosión de gradientes, un problema donde los gradientes se vuelven tan grandes que la actualización de pesos se vuelve inestable.\n",
    "            scaler.step(optimizer) \n",
    "            scaler.update()\n",
    "            \n",
    "            total_loss += loss.item()\n",
    "            preds = torch.argmax(logits, dim=1)\n",
    "            total_correct += (preds == labels).sum().item()\n",
    "            total_samples += labels.size(0)\n",
    "        \n",
    "        train_loss = total_loss / batches\n",
    "        train_acc = total_correct / total_samples\n",
    "        \n",
    "        # Evaluación\n",
    "        model.eval()\n",
    "        val_loss, all_preds, all_labels = 0, [], []\n",
    "        with torch.no_grad():\n",
    "            for data in val_loader:\n",
    "                inputs_embeds = data['inputs_embeds'].to(device)\n",
    "                attention_mask = data['attention_mask'].to(device).to(torch.float32)\n",
    "                labels = data['labels'].to(device).long()\n",
    "                \n",
    "                logits = model(inputs_embeds, attention_mask)\n",
    "                loss = loss_fn(logits, labels)\n",
    "                val_loss += loss.item()\n",
    "                preds = torch.argmax(logits, dim=1)\n",
    "                \n",
    "                all_preds.extend(preds.cpu().numpy())\n",
    "                all_labels.extend(labels.cpu().numpy())\n",
    "        \n",
    "        val_loss /= len(val_loader)\n",
    "        acc = accuracy_score(all_labels, all_preds)\n",
    "        precision, recall, f1, _ = precision_recall_fscore_support(all_labels, all_preds, average='weighted')\n",
    "        \n",
    "        epoch_duration = (time.time() - epoch_start_time) / 60\n",
    "        print(f\"Epoch {epoch+1}/{epochs} | tr_loss: {train_loss:.4f}, tr_acc: {train_acc:.4f}, val_loss: {val_loss:.4f}, val_acc: {acc:.4f}, Prec: {precision:.4f}, Recall: {recall:.4f}, F1-score: {f1:.4f}\")\n",
    "        \n",
    "        metrics[\"train\"].append({\"epoch\": epoch+1, \"loss\": train_loss, \"accuracy\": train_acc})\n",
    "        metrics[\"val\"].append({\"epoch\": epoch+1, \"loss\": val_loss, \"accuracy\": acc, \"precision\": precision, \"recall\": recall, \"f1_score\": f1})\n",
    "        \n",
    "        if val_loss < best_val_loss:\n",
    "            best_val_loss = val_loss\n",
    "            best_epoch = epoch + 1\n",
    "            torch.save(model.state_dict(), best_model_path)\n",
    "            no_improve_epochs = 0  # Reset counter\n",
    "        else:\n",
    "            no_improve_epochs += 1\n",
    "        \n",
    "        # Early stopping\n",
    "        if no_improve_epochs >= patience:\n",
    "            print(f\"Early stopping triggered after {epoch+1} epochs. No improvement in validation loss for {patience} consecutive epochs.\")\n",
    "            break\n",
    "    \n",
    "    total_duration = (time.time() - total_start_time) / 60  \n",
    "    print(f\"Total training time: {total_duration:.2f} min\")\n",
    "    \n",
    "    test_metrics, cm = evaluate_test(model, test_loader, best_model_path)\n",
    "    hyperparams = {\"epochs\": epochs, \"optimizer\": str(optimizer), \"learning_rate\": learning_rate, \"batch_size\": batch_size, \"dropout\": dropout, \"patience\": patience}\n",
    "    save_experiment(model_n, description, hyperparams, metrics, test_metrics, cm, best_epoch, total_duration)"
   ]
  },
  {
   "cell_type": "markdown",
   "metadata": {
    "jp-MarkdownHeadingCollapsed": true
   },
   "source": [
    "##### Con AutoModelForCausalLM\n",
    "- Decoder con AutoModelForCausalLM\n",
    "- Learning rate de 1e-4"
   ]
  },
  {
   "cell_type": "code",
   "execution_count": 14,
   "metadata": {},
   "outputs": [],
   "source": [
    "import torch\n",
    "import torch.nn as nn\n",
    "import torch.nn.functional as F\n",
    "\n",
    "class Llama2Classifier_2(nn.Module):\n",
    "    def __init__(self, decoder, num_classes=3):\n",
    "        super(Llama2Classifier_2, self).__init__()\n",
    "\n",
    "        self.size_encoder_embds = 384  # Tamaño original de los embeddings contextuales\n",
    "        self.size_llm_embds = 2048     # Tamaño de los embeddings proyectados\n",
    "        self.num_classes = num_classes # Número de clases de salida\n",
    "        self.decoder = decoder\n",
    "        self.decoder = self.decoder.to(device)\n",
    "\n",
    "        # Capa de proyección lineal de 384 a 2048 (como en el modelo Llama2_1B)\n",
    "        self.linear_projection = nn.Linear(self.size_encoder_embds, self.size_llm_embds)  \n",
    "        self.dropout = nn.Dropout(0.3)\n",
    "        self.classifier = nn.Linear(self.size_llm_embds, num_classes)  # Capa final de clasificación\n",
    "\n",
    "    def forward(self, inputs_embeds, attention_mask):\n",
    "        batch_size = inputs_embeds.size(0)\n",
    "        encoder_embeds = [] \n",
    "\n",
    "        # (1) Proyección de los embeddings contextuales\n",
    "        encoder_embeds = inputs_embeds  # Usamos los inputs_embeds tal cual están\n",
    "        \n",
    "        encoder_embeds = encoder_embeds.to(torch.float32)\n",
    "            \n",
    "        # proyección de los embeddings contextuales a un tamaño de 2048\n",
    "        projected_embeds = self.linear_projection(encoder_embeds)  # Proyección lineal\n",
    "        projected_embeds = projected_embeds.to(torch.float32)\n",
    "\n",
    "        attention_mask = attention_mask.to(device).to(torch.float32)\n",
    "        \n",
    "        decoder_output = self.decoder(\n",
    "            inputs_embeds=projected_embeds,\n",
    "            attention_mask=attention_mask,\n",
    "            output_hidden_states=True\n",
    "        )\n",
    "\n",
    "        hidden_states = decoder_output.hidden_states  \n",
    "        last_hidden_state = hidden_states[-1] # la última capa de hidden states\n",
    "\n",
    "        # Agregar las salidas a través de la secuencia (puedes usar promedio o sumatoria)\n",
    "        aggregated_output = torch.sum(last_hidden_state, dim=1)  # Promedio las salidas\n",
    "\n",
    "        logits = self.classifier(self.dropout(aggregated_output))\n",
    "        return logits  # Logits para la clasificación (dim: [batch_size, num_classes])"
   ]
  },
  {
   "cell_type": "code",
   "execution_count": 20,
   "metadata": {
    "colab": {
     "base_uri": "https://localhost:8080/"
    },
    "executionInfo": {
     "elapsed": 1581,
     "status": "ok",
     "timestamp": 1742904539021,
     "user": {
      "displayName": "Jorge del Castillo Gómez",
      "userId": "03598089572284782268"
     },
     "user_tz": -60
    },
    "id": "vla8jdP9bHon",
    "outputId": "5a844c94-c437-4964-9911-e4c222ef9211"
   },
   "outputs": [
    {
     "name": "stderr",
     "output_type": "stream",
     "text": [
      "`low_cpu_mem_usage` was None, now default to True since model is quantized.\n"
     ]
    },
    {
     "name": "stdout",
     "output_type": "stream",
     "text": [
      "Epoch 1/10 | tr_loss: 2.9519, tr_acc: 0.5131, val_loss: 1.5554, val_acc: 0.6022, Prec: 0.7180, Recall: 0.6022, F1-score: 0.5882\n",
      "Epoch 2/10 | tr_loss: 0.8692, tr_acc: 0.7168, val_loss: 0.8790, val_acc: 0.6533, Prec: 0.7426, Recall: 0.6533, F1-score: 0.6350\n",
      "Epoch 3/10 | tr_loss: 0.7729, tr_acc: 0.7448, val_loss: 0.7509, val_acc: 0.6803, Prec: 0.7308, Recall: 0.6803, F1-score: 0.6683\n",
      "Epoch 4/10 | tr_loss: 0.6880, tr_acc: 0.7571, val_loss: 0.7585, val_acc: 0.6884, Prec: 0.7622, Recall: 0.6884, F1-score: 0.6696\n",
      "Epoch 5/10 | tr_loss: 0.5725, tr_acc: 0.7971, val_loss: 0.7063, val_acc: 0.7234, Prec: 0.7709, Recall: 0.7234, F1-score: 0.7021\n",
      "Epoch 6/10 | tr_loss: 0.5371, tr_acc: 0.8012, val_loss: 0.9188, val_acc: 0.6195, Prec: 0.7448, Recall: 0.6195, F1-score: 0.6118\n",
      "Epoch 7/10 | tr_loss: 0.5081, tr_acc: 0.8093, val_loss: 0.7105, val_acc: 0.7297, Prec: 0.7731, Recall: 0.7297, F1-score: 0.7084\n",
      "Epoch 8/10 | tr_loss: 0.4745, tr_acc: 0.8253, val_loss: 0.6482, val_acc: 0.7393, Prec: 0.7580, Recall: 0.7393, F1-score: 0.7243\n",
      "Epoch 9/10 | tr_loss: 0.4180, tr_acc: 0.8413, val_loss: 0.6864, val_acc: 0.7442, Prec: 0.7612, Recall: 0.7442, F1-score: 0.7298\n",
      "Epoch 10/10 | tr_loss: 0.3841, tr_acc: 0.8537, val_loss: 0.7456, val_acc: 0.7344, Prec: 0.7736, Recall: 0.7344, F1-score: 0.7136\n",
      "Total training time: 31.36 min\n",
      "Metrics saved to training_metrics_1.json\n"
     ]
    }
   ],
   "source": [
    "import warnings\n",
    "warnings.simplefilter(\"ignore\", category=FutureWarning)\n",
    "\n",
    "params = {'batch_size': 256, 'shuffle': True, 'num_workers': 0}\n",
    "training_loader, val_loader, test_loader = inicialize_loaders(df_train, df_val, df_test, tokenizer, device, params)\n",
    "\n",
    "decoder = AutoModelForCausalLM.from_pretrained(\"unsloth/Llama-3.2-1B-bnb-4bit\",)\n",
    "decoder = decoder.to(device)\n",
    "\n",
    "model = Llama2Classifier_2(decoder, num_classes=3)\n",
    "model = model.to(device)\n",
    "\n",
    "optimizer = torch.optim.Adam(params =  model.parameters(), lr=1e-4)\n",
    "\n",
    "train(10, model, training_loader, val_loader, optimizer, patience=6, model_n=1)"
   ]
  },
  {
   "cell_type": "code",
   "execution_count": 21,
   "metadata": {},
   "outputs": [
    {
     "name": "stdout",
     "output_type": "stream",
     "text": [
      "Test Accuracy: 0.7139, Precision: 0.7565, Recall: 0.7139, F1-score: 0.6890\n"
     ]
    },
    {
     "data": {
      "image/png": "[encoded data removed]",
      "text/plain": [
       "<Figure size 600x500 with 2 Axes>"
      ]
     },
     "metadata": {},
     "output_type": "display_data"
    }
   ],
   "source": [
    "evaluate_test(model, test_loader)"
   ]
  },
  {
   "cell_type": "markdown",
   "metadata": {
    "jp-MarkdownHeadingCollapsed": true
   },
   "source": [
    "##### Con AutoModelForSequenceClassification\n",
    "- Decoder importado de AutoModelForSequenceClassification\n",
    "- Learning rate de 1e-4."
   ]
  },
  {
   "cell_type": "code",
   "execution_count": 22,
   "metadata": {},
   "outputs": [],
   "source": [
    "import torch\n",
    "import torch.nn as nn\n",
    "import torch.nn.functional as F\n",
    "from transformers import AutoModelForSequenceClassification\n",
    "\n",
    "class Llama2Classifier_3(nn.Module):\n",
    "    def __init__(self, num_classes=3):\n",
    "        super(Llama2Classifier_3, self).__init__()\n",
    "        self.size_encoder_embds = 384   # Tamaño original de los embeddings contextuales\n",
    "        self.size_llm_embds = 2048      # Tamaño de los embeddings proyectados\n",
    "        self.num_classes = num_classes  # Número de clases de salida\n",
    "        self.model = AutoModelForSequenceClassification.from_pretrained(\"unsloth/Llama-3.2-1B-bnb-4bit\", num_labels=num_classes)\n",
    "        self.model = self.model.to(device)\n",
    "        self.linear_projection = nn.Linear(self.size_encoder_embds, self.size_llm_embds)  \n",
    "\n",
    "    def forward(self, inputs_embeds, attention_mask):\n",
    "\n",
    "        encoder_embeds = inputs_embeds  # Usamos los inputs_embeds tal cual están\n",
    "        encoder_embeds = encoder_embeds.to(torch.float32)\n",
    "            \n",
    "        projected_embeds = self.linear_projection(encoder_embeds)  # Proyección lineal\n",
    "        projected_embeds = projected_embeds.to(torch.float32)\n",
    "\n",
    "        attention_mask = attention_mask.to(device).to(torch.float32)\n",
    "        \n",
    "        attention_mask = attention_mask.to(device).to(torch.float32)\n",
    "        outputs = self.model(inputs_embeds=projected_embeds, attention_mask=attention_mask)\n",
    "        logits = outputs.logits  # Obtener los logits directamente\n",
    "        return logits  # Logits para la clasificación (dim: [batch_size, num_classes])\n"
   ]
  },
  {
   "cell_type": "code",
   "execution_count": 27,
   "metadata": {},
   "outputs": [
    {
     "name": "stderr",
     "output_type": "stream",
     "text": [
      "`low_cpu_mem_usage` was None, now default to True since model is quantized.\n",
      "Some weights of LlamaForSequenceClassification were not initialized from the model checkpoint at unsloth/Llama-3.2-1B-bnb-4bit and are newly initialized: ['score.weight']\n",
      "You should probably TRAIN this model on a down-stream task to be able to use it for predictions and inference.\n"
     ]
    },
    {
     "name": "stdout",
     "output_type": "stream",
     "text": [
      "Epoch 1/10 | tr_loss: 0.6402, tr_acc: 0.7462, val_loss: 0.6606, val_acc: 0.7215, Prec: 0.7688, Recall: 0.7215, F1-score: 0.7030\n",
      "Epoch 2/10 | tr_loss: 0.4373, tr_acc: 0.8317, val_loss: 0.5940, val_acc: 0.7453, Prec: 0.7670, Recall: 0.7453, F1-score: 0.7318\n",
      "Epoch 3/10 | tr_loss: 0.3678, tr_acc: 0.8531, val_loss: 0.6280, val_acc: 0.7409, Prec: 0.7742, Recall: 0.7409, F1-score: 0.7263\n",
      "Epoch 4/10 | tr_loss: 0.3139, tr_acc: 0.8758, val_loss: 0.6200, val_acc: 0.7501, Prec: 0.7668, Recall: 0.7501, F1-score: 0.7400\n",
      "Epoch 5/10 | tr_loss: 0.2664, tr_acc: 0.8954, val_loss: 0.6878, val_acc: 0.7422, Prec: 0.7646, Recall: 0.7422, F1-score: 0.7298\n",
      "Epoch 6/10 | tr_loss: 0.2249, tr_acc: 0.9123, val_loss: 0.7323, val_acc: 0.7449, Prec: 0.7617, Recall: 0.7449, F1-score: 0.7333\n",
      "Epoch 7/10 | tr_loss: 0.1850, tr_acc: 0.9298, val_loss: 0.7443, val_acc: 0.7513, Prec: 0.7561, Recall: 0.7513, F1-score: 0.7416\n",
      "Epoch 8/10 | tr_loss: 0.1487, tr_acc: 0.9463, val_loss: 0.8372, val_acc: 0.7372, Prec: 0.7590, Recall: 0.7372, F1-score: 0.7250\n",
      "Early stopping triggered after 8 epochs. No improvement in validation loss for 6 consecutive epochs.\n",
      "Total training time: 21.97 min\n",
      "Metrics saved to training_metrics_1.json\n"
     ]
    }
   ],
   "source": [
    "import warnings\n",
    "warnings.simplefilter(\"ignore\", category=FutureWarning)\n",
    "\n",
    "params = {'batch_size': 256, 'shuffle': True, 'num_workers': 0}\n",
    "training_loader, val_loader, test_loader = inicialize_loaders(df_train, df_val, df_test, tokenizer, device, params)\n",
    "\n",
    "model = Llama2Classifier_3(num_classes=3)\n",
    "model = model.to(device)\n",
    "\n",
    "optimizer = torch.optim.Adam(params =  model.parameters(), lr=1e-4)\n",
    "\n",
    "train(10, model, training_loader, val_loader, optimizer, patience=6)"
   ]
  },
  {
   "cell_type": "code",
   "execution_count": 30,
   "metadata": {},
   "outputs": [
    {
     "name": "stdout",
     "output_type": "stream",
     "text": [
      "Test Accuracy: 0.7199, Precision: 0.7462, Recall: 0.7199, F1-score: 0.7055\n"
     ]
    },
    {
     "data": {
      "image/png": "[encoded data removed]",
      "text/plain": [
       "<Figure size 600x500 with 2 Axes>"
      ]
     },
     "metadata": {},
     "output_type": "display_data"
    }
   ],
   "source": [
    "evaluate_test(model, test_loader)"
   ]
  },
  {
   "cell_type": "markdown",
   "metadata": {
    "jp-MarkdownHeadingCollapsed": true
   },
   "source": [
    "#### 👉 2º Experimento. Modelado Exploratorio de Llama2 importado desde AutoModelForCausalLM (Adam y AdamW)\n",
    "\n",
    "Se comparan los resultados usando dos optimizadores diferentes, para evaluar si la elección de algunos hiperparámetros es clave en el entrenamiento del modelo, cuyo decoder es importado desde AutoModelForCausalLM."
   ]
  },
  {
   "cell_type": "code",
   "execution_count": null,
   "metadata": {},
   "outputs": [],
   "source": [
    "import warnings\n",
    "warnings.simplefilter(\"ignore\", category=FutureWarning)\n",
    "\n",
    "experiments = [\n",
    "    {\"lr\": 5e-5, \"dropout\": 0.4, \"batch_size\": 128, \"optimizer\": \"Adam\"},  \n",
    "    {\"lr\": 3e-5, \"dropout\": 0.3, \"batch_size\": 256, \"optimizer\": \"AdamW\"}  \n",
    "]\n",
    "\n",
    "optimizers = {\n",
    "    \"Adam\": lambda model, lr: torch.optim.Adam(model.parameters(), lr=lr),\n",
    "    \"AdamW\": lambda model, lr: torch.optim.AdamW(model.parameters(), lr=lr, weight_decay=1e-2)\n",
    "}\n",
    "\n",
    "for i, exp in enumerate(experiments, start=3):  \n",
    "\n",
    "    params = {'batch_size': exp[\"batch_size\"], 'shuffle': True, 'num_workers': 0}\n",
    "    training_loader, val_loader, test_loader = inicialize_loaders(df_train, df_val, df_test, tokenizer, device, params)\n",
    "    \n",
    "    model = Llama2Classifier_2(decoder, num_classes=3).to(device)\n",
    "    optimizer = optimizers[exp[\"optimizer\"]](model, exp[\"lr\"])\n",
    "    \n",
    "    train(\n",
    "        epochs=20,  \n",
    "        model=model,\n",
    "        training_loader=training_loader,\n",
    "        val_loader=val_loader,\n",
    "        optimizer=optimizer,\n",
    "        learning_rate=exp[\"lr\"],\n",
    "        batch_size=exp[\"batch_size\"],\n",
    "        dropout=exp[\"dropout\"],\n",
    "        patience=5,\n",
    "        model_n=i,\n",
    "        description=f\"Exp {i}: Optimizer={exp['optimizer']}, lr={exp['lr']}, dropout={exp['dropout']}, batch_size={exp['batch_size']}\",\n",
    "    )\n"
   ]
  },
  {
   "cell_type": "code",
   "execution_count": 6,
   "metadata": {},
   "outputs": [
    {
     "name": "stdout",
     "output_type": "stream",
     "text": [
      "\n",
      "Training Log for Exp 3: Optimizer=Adam, lr=5e-05, dropout=0.4, batch_size=128\n",
      "Epoch 1/9 | tr_loss: 3.4693, tr_acc: 0.5930, val_loss: 1.8053, val_acc: 0.6916, Prec: 0.7583, Recall: 0.6916, F1-score: 0.6732\n",
      "Epoch 2/9 | tr_loss: 0.6147, tr_acc: 0.7890, val_loss: 0.7829, val_acc: 0.7071, Prec: 0.7659, Recall: 0.7071, F1-score: 0.6829\n",
      "Epoch 3/9 | tr_loss: 0.5082, tr_acc: 0.8128, val_loss: 0.7512, val_acc: 0.7215, Prec: 0.7719, Recall: 0.7215, F1-score: 0.6989\n",
      "Epoch 4/9 | tr_loss: 0.4585, tr_acc: 0.8288, val_loss: 0.6226, val_acc: 0.7421, Prec: 0.7591, Recall: 0.7421, F1-score: 0.7358\n",
      "Epoch 5/9 | tr_loss: 0.4134, tr_acc: 0.8434, val_loss: 0.6670, val_acc: 0.7469, Prec: 0.7422, Recall: 0.7469, F1-score: 0.7383\n",
      "Epoch 6/9 | tr_loss: 0.3872, tr_acc: 0.8502, val_loss: 0.7282, val_acc: 0.7242, Prec: 0.7734, Recall: 0.7242, F1-score: 0.7154\n",
      "Epoch 7/9 | tr_loss: 0.3496, tr_acc: 0.8644, val_loss: 0.6944, val_acc: 0.7532, Prec: 0.7712, Recall: 0.7532, F1-score: 0.7443\n",
      "Epoch 8/9 | tr_loss: 0.3172, tr_acc: 0.8760, val_loss: 0.6658, val_acc: 0.7478, Prec: 0.7459, Recall: 0.7478, F1-score: 0.7457\n",
      "Epoch 9/9 | tr_loss: 0.2848, tr_acc: 0.8879, val_loss: 0.8359, val_acc: 0.7354, Prec: 0.7662, Recall: 0.7354, F1-score: 0.7216\n",
      "Early stopping triggered after 4 epochs.\n",
      "Total training time: 28.25268805027008\n",
      "Test Accuracy: 0.7230, Precision: 0.7377, Recall: 0.7230, F1-score: 0.7150\n"
     ]
    },
    {
     "data": {
      "image/png": "[encoded data removed]",
      "text/plain": [
       "<Figure size 600x500 with 2 Axes>"
      ]
     },
     "metadata": {},
     "output_type": "display_data"
    },
    {
     "name": "stdout",
     "output_type": "stream",
     "text": [
      "\n",
      "Training Log for Exp 4: Optimizer=AdamW, lr=3e-05, dropout=0.3, batch_size=256\n",
      "Epoch 1/17 | tr_loss: 3.9961, tr_acc: 0.4452, val_loss: 1.6097, val_acc: 0.5082, Prec: 0.4560, Recall: 0.5082, F1-score: 0.4167\n",
      "Epoch 2/17 | tr_loss: 0.7884, tr_acc: 0.7004, val_loss: 0.7956, val_acc: 0.6644, Prec: 0.7164, Recall: 0.6644, F1-score: 0.6442\n",
      "Epoch 3/17 | tr_loss: 0.6457, tr_acc: 0.7652, val_loss: 0.7027, val_acc: 0.7016, Prec: 0.7335, Recall: 0.7016, F1-score: 0.6893\n",
      "Epoch 4/17 | tr_loss: 0.6073, tr_acc: 0.7811, val_loss: 0.7776, val_acc: 0.6965, Prec: 0.7713, Recall: 0.6965, F1-score: 0.6709\n",
      "Epoch 5/17 | tr_loss: 0.5482, tr_acc: 0.7968, val_loss: 0.6365, val_acc: 0.7250, Prec: 0.7436, Recall: 0.7250, F1-score: 0.7162\n",
      "Epoch 6/17 | tr_loss: 0.5207, tr_acc: 0.8072, val_loss: 0.6917, val_acc: 0.7137, Prec: 0.7710, Recall: 0.7137, F1-score: 0.6990\n",
      "Epoch 7/17 | tr_loss: 0.4912, tr_acc: 0.8144, val_loss: 0.6968, val_acc: 0.7169, Prec: 0.7795, Recall: 0.7169, F1-score: 0.6968\n",
      "Epoch 8/17 | tr_loss: 0.4809, tr_acc: 0.8188, val_loss: 0.6064, val_acc: 0.7383, Prec: 0.7684, Recall: 0.7383, F1-score: 0.7239\n",
      "Epoch 9/17 | tr_loss: 0.4540, tr_acc: 0.8262, val_loss: 0.5924, val_acc: 0.7367, Prec: 0.7648, Recall: 0.7367, F1-score: 0.7240\n",
      "Epoch 10/17 | tr_loss: 0.4386, tr_acc: 0.8312, val_loss: 0.6040, val_acc: 0.7418, Prec: 0.7615, Recall: 0.7418, F1-score: 0.7296\n",
      "Epoch 11/17 | tr_loss: 0.4278, tr_acc: 0.8341, val_loss: 0.5990, val_acc: 0.7465, Prec: 0.7616, Recall: 0.7465, F1-score: 0.7352\n",
      "Epoch 12/17 | tr_loss: 0.4229, tr_acc: 0.8341, val_loss: 0.5766, val_acc: 0.7486, Prec: 0.7588, Recall: 0.7486, F1-score: 0.7413\n",
      "Epoch 13/17 | tr_loss: 0.4069, tr_acc: 0.8411, val_loss: 0.6359, val_acc: 0.7430, Prec: 0.7786, Recall: 0.7430, F1-score: 0.7300\n",
      "Epoch 14/17 | tr_loss: 0.3964, tr_acc: 0.8430, val_loss: 0.7267, val_acc: 0.7346, Prec: 0.7888, Recall: 0.7346, F1-score: 0.7098\n",
      "Epoch 15/17 | tr_loss: 0.3884, tr_acc: 0.8473, val_loss: 0.5804, val_acc: 0.7518, Prec: 0.7600, Recall: 0.7518, F1-score: 0.7426\n",
      "Epoch 16/17 | tr_loss: 0.3758, tr_acc: 0.8511, val_loss: 0.6570, val_acc: 0.7428, Prec: 0.7808, Recall: 0.7428, F1-score: 0.7259\n",
      "Epoch 17/17 | tr_loss: 0.3654, tr_acc: 0.8529, val_loss: 0.6125, val_acc: 0.7447, Prec: 0.7658, Recall: 0.7447, F1-score: 0.7357\n",
      "Early stopping triggered after 12 epochs.\n",
      "Total training time: 54.21091922918956\n",
      "Test Accuracy: 0.7277, Precision: 0.7361, Recall: 0.7277, F1-score: 0.7196\n"
     ]
    },
    {
     "data": {
      "image/png": "[encoded data removed]",
      "text/plain": [
       "<Figure size 600x500 with 2 Axes>"
      ]
     },
     "metadata": {},
     "output_type": "display_data"
    }
   ],
   "source": [
    "import json\n",
    "import numpy as np\n",
    "import matplotlib.pyplot as plt\n",
    "import seaborn as sns\n",
    "\n",
    "def load_experiment_results(filepath):\n",
    "    with open(filepath, \"r\") as f:\n",
    "        experiments = json.load(f)\n",
    "    return experiments\n",
    "\n",
    "def print_training_log(experiment):\n",
    "    print(f\"\\nTraining Log for {experiment['description']}\")\n",
    "    \n",
    "    train_metrics = experiment[\"metrics\"][\"train\"]\n",
    "    val_metrics = experiment[\"metrics\"][\"val\"]\n",
    "    \n",
    "    for epoch_data in train_metrics:\n",
    "        epoch = epoch_data[\"epoch\"]\n",
    "        train_loss = epoch_data[\"loss\"]\n",
    "        train_acc = epoch_data[\"accuracy\"]\n",
    "        \n",
    "        val_data = next((v for v in val_metrics if v[\"epoch\"] == epoch), None)\n",
    "        if val_data:\n",
    "            val_loss = val_data[\"loss\"]\n",
    "            val_acc = val_data[\"accuracy\"]\n",
    "            precision = val_data.get(\"precision\", 0)\n",
    "            recall = val_data.get(\"recall\", 0)\n",
    "            f1 = val_data.get(\"f1_score\", 0)\n",
    "\n",
    "            print(f\"Epoch {epoch}/{len(train_metrics)} | \"\n",
    "                  f\"tr_loss: {train_loss:.4f}, tr_acc: {train_acc:.4f}, \"\n",
    "                  f\"val_loss: {val_loss:.4f}, val_acc: {val_acc:.4f}, \"\n",
    "                  f\"Prec: {precision:.4f}, Recall: {recall:.4f}, F1-score: {f1:.4f}\")\n",
    "\n",
    "    print(f\"Early stopping triggered after {experiment['best_epoch']} epochs.\")\n",
    "    print(f\"Total training time: {experiment['time_train']}\")\n",
    "    print(f\"Test Accuracy: {experiment['test_metrics']['accuracy']:.4f}, \"\n",
    "          f\"Precision: {experiment['test_metrics']['precision']:.4f}, \"\n",
    "          f\"Recall: {experiment['test_metrics']['recall']:.4f}, \"\n",
    "          f\"F1-score: {experiment['test_metrics']['f1_score']:.4f}\")\n",
    "\n",
    "\n",
    "def plot_confusion_matrix(conf_matrix):\n",
    "    plt.figure(figsize=(6, 5))\n",
    "    sns.heatmap(conf_matrix, annot=True, fmt=\"d\", cmap=\"Blues\", xticklabels=[\"Class 0\", \"Class 1\", \"Class 2\"], \n",
    "                yticklabels=[\"Class 0\", \"Class 1\", \"Class 2\"], linewidths=0.5)\n",
    "    plt.xlabel(\"Predicted Label\")\n",
    "    plt.ylabel(\"True Label\")\n",
    "    plt.title(\"Confusion Matrix\")\n",
    "    plt.show()\n",
    "\n",
    "\n",
    "filepath = \"./initial_experiments_noLoRA.json\"\n",
    "experiments = load_experiment_results(filepath)\n",
    "\n",
    "print_training_log(experiments[0])\n",
    "\n",
    "conf_matrix = np.array(last_experiment['confusion_matrix'])\n",
    "plot_confusion_matrix(conf_matrix)\n",
    "\n",
    "print_training_log(experiments[1])\n",
    "\n",
    "conf_matrix = np.array(last_experiment['confusion_matrix'])\n",
    "plot_confusion_matrix(conf_matrix)\n"
   ]
  },
  {
   "cell_type": "markdown",
   "metadata": {},
   "source": [
    "### ⚡ **Experimentos con varios modelos de la familia Llama-2**\n",
    "\n",
    "En este apartado, se prueban diversos tamaños de Llama. Cada modelo se evalua en **3 ejecuciones**.\n",
    "Los decoder-only de Llama2 se importan desde *AutoModelForCausalLM*"
   ]
  },
  {
   "cell_type": "code",
   "execution_count": 7,
   "metadata": {},
   "outputs": [],
   "source": [
    "import torch\n",
    "import torch.nn as nn\n",
    "import torch.nn.functional as F\n",
    "\n",
    "class Llama2Classifier_2(nn.Module):\n",
    "    def __init__(self, decoder, emb_size, num_classes=3):\n",
    "        super(Llama2Classifier_2, self).__init__()\n",
    "\n",
    "        self.size_encoder_embds = 384      # Tamaño original de los embeddings contextuales\n",
    "        self.size_llm_embds = emb_size     # Tamaño de los embeddings proyectados\n",
    "        self.num_classes = num_classes     # Número de clases de salida\n",
    "        self.decoder = decoder\n",
    "        self.decoder = self.decoder.to(device)\n",
    "\n",
    "        # Capa de proyección lineal de 384 a 2048 (como en el modelo Llama2_1B)\n",
    "        self.linear_projection = nn.Linear(self.size_encoder_embds, self.size_llm_embds)  \n",
    "        self.dropout = nn.Dropout(0.3)\n",
    "        self.classifier = nn.Linear(self.size_llm_embds, num_classes)  # Capa final de clasificación\n",
    "\n",
    "    def forward(self, inputs_embeds, attention_mask):\n",
    "        batch_size = inputs_embeds.size(0)\n",
    "        encoder_embeds = [] \n",
    "\n",
    "        # (1) Proyección de los embeddings contextuales\n",
    "        encoder_embeds = inputs_embeds  # Usamos los inputs_embeds tal cual están\n",
    "        \n",
    "        encoder_embeds = encoder_embeds.to(torch.float32)\n",
    "            \n",
    "        # proyección de los embeddings contextuales a un tamaño de 2048\n",
    "        projected_embeds = self.linear_projection(encoder_embeds)  # Proyección lineal\n",
    "        projected_embeds = projected_embeds.to(torch.float32)\n",
    "\n",
    "        attention_mask = attention_mask.to(device).to(torch.float32)\n",
    "        \n",
    "        decoder_output = self.decoder(\n",
    "            inputs_embeds=projected_embeds,\n",
    "            attention_mask=attention_mask,\n",
    "            output_hidden_states=True\n",
    "        )\n",
    "\n",
    "        hidden_states = decoder_output.hidden_states  \n",
    "        last_hidden_state = hidden_states[-1] # la última capa de hidden states\n",
    "\n",
    "        # Agregar las salidas a través de la secuencia (puedes usar promedio o sumatoria)\n",
    "        aggregated_output = torch.sum(last_hidden_state, dim=1)  # Promedio las salidas\n",
    "\n",
    "        logits = self.classifier(self.dropout(aggregated_output))\n",
    "        return logits  # Logits para la clasificación (dim: [batch_size, num_classes])"
   ]
  },
  {
   "cell_type": "code",
   "execution_count": 8,
   "metadata": {},
   "outputs": [],
   "source": [
    "import numpy as np\n",
    "from torch.cuda.amp import autocast, GradScaler\n",
    "from sklearn.metrics import accuracy_score, precision_recall_fscore_support, confusion_matrix\n",
    "import matplotlib.pyplot as plt\n",
    "import seaborn as sns\n",
    "import os\n",
    "import gc\n",
    "import torch\n",
    "\n",
    "\n",
    "def model_builder(decoder_name, emb_size, lr):\n",
    "\n",
    "    decoder = AutoModelForCausalLM.from_pretrained(model_name, num_labels=3)\n",
    "    model = Llama2Classifier_2(decoder, emb_size, num_classes=3)\n",
    "    optimizer = torch.optim.AdamW(model.parameters(), lr=lr, weight_decay=1e-2, betas=(0.9, 0.95))\n",
    "    return model, optimizer\n",
    "\n",
    "''' -------------------------------------------------------------------------------- '''    \n",
    "def run_experiments(n_experiments, model_builder, decoder_name, llm_name, emb_size, model_n_start, description_base, training_loader, val_loader, test_loader, learning_rate, batch_size, dropout, patience, experiment):\n",
    "    all_metrics = {\n",
    "        \"accuracy\": [],\n",
    "        \"precision\": [],\n",
    "        \"recall\": [],\n",
    "        \"f1_score\": [],\n",
    "        \"time_train\": []\n",
    "    }\n",
    "\n",
    "    experiment_results = []  # Lista para los resultados de cada experimento\n",
    "    \n",
    "    model_experiments = []  # Lista para almacenar los mejores modelos de cada experimento\n",
    "\n",
    "    best_model = None\n",
    "    best_f1_score = -float('inf')  # Mejor pérdida de validación\n",
    "    best_model_path = \"\"\n",
    "\n",
    "    for i in range(n_experiments):\n",
    "        print(f\"\\n\\n[*** Experimento {i+1}/{n_experiments}] -----------------------------\")\n",
    "\n",
    "        model_n = model_n_start + i\n",
    "        description = f\"{description_base} | Run {i+1}/{n_experiments}\"\n",
    "\n",
    "        model, optimizer = model_builder(decoder_name, emb_size, learning_rate)\n",
    "        \n",
    "        # Entrenamiento del modelo\n",
    "        hyperparams, metrics, test_metrics, cm, best_epoch, total_duration, path = train(\n",
    "                                                                                    epochs=15, \n",
    "                                                                                    model=model,\n",
    "                                                                                    training_loader=training_loader,\n",
    "                                                                                    val_loader=val_loader,\n",
    "                                                                                    optimizer=optimizer,\n",
    "                                                                                    learning_rate=learning_rate,\n",
    "                                                                                    batch_size=batch_size,\n",
    "                                                                                    dropout=dropout,\n",
    "                                                                                    patience=patience,\n",
    "                                                                                    model_n=model_n,\n",
    "                                                                                    description=description,\n",
    "                                                                                    experiment=experiment\n",
    "                                                                                )\n",
    "\n",
    "        model_experiments.append(path)\n",
    "        test = test_metrics  # Asumimos que test_metrics es un diccionario con las métricas de test\n",
    "\n",
    "        all_metrics[\"accuracy\"].append(test[\"accuracy\"])\n",
    "        all_metrics[\"precision\"].append(test[\"precision\"])\n",
    "        all_metrics[\"recall\"].append(test[\"recall\"])\n",
    "        all_metrics[\"f1_score\"].append(test[\"f1_score\"])\n",
    "        all_metrics[\"time_train\"].append(total_duration)\n",
    "\n",
    "        f1_score = test[\"f1_score\"]\n",
    "\n",
    "        if f1_score > best_f1_score:  # Si el modelo actual tiene mejor F1-score\n",
    "            best_f1_score = f1_score\n",
    "            best_model = model\n",
    "            best_model_path = f\"./Models/exp({experiment})_noLoRA_best_model_{model_n}.pth\"  # Ruta para este modelo\n",
    "            best_experiment = {\n",
    "                \"id\": model_n,\n",
    "                \"description\": description,\n",
    "                \"hyperparameters\": hyperparams,\n",
    "                \"metrics\": metrics,\n",
    "                \"test_metrics\": test_metrics,\n",
    "                \"confusion_matrix\": cm.tolist(),\n",
    "                \"best_epoch\": best_epoch,\n",
    "                \"time_train\": total_duration\n",
    "            }\n",
    "\n",
    "    # Eliminacion de los n - 1 modelos peores respecto al mejor\n",
    "    for path in model_experiments:\n",
    "        if path != best_model_path:\n",
    "            try:\n",
    "                os.remove(path)\n",
    "                print(f\"Modelo eliminado: {path}\")\n",
    "            except FileNotFoundError:\n",
    "                print(f\"[Aviso] No se encontró el archivo para eliminar: {path}\")\n",
    "\n",
    "    \n",
    "    print(f\"\\n --- Evaluación del mejor modelo: {best_model_path}\")\n",
    "    print(f\"Test Accuracy:  {best_experiment['test_metrics']['accuracy']:.4f}\")\n",
    "    print(f\"Test Precision: {best_experiment['test_metrics']['precision']:.4f}\")\n",
    "    print(f\"Test Recall:    {best_experiment['test_metrics']['recall']:.4f}\")\n",
    "    print(f\"Test F1-score:  {best_experiment['test_metrics']['f1_score']:.4f}\")\n",
    "\n",
    "    print(f\"\\n --- Matriz de confusión del mejor modelo: \")\n",
    "    plt.figure(figsize=(6, 5))\n",
    "    sns.heatmap(cm, annot=True, fmt='d', cmap='Blues', xticklabels=[0, 1, 2], yticklabels=[0, 1, 2])\n",
    "    plt.xlabel(\"Predicted\")\n",
    "    plt.ylabel(\"Actual\")\n",
    "    plt.title(\"Confusion Matrix\")\n",
    "    plt.show()\n",
    "    \n",
    "    \n",
    "    \n",
    "    # Métricas agregadas\n",
    "    print(\"\\n[*** Resultados Finales]\")\n",
    "    for metric in all_metrics:\n",
    "        values = np.array(all_metrics[metric])\n",
    "        print(f\"{metric.capitalize()}: Media = {values.mean():.4f} | Std = {values.std():.4f}\")\n",
    "\n",
    "    # Guardado de todos los experimentos en un archivo JSON\n",
    "    experiment_data = {\n",
    "        \"id_experiment\": f\"experiment_{experiment}\",  # ID único para el experimento grande\n",
    "        \"llm_name\": llm_name,\n",
    "        \"best_experiment\": best_experiment,\n",
    "        \"aggregated_metrics\": {\n",
    "            \"accuracy_mean\": np.mean(all_metrics[\"accuracy\"]),\n",
    "            \"accuracy_std\": np.std(all_metrics[\"accuracy\"]),\n",
    "            \"precision_mean\": np.mean(all_metrics[\"precision\"]),\n",
    "            \"precision_std\": np.std(all_metrics[\"precision\"]),\n",
    "            \"recall_mean\": np.mean(all_metrics[\"recall\"]),\n",
    "            \"recall_std\": np.std(all_metrics[\"recall\"]),\n",
    "            \"f1_score_mean\": np.mean(all_metrics[\"f1_score\"]),\n",
    "            \"f1_score_std\": np.std(all_metrics[\"f1_score\"]),\n",
    "            \"time_train_mean\": np.mean(all_metrics[\"time_train\"]),\n",
    "            \"time_train_std\": np.std(all_metrics[\"time_train\"])\n",
    "        },\n",
    "        \"best_model_path\": best_model_path  # Lista con los mejores modelos de cada experimento\n",
    "    }\n",
    "\n",
    "    try:\n",
    "        with open(\"./diverse_llama2_noLoRA.json\", \"r\") as f:\n",
    "            all_experiments = json.load(f)\n",
    "    except (FileNotFoundError, json.JSONDecodeError):\n",
    "        all_experiments = []\n",
    "\n",
    "    all_experiments.append(experiment_data)\n",
    "\n",
    "    with open(\"./diverse_llama2_noLoRA.json\", \"w\") as f:\n",
    "        json.dump(all_experiments, f, indent=4)\n",
    "\n",
    "\n",
    "\n",
    "\n",
    "''' -------------------------------------------------------------------------------- '''\n",
    "def evaluate_test(model, test_loader, best_model_path, show_cm=None):\n",
    "    state_dict = torch.load(best_model_path, map_location=device)\n",
    "    filtered_state_dict = {k: v for k, v in state_dict.items() if k in model.state_dict()}\n",
    "    model.load_state_dict(filtered_state_dict, strict=False)\n",
    "    \n",
    "    model.eval()\n",
    "    \n",
    "    all_preds, all_labels = [], []\n",
    "    with torch.no_grad():\n",
    "        for data in test_loader:\n",
    "            inputs_embeds = data['inputs_embeds'].to(device)\n",
    "            attention_mask = data['attention_mask'].to(device).to(torch.float32)\n",
    "            labels = data['labels'].to(device).long()\n",
    "            \n",
    "            logits = model(inputs_embeds, attention_mask)\n",
    "            preds = torch.argmax(logits, dim=1)\n",
    "            \n",
    "            all_preds.extend(preds.cpu().numpy())\n",
    "            all_labels.extend(labels.cpu().numpy())\n",
    "    \n",
    "    acc = accuracy_score(all_labels, all_preds)\n",
    "    precision, recall, f1, _ = precision_recall_fscore_support(all_labels, all_preds, average='weighted')\n",
    "    test_metrics = {\"accuracy\": acc, \"precision\": precision, \"recall\": recall, \"f1_score\": f1}\n",
    "\n",
    "    cm = confusion_matrix(all_labels, all_preds)\n",
    "    \n",
    "    print(f\"Test Accuracy: {acc:.4f}, Precision: {precision:.4f}, Recall: {recall:.4f}, F1-score: {f1:.4f}\")\n",
    "    \n",
    "    if show_cm:\n",
    "        plt.figure(figsize=(6, 5))\n",
    "        sns.heatmap(cm, annot=True, fmt='d', cmap='Blues', xticklabels=[0, 1, 2], yticklabels=[0, 1, 2])\n",
    "        plt.xlabel(\"Predicted\")\n",
    "        plt.ylabel(\"Actual\")\n",
    "        plt.title(\"Confusion Matrix\")\n",
    "        plt.show()\n",
    "\n",
    "    return test_metrics, cm\n",
    "\n",
    "\n",
    "''' -------------------------------------------------------------------------------- '''\n",
    "def train(epochs, model, training_loader, val_loader, optimizer, learning_rate, batch_size, dropout, patience=3, model_n=0, description=\"\", experiment=\"\"):\n",
    "    model.train()\n",
    "    model.to(device)  \n",
    "    \n",
    "    batches = len(training_loader)\n",
    "    scaler = GradScaler()\n",
    "    \n",
    "    metrics = {\"train\": [], \"val\": []}\n",
    "    total_start_time = time.time()\n",
    "    best_val_loss = float('inf')\n",
    "    best_model_path = f\"./Models/exp({experiment})_noLoRA_best_model_{model_n}.pth\"\n",
    "    no_improve_epochs = 0\n",
    "        \n",
    "    for epoch in range(epochs):\n",
    "        total_loss = 0\n",
    "        total_correct = 0\n",
    "        total_samples = 0\n",
    "        epoch_start_time = time.time()\n",
    "\n",
    "        for i, data in enumerate(training_loader, 0):\n",
    "            \n",
    "            inputs_embeds = data['inputs_embeds'].to(device)\n",
    "            attention_mask = data['attention_mask'].to(device).to(torch.float32)\n",
    "            labels = data['labels'].to(device).long()\n",
    "    \n",
    "            optimizer.zero_grad()\n",
    "            \n",
    "            for param in model.parameters():\n",
    "                if param.requires_grad:\n",
    "                    param.data = param.data.to(torch.float32)\n",
    "                    if param.grad is not None:\n",
    "                        param.grad.data = param.grad.data.to(torch.float32)\n",
    "    \n",
    "            logits = model(inputs_embeds, attention_mask)\n",
    "            loss = loss_fn(logits, labels)\n",
    "    \n",
    "            scaler.scale(loss).backward()\n",
    "            scaler.unscale_(optimizer)\n",
    "            torch.nn.utils.clip_grad_norm_(model.parameters(), max_norm=1.0)\n",
    "            scaler.step(optimizer) \n",
    "            scaler.update()\n",
    "            \n",
    "            total_loss += loss.item()\n",
    "            preds = torch.argmax(logits, dim=1)\n",
    "            total_correct += (preds == labels).sum().item()\n",
    "            total_samples += labels.size(0)\n",
    "        \n",
    "        train_loss = total_loss / batches\n",
    "        train_acc = total_correct / total_samples\n",
    "        \n",
    "        model.eval()\n",
    "        val_loss, all_preds, all_labels = 0, [], []\n",
    "        with torch.no_grad():\n",
    "            for data in val_loader:\n",
    "                inputs_embeds = data['inputs_embeds'].to(device)\n",
    "                attention_mask = data['attention_mask'].to(device).to(torch.float32)\n",
    "                labels = data['labels'].to(device).long()\n",
    "                \n",
    "                logits = model(inputs_embeds, attention_mask)\n",
    "                loss = loss_fn(logits, labels)\n",
    "                val_loss += loss.item()\n",
    "                preds = torch.argmax(logits, dim=1)\n",
    "                \n",
    "                all_preds.extend(preds.cpu().numpy())\n",
    "                all_labels.extend(labels.cpu().numpy())\n",
    "        \n",
    "        val_loss /= len(val_loader)\n",
    "        acc = accuracy_score(all_labels, all_preds)\n",
    "        precision, recall, f1, _ = precision_recall_fscore_support(all_labels, all_preds, average='weighted')\n",
    "        \n",
    "        epoch_duration = (time.time() - epoch_start_time) / 60\n",
    "        print(f\"Epoch {epoch+1}/{epochs} | tr_loss: {train_loss:.4f}, tr_acc: {train_acc:.4f}, val_loss: {val_loss:.4f}, val_acc: {acc:.4f}, Prec: {precision:.4f}, Recall: {recall:.4f}, F1-score: {f1:.4f}\")\n",
    "        \n",
    "        metrics[\"train\"].append({\"epoch\": epoch+1, \"loss\": train_loss, \"accuracy\": train_acc})\n",
    "        metrics[\"val\"].append({\"epoch\": epoch+1, \"loss\": val_loss, \"accuracy\": acc, \"precision\": precision, \"recall\": recall, \"f1_score\": f1})\n",
    "        \n",
    "        if val_loss < best_val_loss:\n",
    "            best_val_loss = val_loss\n",
    "            best_epoch = epoch + 1\n",
    "            torch.save(model.state_dict(), best_model_path)\n",
    "            no_improve_epochs = 0\n",
    "        else:\n",
    "            no_improve_epochs += 1\n",
    "        \n",
    "        if no_improve_epochs >= patience:\n",
    "            print(f\"Early stopping triggered after {epoch+1} epochs.\")\n",
    "            break\n",
    "    \n",
    "    total_duration = (time.time() - total_start_time) / 60  \n",
    "    print(f\"Total training time: {total_duration:.2f} min\")\n",
    "    \n",
    "    test_metrics, cm = evaluate_test(model, test_loader, best_model_path, show_cm=False)\n",
    "    hyperparams = {\"epochs\": epochs, \"optimizer\": str(optimizer), \"learning_rate\": learning_rate, \"batch_size\": batch_size, \"dropout\": dropout, \"patience\": patience}\n",
    "\n",
    "    return hyperparams, metrics, test_metrics, cm, best_epoch, total_duration, best_model_path\n"
   ]
  },
  {
   "cell_type": "markdown",
   "metadata": {},
   "source": [
    "#### 0. **Modelo Llama2-1B-bnb-4bit**\n",
    "*n_experiments = 3*"
   ]
  },
  {
   "cell_type": "code",
   "execution_count": 15,
   "metadata": {},
   "outputs": [
    {
     "name": "stdout",
     "output_type": "stream",
     "text": [
      "\n",
      "🔄 Cargando modelo: unsloth/Llama-3.2-1B-bnb-4bit\n"
     ]
    },
    {
     "name": "stderr",
     "output_type": "stream",
     "text": [
      "`low_cpu_mem_usage` was None, now default to True since model is quantized.\n",
      "`low_cpu_mem_usage` was None, now default to True since model is quantized.\n"
     ]
    },
    {
     "name": "stdout",
     "output_type": "stream",
     "text": [
      "\n",
      "\n",
      "[*** Experimento 1/3] -----------------------------\n",
      "Epoch 1/15 | tr_loss: 3.8008, tr_acc: 0.4697, val_loss: 1.7780, val_acc: 0.5589, Prec: 0.6527, Recall: 0.5589, F1-score: 0.5410\n",
      "Epoch 2/15 | tr_loss: 1.0190, tr_acc: 0.6729, val_loss: 0.9825, val_acc: 0.6084, Prec: 0.6857, Recall: 0.6084, F1-score: 0.5954\n",
      "Epoch 3/15 | tr_loss: 0.8101, tr_acc: 0.7310, val_loss: 0.8549, val_acc: 0.6781, Prec: 0.7220, Recall: 0.6781, F1-score: 0.6563\n",
      "Epoch 4/15 | tr_loss: 0.6978, tr_acc: 0.7652, val_loss: 0.7510, val_acc: 0.6735, Prec: 0.7278, Recall: 0.6735, F1-score: 0.6684\n",
      "Epoch 5/15 | tr_loss: 0.5728, tr_acc: 0.7939, val_loss: 0.7300, val_acc: 0.7045, Prec: 0.7643, Recall: 0.7045, F1-score: 0.6879\n",
      "Epoch 6/15 | tr_loss: 0.5188, tr_acc: 0.8087, val_loss: 0.6356, val_acc: 0.7444, Prec: 0.7537, Recall: 0.7444, F1-score: 0.7374\n",
      "Epoch 7/15 | tr_loss: 0.4752, tr_acc: 0.8222, val_loss: 0.6783, val_acc: 0.7305, Prec: 0.7757, Recall: 0.7305, F1-score: 0.7168\n",
      "Epoch 8/15 | tr_loss: 0.4301, tr_acc: 0.8344, val_loss: 0.6361, val_acc: 0.7410, Prec: 0.7622, Recall: 0.7410, F1-score: 0.7293\n",
      "Epoch 9/15 | tr_loss: 0.4018, tr_acc: 0.8431, val_loss: 0.6484, val_acc: 0.7436, Prec: 0.7733, Recall: 0.7436, F1-score: 0.7317\n",
      "Epoch 10/15 | tr_loss: 0.3783, tr_acc: 0.8522, val_loss: 0.6467, val_acc: 0.7440, Prec: 0.7712, Recall: 0.7440, F1-score: 0.7312\n",
      "Epoch 11/15 | tr_loss: 0.3555, tr_acc: 0.8600, val_loss: 0.6373, val_acc: 0.7569, Prec: 0.7611, Recall: 0.7569, F1-score: 0.7502\n",
      "Early stopping triggered after 11 epochs.\n",
      "Total training time: 33.51 min\n",
      "Test Accuracy: 0.7220, Precision: 0.7292, Recall: 0.7220, F1-score: 0.7135\n",
      "\n",
      "\n",
      "[*** Experimento 2/3] -----------------------------\n"
     ]
    },
    {
     "name": "stderr",
     "output_type": "stream",
     "text": [
      "`low_cpu_mem_usage` was None, now default to True since model is quantized.\n"
     ]
    },
    {
     "name": "stdout",
     "output_type": "stream",
     "text": [
      "Epoch 1/15 | tr_loss: 3.6008, tr_acc: 0.4680, val_loss: 1.8483, val_acc: 0.5535, Prec: 0.6354, Recall: 0.5535, F1-score: 0.5229\n",
      "Epoch 2/15 | tr_loss: 0.8540, tr_acc: 0.7026, val_loss: 1.1372, val_acc: 0.6397, Prec: 0.7275, Recall: 0.6397, F1-score: 0.5899\n",
      "Epoch 3/15 | tr_loss: 0.6320, tr_acc: 0.7723, val_loss: 0.7189, val_acc: 0.7094, Prec: 0.7591, Recall: 0.7094, F1-score: 0.6872\n",
      "Epoch 4/15 | tr_loss: 0.5452, tr_acc: 0.8043, val_loss: 0.7094, val_acc: 0.7088, Prec: 0.7788, Recall: 0.7088, F1-score: 0.6867\n",
      "Epoch 5/15 | tr_loss: 0.4965, tr_acc: 0.8159, val_loss: 0.7519, val_acc: 0.7139, Prec: 0.7729, Recall: 0.7139, F1-score: 0.6895\n",
      "Epoch 6/15 | tr_loss: 0.4613, tr_acc: 0.8259, val_loss: 0.6303, val_acc: 0.7350, Prec: 0.7665, Recall: 0.7350, F1-score: 0.7216\n",
      "Epoch 7/15 | tr_loss: 0.4365, tr_acc: 0.8333, val_loss: 0.6429, val_acc: 0.7441, Prec: 0.7736, Recall: 0.7441, F1-score: 0.7234\n",
      "Epoch 8/15 | tr_loss: 0.4168, tr_acc: 0.8378, val_loss: 0.6502, val_acc: 0.7430, Prec: 0.7877, Recall: 0.7430, F1-score: 0.7197\n",
      "Epoch 9/15 | tr_loss: 0.3981, tr_acc: 0.8420, val_loss: 0.5998, val_acc: 0.7536, Prec: 0.7692, Recall: 0.7536, F1-score: 0.7415\n",
      "Epoch 10/15 | tr_loss: 0.3758, tr_acc: 0.8506, val_loss: 0.6597, val_acc: 0.7427, Prec: 0.7845, Recall: 0.7427, F1-score: 0.7228\n",
      "Epoch 11/15 | tr_loss: 0.3579, tr_acc: 0.8566, val_loss: 0.6112, val_acc: 0.7488, Prec: 0.7609, Recall: 0.7488, F1-score: 0.7390\n",
      "Epoch 12/15 | tr_loss: 0.3408, tr_acc: 0.8615, val_loss: 0.6606, val_acc: 0.7399, Prec: 0.7643, Recall: 0.7399, F1-score: 0.7286\n",
      "Epoch 13/15 | tr_loss: 0.3179, tr_acc: 0.8716, val_loss: 0.7915, val_acc: 0.7265, Prec: 0.7900, Recall: 0.7265, F1-score: 0.7019\n",
      "Epoch 14/15 | tr_loss: 0.3001, tr_acc: 0.8781, val_loss: 0.6867, val_acc: 0.7447, Prec: 0.7587, Recall: 0.7447, F1-score: 0.7380\n",
      "Early stopping triggered after 14 epochs.\n",
      "Total training time: 42.64 min\n",
      "Test Accuracy: 0.7283, Precision: 0.7452, Recall: 0.7283, F1-score: 0.7153\n",
      "\n",
      "\n",
      "[*** Experimento 3/3] -----------------------------\n"
     ]
    },
    {
     "name": "stderr",
     "output_type": "stream",
     "text": [
      "`low_cpu_mem_usage` was None, now default to True since model is quantized.\n"
     ]
    },
    {
     "name": "stdout",
     "output_type": "stream",
     "text": [
      "Epoch 1/15 | tr_loss: 3.5198, tr_acc: 0.4696, val_loss: 1.5919, val_acc: 0.6084, Prec: 0.6753, Recall: 0.6084, F1-score: 0.5906\n",
      "Epoch 2/15 | tr_loss: 0.7915, tr_acc: 0.7148, val_loss: 0.9978, val_acc: 0.6519, Prec: 0.7172, Recall: 0.6519, F1-score: 0.6149\n",
      "Epoch 3/15 | tr_loss: 0.6815, tr_acc: 0.7681, val_loss: 0.7299, val_acc: 0.7082, Prec: 0.7411, Recall: 0.7082, F1-score: 0.6901\n",
      "Epoch 4/15 | tr_loss: 0.5966, tr_acc: 0.7939, val_loss: 0.7072, val_acc: 0.7149, Prec: 0.7569, Recall: 0.7149, F1-score: 0.7006\n",
      "Epoch 5/15 | tr_loss: 0.5753, tr_acc: 0.8012, val_loss: 0.6695, val_acc: 0.7388, Prec: 0.7681, Recall: 0.7388, F1-score: 0.7204\n",
      "Epoch 6/15 | tr_loss: 0.5125, tr_acc: 0.8179, val_loss: 0.7388, val_acc: 0.7342, Prec: 0.7961, Recall: 0.7342, F1-score: 0.7071\n",
      "Epoch 7/15 | tr_loss: 0.4706, tr_acc: 0.8298, val_loss: 0.6505, val_acc: 0.7416, Prec: 0.7870, Recall: 0.7416, F1-score: 0.7204\n",
      "Epoch 8/15 | tr_loss: 0.4417, tr_acc: 0.8347, val_loss: 0.6764, val_acc: 0.7449, Prec: 0.7936, Recall: 0.7449, F1-score: 0.7218\n",
      "Epoch 9/15 | tr_loss: 0.4210, tr_acc: 0.8421, val_loss: 0.6089, val_acc: 0.7511, Prec: 0.7741, Recall: 0.7511, F1-score: 0.7400\n",
      "Epoch 10/15 | tr_loss: 0.4026, tr_acc: 0.8485, val_loss: 0.6092, val_acc: 0.7513, Prec: 0.7842, Recall: 0.7513, F1-score: 0.7396\n",
      "Epoch 11/15 | tr_loss: 0.3856, tr_acc: 0.8539, val_loss: 0.6599, val_acc: 0.7532, Prec: 0.7918, Recall: 0.7532, F1-score: 0.7376\n",
      "Epoch 12/15 | tr_loss: 0.3725, tr_acc: 0.8597, val_loss: 0.6696, val_acc: 0.7457, Prec: 0.7814, Recall: 0.7457, F1-score: 0.7376\n",
      "Epoch 13/15 | tr_loss: 0.3623, tr_acc: 0.8651, val_loss: 0.6764, val_acc: 0.7573, Prec: 0.7802, Recall: 0.7573, F1-score: 0.7435\n",
      "Epoch 14/15 | tr_loss: 0.3382, tr_acc: 0.8731, val_loss: 0.6764, val_acc: 0.7529, Prec: 0.7840, Recall: 0.7529, F1-score: 0.7380\n",
      "Early stopping triggered after 14 epochs.\n",
      "Total training time: 42.91 min\n",
      "Test Accuracy: 0.7302, Precision: 0.7549, Recall: 0.7302, F1-score: 0.7168\n",
      "Modelo eliminado: ./Models/exp(Llama-3.2-1B-bnb-4bit)_noLoRA_best_model_10.pth\n",
      "Modelo eliminado: ./Models/exp(Llama-3.2-1B-bnb-4bit)_noLoRA_best_model_11.pth\n",
      "\n",
      " --- Evaluación del mejor modelo: ./Models/exp(Llama-3.2-1B-bnb-4bit)_noLoRA_best_model_12.pth\n",
      "Test Accuracy:  0.7302\n",
      "Test Precision: 0.7549\n",
      "Test Recall:    0.7302\n",
      "Test F1-score:  0.7168\n",
      "\n",
      " --- Matriz de confusión del mejor modelo: \n"
     ]
    },
    {
     "data": {
      "image/png": "[encoded data removed]",
      "text/plain": [
       "<Figure size 600x500 with 2 Axes>"
      ]
     },
     "metadata": {},
     "output_type": "display_data"
    },
    {
     "name": "stdout",
     "output_type": "stream",
     "text": [
      "\n",
      "[*** Resultados Finales]\n",
      "Accuracy: Media = 0.7269 | Std = 0.0035\n",
      "Precision: Media = 0.7431 | Std = 0.0106\n",
      "Recall: Media = 0.7269 | Std = 0.0035\n",
      "F1_score: Media = 0.7152 | Std = 0.0013\n",
      "Time_train: Media = 39.6872 | Std = 4.3678\n"
     ]
    }
   ],
   "source": [
    "import warnings\n",
    "import torch\n",
    "from transformers import AutoModelForCausalLM, AutoTokenizer\n",
    "warnings.simplefilter(\"ignore\", category=FutureWarning)\n",
    "\n",
    "### Decoder Llama2-3.2-1B-bnb-4bit\n",
    "model_name = \"unsloth/Llama-3.2-1B-bnb-4bit\"\n",
    "print(f\"\\n🔄 Cargando modelo: {model_name}\")\n",
    "emb_size = 2048\n",
    "\n",
    "tokenizer = AutoTokenizer.from_pretrained(model_name)\n",
    "\n",
    "decoder = AutoModelForCausalLM.from_pretrained(\n",
    "    model_name,\n",
    "    num_labels=3,\n",
    ")\n",
    "\n",
    "### Datos\n",
    "params = {'batch_size': 128, 'shuffle': True, 'num_workers': 0}\n",
    "training_loader, val_loader, test_loader = inicialize_loaders(df_train, df_val, df_test, tokenizer, device, params)\n",
    "\n",
    "### Experimento\n",
    "lr = 3e-5\n",
    "batch_size = 128\n",
    "dropout = 0.3\n",
    "n_experiments = 3\n",
    "\n",
    "\n",
    "run_experiments(\n",
    "    n_experiments=n_experiments,\n",
    "    model_builder=model_builder,\n",
    "    decoder_name=model_name,\n",
    "    llm_name=model_name,\n",
    "    emb_size=emb_size,\n",
    "    model_n_start=10,\n",
    "    description_base=f\"Estudio de diferentes modelos Llama2 sin LoRA. Experimento NoLoRA. Modelo: {model_name} - AdamW, lr={lr}, batch_size={batch_size}, n_experiments={n_experiments}\",\n",
    "    training_loader=training_loader,\n",
    "    val_loader=val_loader,\n",
    "    test_loader=test_loader,\n",
    "    learning_rate=lr,\n",
    "    batch_size=batch_size,\n",
    "    dropout=dropout,\n",
    "    patience=5,\n",
    "    experiment=\"Llama-3.2-1B-bnb-4bit\"\n",
    ")"
   ]
  },
  {
   "cell_type": "markdown",
   "metadata": {},
   "source": [
    "#### 1. **Modelo Llama2-3B-bnb-4bit**\n"
   ]
  },
  {
   "cell_type": "code",
   "execution_count": 17,
   "metadata": {},
   "outputs": [
    {
     "name": "stdout",
     "output_type": "stream",
     "text": [
      "\n",
      "🔄 Cargando modelo: unsloth/Llama-3.2-3B-bnb-4bit\n"
     ]
    },
    {
     "name": "stderr",
     "output_type": "stream",
     "text": [
      "`low_cpu_mem_usage` was None, now default to True since model is quantized.\n",
      "`low_cpu_mem_usage` was None, now default to True since model is quantized.\n"
     ]
    },
    {
     "name": "stdout",
     "output_type": "stream",
     "text": [
      "\n",
      "\n",
      "[*** Experimento 1/3] -----------------------------\n",
      "Epoch 1/15 | tr_loss: 1.4170, tr_acc: 0.6363, val_loss: 0.7911, val_acc: 0.7215, Prec: 0.7769, Recall: 0.7215, F1-score: 0.7024\n",
      "Epoch 2/15 | tr_loss: 0.4794, tr_acc: 0.8238, val_loss: 0.5902, val_acc: 0.7494, Prec: 0.7765, Recall: 0.7494, F1-score: 0.7338\n",
      "Epoch 3/15 | tr_loss: 0.4158, tr_acc: 0.8409, val_loss: 0.5768, val_acc: 0.7520, Prec: 0.7757, Recall: 0.7520, F1-score: 0.7391\n",
      "Epoch 4/15 | tr_loss: 0.3665, tr_acc: 0.8568, val_loss: 0.6833, val_acc: 0.7396, Prec: 0.8002, Recall: 0.7396, F1-score: 0.7192\n",
      "Epoch 5/15 | tr_loss: 0.3319, tr_acc: 0.8682, val_loss: 0.6720, val_acc: 0.7512, Prec: 0.7846, Recall: 0.7512, F1-score: 0.7360\n",
      "Epoch 6/15 | tr_loss: 0.2939, tr_acc: 0.8818, val_loss: 0.8196, val_acc: 0.7407, Prec: 0.7906, Recall: 0.7407, F1-score: 0.7212\n",
      "Epoch 7/15 | tr_loss: 0.2611, tr_acc: 0.8960, val_loss: 0.7464, val_acc: 0.7526, Prec: 0.7542, Recall: 0.7526, F1-score: 0.7459\n",
      "Epoch 8/15 | tr_loss: 0.2259, tr_acc: 0.9093, val_loss: 0.8194, val_acc: 0.7551, Prec: 0.7531, Recall: 0.7551, F1-score: 0.7488\n",
      "Early stopping triggered after 8 epochs.\n",
      "Total training time: 57.58 min\n",
      "Test Accuracy: 0.7329, Precision: 0.7601, Recall: 0.7329, F1-score: 0.7170\n",
      "\n",
      "\n",
      "[*** Experimento 2/3] -----------------------------\n"
     ]
    },
    {
     "name": "stderr",
     "output_type": "stream",
     "text": [
      "`low_cpu_mem_usage` was None, now default to True since model is quantized.\n"
     ]
    },
    {
     "name": "stdout",
     "output_type": "stream",
     "text": [
      "Epoch 1/15 | tr_loss: 1.3123, tr_acc: 0.6435, val_loss: 0.6968, val_acc: 0.7364, Prec: 0.7616, Recall: 0.7364, F1-score: 0.7191\n",
      "Epoch 2/15 | tr_loss: 0.4646, tr_acc: 0.8276, val_loss: 0.6131, val_acc: 0.7440, Prec: 0.7890, Recall: 0.7440, F1-score: 0.7301\n",
      "Epoch 3/15 | tr_loss: 0.4002, tr_acc: 0.8462, val_loss: 0.5468, val_acc: 0.7604, Prec: 0.7708, Recall: 0.7604, F1-score: 0.7535\n",
      "Epoch 4/15 | tr_loss: 0.3584, tr_acc: 0.8599, val_loss: 0.5697, val_acc: 0.7661, Prec: 0.7842, Recall: 0.7661, F1-score: 0.7557\n",
      "Epoch 5/15 | tr_loss: 0.3150, tr_acc: 0.8768, val_loss: 0.6690, val_acc: 0.7629, Prec: 0.7805, Recall: 0.7629, F1-score: 0.7497\n",
      "Epoch 6/15 | tr_loss: 0.2785, tr_acc: 0.8886, val_loss: 0.7070, val_acc: 0.7625, Prec: 0.7771, Recall: 0.7625, F1-score: 0.7533\n",
      "Epoch 7/15 | tr_loss: 0.2421, tr_acc: 0.9058, val_loss: 0.7486, val_acc: 0.7580, Prec: 0.7632, Recall: 0.7580, F1-score: 0.7522\n",
      "Epoch 8/15 | tr_loss: 0.2055, tr_acc: 0.9193, val_loss: 0.9661, val_acc: 0.7552, Prec: 0.7704, Recall: 0.7552, F1-score: 0.7425\n",
      "Early stopping triggered after 8 epochs.\n",
      "Total training time: 57.76 min\n",
      "Test Accuracy: 0.7453, Precision: 0.7557, Recall: 0.7453, F1-score: 0.7373\n",
      "\n",
      "\n",
      "[*** Experimento 3/3] -----------------------------\n"
     ]
    },
    {
     "name": "stderr",
     "output_type": "stream",
     "text": [
      "`low_cpu_mem_usage` was None, now default to True since model is quantized.\n"
     ]
    },
    {
     "name": "stdout",
     "output_type": "stream",
     "text": [
      "Epoch 1/15 | tr_loss: 1.5941, tr_acc: 0.6006, val_loss: 0.9796, val_acc: 0.6858, Prec: 0.7810, Recall: 0.6858, F1-score: 0.6675\n",
      "Epoch 2/15 | tr_loss: 0.4839, tr_acc: 0.8218, val_loss: 0.6604, val_acc: 0.7434, Prec: 0.7899, Recall: 0.7434, F1-score: 0.7196\n",
      "Epoch 3/15 | tr_loss: 0.4078, tr_acc: 0.8421, val_loss: 0.6083, val_acc: 0.7541, Prec: 0.7853, Recall: 0.7541, F1-score: 0.7354\n",
      "Epoch 4/15 | tr_loss: 0.3655, tr_acc: 0.8572, val_loss: 0.6730, val_acc: 0.7383, Prec: 0.7975, Recall: 0.7383, F1-score: 0.7182\n",
      "Epoch 5/15 | tr_loss: 0.3262, tr_acc: 0.8708, val_loss: 0.7840, val_acc: 0.7519, Prec: 0.7871, Recall: 0.7519, F1-score: 0.7308\n",
      "Epoch 6/15 | tr_loss: 0.2852, tr_acc: 0.8862, val_loss: 0.7800, val_acc: 0.7580, Prec: 0.7851, Recall: 0.7580, F1-score: 0.7428\n",
      "Epoch 7/15 | tr_loss: 0.2474, tr_acc: 0.9021, val_loss: 0.7616, val_acc: 0.7539, Prec: 0.7737, Recall: 0.7539, F1-score: 0.7452\n",
      "Epoch 8/15 | tr_loss: 0.2094, tr_acc: 0.9169, val_loss: 0.8422, val_acc: 0.7510, Prec: 0.7610, Recall: 0.7510, F1-score: 0.7463\n",
      "Early stopping triggered after 8 epochs.\n",
      "Total training time: 57.67 min\n",
      "Test Accuracy: 0.7336, Precision: 0.7647, Recall: 0.7336, F1-score: 0.7131\n",
      "Modelo eliminado: ./Models/exp(Llama-3.2-3B-bnb-4bit)_noLoRA_best_model_10.pth\n",
      "Modelo eliminado: ./Models/exp(Llama-3.2-3B-bnb-4bit)_noLoRA_best_model_12.pth\n",
      "\n",
      " --- Evaluación del mejor modelo: ./Models/exp(Llama-3.2-3B-bnb-4bit)_noLoRA_best_model_11.pth\n",
      "Test Accuracy:  0.7453\n",
      "Test Precision: 0.7557\n",
      "Test Recall:    0.7453\n",
      "Test F1-score:  0.7373\n",
      "\n",
      " --- Matriz de confusión del mejor modelo: \n"
     ]
    },
    {
     "data": {
      "image/png": "[encoded data removed]",
      "text/plain": [
       "<Figure size 600x500 with 2 Axes>"
      ]
     },
     "metadata": {},
     "output_type": "display_data"
    },
    {
     "name": "stdout",
     "output_type": "stream",
     "text": [
      "\n",
      "[*** Resultados Finales]\n",
      "Accuracy: Media = 0.7373 | Std = 0.0057\n",
      "Precision: Media = 0.7602 | Std = 0.0037\n",
      "Recall: Media = 0.7373 | Std = 0.0057\n",
      "F1_score: Media = 0.7225 | Std = 0.0106\n",
      "Time_train: Media = 57.6671 | Std = 0.0752\n"
     ]
    }
   ],
   "source": [
    "import warnings\n",
    "import torch\n",
    "from transformers import AutoModelForCausalLM, AutoTokenizer\n",
    "warnings.simplefilter(\"ignore\", category=FutureWarning)\n",
    "\n",
    "### Decoder Llama2-3.2-3B-bnb-4bit\n",
    "model_name = \"unsloth/Llama-3.2-3B-bnb-4bit\"\n",
    "print(f\"\\n🔄 Cargando modelo: {model_name}\")\n",
    "emb_size = 3072\n",
    "\n",
    "tokenizer = AutoTokenizer.from_pretrained(model_name)\n",
    "\n",
    "decoder = AutoModelForCausalLM.from_pretrained(\n",
    "    model_name,\n",
    "    num_labels=3,\n",
    ")\n",
    "\n",
    "### Datos\n",
    "params = {'batch_size': 64, 'shuffle': True, 'num_workers': 0}\n",
    "training_loader, val_loader, test_loader = inicialize_loaders(df_train, df_val, df_test, tokenizer, device, params)\n",
    "\n",
    "### Experimento\n",
    "lr = 3e-5\n",
    "batch_size = 64\n",
    "dropout = 0.3\n",
    "n_experiments = 3\n",
    "\n",
    "\n",
    "run_experiments(\n",
    "    n_experiments=n_experiments,\n",
    "    model_builder=model_builder,\n",
    "    decoder_name=model_name,\n",
    "    llm_name=model_name,\n",
    "    emb_size=emb_size,\n",
    "    model_n_start=10,\n",
    "    description_base=f\"Estudio de diferentes modelos Llama2 sin LoRA. Experimento NoLoRA. Modelo: {model_name} - AdamW, lr={lr}, batch_size={batch_size}, n_experiments={n_experiments}\",\n",
    "    training_loader=training_loader,\n",
    "    val_loader=val_loader,\n",
    "    test_loader=test_loader,\n",
    "    learning_rate=lr,\n",
    "    batch_size=batch_size,\n",
    "    dropout=dropout,\n",
    "    patience=5,\n",
    "    experiment=\"Llama-3.2-3B-bnb-4bit\"\n",
    ")"
   ]
  },
  {
   "cell_type": "markdown",
   "metadata": {
    "jp-MarkdownHeadingCollapsed": true
   },
   "source": [
    "#### 2. Modelo Llama2-7B-bnb-4bit\n",
    "\n",
    "*A partir de modelos con más parámetros, es necesario aplicar LoRA*"
   ]
  },
  {
   "cell_type": "code",
   "execution_count": null,
   "metadata": {},
   "outputs": [],
   "source": [
    "# unsloth/llama-2-7b-bnb-4bit"
   ]
  },
  {
   "cell_type": "code",
   "execution_count": null,
   "metadata": {},
   "outputs": [],
   "source": [
    "import warnings\n",
    "import torch\n",
    "from transformers import AutoModelForCausalLM, AutoTokenizer\n",
    "warnings.simplefilter(\"ignore\", category=FutureWarning)\n",
    "\n",
    "### Decoder Llama2-3.2-3B-bnb-4bit\n",
    "model_name = \"unsloth/llama-2-7b-bnb-4bit\"\n",
    "print(f\"\\n🔄 Cargando modelo: {model_name}\")\n",
    "emb_size = 4096\n",
    "\n",
    "tokenizer = AutoTokenizer.from_pretrained(model_name)\n",
    "\n",
    "decoder = AutoModelForCausalLM.from_pretrained(\n",
    "    model_name,\n",
    "    num_labels=3,\n",
    ")\n",
    "\n",
    "### Datos\n",
    "params = {'batch_size': 64, 'shuffle': True, 'num_workers': 0}\n",
    "training_loader, val_loader, test_loader = inicialize_loaders(df_train, df_val, df_test, tokenizer, device, params)\n",
    "\n",
    "### Experimento\n",
    "lr = 3e-5\n",
    "batch_size = 64\n",
    "dropout = 0.3\n",
    "n_experiments = 3\n",
    "\n",
    "\n",
    "run_experiments(\n",
    "    n_experiments=n_experiments,\n",
    "    model_builder=model_builder,\n",
    "    decoder_name=model_name,\n",
    "    llm_name=model_name,\n",
    "    emb_size=emb_size,\n",
    "    model_n_start=13,\n",
    "    description_base=f\"Estudio de diferentes modelos Llama2 sin LoRA. Experimento NoLoRA. Modelo: {model_name} - AdamW, lr={lr}, batch_size={batch_size}, n_experiments={n_experiments}\",\n",
    "    training_loader=training_loader,\n",
    "    val_loader=val_loader,\n",
    "    test_loader=test_loader,\n",
    "    learning_rate=lr,\n",
    "    batch_size=batch_size,\n",
    "    dropout=dropout,\n",
    "    patience=5,\n",
    "    experiment=\"Llama-2-7b-bnb-4bit\"\n",
    ")"
   ]
  },
  {
   "cell_type": "code",
   "execution_count": null,
   "metadata": {},
   "outputs": [],
   "source": []
  },
  {
   "cell_type": "markdown",
   "metadata": {
    "jp-MarkdownHeadingCollapsed": true
   },
   "source": [
    "---\n",
    "## Arreglo Nans"
   ]
  },
  {
   "cell_type": "code",
   "execution_count": 122,
   "metadata": {},
   "outputs": [
    {
     "name": "stderr",
     "output_type": "stream",
     "text": [
      "/tmp/ipykernel_33686/1006177021.py:40: FutureWarning: `torch.cuda.amp.GradScaler(args...)` is deprecated. Please use `torch.amp.GradScaler('cuda', args...)` instead.\n",
      "  scaler = GradScaler()\n"
     ]
    },
    {
     "name": "stdout",
     "output_type": "stream",
     "text": [
      "Epoch 1/3\n",
      "torch.int64\n",
      "Batch 0: 11.624799728393555\n",
      "torch.int64\n",
      "Batch 1: 10.49564266204834\n",
      "torch.int64\n",
      "Batch 2: 8.213210105895996\n",
      "Epoch 1 Loss: 10.1112\n",
      "\n",
      "Epoch 2/3\n",
      "torch.int64\n",
      "Batch 0: 11.561985969543457\n",
      "torch.int64\n",
      "Batch 1: 9.517707824707031\n",
      "torch.int64\n",
      "Batch 2: 7.436384201049805\n",
      "Epoch 2 Loss: 9.5054\n",
      "\n",
      "Epoch 3/3\n",
      "torch.int64\n",
      "Batch 0: 10.724608421325684\n",
      "torch.int64\n",
      "Batch 1: 8.812566757202148\n",
      "torch.int64\n",
      "Batch 2: 6.79634952545166\n",
      "Epoch 3 Loss: 8.7778\n",
      "\n",
      "Entrenamiento finalizado.\n"
     ]
    }
   ],
   "source": [
    "import torch\n",
    "import torch.nn as nn\n",
    "from transformers import AutoModelForCausalLM, AutoTokenizer\n",
    "\n",
    "device = \"cuda\" if torch.cuda.is_available() else \"cpu\"\n",
    "\n",
    "tokenizer = AutoTokenizer.from_pretrained(\"unsloth/Llama-3.2-1B-bnb-4bit\")\n",
    "decoder = AutoModelForCausalLM.from_pretrained(\"unsloth/Llama-3.2-1B-bnb-4bit\", device_map=\"auto\").to(device)\n",
    "\n",
    "encoder_emb_size = 384\n",
    "decoder_emb_size = 2048\n",
    "\n",
    "# Proyección de embeddings\n",
    "projection_layer = nn.Linear(encoder_emb_size, decoder_emb_size).to(device).to(torch.float16)\n",
    "\n",
    "# Datos de entrada para 3 iteraciones\n",
    "inputs_data = [\n",
    "    {\"claim\": torch.randn(1, encoder_emb_size, device=device, dtype=torch.float16),\n",
    "     \"evidence\": [torch.randn(1, encoder_emb_size, device=device, dtype=torch.float16) for _ in range(2)],\n",
    "     \"distractor\": [torch.randn(1, encoder_emb_size, device=device, dtype=torch.float16) for _ in range(2)],\n",
    "     \"label\": \"the evidence supports the claim\"},\n",
    "    {\"claim\": torch.randn(1, encoder_emb_size, device=device, dtype=torch.float16),\n",
    "     \"evidence\": [torch.randn(1, encoder_emb_size, device=device, dtype=torch.float16) for _ in range(2)],\n",
    "     \"distractor\": [torch.randn(1, encoder_emb_size, device=device, dtype=torch.float16) for _ in range(2)],\n",
    "     \"label\": \"the claim is contradicted by the evidence\"},\n",
    "    {\"claim\": torch.randn(1, encoder_emb_size, device=device, dtype=torch.float16),\n",
    "     \"evidence\": [torch.randn(1, encoder_emb_size, device=device, dtype=torch.float16) for _ in range(2)],\n",
    "     \"distractor\": [torch.randn(1, encoder_emb_size, device=device, dtype=torch.float16) for _ in range(2)],\n",
    "     \"label\": \"the claim is neutral with respect to the evidence\"}\n",
    "]\n",
    "\n",
    "# Optimizador\n",
    "optimizer = torch.optim.AdamW(decoder.parameters(), lr=5e-5)\n",
    "\n",
    "from torch.cuda.amp import autocast, GradScaler\n",
    "\n",
    "scaler = GradScaler()\n",
    "\n",
    "# Entrenamiento por 3 iteraciones\n",
    "for epoch in range(3):\n",
    "    print(f\"Epoch {epoch+1}/3\")\n",
    "    total_loss = 0\n",
    "    \n",
    "    for i, data in enumerate(inputs_data):\n",
    "        optimizer.zero_grad()\n",
    "        \n",
    "        claim_emb = data[\"claim\"]\n",
    "        evidence_emb = torch.cat(data[\"evidence\"], dim=0)\n",
    "        distractor_emb = torch.cat(data[\"distractor\"], dim=0)\n",
    "        \n",
    "        encoder_embeddings = torch.cat([claim_emb, evidence_emb, distractor_emb], dim=0)\n",
    "        projected_embeddings = projection_layer(encoder_embeddings).unsqueeze(0)  # (1, seq_len, 2048)\n",
    "        \n",
    "        \n",
    "        decoder_inputs = tokenizer(data[\"label\"], return_tensors=\"pt\").to(device)\n",
    "        decoder_input_ids = decoder_inputs.input_ids  # (1, seq_len)\n",
    "        seq_len = projected_embeddings.shape[1]\n",
    "        \n",
    "        \n",
    "        labels = torch.full((1, seq_len + decoder_input_ids.shape[1] - 1), -100, device=device, dtype=torch.long)\n",
    "        labels[:, seq_len:] = decoder_input_ids[:, 1:]\n",
    "        \n",
    "        token_embeddings = decoder.get_input_embeddings()(decoder_input_ids)  # (1, seq_len, 2048)\n",
    "        inputs_embeds = torch.cat([projected_embeddings, token_embeddings[:, 1:].to(device)], dim=1)\n",
    "\n",
    "        for param in decoder.parameters():\n",
    "            if param.requires_grad:  # Solo los parámetros entrenables\n",
    "                param.data = param.data.to(torch.float32)\n",
    "                if param.grad is not None:\n",
    "                    param.grad.data = param.grad.data.to(torch.float32)\n",
    "        print(decoder_inputs.attention_mask.dtype)\n",
    "        # Diccionario de entrada\n",
    "        inputs = {\n",
    "            \"inputs_embeds\": inputs_embeds,\n",
    "            \"attention_mask\": decoder_inputs.attention_mask,\n",
    "            \"labels\": labels,\n",
    "        }\n",
    "        \n",
    "        # Paso por el modelo\n",
    "        outputs = decoder(**inputs)\n",
    "        loss = outputs.loss\n",
    "        print(f\"Batch {i}: {loss}\")\n",
    "            \n",
    "        # Backpropagation\n",
    "        scaler.scale(loss).backward() # multiplica la pérdida por un factor de escala interno del GradScaler. Cuando trabajamos con float16, los gradientes pueden volverse muy pequeños (subdesbordamiento, es decir, se redondean a 0).\n",
    "        scaler.unscale_(optimizer)    # Dado que scaler.scale(loss).backward() generó gradientes escalados, esta línea revierte el escalado. Si no se desescala, los gradientes serían demasiado grandes y la actualización del optimizador sería incorrecta.\n",
    "        torch.nn.utils.clip_grad_norm_(decoder.parameters(), max_norm=1.0) # Esto ayuda a evitar la explosión de gradientes, un problema donde los gradientes se vuelven tan grandes que la actualización de pesos se vuelve inestable.\n",
    "        scaler.step(optimizer) # scaler.step(optimizer) solo ejecuta optimizer.step() si no hubo desbordamiento (overflow) en los gradientes.\n",
    "        scaler.update()\n",
    "        \n",
    "        total_loss += loss.item()\n",
    "    \n",
    "    print(f\"Epoch {epoch+1} Loss: {total_loss / len(inputs_data):.4f}\\n\")\n",
    "\n",
    "print(\"Entrenamiento finalizado.\")\n"
   ]
  }
 ],
 "metadata": {
  "accelerator": "GPU",
  "colab": {
   "collapsed_sections": [
    "IWsJ6enU9qZk",
    "1-9kn97X7X04",
    "VjGKyGeW7kD6",
    "kFthyqsN8kdA",
    "GVd6ZHvvMAwt"
   ],
   "gpuType": "T4",
   "provenance": []
  },
  "kernelspec": {
   "display_name": "Python 3 (ipykernel)",
   "language": "python",
   "name": "python3"
  },
  "language_info": {
   "codemirror_mode": {
    "name": "ipython",
    "version": 3
   },
   "file_extension": ".py",
   "mimetype": "text/x-python",
   "name": "python",
   "nbconvert_exporter": "python",
   "pygments_lexer": "ipython3",
   "version": "3.11.10"
  },
  "widgets": {
   "application/vnd.jupyter.widget-state+json": {
    "06f800c0b60949e4ae68fa9e5ee298cf": {
     "model_module": "@jupyter-widgets/controls",
     "model_module_version": "1.5.0",
     "model_name": "HTMLModel",
     "state": {
      "_dom_classes": [],
      "_model_module": "@jupyter-widgets/controls",
      "_model_module_version": "1.5.0",
      "_model_name": "HTMLModel",
      "_view_count": null,
      "_view_module": "@jupyter-widgets/controls",
      "_view_module_version": "1.5.0",
      "_view_name": "HTMLView",
      "description": "",
      "description_tooltip": null,
      "layout": "IPY_MODEL_41005463a4404b78893c5af2040709f7",
      "placeholder": "​",
      "style": "IPY_MODEL_321609624ca0439086871bd818831262",
      "value": " 230/230 [00:00&lt;00:00, 11.0kB/s]"
     }
    },
    "135d89ee452a4bf492ac35b5f8f57fdc": {
     "model_module": "@jupyter-widgets/controls",
     "model_module_version": "1.5.0",
     "model_name": "DescriptionStyleModel",
     "state": {
      "_model_module": "@jupyter-widgets/controls",
      "_model_module_version": "1.5.0",
      "_model_name": "DescriptionStyleModel",
      "_view_count": null,
      "_view_module": "@jupyter-widgets/base",
      "_view_module_version": "1.2.0",
      "_view_name": "StyleView",
      "description_width": ""
     }
    },
    "22e9eec59fac416ea9bce41d4bcfbc2f": {
     "model_module": "@jupyter-widgets/controls",
     "model_module_version": "1.5.0",
     "model_name": "HBoxModel",
     "state": {
      "_dom_classes": [],
      "_model_module": "@jupyter-widgets/controls",
      "_model_module_version": "1.5.0",
      "_model_name": "HBoxModel",
      "_view_count": null,
      "_view_module": "@jupyter-widgets/controls",
      "_view_module_version": "1.5.0",
      "_view_name": "HBoxView",
      "box_style": "",
      "children": [
       "IPY_MODEL_4b0c9ef3ec0340e4b70a36e244641a89",
       "IPY_MODEL_6217e09adfcd42d7a86addacd624a141",
       "IPY_MODEL_53d49b9d1602419291e99a309ca2036e"
      ],
      "layout": "IPY_MODEL_9722e5184a1941f5ab67bdb73b8e8a65"
     }
    },
    "2722323b97904c89a2cd4eccef7ba40c": {
     "model_module": "@jupyter-widgets/controls",
     "model_module_version": "1.5.0",
     "model_name": "HTMLModel",
     "state": {
      "_dom_classes": [],
      "_model_module": "@jupyter-widgets/controls",
      "_model_module_version": "1.5.0",
      "_model_name": "HTMLModel",
      "_view_count": null,
      "_view_module": "@jupyter-widgets/controls",
      "_view_module_version": "1.5.0",
      "_view_name": "HTMLView",
      "description": "",
      "description_tooltip": null,
      "layout": "IPY_MODEL_8c0cb434c0f444bb83e8b82aa398ba41",
      "placeholder": "​",
      "style": "IPY_MODEL_cbb3c6784c994c54bf9c62adad3925cc",
      "value": " 459/459 [00:00&lt;00:00, 17.3kB/s]"
     }
    },
    "284f4dfbfb2741e1b25c82668dc16256": {
     "model_module": "@jupyter-widgets/controls",
     "model_module_version": "1.5.0",
     "model_name": "HTMLModel",
     "state": {
      "_dom_classes": [],
      "_model_module": "@jupyter-widgets/controls",
      "_model_module_version": "1.5.0",
      "_model_name": "HTMLModel",
      "_view_count": null,
      "_view_module": "@jupyter-widgets/controls",
      "_view_module_version": "1.5.0",
      "_view_name": "HTMLView",
      "description": "",
      "description_tooltip": null,
      "layout": "IPY_MODEL_4d8254194a2b4f08aa1d7f09acbdf687",
      "placeholder": "​",
      "style": "IPY_MODEL_7fdb18a46ffd469e9b688d676a158540",
      "value": "tokenizer_config.json: 100%"
     }
    },
    "3018b85e429d425ba2eda30f4d35c8b5": {
     "model_module": "@jupyter-widgets/base",
     "model_module_version": "1.2.0",
     "model_name": "LayoutModel",
     "state": {
      "_model_module": "@jupyter-widgets/base",
      "_model_module_version": "1.2.0",
      "_model_name": "LayoutModel",
      "_view_count": null,
      "_view_module": "@jupyter-widgets/base",
      "_view_module_version": "1.2.0",
      "_view_name": "LayoutView",
      "align_content": null,
      "align_items": null,
      "align_self": null,
      "border": null,
      "bottom": null,
      "display": null,
      "flex": null,
      "flex_flow": null,
      "grid_area": null,
      "grid_auto_columns": null,
      "grid_auto_flow": null,
      "grid_auto_rows": null,
      "grid_column": null,
      "grid_gap": null,
      "grid_row": null,
      "grid_template_areas": null,
      "grid_template_columns": null,
      "grid_template_rows": null,
      "height": null,
      "justify_content": null,
      "justify_items": null,
      "left": null,
      "margin": null,
      "max_height": null,
      "max_width": null,
      "min_height": null,
      "min_width": null,
      "object_fit": null,
      "object_position": null,
      "order": null,
      "overflow": null,
      "overflow_x": null,
      "overflow_y": null,
      "padding": null,
      "right": null,
      "top": null,
      "visibility": null,
      "width": null
     }
    },
    "31b407518d184f96b2752aabd076dea2": {
     "model_module": "@jupyter-widgets/base",
     "model_module_version": "1.2.0",
     "model_name": "LayoutModel",
     "state": {
      "_model_module": "@jupyter-widgets/base",
      "_model_module_version": "1.2.0",
      "_model_name": "LayoutModel",
      "_view_count": null,
      "_view_module": "@jupyter-widgets/base",
      "_view_module_version": "1.2.0",
      "_view_name": "LayoutView",
      "align_content": null,
      "align_items": null,
      "align_self": null,
      "border": null,
      "bottom": null,
      "display": null,
      "flex": null,
      "flex_flow": null,
      "grid_area": null,
      "grid_auto_columns": null,
      "grid_auto_flow": null,
      "grid_auto_rows": null,
      "grid_column": null,
      "grid_gap": null,
      "grid_row": null,
      "grid_template_areas": null,
      "grid_template_columns": null,
      "grid_template_rows": null,
      "height": null,
      "justify_content": null,
      "justify_items": null,
      "left": null,
      "margin": null,
      "max_height": null,
      "max_width": null,
      "min_height": null,
      "min_width": null,
      "object_fit": null,
      "object_position": null,
      "order": null,
      "overflow": null,
      "overflow_x": null,
      "overflow_y": null,
      "padding": null,
      "right": null,
      "top": null,
      "visibility": null,
      "width": null
     }
    },
    "321609624ca0439086871bd818831262": {
     "model_module": "@jupyter-widgets/controls",
     "model_module_version": "1.5.0",
     "model_name": "DescriptionStyleModel",
     "state": {
      "_model_module": "@jupyter-widgets/controls",
      "_model_module_version": "1.5.0",
      "_model_name": "DescriptionStyleModel",
      "_view_count": null,
      "_view_module": "@jupyter-widgets/base",
      "_view_module_version": "1.2.0",
      "_view_name": "StyleView",
      "description_width": ""
     }
    },
    "3708ceb70b9c4b8eadbb878d49909ae4": {
     "model_module": "@jupyter-widgets/controls",
     "model_module_version": "1.5.0",
     "model_name": "DescriptionStyleModel",
     "state": {
      "_model_module": "@jupyter-widgets/controls",
      "_model_module_version": "1.5.0",
      "_model_name": "DescriptionStyleModel",
      "_view_count": null,
      "_view_module": "@jupyter-widgets/base",
      "_view_module_version": "1.2.0",
      "_view_name": "StyleView",
      "description_width": ""
     }
    },
    "3f9dae1a754540209251ef2798082a89": {
     "model_module": "@jupyter-widgets/controls",
     "model_module_version": "1.5.0",
     "model_name": "HTMLModel",
     "state": {
      "_dom_classes": [],
      "_model_module": "@jupyter-widgets/controls",
      "_model_module_version": "1.5.0",
      "_model_name": "HTMLModel",
      "_view_count": null,
      "_view_module": "@jupyter-widgets/controls",
      "_view_module_version": "1.5.0",
      "_view_name": "HTMLView",
      "description": "",
      "description_tooltip": null,
      "layout": "IPY_MODEL_6f5d6e99206f489396be606249148845",
      "placeholder": "​",
      "style": "IPY_MODEL_3708ceb70b9c4b8eadbb878d49909ae4",
      "value": "generation_config.json: 100%"
     }
    },
    "41005463a4404b78893c5af2040709f7": {
     "model_module": "@jupyter-widgets/base",
     "model_module_version": "1.2.0",
     "model_name": "LayoutModel",
     "state": {
      "_model_module": "@jupyter-widgets/base",
      "_model_module_version": "1.2.0",
      "_model_name": "LayoutModel",
      "_view_count": null,
      "_view_module": "@jupyter-widgets/base",
      "_view_module_version": "1.2.0",
      "_view_name": "LayoutView",
      "align_content": null,
      "align_items": null,
      "align_self": null,
      "border": null,
      "bottom": null,
      "display": null,
      "flex": null,
      "flex_flow": null,
      "grid_area": null,
      "grid_auto_columns": null,
      "grid_auto_flow": null,
      "grid_auto_rows": null,
      "grid_column": null,
      "grid_gap": null,
      "grid_row": null,
      "grid_template_areas": null,
      "grid_template_columns": null,
      "grid_template_rows": null,
      "height": null,
      "justify_content": null,
      "justify_items": null,
      "left": null,
      "margin": null,
      "max_height": null,
      "max_width": null,
      "min_height": null,
      "min_width": null,
      "object_fit": null,
      "object_position": null,
      "order": null,
      "overflow": null,
      "overflow_x": null,
      "overflow_y": null,
      "padding": null,
      "right": null,
      "top": null,
      "visibility": null,
      "width": null
     }
    },
    "4511c41f23524ddabf7b0a1787f4a21e": {
     "model_module": "@jupyter-widgets/controls",
     "model_module_version": "1.5.0",
     "model_name": "FloatProgressModel",
     "state": {
      "_dom_classes": [],
      "_model_module": "@jupyter-widgets/controls",
      "_model_module_version": "1.5.0",
      "_model_name": "FloatProgressModel",
      "_view_count": null,
      "_view_module": "@jupyter-widgets/controls",
      "_view_module_version": "1.5.0",
      "_view_name": "ProgressView",
      "bar_style": "success",
      "description": "",
      "description_tooltip": null,
      "layout": "IPY_MODEL_c20e4e5d5fda49b385ac482ff2f5cf35",
      "max": 50646,
      "min": 0,
      "orientation": "horizontal",
      "style": "IPY_MODEL_9a493df32acd4f4286d59576e309395f",
      "value": 50646
     }
    },
    "46b8a2c0712f4795951588a985867b88": {
     "model_module": "@jupyter-widgets/controls",
     "model_module_version": "1.5.0",
     "model_name": "FloatProgressModel",
     "state": {
      "_dom_classes": [],
      "_model_module": "@jupyter-widgets/controls",
      "_model_module_version": "1.5.0",
      "_model_name": "FloatProgressModel",
      "_view_count": null,
      "_view_module": "@jupyter-widgets/controls",
      "_view_module_version": "1.5.0",
      "_view_name": "ProgressView",
      "bar_style": "success",
      "description": "",
      "description_tooltip": null,
      "layout": "IPY_MODEL_7754489bc3f146b5a3c047ccfc2f1cbb",
      "max": 17209920,
      "min": 0,
      "orientation": "horizontal",
      "style": "IPY_MODEL_90fbd6abcc4847d39a116bafe83bd03a",
      "value": 17209920
     }
    },
    "4a149b41cbc048cea9bdfb69f3b2b4fc": {
     "model_module": "@jupyter-widgets/base",
     "model_module_version": "1.2.0",
     "model_name": "LayoutModel",
     "state": {
      "_model_module": "@jupyter-widgets/base",
      "_model_module_version": "1.2.0",
      "_model_name": "LayoutModel",
      "_view_count": null,
      "_view_module": "@jupyter-widgets/base",
      "_view_module_version": "1.2.0",
      "_view_name": "LayoutView",
      "align_content": null,
      "align_items": null,
      "align_self": null,
      "border": null,
      "bottom": null,
      "display": null,
      "flex": null,
      "flex_flow": null,
      "grid_area": null,
      "grid_auto_columns": null,
      "grid_auto_flow": null,
      "grid_auto_rows": null,
      "grid_column": null,
      "grid_gap": null,
      "grid_row": null,
      "grid_template_areas": null,
      "grid_template_columns": null,
      "grid_template_rows": null,
      "height": null,
      "justify_content": null,
      "justify_items": null,
      "left": null,
      "margin": null,
      "max_height": null,
      "max_width": null,
      "min_height": null,
      "min_width": null,
      "object_fit": null,
      "object_position": null,
      "order": null,
      "overflow": null,
      "overflow_x": null,
      "overflow_y": null,
      "padding": null,
      "right": null,
      "top": null,
      "visibility": null,
      "width": null
     }
    },
    "4b0c9ef3ec0340e4b70a36e244641a89": {
     "model_module": "@jupyter-widgets/controls",
     "model_module_version": "1.5.0",
     "model_name": "HTMLModel",
     "state": {
      "_dom_classes": [],
      "_model_module": "@jupyter-widgets/controls",
      "_model_module_version": "1.5.0",
      "_model_name": "HTMLModel",
      "_view_count": null,
      "_view_module": "@jupyter-widgets/controls",
      "_view_module_version": "1.5.0",
      "_view_name": "HTMLView",
      "description": "",
      "description_tooltip": null,
      "layout": "IPY_MODEL_b10e239750da4bfd8d659fa925737b01",
      "placeholder": "​",
      "style": "IPY_MODEL_faea3e25629540e2852ef9769d8b74eb",
      "value": "model.safetensors: 100%"
     }
    },
    "4d8254194a2b4f08aa1d7f09acbdf687": {
     "model_module": "@jupyter-widgets/base",
     "model_module_version": "1.2.0",
     "model_name": "LayoutModel",
     "state": {
      "_model_module": "@jupyter-widgets/base",
      "_model_module_version": "1.2.0",
      "_model_name": "LayoutModel",
      "_view_count": null,
      "_view_module": "@jupyter-widgets/base",
      "_view_module_version": "1.2.0",
      "_view_name": "LayoutView",
      "align_content": null,
      "align_items": null,
      "align_self": null,
      "border": null,
      "bottom": null,
      "display": null,
      "flex": null,
      "flex_flow": null,
      "grid_area": null,
      "grid_auto_columns": null,
      "grid_auto_flow": null,
      "grid_auto_rows": null,
      "grid_column": null,
      "grid_gap": null,
      "grid_row": null,
      "grid_template_areas": null,
      "grid_template_columns": null,
      "grid_template_rows": null,
      "height": null,
      "justify_content": null,
      "justify_items": null,
      "left": null,
      "margin": null,
      "max_height": null,
      "max_width": null,
      "min_height": null,
      "min_width": null,
      "object_fit": null,
      "object_position": null,
      "order": null,
      "overflow": null,
      "overflow_x": null,
      "overflow_y": null,
      "padding": null,
      "right": null,
      "top": null,
      "visibility": null,
      "width": null
     }
    },
    "5295807c4e6346779fe9c50b1f9dde7c": {
     "model_module": "@jupyter-widgets/controls",
     "model_module_version": "1.5.0",
     "model_name": "HBoxModel",
     "state": {
      "_dom_classes": [],
      "_model_module": "@jupyter-widgets/controls",
      "_model_module_version": "1.5.0",
      "_model_name": "HBoxModel",
      "_view_count": null,
      "_view_module": "@jupyter-widgets/controls",
      "_view_module_version": "1.5.0",
      "_view_name": "HBoxView",
      "box_style": "",
      "children": [
       "IPY_MODEL_3f9dae1a754540209251ef2798082a89",
       "IPY_MODEL_659adba6b3dd4f24bfd06bba8f0e357c",
       "IPY_MODEL_06f800c0b60949e4ae68fa9e5ee298cf"
      ],
      "layout": "IPY_MODEL_cd92c220eb4c48d4b4fd16116ce851ce"
     }
    },
    "53d49b9d1602419291e99a309ca2036e": {
     "model_module": "@jupyter-widgets/controls",
     "model_module_version": "1.5.0",
     "model_name": "HTMLModel",
     "state": {
      "_dom_classes": [],
      "_model_module": "@jupyter-widgets/controls",
      "_model_module_version": "1.5.0",
      "_model_name": "HTMLModel",
      "_view_count": null,
      "_view_module": "@jupyter-widgets/controls",
      "_view_module_version": "1.5.0",
      "_view_name": "HTMLView",
      "description": "",
      "description_tooltip": null,
      "layout": "IPY_MODEL_31b407518d184f96b2752aabd076dea2",
      "placeholder": "​",
      "style": "IPY_MODEL_a001d6cf72aa41939b805edcad20813a",
      "value": " 1.03G/1.03G [00:04&lt;00:00, 233MB/s]"
     }
    },
    "6217e09adfcd42d7a86addacd624a141": {
     "model_module": "@jupyter-widgets/controls",
     "model_module_version": "1.5.0",
     "model_name": "FloatProgressModel",
     "state": {
      "_dom_classes": [],
      "_model_module": "@jupyter-widgets/controls",
      "_model_module_version": "1.5.0",
      "_model_name": "FloatProgressModel",
      "_view_count": null,
      "_view_module": "@jupyter-widgets/controls",
      "_view_module_version": "1.5.0",
      "_view_name": "ProgressView",
      "bar_style": "success",
      "description": "",
      "description_tooltip": null,
      "layout": "IPY_MODEL_6288df51f9614c0d90d03f3e883e2b5a",
      "max": 1027676732,
      "min": 0,
      "orientation": "horizontal",
      "style": "IPY_MODEL_906e52cfeeef427586e124a482ec5523",
      "value": 1027676732
     }
    },
    "6288df51f9614c0d90d03f3e883e2b5a": {
     "model_module": "@jupyter-widgets/base",
     "model_module_version": "1.2.0",
     "model_name": "LayoutModel",
     "state": {
      "_model_module": "@jupyter-widgets/base",
      "_model_module_version": "1.2.0",
      "_model_name": "LayoutModel",
      "_view_count": null,
      "_view_module": "@jupyter-widgets/base",
      "_view_module_version": "1.2.0",
      "_view_name": "LayoutView",
      "align_content": null,
      "align_items": null,
      "align_self": null,
      "border": null,
      "bottom": null,
      "display": null,
      "flex": null,
      "flex_flow": null,
      "grid_area": null,
      "grid_auto_columns": null,
      "grid_auto_flow": null,
      "grid_auto_rows": null,
      "grid_column": null,
      "grid_gap": null,
      "grid_row": null,
      "grid_template_areas": null,
      "grid_template_columns": null,
      "grid_template_rows": null,
      "height": null,
      "justify_content": null,
      "justify_items": null,
      "left": null,
      "margin": null,
      "max_height": null,
      "max_width": null,
      "min_height": null,
      "min_width": null,
      "object_fit": null,
      "object_position": null,
      "order": null,
      "overflow": null,
      "overflow_x": null,
      "overflow_y": null,
      "padding": null,
      "right": null,
      "top": null,
      "visibility": null,
      "width": null
     }
    },
    "650e3b786f3c4f548681c71fa4ea5ffd": {
     "model_module": "@jupyter-widgets/controls",
     "model_module_version": "1.5.0",
     "model_name": "ProgressStyleModel",
     "state": {
      "_model_module": "@jupyter-widgets/controls",
      "_model_module_version": "1.5.0",
      "_model_name": "ProgressStyleModel",
      "_view_count": null,
      "_view_module": "@jupyter-widgets/base",
      "_view_module_version": "1.2.0",
      "_view_name": "StyleView",
      "bar_color": null,
      "description_width": ""
     }
    },
    "659adba6b3dd4f24bfd06bba8f0e357c": {
     "model_module": "@jupyter-widgets/controls",
     "model_module_version": "1.5.0",
     "model_name": "FloatProgressModel",
     "state": {
      "_dom_classes": [],
      "_model_module": "@jupyter-widgets/controls",
      "_model_module_version": "1.5.0",
      "_model_name": "FloatProgressModel",
      "_view_count": null,
      "_view_module": "@jupyter-widgets/controls",
      "_view_module_version": "1.5.0",
      "_view_name": "ProgressView",
      "bar_style": "success",
      "description": "",
      "description_tooltip": null,
      "layout": "IPY_MODEL_6cf67292bc23424f94e13d00d70b64c5",
      "max": 230,
      "min": 0,
      "orientation": "horizontal",
      "style": "IPY_MODEL_650e3b786f3c4f548681c71fa4ea5ffd",
      "value": 230
     }
    },
    "6cf67292bc23424f94e13d00d70b64c5": {
     "model_module": "@jupyter-widgets/base",
     "model_module_version": "1.2.0",
     "model_name": "LayoutModel",
     "state": {
      "_model_module": "@jupyter-widgets/base",
      "_model_module_version": "1.2.0",
      "_model_name": "LayoutModel",
      "_view_count": null,
      "_view_module": "@jupyter-widgets/base",
      "_view_module_version": "1.2.0",
      "_view_name": "LayoutView",
      "align_content": null,
      "align_items": null,
      "align_self": null,
      "border": null,
      "bottom": null,
      "display": null,
      "flex": null,
      "flex_flow": null,
      "grid_area": null,
      "grid_auto_columns": null,
      "grid_auto_flow": null,
      "grid_auto_rows": null,
      "grid_column": null,
      "grid_gap": null,
      "grid_row": null,
      "grid_template_areas": null,
      "grid_template_columns": null,
      "grid_template_rows": null,
      "height": null,
      "justify_content": null,
      "justify_items": null,
      "left": null,
      "margin": null,
      "max_height": null,
      "max_width": null,
      "min_height": null,
      "min_width": null,
      "object_fit": null,
      "object_position": null,
      "order": null,
      "overflow": null,
      "overflow_x": null,
      "overflow_y": null,
      "padding": null,
      "right": null,
      "top": null,
      "visibility": null,
      "width": null
     }
    },
    "6f5d6e99206f489396be606249148845": {
     "model_module": "@jupyter-widgets/base",
     "model_module_version": "1.2.0",
     "model_name": "LayoutModel",
     "state": {
      "_model_module": "@jupyter-widgets/base",
      "_model_module_version": "1.2.0",
      "_model_name": "LayoutModel",
      "_view_count": null,
      "_view_module": "@jupyter-widgets/base",
      "_view_module_version": "1.2.0",
      "_view_name": "LayoutView",
      "align_content": null,
      "align_items": null,
      "align_self": null,
      "border": null,
      "bottom": null,
      "display": null,
      "flex": null,
      "flex_flow": null,
      "grid_area": null,
      "grid_auto_columns": null,
      "grid_auto_flow": null,
      "grid_auto_rows": null,
      "grid_column": null,
      "grid_gap": null,
      "grid_row": null,
      "grid_template_areas": null,
      "grid_template_columns": null,
      "grid_template_rows": null,
      "height": null,
      "justify_content": null,
      "justify_items": null,
      "left": null,
      "margin": null,
      "max_height": null,
      "max_width": null,
      "min_height": null,
      "min_width": null,
      "object_fit": null,
      "object_position": null,
      "order": null,
      "overflow": null,
      "overflow_x": null,
      "overflow_y": null,
      "padding": null,
      "right": null,
      "top": null,
      "visibility": null,
      "width": null
     }
    },
    "749407ebb6894715b33b46716f748bf7": {
     "model_module": "@jupyter-widgets/controls",
     "model_module_version": "1.5.0",
     "model_name": "HTMLModel",
     "state": {
      "_dom_classes": [],
      "_model_module": "@jupyter-widgets/controls",
      "_model_module_version": "1.5.0",
      "_model_name": "HTMLModel",
      "_view_count": null,
      "_view_module": "@jupyter-widgets/controls",
      "_view_module_version": "1.5.0",
      "_view_name": "HTMLView",
      "description": "",
      "description_tooltip": null,
      "layout": "IPY_MODEL_3018b85e429d425ba2eda30f4d35c8b5",
      "placeholder": "​",
      "style": "IPY_MODEL_8f1ff279e5274248b44af5d8453760a9",
      "value": " 50.6k/50.6k [00:00&lt;00:00, 2.84MB/s]"
     }
    },
    "75b643d763114b99a7622e9720bb54b4": {
     "model_module": "@jupyter-widgets/base",
     "model_module_version": "1.2.0",
     "model_name": "LayoutModel",
     "state": {
      "_model_module": "@jupyter-widgets/base",
      "_model_module_version": "1.2.0",
      "_model_name": "LayoutModel",
      "_view_count": null,
      "_view_module": "@jupyter-widgets/base",
      "_view_module_version": "1.2.0",
      "_view_name": "LayoutView",
      "align_content": null,
      "align_items": null,
      "align_self": null,
      "border": null,
      "bottom": null,
      "display": null,
      "flex": null,
      "flex_flow": null,
      "grid_area": null,
      "grid_auto_columns": null,
      "grid_auto_flow": null,
      "grid_auto_rows": null,
      "grid_column": null,
      "grid_gap": null,
      "grid_row": null,
      "grid_template_areas": null,
      "grid_template_columns": null,
      "grid_template_rows": null,
      "height": null,
      "justify_content": null,
      "justify_items": null,
      "left": null,
      "margin": null,
      "max_height": null,
      "max_width": null,
      "min_height": null,
      "min_width": null,
      "object_fit": null,
      "object_position": null,
      "order": null,
      "overflow": null,
      "overflow_x": null,
      "overflow_y": null,
      "padding": null,
      "right": null,
      "top": null,
      "visibility": null,
      "width": null
     }
    },
    "7754489bc3f146b5a3c047ccfc2f1cbb": {
     "model_module": "@jupyter-widgets/base",
     "model_module_version": "1.2.0",
     "model_name": "LayoutModel",
     "state": {
      "_model_module": "@jupyter-widgets/base",
      "_model_module_version": "1.2.0",
      "_model_name": "LayoutModel",
      "_view_count": null,
      "_view_module": "@jupyter-widgets/base",
      "_view_module_version": "1.2.0",
      "_view_name": "LayoutView",
      "align_content": null,
      "align_items": null,
      "align_self": null,
      "border": null,
      "bottom": null,
      "display": null,
      "flex": null,
      "flex_flow": null,
      "grid_area": null,
      "grid_auto_columns": null,
      "grid_auto_flow": null,
      "grid_auto_rows": null,
      "grid_column": null,
      "grid_gap": null,
      "grid_row": null,
      "grid_template_areas": null,
      "grid_template_columns": null,
      "grid_template_rows": null,
      "height": null,
      "justify_content": null,
      "justify_items": null,
      "left": null,
      "margin": null,
      "max_height": null,
      "max_width": null,
      "min_height": null,
      "min_width": null,
      "object_fit": null,
      "object_position": null,
      "order": null,
      "overflow": null,
      "overflow_x": null,
      "overflow_y": null,
      "padding": null,
      "right": null,
      "top": null,
      "visibility": null,
      "width": null
     }
    },
    "77ff0108c9ce4e0a96f179f17c42fb62": {
     "model_module": "@jupyter-widgets/controls",
     "model_module_version": "1.5.0",
     "model_name": "DescriptionStyleModel",
     "state": {
      "_model_module": "@jupyter-widgets/controls",
      "_model_module_version": "1.5.0",
      "_model_name": "DescriptionStyleModel",
      "_view_count": null,
      "_view_module": "@jupyter-widgets/base",
      "_view_module_version": "1.2.0",
      "_view_name": "StyleView",
      "description_width": ""
     }
    },
    "7f0bbf7fe6264e578794c938aeeb0e6f": {
     "model_module": "@jupyter-widgets/base",
     "model_module_version": "1.2.0",
     "model_name": "LayoutModel",
     "state": {
      "_model_module": "@jupyter-widgets/base",
      "_model_module_version": "1.2.0",
      "_model_name": "LayoutModel",
      "_view_count": null,
      "_view_module": "@jupyter-widgets/base",
      "_view_module_version": "1.2.0",
      "_view_name": "LayoutView",
      "align_content": null,
      "align_items": null,
      "align_self": null,
      "border": null,
      "bottom": null,
      "display": null,
      "flex": null,
      "flex_flow": null,
      "grid_area": null,
      "grid_auto_columns": null,
      "grid_auto_flow": null,
      "grid_auto_rows": null,
      "grid_column": null,
      "grid_gap": null,
      "grid_row": null,
      "grid_template_areas": null,
      "grid_template_columns": null,
      "grid_template_rows": null,
      "height": null,
      "justify_content": null,
      "justify_items": null,
      "left": null,
      "margin": null,
      "max_height": null,
      "max_width": null,
      "min_height": null,
      "min_width": null,
      "object_fit": null,
      "object_position": null,
      "order": null,
      "overflow": null,
      "overflow_x": null,
      "overflow_y": null,
      "padding": null,
      "right": null,
      "top": null,
      "visibility": null,
      "width": null
     }
    },
    "7fdb18a46ffd469e9b688d676a158540": {
     "model_module": "@jupyter-widgets/controls",
     "model_module_version": "1.5.0",
     "model_name": "DescriptionStyleModel",
     "state": {
      "_model_module": "@jupyter-widgets/controls",
      "_model_module_version": "1.5.0",
      "_model_name": "DescriptionStyleModel",
      "_view_count": null,
      "_view_module": "@jupyter-widgets/base",
      "_view_module_version": "1.2.0",
      "_view_name": "StyleView",
      "description_width": ""
     }
    },
    "8c0cb434c0f444bb83e8b82aa398ba41": {
     "model_module": "@jupyter-widgets/base",
     "model_module_version": "1.2.0",
     "model_name": "LayoutModel",
     "state": {
      "_model_module": "@jupyter-widgets/base",
      "_model_module_version": "1.2.0",
      "_model_name": "LayoutModel",
      "_view_count": null,
      "_view_module": "@jupyter-widgets/base",
      "_view_module_version": "1.2.0",
      "_view_name": "LayoutView",
      "align_content": null,
      "align_items": null,
      "align_self": null,
      "border": null,
      "bottom": null,
      "display": null,
      "flex": null,
      "flex_flow": null,
      "grid_area": null,
      "grid_auto_columns": null,
      "grid_auto_flow": null,
      "grid_auto_rows": null,
      "grid_column": null,
      "grid_gap": null,
      "grid_row": null,
      "grid_template_areas": null,
      "grid_template_columns": null,
      "grid_template_rows": null,
      "height": null,
      "justify_content": null,
      "justify_items": null,
      "left": null,
      "margin": null,
      "max_height": null,
      "max_width": null,
      "min_height": null,
      "min_width": null,
      "object_fit": null,
      "object_position": null,
      "order": null,
      "overflow": null,
      "overflow_x": null,
      "overflow_y": null,
      "padding": null,
      "right": null,
      "top": null,
      "visibility": null,
      "width": null
     }
    },
    "8f1ff279e5274248b44af5d8453760a9": {
     "model_module": "@jupyter-widgets/controls",
     "model_module_version": "1.5.0",
     "model_name": "DescriptionStyleModel",
     "state": {
      "_model_module": "@jupyter-widgets/controls",
      "_model_module_version": "1.5.0",
      "_model_name": "DescriptionStyleModel",
      "_view_count": null,
      "_view_module": "@jupyter-widgets/base",
      "_view_module_version": "1.2.0",
      "_view_name": "StyleView",
      "description_width": ""
     }
    },
    "8f774782b60d4dc28cbe91915ae5ecd5": {
     "model_module": "@jupyter-widgets/controls",
     "model_module_version": "1.5.0",
     "model_name": "FloatProgressModel",
     "state": {
      "_dom_classes": [],
      "_model_module": "@jupyter-widgets/controls",
      "_model_module_version": "1.5.0",
      "_model_name": "FloatProgressModel",
      "_view_count": null,
      "_view_module": "@jupyter-widgets/controls",
      "_view_module_version": "1.5.0",
      "_view_name": "ProgressView",
      "bar_style": "success",
      "description": "",
      "description_tooltip": null,
      "layout": "IPY_MODEL_4a149b41cbc048cea9bdfb69f3b2b4fc",
      "max": 459,
      "min": 0,
      "orientation": "horizontal",
      "style": "IPY_MODEL_c08b7face4f9473fba607f4122ef3c2c",
      "value": 459
     }
    },
    "904119074a8b465ebc6686b739dd6735": {
     "model_module": "@jupyter-widgets/base",
     "model_module_version": "1.2.0",
     "model_name": "LayoutModel",
     "state": {
      "_model_module": "@jupyter-widgets/base",
      "_model_module_version": "1.2.0",
      "_model_name": "LayoutModel",
      "_view_count": null,
      "_view_module": "@jupyter-widgets/base",
      "_view_module_version": "1.2.0",
      "_view_name": "LayoutView",
      "align_content": null,
      "align_items": null,
      "align_self": null,
      "border": null,
      "bottom": null,
      "display": null,
      "flex": null,
      "flex_flow": null,
      "grid_area": null,
      "grid_auto_columns": null,
      "grid_auto_flow": null,
      "grid_auto_rows": null,
      "grid_column": null,
      "grid_gap": null,
      "grid_row": null,
      "grid_template_areas": null,
      "grid_template_columns": null,
      "grid_template_rows": null,
      "height": null,
      "justify_content": null,
      "justify_items": null,
      "left": null,
      "margin": null,
      "max_height": null,
      "max_width": null,
      "min_height": null,
      "min_width": null,
      "object_fit": null,
      "object_position": null,
      "order": null,
      "overflow": null,
      "overflow_x": null,
      "overflow_y": null,
      "padding": null,
      "right": null,
      "top": null,
      "visibility": null,
      "width": null
     }
    },
    "906e52cfeeef427586e124a482ec5523": {
     "model_module": "@jupyter-widgets/controls",
     "model_module_version": "1.5.0",
     "model_name": "ProgressStyleModel",
     "state": {
      "_model_module": "@jupyter-widgets/controls",
      "_model_module_version": "1.5.0",
      "_model_name": "ProgressStyleModel",
      "_view_count": null,
      "_view_module": "@jupyter-widgets/base",
      "_view_module_version": "1.2.0",
      "_view_name": "StyleView",
      "bar_color": null,
      "description_width": ""
     }
    },
    "90fbd6abcc4847d39a116bafe83bd03a": {
     "model_module": "@jupyter-widgets/controls",
     "model_module_version": "1.5.0",
     "model_name": "ProgressStyleModel",
     "state": {
      "_model_module": "@jupyter-widgets/controls",
      "_model_module_version": "1.5.0",
      "_model_name": "ProgressStyleModel",
      "_view_count": null,
      "_view_module": "@jupyter-widgets/base",
      "_view_module_version": "1.2.0",
      "_view_name": "StyleView",
      "bar_color": null,
      "description_width": ""
     }
    },
    "9722e5184a1941f5ab67bdb73b8e8a65": {
     "model_module": "@jupyter-widgets/base",
     "model_module_version": "1.2.0",
     "model_name": "LayoutModel",
     "state": {
      "_model_module": "@jupyter-widgets/base",
      "_model_module_version": "1.2.0",
      "_model_name": "LayoutModel",
      "_view_count": null,
      "_view_module": "@jupyter-widgets/base",
      "_view_module_version": "1.2.0",
      "_view_name": "LayoutView",
      "align_content": null,
      "align_items": null,
      "align_self": null,
      "border": null,
      "bottom": null,
      "display": null,
      "flex": null,
      "flex_flow": null,
      "grid_area": null,
      "grid_auto_columns": null,
      "grid_auto_flow": null,
      "grid_auto_rows": null,
      "grid_column": null,
      "grid_gap": null,
      "grid_row": null,
      "grid_template_areas": null,
      "grid_template_columns": null,
      "grid_template_rows": null,
      "height": null,
      "justify_content": null,
      "justify_items": null,
      "left": null,
      "margin": null,
      "max_height": null,
      "max_width": null,
      "min_height": null,
      "min_width": null,
      "object_fit": null,
      "object_position": null,
      "order": null,
      "overflow": null,
      "overflow_x": null,
      "overflow_y": null,
      "padding": null,
      "right": null,
      "top": null,
      "visibility": null,
      "width": null
     }
    },
    "9a493df32acd4f4286d59576e309395f": {
     "model_module": "@jupyter-widgets/controls",
     "model_module_version": "1.5.0",
     "model_name": "ProgressStyleModel",
     "state": {
      "_model_module": "@jupyter-widgets/controls",
      "_model_module_version": "1.5.0",
      "_model_name": "ProgressStyleModel",
      "_view_count": null,
      "_view_module": "@jupyter-widgets/base",
      "_view_module_version": "1.2.0",
      "_view_name": "StyleView",
      "bar_color": null,
      "description_width": ""
     }
    },
    "a001d6cf72aa41939b805edcad20813a": {
     "model_module": "@jupyter-widgets/controls",
     "model_module_version": "1.5.0",
     "model_name": "DescriptionStyleModel",
     "state": {
      "_model_module": "@jupyter-widgets/controls",
      "_model_module_version": "1.5.0",
      "_model_name": "DescriptionStyleModel",
      "_view_count": null,
      "_view_module": "@jupyter-widgets/base",
      "_view_module_version": "1.2.0",
      "_view_name": "StyleView",
      "description_width": ""
     }
    },
    "ae09819aa696469b8cd910b00aa83b1a": {
     "model_module": "@jupyter-widgets/base",
     "model_module_version": "1.2.0",
     "model_name": "LayoutModel",
     "state": {
      "_model_module": "@jupyter-widgets/base",
      "_model_module_version": "1.2.0",
      "_model_name": "LayoutModel",
      "_view_count": null,
      "_view_module": "@jupyter-widgets/base",
      "_view_module_version": "1.2.0",
      "_view_name": "LayoutView",
      "align_content": null,
      "align_items": null,
      "align_self": null,
      "border": null,
      "bottom": null,
      "display": null,
      "flex": null,
      "flex_flow": null,
      "grid_area": null,
      "grid_auto_columns": null,
      "grid_auto_flow": null,
      "grid_auto_rows": null,
      "grid_column": null,
      "grid_gap": null,
      "grid_row": null,
      "grid_template_areas": null,
      "grid_template_columns": null,
      "grid_template_rows": null,
      "height": null,
      "justify_content": null,
      "justify_items": null,
      "left": null,
      "margin": null,
      "max_height": null,
      "max_width": null,
      "min_height": null,
      "min_width": null,
      "object_fit": null,
      "object_position": null,
      "order": null,
      "overflow": null,
      "overflow_x": null,
      "overflow_y": null,
      "padding": null,
      "right": null,
      "top": null,
      "visibility": null,
      "width": null
     }
    },
    "b10e239750da4bfd8d659fa925737b01": {
     "model_module": "@jupyter-widgets/base",
     "model_module_version": "1.2.0",
     "model_name": "LayoutModel",
     "state": {
      "_model_module": "@jupyter-widgets/base",
      "_model_module_version": "1.2.0",
      "_model_name": "LayoutModel",
      "_view_count": null,
      "_view_module": "@jupyter-widgets/base",
      "_view_module_version": "1.2.0",
      "_view_name": "LayoutView",
      "align_content": null,
      "align_items": null,
      "align_self": null,
      "border": null,
      "bottom": null,
      "display": null,
      "flex": null,
      "flex_flow": null,
      "grid_area": null,
      "grid_auto_columns": null,
      "grid_auto_flow": null,
      "grid_auto_rows": null,
      "grid_column": null,
      "grid_gap": null,
      "grid_row": null,
      "grid_template_areas": null,
      "grid_template_columns": null,
      "grid_template_rows": null,
      "height": null,
      "justify_content": null,
      "justify_items": null,
      "left": null,
      "margin": null,
      "max_height": null,
      "max_width": null,
      "min_height": null,
      "min_width": null,
      "object_fit": null,
      "object_position": null,
      "order": null,
      "overflow": null,
      "overflow_x": null,
      "overflow_y": null,
      "padding": null,
      "right": null,
      "top": null,
      "visibility": null,
      "width": null
     }
    },
    "b3e40198c11f4f8cb2c40c7f695fe2aa": {
     "model_module": "@jupyter-widgets/controls",
     "model_module_version": "1.5.0",
     "model_name": "HBoxModel",
     "state": {
      "_dom_classes": [],
      "_model_module": "@jupyter-widgets/controls",
      "_model_module_version": "1.5.0",
      "_model_name": "HBoxModel",
      "_view_count": null,
      "_view_module": "@jupyter-widgets/controls",
      "_view_module_version": "1.5.0",
      "_view_name": "HBoxView",
      "box_style": "",
      "children": [
       "IPY_MODEL_df909e13f97d48b4ab251f8135b318cd",
       "IPY_MODEL_8f774782b60d4dc28cbe91915ae5ecd5",
       "IPY_MODEL_2722323b97904c89a2cd4eccef7ba40c"
      ],
      "layout": "IPY_MODEL_7f0bbf7fe6264e578794c938aeeb0e6f"
     }
    },
    "c08b7face4f9473fba607f4122ef3c2c": {
     "model_module": "@jupyter-widgets/controls",
     "model_module_version": "1.5.0",
     "model_name": "ProgressStyleModel",
     "state": {
      "_model_module": "@jupyter-widgets/controls",
      "_model_module_version": "1.5.0",
      "_model_name": "ProgressStyleModel",
      "_view_count": null,
      "_view_module": "@jupyter-widgets/base",
      "_view_module_version": "1.2.0",
      "_view_name": "StyleView",
      "bar_color": null,
      "description_width": ""
     }
    },
    "c20e4e5d5fda49b385ac482ff2f5cf35": {
     "model_module": "@jupyter-widgets/base",
     "model_module_version": "1.2.0",
     "model_name": "LayoutModel",
     "state": {
      "_model_module": "@jupyter-widgets/base",
      "_model_module_version": "1.2.0",
      "_model_name": "LayoutModel",
      "_view_count": null,
      "_view_module": "@jupyter-widgets/base",
      "_view_module_version": "1.2.0",
      "_view_name": "LayoutView",
      "align_content": null,
      "align_items": null,
      "align_self": null,
      "border": null,
      "bottom": null,
      "display": null,
      "flex": null,
      "flex_flow": null,
      "grid_area": null,
      "grid_auto_columns": null,
      "grid_auto_flow": null,
      "grid_auto_rows": null,
      "grid_column": null,
      "grid_gap": null,
      "grid_row": null,
      "grid_template_areas": null,
      "grid_template_columns": null,
      "grid_template_rows": null,
      "height": null,
      "justify_content": null,
      "justify_items": null,
      "left": null,
      "margin": null,
      "max_height": null,
      "max_width": null,
      "min_height": null,
      "min_width": null,
      "object_fit": null,
      "object_position": null,
      "order": null,
      "overflow": null,
      "overflow_x": null,
      "overflow_y": null,
      "padding": null,
      "right": null,
      "top": null,
      "visibility": null,
      "width": null
     }
    },
    "c7c652c03c5747e898ea938a99b8a43d": {
     "model_module": "@jupyter-widgets/base",
     "model_module_version": "1.2.0",
     "model_name": "LayoutModel",
     "state": {
      "_model_module": "@jupyter-widgets/base",
      "_model_module_version": "1.2.0",
      "_model_name": "LayoutModel",
      "_view_count": null,
      "_view_module": "@jupyter-widgets/base",
      "_view_module_version": "1.2.0",
      "_view_name": "LayoutView",
      "align_content": null,
      "align_items": null,
      "align_self": null,
      "border": null,
      "bottom": null,
      "display": null,
      "flex": null,
      "flex_flow": null,
      "grid_area": null,
      "grid_auto_columns": null,
      "grid_auto_flow": null,
      "grid_auto_rows": null,
      "grid_column": null,
      "grid_gap": null,
      "grid_row": null,
      "grid_template_areas": null,
      "grid_template_columns": null,
      "grid_template_rows": null,
      "height": null,
      "justify_content": null,
      "justify_items": null,
      "left": null,
      "margin": null,
      "max_height": null,
      "max_width": null,
      "min_height": null,
      "min_width": null,
      "object_fit": null,
      "object_position": null,
      "order": null,
      "overflow": null,
      "overflow_x": null,
      "overflow_y": null,
      "padding": null,
      "right": null,
      "top": null,
      "visibility": null,
      "width": null
     }
    },
    "cbb3c6784c994c54bf9c62adad3925cc": {
     "model_module": "@jupyter-widgets/controls",
     "model_module_version": "1.5.0",
     "model_name": "DescriptionStyleModel",
     "state": {
      "_model_module": "@jupyter-widgets/controls",
      "_model_module_version": "1.5.0",
      "_model_name": "DescriptionStyleModel",
      "_view_count": null,
      "_view_module": "@jupyter-widgets/base",
      "_view_module_version": "1.2.0",
      "_view_name": "StyleView",
      "description_width": ""
     }
    },
    "cd92c220eb4c48d4b4fd16116ce851ce": {
     "model_module": "@jupyter-widgets/base",
     "model_module_version": "1.2.0",
     "model_name": "LayoutModel",
     "state": {
      "_model_module": "@jupyter-widgets/base",
      "_model_module_version": "1.2.0",
      "_model_name": "LayoutModel",
      "_view_count": null,
      "_view_module": "@jupyter-widgets/base",
      "_view_module_version": "1.2.0",
      "_view_name": "LayoutView",
      "align_content": null,
      "align_items": null,
      "align_self": null,
      "border": null,
      "bottom": null,
      "display": null,
      "flex": null,
      "flex_flow": null,
      "grid_area": null,
      "grid_auto_columns": null,
      "grid_auto_flow": null,
      "grid_auto_rows": null,
      "grid_column": null,
      "grid_gap": null,
      "grid_row": null,
      "grid_template_areas": null,
      "grid_template_columns": null,
      "grid_template_rows": null,
      "height": null,
      "justify_content": null,
      "justify_items": null,
      "left": null,
      "margin": null,
      "max_height": null,
      "max_width": null,
      "min_height": null,
      "min_width": null,
      "object_fit": null,
      "object_position": null,
      "order": null,
      "overflow": null,
      "overflow_x": null,
      "overflow_y": null,
      "padding": null,
      "right": null,
      "top": null,
      "visibility": null,
      "width": null
     }
    },
    "d950a0adb1ee4f7c966187d3007f3a94": {
     "model_module": "@jupyter-widgets/controls",
     "model_module_version": "1.5.0",
     "model_name": "HTMLModel",
     "state": {
      "_dom_classes": [],
      "_model_module": "@jupyter-widgets/controls",
      "_model_module_version": "1.5.0",
      "_model_name": "HTMLModel",
      "_view_count": null,
      "_view_module": "@jupyter-widgets/controls",
      "_view_module_version": "1.5.0",
      "_view_name": "HTMLView",
      "description": "",
      "description_tooltip": null,
      "layout": "IPY_MODEL_904119074a8b465ebc6686b739dd6735",
      "placeholder": "​",
      "style": "IPY_MODEL_77ff0108c9ce4e0a96f179f17c42fb62",
      "value": "tokenizer.json: 100%"
     }
    },
    "dca4c09366024beeadaa4341d017e8f4": {
     "model_module": "@jupyter-widgets/controls",
     "model_module_version": "1.5.0",
     "model_name": "HBoxModel",
     "state": {
      "_dom_classes": [],
      "_model_module": "@jupyter-widgets/controls",
      "_model_module_version": "1.5.0",
      "_model_name": "HBoxModel",
      "_view_count": null,
      "_view_module": "@jupyter-widgets/controls",
      "_view_module_version": "1.5.0",
      "_view_name": "HBoxView",
      "box_style": "",
      "children": [
       "IPY_MODEL_d950a0adb1ee4f7c966187d3007f3a94",
       "IPY_MODEL_46b8a2c0712f4795951588a985867b88",
       "IPY_MODEL_e93deee8541e47b6a348d5bd866c5cf8"
      ],
      "layout": "IPY_MODEL_75b643d763114b99a7622e9720bb54b4"
     }
    },
    "df909e13f97d48b4ab251f8135b318cd": {
     "model_module": "@jupyter-widgets/controls",
     "model_module_version": "1.5.0",
     "model_name": "HTMLModel",
     "state": {
      "_dom_classes": [],
      "_model_module": "@jupyter-widgets/controls",
      "_model_module_version": "1.5.0",
      "_model_name": "HTMLModel",
      "_view_count": null,
      "_view_module": "@jupyter-widgets/controls",
      "_view_module_version": "1.5.0",
      "_view_name": "HTMLView",
      "description": "",
      "description_tooltip": null,
      "layout": "IPY_MODEL_ae09819aa696469b8cd910b00aa83b1a",
      "placeholder": "​",
      "style": "IPY_MODEL_f16d812a8f394dfd881fa0af86302db2",
      "value": "special_tokens_map.json: 100%"
     }
    },
    "e93deee8541e47b6a348d5bd866c5cf8": {
     "model_module": "@jupyter-widgets/controls",
     "model_module_version": "1.5.0",
     "model_name": "HTMLModel",
     "state": {
      "_dom_classes": [],
      "_model_module": "@jupyter-widgets/controls",
      "_model_module_version": "1.5.0",
      "_model_name": "HTMLModel",
      "_view_count": null,
      "_view_module": "@jupyter-widgets/controls",
      "_view_module_version": "1.5.0",
      "_view_name": "HTMLView",
      "description": "",
      "description_tooltip": null,
      "layout": "IPY_MODEL_f0f3f0350b564b98a2dd5988f3d28a8d",
      "placeholder": "​",
      "style": "IPY_MODEL_135d89ee452a4bf492ac35b5f8f57fdc",
      "value": " 17.2M/17.2M [00:00&lt;00:00, 172MB/s]"
     }
    },
    "f0f3f0350b564b98a2dd5988f3d28a8d": {
     "model_module": "@jupyter-widgets/base",
     "model_module_version": "1.2.0",
     "model_name": "LayoutModel",
     "state": {
      "_model_module": "@jupyter-widgets/base",
      "_model_module_version": "1.2.0",
      "_model_name": "LayoutModel",
      "_view_count": null,
      "_view_module": "@jupyter-widgets/base",
      "_view_module_version": "1.2.0",
      "_view_name": "LayoutView",
      "align_content": null,
      "align_items": null,
      "align_self": null,
      "border": null,
      "bottom": null,
      "display": null,
      "flex": null,
      "flex_flow": null,
      "grid_area": null,
      "grid_auto_columns": null,
      "grid_auto_flow": null,
      "grid_auto_rows": null,
      "grid_column": null,
      "grid_gap": null,
      "grid_row": null,
      "grid_template_areas": null,
      "grid_template_columns": null,
      "grid_template_rows": null,
      "height": null,
      "justify_content": null,
      "justify_items": null,
      "left": null,
      "margin": null,
      "max_height": null,
      "max_width": null,
      "min_height": null,
      "min_width": null,
      "object_fit": null,
      "object_position": null,
      "order": null,
      "overflow": null,
      "overflow_x": null,
      "overflow_y": null,
      "padding": null,
      "right": null,
      "top": null,
      "visibility": null,
      "width": null
     }
    },
    "f16d812a8f394dfd881fa0af86302db2": {
     "model_module": "@jupyter-widgets/controls",
     "model_module_version": "1.5.0",
     "model_name": "DescriptionStyleModel",
     "state": {
      "_model_module": "@jupyter-widgets/controls",
      "_model_module_version": "1.5.0",
      "_model_name": "DescriptionStyleModel",
      "_view_count": null,
      "_view_module": "@jupyter-widgets/base",
      "_view_module_version": "1.2.0",
      "_view_name": "StyleView",
      "description_width": ""
     }
    },
    "faea3e25629540e2852ef9769d8b74eb": {
     "model_module": "@jupyter-widgets/controls",
     "model_module_version": "1.5.0",
     "model_name": "DescriptionStyleModel",
     "state": {
      "_model_module": "@jupyter-widgets/controls",
      "_model_module_version": "1.5.0",
      "_model_name": "DescriptionStyleModel",
      "_view_count": null,
      "_view_module": "@jupyter-widgets/base",
      "_view_module_version": "1.2.0",
      "_view_name": "StyleView",
      "description_width": ""
     }
    },
    "fd555cddac414bacb6730b784e95b754": {
     "model_module": "@jupyter-widgets/controls",
     "model_module_version": "1.5.0",
     "model_name": "HBoxModel",
     "state": {
      "_dom_classes": [],
      "_model_module": "@jupyter-widgets/controls",
      "_model_module_version": "1.5.0",
      "_model_name": "HBoxModel",
      "_view_count": null,
      "_view_module": "@jupyter-widgets/controls",
      "_view_module_version": "1.5.0",
      "_view_name": "HBoxView",
      "box_style": "",
      "children": [
       "IPY_MODEL_284f4dfbfb2741e1b25c82668dc16256",
       "IPY_MODEL_4511c41f23524ddabf7b0a1787f4a21e",
       "IPY_MODEL_749407ebb6894715b33b46716f748bf7"
      ],
      "layout": "IPY_MODEL_c7c652c03c5747e898ea938a99b8a43d"
     }
    }
   }
  }
 },
 "nbformat": 4,
 "nbformat_minor": 4
}
